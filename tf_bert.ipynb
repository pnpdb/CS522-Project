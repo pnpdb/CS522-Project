{
 "cells": [
  {
   "cell_type": "markdown",
   "id": "22460778",
   "metadata": {},
   "source": [
    "# BERT - Climate Sentiment Multiclass Classification\n",
    "## CS522 Project"
   ]
  },
  {
   "cell_type": "markdown",
   "id": "6829ff32",
   "metadata": {},
   "source": [
    "**Dataset:**  \n",
    "https://www.kaggle.com/code/luiskalckstein/climate-sentiment-multiclass-classification"
   ]
  },
  {
   "cell_type": "markdown",
   "id": "bad0fd68",
   "metadata": {},
   "source": [
    "**Imports**"
   ]
  },
  {
   "cell_type": "code",
   "execution_count": 1,
   "id": "65f1e0ee",
   "metadata": {},
   "outputs": [],
   "source": [
    "# ! pip install tensorflow-addons\n",
    "import os\n",
    "import warnings\n",
    "import numpy as np\n",
    "import pandas as pd\n",
    "import seaborn as sns\n",
    "from tqdm import tqdm\n",
    "from sklearn.preprocessing import LabelEncoder\n",
    "from sklearn.metrics import confusion_matrix, classification_report, accuracy_score\n",
    "from sklearn.metrics import precision_score, recall_score, f1_score\n",
    "from transformers import DistilBertTokenizer, TFDistilBertModel, DistilBertConfig\n",
    "from transformers import logging as hf_logging\n",
    "import tensorflow as tf\n",
    "import tensorflow_addons as tfa\n",
    "from tensorflow.keras.callbacks import ModelCheckpoint, ReduceLROnPlateau, EarlyStopping\n",
    "import matplotlib.pyplot as plt\n",
    "\n",
    "from Common.DataCenter import data_center\n",
    "\n",
    "hf_logging.set_verbosity_error()\n",
    "warnings.filterwarnings('ignore')\n",
    "\n",
    "%matplotlib inline"
   ]
  },
  {
   "cell_type": "markdown",
   "id": "65fc21ad",
   "metadata": {},
   "source": [
    "**Detect GPU**"
   ]
  },
  {
   "cell_type": "code",
   "execution_count": 2,
   "id": "fb1f2768",
   "metadata": {},
   "outputs": [
    {
     "name": "stdout",
     "output_type": "stream",
     "text": [
      "Set memory autoincrement\n",
      "Physical GPUs: 4, Logical GPUs: 4\n"
     ]
    },
    {
     "name": "stderr",
     "output_type": "stream",
     "text": [
      "2022-03-31 14:23:32.179122: I tensorflow/core/platform/cpu_feature_guard.cc:151] This TensorFlow binary is optimized with oneAPI Deep Neural Network Library (oneDNN) to use the following CPU instructions in performance-critical operations:  AVX2 FMA\n",
      "To enable them in other operations, rebuild TensorFlow with the appropriate compiler flags.\n",
      "2022-03-31 14:23:46.870521: I tensorflow/core/common_runtime/gpu/gpu_device.cc:1525] Created device /job:localhost/replica:0/task:0/device:GPU:0 with 21034 MB memory:  -> device: 0, name: NVIDIA GeForce RTX 3090, pci bus id: 0000:06:00.0, compute capability: 8.6\n",
      "2022-03-31 14:23:46.872258: I tensorflow/core/common_runtime/gpu/gpu_device.cc:1525] Created device /job:localhost/replica:0/task:0/device:GPU:1 with 21034 MB memory:  -> device: 1, name: NVIDIA GeForce RTX 3090, pci bus id: 0000:07:00.0, compute capability: 8.6\n",
      "2022-03-31 14:23:46.873920: I tensorflow/core/common_runtime/gpu/gpu_device.cc:1525] Created device /job:localhost/replica:0/task:0/device:GPU:2 with 21034 MB memory:  -> device: 2, name: NVIDIA GeForce RTX 3090, pci bus id: 0000:0d:00.0, compute capability: 8.6\n",
      "2022-03-31 14:23:46.875503: I tensorflow/core/common_runtime/gpu/gpu_device.cc:1525] Created device /job:localhost/replica:0/task:0/device:GPU:3 with 21034 MB memory:  -> device: 3, name: NVIDIA GeForce RTX 3090, pci bus id: 0000:0e:00.0, compute capability: 8.6\n"
     ]
    }
   ],
   "source": [
    "gpus = tf.config.experimental.list_physical_devices('GPU')\n",
    "if gpus:\n",
    "  try:\n",
    "    for gpu in gpus:\n",
    "        tf.config.experimental.set_memory_growth(gpu, True)\n",
    "    print('Set memory autoincrement')\n",
    "    logical_gpus = tf.config.experimental.list_logical_devices('GPU')\n",
    "    print('Physical GPUs: %d, Logical GPUs: %d' % (len(gpus), len(logical_gpus)))\n",
    "  except RuntimeError as e:\n",
    "    print(e)\n",
    "else:\n",
    "    print('GPUs not detected')"
   ]
  },
  {
   "cell_type": "markdown",
   "id": "ad44c4b6",
   "metadata": {},
   "source": [
    "## 1. Loading Dataset"
   ]
  },
  {
   "cell_type": "code",
   "execution_count": 3,
   "id": "d6fef197",
   "metadata": {},
   "outputs": [],
   "source": [
    "def dc_format(D):\n",
    "    data = {'message':D[0] , 'sentiment':D[1]}\n",
    "    df = pd.DataFrame(data)\n",
    "    return df"
   ]
  },
  {
   "cell_type": "code",
   "execution_count": 4,
   "id": "7cc2be9a",
   "metadata": {},
   "outputs": [
    {
     "name": "stdout",
     "output_type": "stream",
     "text": [
      "Test size: 8000\n",
      "Validation size: 5000\n"
     ]
    }
   ],
   "source": [
    "dc = data_center('./twitter_sentiment_data.csv', test_size=8000, noisy_size=8000, validation_size=5000)\n",
    "test_df = dc_format(dc.get_test())\n",
    "val_df = dc_format(dc.get_validation())\n",
    "\n",
    "print(f\"Test size: {test_df.shape[0]}\")\n",
    "print(f\"Validation size: {val_df.shape[0]}\")"
   ]
  },
  {
   "cell_type": "code",
   "execution_count": 5,
   "id": "1799cae7",
   "metadata": {},
   "outputs": [],
   "source": [
    "train_df_2000 = dc_format(dc.get_train(2000))\n",
    "train_df_2500 = dc_format(dc.get_train(2500))\n",
    "train_df_4000 = dc_format(dc.get_train(4000))\n",
    "train_df_5000 = dc_format(dc.get_train(5000))\n",
    "train_df_7500 = dc_format(dc.get_train(7500))\n",
    "train_df_10000 = dc_format(dc.get_train(10000))"
   ]
  },
  {
   "cell_type": "code",
   "execution_count": 6,
   "id": "e743a730",
   "metadata": {},
   "outputs": [],
   "source": [
    "# [(2000, 500), (4000, 1000), (7500, 2500)]\n",
    "train_df_2000_500 = dc_format(dc.get_train_with_noisy(2000, 500))\n",
    "train_df_4000_1000 = dc_format(dc.get_train_with_noisy(4000, 1000))\n",
    "train_df_7500_2500 = dc_format(dc.get_train_with_noisy(7500, 2500))"
   ]
  },
  {
   "cell_type": "markdown",
   "id": "a432e6f5",
   "metadata": {},
   "source": [
    "### <font color='red'> Specified training set </font>"
   ]
  },
  {
   "cell_type": "code",
   "execution_count": 215,
   "id": "84e8a52b",
   "metadata": {},
   "outputs": [],
   "source": [
    "train_df = train_df_7500_2500"
   ]
  },
  {
   "cell_type": "code",
   "execution_count": 216,
   "id": "ae31d23e",
   "metadata": {},
   "outputs": [
    {
     "data": {
      "text/html": [
       "<div>\n",
       "<style scoped>\n",
       "    .dataframe tbody tr th:only-of-type {\n",
       "        vertical-align: middle;\n",
       "    }\n",
       "\n",
       "    .dataframe tbody tr th {\n",
       "        vertical-align: top;\n",
       "    }\n",
       "\n",
       "    .dataframe thead th {\n",
       "        text-align: right;\n",
       "    }\n",
       "</style>\n",
       "<table border=\"1\" class=\"dataframe\">\n",
       "  <thead>\n",
       "    <tr style=\"text-align: right;\">\n",
       "      <th></th>\n",
       "      <th>message</th>\n",
       "      <th>sentiment</th>\n",
       "    </tr>\n",
       "  </thead>\n",
       "  <tbody>\n",
       "    <tr>\n",
       "      <th>0</th>\n",
       "      <td>RT @MattWakhu: RT â@realDonaldTrump It's fre...</td>\n",
       "      <td>0</td>\n",
       "    </tr>\n",
       "    <tr>\n",
       "      <th>1</th>\n",
       "      <td>@MerrillLynched @EllenMorris1222 @zoobadger @h...</td>\n",
       "      <td>2</td>\n",
       "    </tr>\n",
       "    <tr>\n",
       "      <th>2</th>\n",
       "      <td>RT @kimeclipsed: Does anyone think global warm...</td>\n",
       "      <td>1</td>\n",
       "    </tr>\n",
       "    <tr>\n",
       "      <th>3</th>\n",
       "      <td>Budgeting for climate change in water resource...</td>\n",
       "      <td>2</td>\n",
       "    </tr>\n",
       "    <tr>\n",
       "      <th>4</th>\n",
       "      <td>17 U.S. communities are actively relocating du...</td>\n",
       "      <td>2</td>\n",
       "    </tr>\n",
       "  </tbody>\n",
       "</table>\n",
       "</div>"
      ],
      "text/plain": [
       "                                             message  sentiment\n",
       "0  RT @MattWakhu: RT â@realDonaldTrump It's fre...          0\n",
       "1  @MerrillLynched @EllenMorris1222 @zoobadger @h...          2\n",
       "2  RT @kimeclipsed: Does anyone think global warm...          1\n",
       "3  Budgeting for climate change in water resource...          2\n",
       "4  17 U.S. communities are actively relocating du...          2"
      ]
     },
     "execution_count": 216,
     "metadata": {},
     "output_type": "execute_result"
    }
   ],
   "source": [
    "train_df.head()"
   ]
  },
  {
   "cell_type": "markdown",
   "id": "6dc9795e",
   "metadata": {},
   "source": [
    "#### Label Encoding"
   ]
  },
  {
   "cell_type": "code",
   "execution_count": 217,
   "id": "fa5b8e97",
   "metadata": {},
   "outputs": [],
   "source": [
    "le = LabelEncoder()\n",
    "train_df['sparse_label'] = le.fit_transform(train_df['sentiment'])\n",
    "val_df['sparse_label'] = le.transform(val_df['sentiment'])\n",
    "test_df['sparse_label'] = le.transform(test_df['sentiment'])"
   ]
  },
  {
   "cell_type": "code",
   "execution_count": 218,
   "id": "93072cf7",
   "metadata": {},
   "outputs": [
    {
     "name": "stdout",
     "output_type": "stream",
     "text": [
      "0 0\n",
      "1 1\n",
      "2 2\n",
      "3 3\n"
     ]
    }
   ],
   "source": [
    "label_dict = (train_df[['sentiment','sparse_label']].drop_duplicates()\n",
    "              .sort_values(by='sparse_label')\n",
    "              .reset_index(drop=True)['sentiment']\n",
    "              .to_dict())\n",
    "\n",
    "for index, key in label_dict.items():\n",
    "    print(index, key)"
   ]
  },
  {
   "cell_type": "markdown",
   "id": "f35b6194",
   "metadata": {},
   "source": [
    "#### Splitting dataset"
   ]
  },
  {
   "cell_type": "code",
   "execution_count": 219,
   "id": "a5fc9e66",
   "metadata": {},
   "outputs": [
    {
     "name": "stdout",
     "output_type": "stream",
     "text": [
      "10000 training samples\n",
      "5000 validation samples\n"
     ]
    }
   ],
   "source": [
    "x_train = train_df['message']\n",
    "y_train = train_df['sparse_label']\n",
    "\n",
    "x_val = val_df['message']\n",
    "y_val = val_df['sparse_label']\n",
    "\n",
    "print(f\"{len(x_train)} training samples\\n{len(x_val)} validation samples\")"
   ]
  },
  {
   "cell_type": "code",
   "execution_count": 220,
   "id": "86b5fa3e",
   "metadata": {},
   "outputs": [
    {
     "name": "stdout",
     "output_type": "stream",
     "text": [
      "8000 testing samples\n"
     ]
    }
   ],
   "source": [
    "x_test = test_df['message']\n",
    "y_test = test_df['sparse_label']\n",
    "print(f\"{len(x_test)} testing samples\")"
   ]
  },
  {
   "cell_type": "markdown",
   "id": "cdca5603",
   "metadata": {},
   "source": [
    "## 2. Train BERT"
   ]
  },
  {
   "cell_type": "code",
   "execution_count": 221,
   "id": "2087abe1",
   "metadata": {},
   "outputs": [],
   "source": [
    "MODEL_NAME = 'distilbert-base-uncased'"
   ]
  },
  {
   "cell_type": "code",
   "execution_count": 222,
   "id": "764bf707",
   "metadata": {},
   "outputs": [],
   "source": [
    "tokenizer = DistilBertTokenizer.from_pretrained(MODEL_NAME)"
   ]
  },
  {
   "cell_type": "code",
   "execution_count": 223,
   "id": "c5f1cf22",
   "metadata": {},
   "outputs": [
    {
     "name": "stdout",
     "output_type": "stream",
     "text": [
      "The maximum amount of tokens in the dataset is 361\n"
     ]
    }
   ],
   "source": [
    "max_len = 0\n",
    "for sentence in (x_train.tolist() + x_val.tolist()):\n",
    "    try:\n",
    "        sentence_token_len = len(tokenizer.tokenize(sentence))\n",
    "        max_len = sentence_token_len if (sentence_token_len > max_len) else max_len\n",
    "    except:\n",
    "        pass\n",
    "    \n",
    "print(f\"The maximum amount of tokens in the dataset is {max_len}\")"
   ]
  },
  {
   "cell_type": "code",
   "execution_count": 224,
   "id": "5f79223b",
   "metadata": {},
   "outputs": [],
   "source": [
    "MAX_LEN = 365\n",
    "\n",
    "tokenizer = DistilBertTokenizer.from_pretrained(MODEL_NAME,  \n",
    "                                                add_special_tokens=True,\n",
    "                                                max_length=MAX_LEN, \n",
    "                                                pad_to_max_length=True)\n",
    "\n",
    "def tokenize(sentences):\n",
    "    input_ids, input_masks, input_segments = [], [], []\n",
    "    for sentence in tqdm(sentences):\n",
    "        inputs = tokenizer.encode_plus(sentence, \n",
    "                                       add_special_tokens=True, \n",
    "                                       max_length=MAX_LEN, \n",
    "                                       pad_to_max_length=True, \n",
    "                                       return_attention_mask=True, \n",
    "                                       return_token_type_ids=True, \n",
    "                                       truncation=True)\n",
    "        input_ids.append(inputs['input_ids'])\n",
    "        input_masks.append(inputs['attention_mask'])\n",
    "        input_segments.append(inputs['token_type_ids'])       \n",
    "        \n",
    "    return np.asarray(input_ids, dtype='int32'), np.asarray(input_masks, dtype='int32')"
   ]
  },
  {
   "cell_type": "code",
   "execution_count": 225,
   "id": "2f71606e",
   "metadata": {},
   "outputs": [
    {
     "name": "stderr",
     "output_type": "stream",
     "text": [
      "100%|██████████████████████████████████████████████████████████████████████████████████████████████████████████████████████████████████████████████████████████████| 10000/10000 [00:06<00:00, 1507.64it/s]\n",
      "100%|████████████████████████████████████████████████████████████████████████████████████████████████████████████████████████████████████████████████████████████████| 5000/5000 [00:03<00:00, 1643.06it/s]\n",
      "100%|████████████████████████████████████████████████████████████████████████████████████████████████████████████████████████████████████████████████████████████████| 8000/8000 [00:04<00:00, 1688.95it/s]\n"
     ]
    }
   ],
   "source": [
    "X_train = tokenize(x_train)\n",
    "X_val = tokenize(x_val)\n",
    "X_test = tokenize(x_test)"
   ]
  },
  {
   "cell_type": "markdown",
   "id": "0999e68e",
   "metadata": {},
   "source": [
    "#### Add custom layers after embedding model for classification"
   ]
  },
  {
   "cell_type": "code",
   "execution_count": 226,
   "id": "0dbacad0",
   "metadata": {},
   "outputs": [],
   "source": [
    "bert_config = DistilBertConfig.from_pretrained(MODEL_NAME, output_hidden_states=True, output_attentions=True)\n",
    "TFBert = TFDistilBertModel.from_pretrained(MODEL_NAME, config=bert_config)\n",
    "\n",
    "input_ids_layer = tf.keras.layers.Input(shape=(MAX_LEN,), name='input_token', dtype='int32')\n",
    "input_masks_layer = tf.keras.layers.Input(shape=(MAX_LEN,), name='masked_token', dtype='int32') \n",
    "\n",
    "X = TFBert(input_ids = input_ids_layer, attention_mask = input_masks_layer)[0]\n",
    "# X = tf.keras.layers.Bidirectional(tf.keras.layers.LSTM(256, return_sequences=True))(X)\n",
    "# X = tf.keras.layers.Bidirectional(tf.keras.layers.LSTM(128))(X)\n",
    "# X = tf.keras.layers.Dropout(0.3)(X)\n",
    "X = tf.keras.layers.Dense(1024, activation=tfa.activations.mish)(X)\n",
    "X = tf.keras.layers.Flatten()(X)\n",
    "X = tf.keras.layers.Dense(4, activation=tf.nn.softmax)(X)\n",
    "\n",
    "model = tf.keras.Model(inputs=[input_ids_layer, input_masks_layer], outputs = X)\n",
    "\n",
    "for layer in model.layers[:3]:\n",
    "    layer.trainable = True"
   ]
  },
  {
   "cell_type": "code",
   "execution_count": 227,
   "id": "53499395",
   "metadata": {},
   "outputs": [
    {
     "name": "stdout",
     "output_type": "stream",
     "text": [
      "Model: \"model_8\"\n",
      "__________________________________________________________________________________________________\n",
      " Layer (type)                   Output Shape         Param #     Connected to                     \n",
      "==================================================================================================\n",
      " input_token (InputLayer)       [(None, 365)]        0           []                               \n",
      "                                                                                                  \n",
      " masked_token (InputLayer)      [(None, 365)]        0           []                               \n",
      "                                                                                                  \n",
      " tf_distil_bert_model_8 (TFDist  TFBaseModelOutput(l  66362880   ['input_token[0][0]',            \n",
      " ilBertModel)                   ast_hidden_state=(N               'masked_token[0][0]']           \n",
      "                                one, 365, 768),                                                   \n",
      "                                 hidden_states=((No                                               \n",
      "                                ne, 365, 768),                                                    \n",
      "                                 (None, 365, 768),                                                \n",
      "                                 (None, 365, 768),                                                \n",
      "                                 (None, 365, 768),                                                \n",
      "                                 (None, 365, 768),                                                \n",
      "                                 (None, 365, 768),                                                \n",
      "                                 (None, 365, 768)),                                               \n",
      "                                 attentions=((None,                                               \n",
      "                                 12, None, 365),                                                  \n",
      "                                 (None, 12, None, 3                                               \n",
      "                                65),                                                              \n",
      "                                 (None, 12, None, 3                                               \n",
      "                                65),                                                              \n",
      "                                 (None, 12, None, 3                                               \n",
      "                                65),                                                              \n",
      "                                 (None, 12, None, 3                                               \n",
      "                                65),                                                              \n",
      "                                 (None, 12, None, 3                                               \n",
      "                                65)))                                                             \n",
      "                                                                                                  \n",
      " dense_16 (Dense)               (None, 365, 1024)    787456      ['tf_distil_bert_model_8[0][13]']\n",
      "                                                                                                  \n",
      " flatten_8 (Flatten)            (None, 373760)       0           ['dense_16[0][0]']               \n",
      "                                                                                                  \n",
      " dense_17 (Dense)               (None, 4)            1495044     ['flatten_8[0][0]']              \n",
      "                                                                                                  \n",
      "==================================================================================================\n",
      "Total params: 68,645,380\n",
      "Trainable params: 68,645,380\n",
      "Non-trainable params: 0\n",
      "__________________________________________________________________________________________________\n"
     ]
    }
   ],
   "source": [
    "model.summary()"
   ]
  },
  {
   "cell_type": "markdown",
   "id": "4f5039ea",
   "metadata": {},
   "source": [
    "#### Model callbacks"
   ]
  },
  {
   "cell_type": "code",
   "execution_count": 228,
   "id": "437fd5dc",
   "metadata": {},
   "outputs": [],
   "source": [
    "ckpt_dir = './ckpt'\n",
    "if not os.path.exists(ckpt_dir):\n",
    "    os.makedirs(ckpt_dir)"
   ]
  },
  {
   "cell_type": "code",
   "execution_count": 229,
   "id": "f94e83c5",
   "metadata": {},
   "outputs": [],
   "source": [
    "model_checkpoint = ModelCheckpoint(filepath=ckpt_dir + '/weights_val_best.hdf5',\n",
    "                                   monitor='val_accuracy',\n",
    "                                   save_weights_only=True,\n",
    "                                   save_best_only=True,\n",
    "                                   verbose=0)\n",
    "\n",
    "early_stopping = EarlyStopping(patience=3,\n",
    "                               monitor='val_accuracy',\n",
    "                               min_delta=0,\n",
    "                               mode='min',\n",
    "                               restore_best_weights=False,\n",
    "                               verbose=1)\n",
    "\n",
    "reduce_lr = ReduceLROnPlateau(monitor='val_loss',\n",
    "                              min_lr=0.000001,\n",
    "                              patience=1,\n",
    "                              mode='min',\n",
    "                              factor=0.1,\n",
    "                              min_delta=0.0001,\n",
    "                              verbose=1)"
   ]
  },
  {
   "cell_type": "code",
   "execution_count": 230,
   "id": "bf49083d",
   "metadata": {},
   "outputs": [
    {
     "name": "stdout",
     "output_type": "stream",
     "text": [
      "Epoch 1/50\n",
      "313/313 [==============================] - 116s 333ms/step - loss: 1.2473 - accuracy: 0.4705 - val_loss: 0.9848 - val_accuracy: 0.6050 - lr: 1.0000e-04\n",
      "Epoch 2/50\n",
      "313/313 [==============================] - ETA: 0s - loss: 1.1000 - accuracy: 0.5583\n",
      "Epoch 2: ReduceLROnPlateau reducing learning rate to 9.999999747378752e-06.\n",
      "313/313 [==============================] - 102s 326ms/step - loss: 1.1000 - accuracy: 0.5583 - val_loss: 1.0332 - val_accuracy: 0.5802 - lr: 1.0000e-04\n",
      "Epoch 3/50\n",
      "313/313 [==============================] - 103s 330ms/step - loss: 0.6635 - accuracy: 0.7601 - val_loss: 0.8741 - val_accuracy: 0.6618 - lr: 1.0000e-05\n",
      "Epoch 4/50\n",
      "313/313 [==============================] - ETA: 0s - loss: 0.4584 - accuracy: 0.8451\n",
      "Epoch 4: ReduceLROnPlateau reducing learning rate to 1e-06.\n",
      "313/313 [==============================] - 102s 327ms/step - loss: 0.4584 - accuracy: 0.8451 - val_loss: 0.9306 - val_accuracy: 0.6480 - lr: 1.0000e-05\n",
      "Epoch 5/50\n",
      "313/313 [==============================] - 102s 327ms/step - loss: 0.2966 - accuracy: 0.9211 - val_loss: 0.9484 - val_accuracy: 0.6470 - lr: 1.0000e-06\n",
      "Epoch 5: early stopping\n"
     ]
    }
   ],
   "source": [
    "model.compile(loss='sparse_categorical_crossentropy',\n",
    "              optimizer=tfa.optimizers.RectifiedAdam(0.0001),\n",
    "              metrics=['accuracy'])\n",
    "\n",
    "history = model.fit(X_train,\n",
    "                    y_train,\n",
    "                    epochs=50,\n",
    "                    batch_size=32,\n",
    "                    validation_data=(X_val, y_val),\n",
    "                    callbacks=[model_checkpoint, early_stopping, reduce_lr])"
   ]
  },
  {
   "cell_type": "code",
   "execution_count": 231,
   "id": "e25f6a37",
   "metadata": {},
   "outputs": [],
   "source": [
    "def plot_graphs(history, metric, title=''):\n",
    "    plt.figure(figsize=(8, 6))\n",
    "    plt.plot(history.history[metric],  label='Training')\n",
    "    plt.xlabel('Epochs')\n",
    "    plt.ylabel(metric)\n",
    "    plt.title(title)\n",
    "    plt.legend()\n",
    "    plt.show()"
   ]
  },
  {
   "cell_type": "code",
   "execution_count": 232,
   "id": "9dc93dc3",
   "metadata": {},
   "outputs": [
    {
     "data": {
      "image/png": "[encoded data removed]",
      "text/plain": [
       "<Figure size 576x432 with 1 Axes>"
      ]
     },
     "metadata": {},
     "output_type": "display_data"
    }
   ],
   "source": [
    "plot_graphs(history, 'accuracy', 'Accuracy')"
   ]
  },
  {
   "cell_type": "code",
   "execution_count": 233,
   "id": "a356af1e",
   "metadata": {},
   "outputs": [
    {
     "data": {
      "image/png": "[encoded data removed]",
      "text/plain": [
       "<Figure size 576x432 with 1 Axes>"
      ]
     },
     "metadata": {},
     "output_type": "display_data"
    }
   ],
   "source": [
    "plot_graphs(history, 'loss', 'Loss')"
   ]
  },
  {
   "cell_type": "markdown",
   "id": "00915496",
   "metadata": {},
   "source": [
    "#### Loading the best model and test on a test set"
   ]
  },
  {
   "cell_type": "code",
   "execution_count": 234,
   "id": "d499d7b3",
   "metadata": {},
   "outputs": [],
   "source": [
    "model.load_weights(ckpt_dir + '/weights_val_best.hdf5')"
   ]
  },
  {
   "cell_type": "code",
   "execution_count": 235,
   "id": "74c85039",
   "metadata": {},
   "outputs": [],
   "source": [
    "pred_probs = model.predict(X_test)\n",
    "y_pred = np.argmax(pred_probs, axis=1)"
   ]
  },
  {
   "cell_type": "markdown",
   "id": "c720f092",
   "metadata": {},
   "source": [
    "#### Visualizing Confusion Matrix using Heatmap"
   ]
  },
  {
   "cell_type": "code",
   "execution_count": 236,
   "id": "d9ef0cab",
   "metadata": {},
   "outputs": [
    {
     "data": {
      "text/plain": [
       "array([[ 305,  131,  246,   70],\n",
       "       [ 149,  606,  529,  179],\n",
       "       [ 212,  345, 3017,  442],\n",
       "       [  49,   69,  287, 1364]])"
      ]
     },
     "execution_count": 236,
     "metadata": {},
     "output_type": "execute_result"
    }
   ],
   "source": [
    "cm = confusion_matrix(y_test, y_pred)\n",
    "cm"
   ]
  },
  {
   "cell_type": "code",
   "execution_count": 237,
   "id": "e4c666da",
   "metadata": {},
   "outputs": [
    {
     "name": "stdout",
     "output_type": "stream",
     "text": [
      "Test Accuracy: 0.6615\n"
     ]
    },
    {
     "data": {
      "image/png": "[encoded data removed]",
      "text/plain": [
       "<Figure size 432x288 with 2 Axes>"
      ]
     },
     "metadata": {},
     "output_type": "display_data"
    }
   ],
   "source": [
    "labels_names = ['Anti','Neutral','Pro','News'] \n",
    "class_names=[0, 1, 2, 3]\n",
    "\n",
    "fig, ax = plt.subplots()\n",
    "tick_marks = np.arange(len(class_names))\n",
    "\n",
    "sns.set(font_scale = 1.2, color_codes=True, palette='deep')\n",
    "sns.heatmap(pd.DataFrame(cm, index=labels_names ,columns=class_names), annot=True, annot_kws = {'size':16}, cmap='YlGnBu' ,fmt='g')\n",
    "ax.xaxis.set_label_position('top')\n",
    "plt.xticks(class_names, labels_names, rotation=45)\n",
    "plt.yticks(class_names, labels_names, rotation=45)\n",
    "plt.title('Confusion matrix', y=1.2)\n",
    "plt.ylabel('Actual label')\n",
    "plt.xlabel('Predicted label')\n",
    "\n",
    "print('Test Accuracy:', accuracy_score(y_test, y_pred))"
   ]
  },
  {
   "cell_type": "code",
   "execution_count": 238,
   "id": "274021af",
   "metadata": {},
   "outputs": [
    {
     "name": "stdout",
     "output_type": "stream",
     "text": [
      "              precision    recall  f1-score   support\n",
      "\n",
      "        Anti       0.43      0.41      0.42       752\n",
      "     Neutral       0.53      0.41      0.46      1463\n",
      "         Pro       0.74      0.75      0.75      4016\n",
      "        News       0.66      0.77      0.71      1769\n",
      "\n",
      "    accuracy                           0.66      8000\n",
      "   macro avg       0.59      0.59      0.58      8000\n",
      "weighted avg       0.65      0.66      0.66      8000\n",
      "\n"
     ]
    }
   ],
   "source": [
    "print(classification_report(y_test, y_pred, target_names=labels_names))"
   ]
  },
  {
   "cell_type": "code",
   "execution_count": 239,
   "id": "05d29869",
   "metadata": {},
   "outputs": [],
   "source": [
    "mf = f1_score(y_test, y_pred, average='macro')\n",
    "wf = f1_score(y_test, y_pred, average='weighted')\n",
    "mp = precision_score(y_test, y_pred, average='macro')\n",
    "mr = recall_score(y_test, y_pred, average='macro')"
   ]
  },
  {
   "cell_type": "code",
   "execution_count": 240,
   "id": "7c99bdeb",
   "metadata": {},
   "outputs": [
    {
     "name": "stdout",
     "output_type": "stream",
     "text": [
      "Macro F1:  0.585     | Weighted F1:  0.656     | Macro Precision:  0.589     | Macro recall:  0.586\n"
     ]
    }
   ],
   "source": [
    "print(\n",
    "    f'Macro F1: {mf: .3f} \\\n",
    "    | Weighted F1: {wf: .3f} \\\n",
    "    | Macro Precision: {mp: .3f} \\\n",
    "    | Macro recall: {mr: .3f}'\n",
    ")"
   ]
  },
  {
   "cell_type": "code",
   "execution_count": null,
   "id": "d38d5526",
   "metadata": {},
   "outputs": [],
   "source": []
  }
 ],
 "metadata": {
  "kernelspec": {
   "display_name": "Python 3",
   "language": "python",
   "name": "python3"
  },
  "language_info": {
   "codemirror_mode": {
    "name": "ipython",
    "version": 3
   },
   "file_extension": ".py",
   "mimetype": "text/x-python",
   "name": "python",
   "nbconvert_exporter": "python",
   "pygments_lexer": "ipython3",
   "version": "3.8.8"
  }
 },
 "nbformat": 4,
 "nbformat_minor": 5
}
