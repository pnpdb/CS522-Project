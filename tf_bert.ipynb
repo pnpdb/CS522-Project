{
 "cells": [
  {
   "cell_type": "markdown",
   "id": "22460778",
   "metadata": {},
   "source": [
    "# BERT - Climate Sentiment Multiclass Classification\n",
    "## CS522 Project"
   ]
  },
  {
   "cell_type": "markdown",
   "id": "6829ff32",
   "metadata": {},
   "source": [
    "**Dataset:**  \n",
    "https://www.kaggle.com/code/luiskalckstein/climate-sentiment-multiclass-classification"
   ]
  },
  {
   "cell_type": "markdown",
   "id": "bad0fd68",
   "metadata": {},
   "source": [
    "**Imports**"
   ]
  },
  {
   "cell_type": "code",
   "execution_count": 35,
   "id": "65f1e0ee",
   "metadata": {},
   "outputs": [],
   "source": [
    "# ! pip install tensorflow-addons\n",
    "import os\n",
    "import warnings\n",
    "import numpy as np\n",
    "import pandas as pd\n",
    "import seaborn as sns\n",
    "from tqdm import tqdm\n",
    "from sklearn.preprocessing import LabelEncoder\n",
    "from sklearn.metrics import confusion_matrix, classification_report, accuracy_score\n",
    "from sklearn.metrics import precision_score, recall_score, f1_score\n",
    "from transformers import DistilBertTokenizer, TFDistilBertModel, DistilBertConfig\n",
    "from transformers import logging as hf_logging\n",
    "import tensorflow as tf\n",
    "import tensorflow_addons as tfa\n",
    "from tensorflow.keras.callbacks import ModelCheckpoint, ReduceLROnPlateau, EarlyStopping\n",
    "import matplotlib.pyplot as plt\n",
    "from Common.UtilFuncs import DataSize\n",
    "from Common.DataCenter import data_center\n",
    "from Common.UtilFuncs import print_evaluation, print_distribution\n",
    "\n",
    "hf_logging.set_verbosity_error()\n",
    "warnings.filterwarnings('ignore')\n",
    "# ! pip install tensorflow-addons\n",
    "TrainSizeBaseLine = DataSize.GetTrainSizeBaseline()\n",
    "TrainSizeWithNoisyData = DataSize.GetTrainSizeWithNoisyData()\n",
    "TestDataSize = DataSize.GetTestDataSize()\n",
    "NoiseDataSize = DataSize.GetNoiseDataSize()\n",
    "ValidationDataSize = DataSize.GetValidationDataSize()\n",
    "\n",
    "%matplotlib inline"
   ]
  },
  {
   "cell_type": "markdown",
   "id": "65fc21ad",
   "metadata": {},
   "source": [
    "**Detect GPU**"
   ]
  },
  {
   "cell_type": "code",
   "execution_count": 2,
   "id": "fb1f2768",
   "metadata": {},
   "outputs": [
    {
     "name": "stdout",
     "output_type": "stream",
     "text": [
      "Set memory autoincrement\n",
      "Physical GPUs: 4, Logical GPUs: 4\n"
     ]
    },
    {
     "name": "stderr",
     "output_type": "stream",
     "text": [
      "2022-04-09 18:38:15.174566: I tensorflow/core/platform/cpu_feature_guard.cc:151] This TensorFlow binary is optimized with oneAPI Deep Neural Network Library (oneDNN) to use the following CPU instructions in performance-critical operations:  AVX2 FMA\n",
      "To enable them in other operations, rebuild TensorFlow with the appropriate compiler flags.\n",
      "2022-04-09 18:38:31.595656: I tensorflow/core/common_runtime/gpu/gpu_device.cc:1525] Created device /job:localhost/replica:0/task:0/device:GPU:0 with 21032 MB memory:  -> device: 0, name: NVIDIA GeForce RTX 3090, pci bus id: 0000:06:00.0, compute capability: 8.6\n",
      "2022-04-09 18:38:31.598784: I tensorflow/core/common_runtime/gpu/gpu_device.cc:1525] Created device /job:localhost/replica:0/task:0/device:GPU:1 with 21032 MB memory:  -> device: 1, name: NVIDIA GeForce RTX 3090, pci bus id: 0000:07:00.0, compute capability: 8.6\n",
      "2022-04-09 18:38:31.600444: I tensorflow/core/common_runtime/gpu/gpu_device.cc:1525] Created device /job:localhost/replica:0/task:0/device:GPU:2 with 21032 MB memory:  -> device: 2, name: NVIDIA GeForce RTX 3090, pci bus id: 0000:0d:00.0, compute capability: 8.6\n",
      "2022-04-09 18:38:31.602017: I tensorflow/core/common_runtime/gpu/gpu_device.cc:1525] Created device /job:localhost/replica:0/task:0/device:GPU:3 with 21032 MB memory:  -> device: 3, name: NVIDIA GeForce RTX 3090, pci bus id: 0000:0e:00.0, compute capability: 8.6\n"
     ]
    }
   ],
   "source": [
    "gpus = tf.config.experimental.list_physical_devices('GPU')\n",
    "if gpus:\n",
    "  try:\n",
    "    for gpu in gpus:\n",
    "        tf.config.experimental.set_memory_growth(gpu, True)\n",
    "    print('Set memory autoincrement')\n",
    "    logical_gpus = tf.config.experimental.list_logical_devices('GPU')\n",
    "    print('Physical GPUs: %d, Logical GPUs: %d' % (len(gpus), len(logical_gpus)))\n",
    "  except RuntimeError as e:\n",
    "    print(e)\n",
    "else:\n",
    "    print('GPUs not detected')"
   ]
  },
  {
   "cell_type": "markdown",
   "id": "ad44c4b6",
   "metadata": {},
   "source": [
    "## 1. Loading Dataset"
   ]
  },
  {
   "cell_type": "code",
   "execution_count": 3,
   "id": "d6fef197",
   "metadata": {},
   "outputs": [],
   "source": [
    "def dc_format(D):\n",
    "    data = {'message':D[0] , 'sentiment':D[1]}\n",
    "    df = pd.DataFrame(data)\n",
    "    return df"
   ]
  },
  {
   "cell_type": "code",
   "execution_count": 4,
   "id": "7cc2be9a",
   "metadata": {},
   "outputs": [
    {
     "name": "stdout",
     "output_type": "stream",
     "text": [
      "Test size: 4000\n",
      "Validation size: 1000\n"
     ]
    }
   ],
   "source": [
    "noisy_set_sizes = {\n",
    "    'mislabeled' : 5000,   # max size: 15000\n",
    "    'irrelevant' : 5000,   # max size: 34259\n",
    "    'translated' : 5000,   # max size: 5000\n",
    "}\n",
    "\n",
    "# Load the database and split it into training set, test set, noisy set, validation set\n",
    "dc = data_center('twitter_sentiment_data_clean.csv', test_size = 4000, validation_size = 1000,\n",
    "                 noisy_size = noisy_set_sizes['mislabeled'])\n",
    "\n",
    "test_df = dc_format(dc.get_test())\n",
    "val_df = dc_format(dc.get_validation())\n",
    "\n",
    "print(f\"Test size: {test_df.shape[0]}\")\n",
    "print(f\"Validation size: {val_df.shape[0]}\")"
   ]
  },
  {
   "cell_type": "markdown",
   "id": "5d7e9e22",
   "metadata": {},
   "source": [
    "### Prepare the noisy set."
   ]
  },
  {
   "cell_type": "code",
   "execution_count": 5,
   "id": "6a3d316e",
   "metadata": {},
   "outputs": [
    {
     "name": "stdout",
     "output_type": "stream",
     "text": [
      "Noisy set size is 5000\n",
      "5000 noisy samples added\n",
      "5000 noisy samples added\n",
      "Noisy set new size is 15000\n"
     ]
    }
   ],
   "source": [
    "lstNoisyInfo = [(\"mislabeled\",dc.get_noisy_len())]\n",
    "print(\"Noisy set size is %d\"                % dc.get_noisy_len())\n",
    "\n",
    "# add the external noisy data (irrelevant texts)\n",
    "# distribution of irrelevant noisy\n",
    "irrelevant_noisy_distribution = [0.25, 0.25, 0.25, 0.25]    # None, if use the distribution of original set\n",
    "added_size = dc.add_noisy(noisy_source=\"irrelevant\", distribution = irrelevant_noisy_distribution,\n",
    "                          size = noisy_set_sizes['irrelevant'])\n",
    "print(\"%d noisy samples added\" % added_size)\n",
    "lstNoisyInfo.append((\"irrelevant\",added_size))\n",
    "\n",
    "# add the external noisy data (translated texts). use the labels of each noisy data\n",
    "added_size = dc.add_noisy(noisy_source=\"translated\", distribution = \"reserve_labels\", \n",
    "                          size = noisy_set_sizes['translated'])\n",
    "print(\"%d noisy samples added\" % added_size)\n",
    "lstNoisyInfo.append((\"translated\",added_size))\n",
    "\n",
    "print(\"Noisy set new size is %d\"                % dc.get_noisy_len())"
   ]
  },
  {
   "cell_type": "code",
   "execution_count": 6,
   "id": "c9b42eff",
   "metadata": {},
   "outputs": [
    {
     "data": {
      "text/plain": [
       "[2000, 4000, 5000, 8000, 10000, 15000, 20000]"
      ]
     },
     "execution_count": 6,
     "metadata": {},
     "output_type": "execute_result"
    }
   ],
   "source": [
    "TrainSizeBaseLine"
   ]
  },
  {
   "cell_type": "code",
   "execution_count": 7,
   "id": "969dce28",
   "metadata": {},
   "outputs": [
    {
     "data": {
      "text/plain": [
       "[(4000, 1000), (8000, 2000), (15000, 5000)]"
      ]
     },
     "execution_count": 7,
     "metadata": {},
     "output_type": "execute_result"
    }
   ],
   "source": [
    "TrainSizeWithNoisyData"
   ]
  },
  {
   "cell_type": "code",
   "execution_count": 8,
   "id": "321c4675",
   "metadata": {},
   "outputs": [],
   "source": [
    "train_distribution = None"
   ]
  },
  {
   "cell_type": "code",
   "execution_count": 9,
   "id": "1799cae7",
   "metadata": {},
   "outputs": [],
   "source": [
    "# 2000\n",
    "train_df_2000 = dc_format(dc.get_train(TrainSizeBaseLine[0], train_distribution))\n",
    "# 4000\n",
    "train_df_4000 = dc_format(dc.get_train(TrainSizeBaseLine[1], train_distribution))\n",
    "# 5000\n",
    "train_df_5000 = dc_format(dc.get_train(TrainSizeBaseLine[2], train_distribution))\n",
    "# 8000\n",
    "train_df_8000 = dc_format(dc.get_train(TrainSizeBaseLine[3], train_distribution))\n",
    "# 10000\n",
    "train_df_10000 = dc_format(dc.get_train(TrainSizeBaseLine[4], train_distribution))\n",
    "# 15000\n",
    "train_df_15000 = dc_format(dc.get_train(TrainSizeBaseLine[5], train_distribution))\n",
    "# 20000\n",
    "train_df_20000 = dc_format(dc.get_train(TrainSizeBaseLine[6], train_distribution))"
   ]
  },
  {
   "cell_type": "code",
   "execution_count": 10,
   "id": "e743a730",
   "metadata": {},
   "outputs": [],
   "source": [
    "# (4000, 1000)\n",
    "train_df_4000_1000 = dc_format(dc.get_train_with_noisy(TrainSizeWithNoisyData[0][0], TrainSizeWithNoisyData[0][1], train_distribution))\n",
    "# (8000, 2000)\n",
    "train_df_8000_2000 = dc_format(dc.get_train_with_noisy(TrainSizeWithNoisyData[1][0], TrainSizeWithNoisyData[1][1], train_distribution))\n",
    "# (15000, 5000)\n",
    "train_df_15000_5000 = dc_format(dc.get_train_with_noisy(TrainSizeWithNoisyData[2][0], TrainSizeWithNoisyData[2][1], train_distribution))"
   ]
  },
  {
   "cell_type": "markdown",
   "id": "a432e6f5",
   "metadata": {},
   "source": [
    "### <font color='red'> Specified training set </font>"
   ]
  },
  {
   "cell_type": "code",
   "execution_count": 11,
   "id": "84e8a52b",
   "metadata": {},
   "outputs": [],
   "source": [
    "train_df = train_df_2000"
   ]
  },
  {
   "cell_type": "code",
   "execution_count": 12,
   "id": "ae31d23e",
   "metadata": {},
   "outputs": [
    {
     "data": {
      "text/html": [
       "<div>\n",
       "<style scoped>\n",
       "    .dataframe tbody tr th:only-of-type {\n",
       "        vertical-align: middle;\n",
       "    }\n",
       "\n",
       "    .dataframe tbody tr th {\n",
       "        vertical-align: top;\n",
       "    }\n",
       "\n",
       "    .dataframe thead th {\n",
       "        text-align: right;\n",
       "    }\n",
       "</style>\n",
       "<table border=\"1\" class=\"dataframe\">\n",
       "  <thead>\n",
       "    <tr style=\"text-align: right;\">\n",
       "      <th></th>\n",
       "      <th>message</th>\n",
       "      <th>sentiment</th>\n",
       "    </tr>\n",
       "  </thead>\n",
       "  <tbody>\n",
       "    <tr>\n",
       "      <th>0</th>\n",
       "      <td>RT @NYTScience: Americans overwhelmingly belie...</td>\n",
       "      <td>3</td>\n",
       "    </tr>\n",
       "    <tr>\n",
       "      <th>1</th>\n",
       "      <td>RT @nature_org: #DYK: Forests could contribute...</td>\n",
       "      <td>2</td>\n",
       "    </tr>\n",
       "    <tr>\n",
       "      <th>2</th>\n",
       "      <td>RT @mmfa: Five crucial climate change takeaway...</td>\n",
       "      <td>3</td>\n",
       "    </tr>\n",
       "    <tr>\n",
       "      <th>3</th>\n",
       "      <td>@YogiBabaPrem @FOTCangela @CNN @DrJillStein We...</td>\n",
       "      <td>2</td>\n",
       "    </tr>\n",
       "    <tr>\n",
       "      <th>4</th>\n",
       "      <td>RT @washingtonpost: Scientists just measured a...</td>\n",
       "      <td>3</td>\n",
       "    </tr>\n",
       "  </tbody>\n",
       "</table>\n",
       "</div>"
      ],
      "text/plain": [
       "                                             message  sentiment\n",
       "0  RT @NYTScience: Americans overwhelmingly belie...          3\n",
       "1  RT @nature_org: #DYK: Forests could contribute...          2\n",
       "2  RT @mmfa: Five crucial climate change takeaway...          3\n",
       "3  @YogiBabaPrem @FOTCangela @CNN @DrJillStein We...          2\n",
       "4  RT @washingtonpost: Scientists just measured a...          3"
      ]
     },
     "execution_count": 12,
     "metadata": {},
     "output_type": "execute_result"
    }
   ],
   "source": [
    "train_df.head()"
   ]
  },
  {
   "cell_type": "markdown",
   "id": "6dc9795e",
   "metadata": {},
   "source": [
    "#### Label Encoding"
   ]
  },
  {
   "cell_type": "code",
   "execution_count": 13,
   "id": "fa5b8e97",
   "metadata": {},
   "outputs": [],
   "source": [
    "le = LabelEncoder()\n",
    "train_df['sparse_label'] = le.fit_transform(train_df['sentiment'])\n",
    "val_df['sparse_label'] = le.transform(val_df['sentiment'])\n",
    "test_df['sparse_label'] = le.transform(test_df['sentiment'])"
   ]
  },
  {
   "cell_type": "code",
   "execution_count": 14,
   "id": "93072cf7",
   "metadata": {},
   "outputs": [
    {
     "name": "stdout",
     "output_type": "stream",
     "text": [
      "0 0\n",
      "1 1\n",
      "2 2\n",
      "3 3\n"
     ]
    }
   ],
   "source": [
    "label_dict = (train_df[['sentiment','sparse_label']].drop_duplicates()\n",
    "              .sort_values(by='sparse_label')\n",
    "              .reset_index(drop=True)['sentiment']\n",
    "              .to_dict())\n",
    "\n",
    "for index, key in label_dict.items():\n",
    "    print(index, key)"
   ]
  },
  {
   "cell_type": "markdown",
   "id": "f35b6194",
   "metadata": {},
   "source": [
    "#### Splitting dataset"
   ]
  },
  {
   "cell_type": "code",
   "execution_count": 15,
   "id": "a5fc9e66",
   "metadata": {},
   "outputs": [
    {
     "name": "stdout",
     "output_type": "stream",
     "text": [
      "2000 training samples\n",
      "1000 validation samples\n"
     ]
    }
   ],
   "source": [
    "x_train = train_df['message']\n",
    "y_train = train_df['sparse_label']\n",
    "\n",
    "x_val = val_df['message']\n",
    "y_val = val_df['sparse_label']\n",
    "\n",
    "print(f\"{len(x_train)} training samples\\n{len(x_val)} validation samples\")"
   ]
  },
  {
   "cell_type": "code",
   "execution_count": 16,
   "id": "86b5fa3e",
   "metadata": {},
   "outputs": [
    {
     "name": "stdout",
     "output_type": "stream",
     "text": [
      "4000 testing samples\n"
     ]
    }
   ],
   "source": [
    "x_test = test_df['message']\n",
    "y_test = test_df['sparse_label']\n",
    "print(f\"{len(x_test)} testing samples\")"
   ]
  },
  {
   "cell_type": "markdown",
   "id": "cdca5603",
   "metadata": {},
   "source": [
    "## 2. Train BERT"
   ]
  },
  {
   "cell_type": "code",
   "execution_count": 17,
   "id": "2087abe1",
   "metadata": {},
   "outputs": [],
   "source": [
    "MODEL_NAME = 'distilbert-base-uncased'"
   ]
  },
  {
   "cell_type": "code",
   "execution_count": 18,
   "id": "764bf707",
   "metadata": {},
   "outputs": [],
   "source": [
    "tokenizer = DistilBertTokenizer.from_pretrained(MODEL_NAME)"
   ]
  },
  {
   "cell_type": "code",
   "execution_count": 19,
   "id": "c5f1cf22",
   "metadata": {},
   "outputs": [
    {
     "name": "stdout",
     "output_type": "stream",
     "text": [
      "The maximum amount of tokens in the dataset is 100\n"
     ]
    }
   ],
   "source": [
    "max_len = 0\n",
    "for sentence in (x_train.tolist() + x_val.tolist()):\n",
    "    try:\n",
    "        sentence_token_len = len(tokenizer.tokenize(sentence))\n",
    "        max_len = sentence_token_len if (sentence_token_len > max_len) else max_len\n",
    "    except:\n",
    "        pass\n",
    "    \n",
    "print(f\"The maximum amount of tokens in the dataset is {max_len}\")"
   ]
  },
  {
   "cell_type": "code",
   "execution_count": 22,
   "id": "5f79223b",
   "metadata": {},
   "outputs": [],
   "source": [
    "MAX_LEN = 360\n",
    "\n",
    "tokenizer = DistilBertTokenizer.from_pretrained(MODEL_NAME,  \n",
    "                                                add_special_tokens=True,\n",
    "                                                max_length=MAX_LEN, \n",
    "                                                pad_to_max_length=True)\n",
    "\n",
    "def tokenize(sentences):\n",
    "    input_ids, input_masks, input_segments = [], [], []\n",
    "    for sentence in tqdm(sentences):\n",
    "        inputs = tokenizer.encode_plus(sentence, \n",
    "                                       add_special_tokens=True, \n",
    "                                       max_length=MAX_LEN, \n",
    "                                       pad_to_max_length=True, \n",
    "                                       return_attention_mask=True, \n",
    "                                       return_token_type_ids=True, \n",
    "                                       truncation=True)\n",
    "        input_ids.append(inputs['input_ids'])\n",
    "        input_masks.append(inputs['attention_mask'])\n",
    "        input_segments.append(inputs['token_type_ids'])       \n",
    "        \n",
    "    return np.asarray(input_ids, dtype='int32'), np.asarray(input_masks, dtype='int32')"
   ]
  },
  {
   "cell_type": "code",
   "execution_count": 23,
   "id": "2f71606e",
   "metadata": {},
   "outputs": [
    {
     "name": "stderr",
     "output_type": "stream",
     "text": [
      "100%|████████████████████████████████████████████████████████████████████████████████████████████████████████████████████████████████████████████████████████████████| 2000/2000 [00:01<00:00, 1633.61it/s]\n",
      "100%|████████████████████████████████████████████████████████████████████████████████████████████████████████████████████████████████████████████████████████████████| 1000/1000 [00:00<00:00, 1741.12it/s]\n",
      "100%|████████████████████████████████████████████████████████████████████████████████████████████████████████████████████████████████████████████████████████████████| 4000/4000 [00:02<00:00, 1716.97it/s]\n"
     ]
    }
   ],
   "source": [
    "X_train = tokenize(x_train)\n",
    "X_val = tokenize(x_val)\n",
    "X_test = tokenize(x_test)"
   ]
  },
  {
   "cell_type": "markdown",
   "id": "0999e68e",
   "metadata": {},
   "source": [
    "#### Add custom layers after embedding model for classification"
   ]
  },
  {
   "cell_type": "code",
   "execution_count": 95,
   "id": "0dbacad0",
   "metadata": {},
   "outputs": [],
   "source": [
    "bert_config = DistilBertConfig.from_pretrained(MODEL_NAME, output_hidden_states=True, output_attentions=True)\n",
    "TFBert = TFDistilBertModel.from_pretrained(MODEL_NAME, config=bert_config)\n",
    "\n",
    "input_ids_layer = tf.keras.layers.Input(shape=(MAX_LEN,), name='input_token', dtype='int32')\n",
    "input_masks_layer = tf.keras.layers.Input(shape=(MAX_LEN,), name='masked_token', dtype='int32') \n",
    "\n",
    "X = TFBert(input_ids = input_ids_layer, attention_mask = input_masks_layer)[0]\n",
    "# X = tf.keras.layers.Bidirectional(tf.keras.layers.LSTM(256, return_sequences=True))(X)\n",
    "# X = tf.keras.layers.Bidirectional(tf.keras.layers.LSTM(128))(X)\n",
    "X = tf.keras.layers.Dropout(0.2)(X)\n",
    "X = tf.keras.layers.Dense(1024, activation=tfa.activations.mish)(X)\n",
    "X = tf.keras.layers.Flatten()(X)\n",
    "X = tf.keras.layers.Dense(4, activation=tf.nn.softmax)(X)\n",
    "\n",
    "model = tf.keras.Model(inputs=[input_ids_layer, input_masks_layer], outputs = X)\n",
    "\n",
    "for layer in model.layers[:3]:\n",
    "    layer.trainable = True"
   ]
  },
  {
   "cell_type": "code",
   "execution_count": 96,
   "id": "53499395",
   "metadata": {},
   "outputs": [
    {
     "name": "stdout",
     "output_type": "stream",
     "text": [
      "Model: \"model_5\"\n",
      "__________________________________________________________________________________________________\n",
      " Layer (type)                   Output Shape         Param #     Connected to                     \n",
      "==================================================================================================\n",
      " input_token (InputLayer)       [(None, 360)]        0           []                               \n",
      "                                                                                                  \n",
      " masked_token (InputLayer)      [(None, 360)]        0           []                               \n",
      "                                                                                                  \n",
      " tf_distil_bert_model_5 (TFDist  TFBaseModelOutput(l  66362880   ['input_token[0][0]',            \n",
      " ilBertModel)                   ast_hidden_state=(N               'masked_token[0][0]']           \n",
      "                                one, 360, 768),                                                   \n",
      "                                 hidden_states=((No                                               \n",
      "                                ne, 360, 768),                                                    \n",
      "                                 (None, 360, 768),                                                \n",
      "                                 (None, 360, 768),                                                \n",
      "                                 (None, 360, 768),                                                \n",
      "                                 (None, 360, 768),                                                \n",
      "                                 (None, 360, 768),                                                \n",
      "                                 (None, 360, 768)),                                               \n",
      "                                 attentions=((None,                                               \n",
      "                                 12, None, 360),                                                  \n",
      "                                 (None, 12, None, 3                                               \n",
      "                                60),                                                              \n",
      "                                 (None, 12, None, 3                                               \n",
      "                                60),                                                              \n",
      "                                 (None, 12, None, 3                                               \n",
      "                                60),                                                              \n",
      "                                 (None, 12, None, 3                                               \n",
      "                                60),                                                              \n",
      "                                 (None, 12, None, 3                                               \n",
      "                                60)))                                                             \n",
      "                                                                                                  \n",
      " dropout_116 (Dropout)          (None, 360, 768)     0           ['tf_distil_bert_model_5[0][13]']\n",
      "                                                                                                  \n",
      " dense_8 (Dense)                (None, 360, 1024)    787456      ['dropout_116[0][0]']            \n",
      "                                                                                                  \n",
      " flatten_4 (Flatten)            (None, 368640)       0           ['dense_8[0][0]']                \n",
      "                                                                                                  \n",
      " dense_9 (Dense)                (None, 4)            1474564     ['flatten_4[0][0]']              \n",
      "                                                                                                  \n",
      "==================================================================================================\n",
      "Total params: 68,624,900\n",
      "Trainable params: 68,624,900\n",
      "Non-trainable params: 0\n",
      "__________________________________________________________________________________________________\n"
     ]
    }
   ],
   "source": [
    "model.summary()"
   ]
  },
  {
   "cell_type": "markdown",
   "id": "4f5039ea",
   "metadata": {},
   "source": [
    "#### Model callbacks"
   ]
  },
  {
   "cell_type": "code",
   "execution_count": 97,
   "id": "437fd5dc",
   "metadata": {},
   "outputs": [],
   "source": [
    "ckpt_dir = './ckpt'\n",
    "if not os.path.exists(ckpt_dir):\n",
    "    os.makedirs(ckpt_dir)"
   ]
  },
  {
   "cell_type": "code",
   "execution_count": 111,
   "id": "f94e83c5",
   "metadata": {},
   "outputs": [],
   "source": [
    "model_checkpoint = ModelCheckpoint(filepath=ckpt_dir + '/weights_val_best.hdf5',\n",
    "                                   monitor='val_accuracy',\n",
    "                                   save_weights_only=True,\n",
    "                                   save_best_only=True,\n",
    "                                   verbose=0)\n",
    "\n",
    "early_stopping = EarlyStopping(patience=3,\n",
    "                               monitor='val_accuracy',\n",
    "                               min_delta=0,\n",
    "                               mode='max',\n",
    "                               restore_best_weights=False,\n",
    "                               verbose=1)\n",
    "\n",
    "reduce_lr = ReduceLROnPlateau(monitor='val_loss',\n",
    "                              min_lr=0.000001,\n",
    "                              patience=1,\n",
    "                              mode='min',\n",
    "                              factor=0.1,\n",
    "                              min_delta=0.0001,\n",
    "                              verbose=1)"
   ]
  },
  {
   "cell_type": "code",
   "execution_count": 112,
   "id": "bf49083d",
   "metadata": {},
   "outputs": [
    {
     "name": "stdout",
     "output_type": "stream",
     "text": [
      "Epoch 1/50\n",
      "125/125 [==============================] - 33s 192ms/step - loss: 0.0847 - accuracy: 0.9740 - val_loss: 1.1054 - val_accuracy: 0.6620 - lr: 1.0000e-04\n",
      "Epoch 2/50\n",
      "125/125 [==============================] - ETA: 0s - loss: 0.0423 - accuracy: 0.9900\n",
      "Epoch 2: ReduceLROnPlateau reducing learning rate to 9.999999747378752e-06.\n",
      "125/125 [==============================] - 22s 173ms/step - loss: 0.0423 - accuracy: 0.9900 - val_loss: 1.6000 - val_accuracy: 0.6510 - lr: 1.0000e-04\n",
      "Epoch 3/50\n",
      "125/125 [==============================] - ETA: 0s - loss: 0.0166 - accuracy: 0.9970\n",
      "Epoch 3: ReduceLROnPlateau reducing learning rate to 1e-06.\n",
      "125/125 [==============================] - 23s 181ms/step - loss: 0.0166 - accuracy: 0.9970 - val_loss: 1.5849 - val_accuracy: 0.6780 - lr: 1.0000e-05\n",
      "Epoch 4/50\n",
      "125/125 [==============================] - 23s 181ms/step - loss: 0.0067 - accuracy: 1.0000 - val_loss: 1.5883 - val_accuracy: 0.6800 - lr: 1.0000e-06\n",
      "Epoch 5/50\n",
      "125/125 [==============================] - 22s 174ms/step - loss: 0.0074 - accuracy: 1.0000 - val_loss: 1.5817 - val_accuracy: 0.6760 - lr: 1.0000e-06\n",
      "Epoch 6/50\n",
      "125/125 [==============================] - 22s 175ms/step - loss: 0.0067 - accuracy: 1.0000 - val_loss: 1.5847 - val_accuracy: 0.6760 - lr: 1.0000e-06\n",
      "Epoch 7/50\n",
      "125/125 [==============================] - 22s 174ms/step - loss: 0.0064 - accuracy: 0.9995 - val_loss: 1.5747 - val_accuracy: 0.6780 - lr: 1.0000e-06\n",
      "Epoch 7: early stopping\n"
     ]
    }
   ],
   "source": [
    "model.compile(loss='sparse_categorical_crossentropy',\n",
    "              optimizer=tfa.optimizers.RectifiedAdam(0.0001),\n",
    "              metrics=['accuracy'])\n",
    "\n",
    "history = model.fit(X_train,\n",
    "                    y_train,\n",
    "                    epochs=50,\n",
    "                    batch_size=16,\n",
    "                    validation_data=(X_val, y_val),\n",
    "                    callbacks=[model_checkpoint, early_stopping, reduce_lr])"
   ]
  },
  {
   "cell_type": "code",
   "execution_count": 113,
   "id": "e25f6a37",
   "metadata": {},
   "outputs": [],
   "source": [
    "def plot_graphs(history, metric, title=''):\n",
    "    plt.figure(figsize=(8, 6))\n",
    "    plt.plot(history.history[metric],  label='Training')\n",
    "    plt.xlabel('Epochs')\n",
    "    plt.ylabel(metric)\n",
    "    plt.title(title)\n",
    "    plt.legend()\n",
    "    plt.show()"
   ]
  },
  {
   "cell_type": "code",
   "execution_count": 114,
   "id": "9dc93dc3",
   "metadata": {},
   "outputs": [
    {
     "data": {
      "image/png": "[encoded data removed]",
      "text/plain": [
       "<Figure size 576x432 with 1 Axes>"
      ]
     },
     "metadata": {},
     "output_type": "display_data"
    }
   ],
   "source": [
    "plot_graphs(history, 'accuracy', 'Accuracy')"
   ]
  },
  {
   "cell_type": "code",
   "execution_count": 115,
   "id": "a356af1e",
   "metadata": {},
   "outputs": [
    {
     "data": {
      "image/png": "[encoded data removed]",
      "text/plain": [
       "<Figure size 576x432 with 1 Axes>"
      ]
     },
     "metadata": {},
     "output_type": "display_data"
    }
   ],
   "source": [
    "plot_graphs(history, 'loss', 'Loss')"
   ]
  },
  {
   "cell_type": "markdown",
   "id": "00915496",
   "metadata": {},
   "source": [
    "#### Loading the best model and test on a test set"
   ]
  },
  {
   "cell_type": "code",
   "execution_count": 116,
   "id": "d499d7b3",
   "metadata": {},
   "outputs": [],
   "source": [
    "model.load_weights(ckpt_dir + '/weights_val_best.hdf5')"
   ]
  },
  {
   "cell_type": "code",
   "execution_count": 117,
   "id": "74c85039",
   "metadata": {},
   "outputs": [],
   "source": [
    "pred_probs = model.predict(X_test)\n",
    "y_pred = np.argmax(pred_probs, axis=1)"
   ]
  },
  {
   "cell_type": "markdown",
   "id": "c720f092",
   "metadata": {},
   "source": [
    "#### Visualizing Confusion Matrix using Heatmap"
   ]
  },
  {
   "cell_type": "code",
   "execution_count": 118,
   "id": "d9ef0cab",
   "metadata": {},
   "outputs": [
    {
     "data": {
      "text/plain": [
       "array([[ 111,   56,  187,   22],\n",
       "       [  49,  284,  334,   65],\n",
       "       [  62,  147, 1593,  207],\n",
       "       [   7,   13,  153,  710]])"
      ]
     },
     "execution_count": 118,
     "metadata": {},
     "output_type": "execute_result"
    }
   ],
   "source": [
    "cm = confusion_matrix(y_test, y_pred)\n",
    "cm"
   ]
  },
  {
   "cell_type": "code",
   "execution_count": 119,
   "id": "e4c666da",
   "metadata": {},
   "outputs": [
    {
     "name": "stdout",
     "output_type": "stream",
     "text": [
      "Test Accuracy: 0.6745\n"
     ]
    },
    {
     "data": {
      "image/png": "[encoded data removed]",
      "text/plain": [
       "<Figure size 432x288 with 2 Axes>"
      ]
     },
     "metadata": {},
     "output_type": "display_data"
    }
   ],
   "source": [
    "labels_names = ['Anti','Neutral','Pro','News'] \n",
    "class_names=[0, 1, 2, 3]\n",
    "\n",
    "fig, ax = plt.subplots()\n",
    "tick_marks = np.arange(len(class_names))\n",
    "\n",
    "sns.set(font_scale = 1.2, color_codes=True, palette='deep')\n",
    "sns.heatmap(pd.DataFrame(cm, index=labels_names ,columns=class_names), annot=True, annot_kws = {'size':16}, cmap='YlGnBu' ,fmt='g')\n",
    "ax.xaxis.set_label_position('top')\n",
    "plt.xticks(class_names, labels_names, rotation=45)\n",
    "plt.yticks(class_names, labels_names, rotation=45)\n",
    "plt.title('Confusion matrix', y=1.2)\n",
    "plt.ylabel('Actual label')\n",
    "plt.xlabel('Predicted label')\n",
    "\n",
    "print('Test Accuracy:', accuracy_score(y_test, y_pred))"
   ]
  },
  {
   "cell_type": "code",
   "execution_count": 120,
   "id": "274021af",
   "metadata": {},
   "outputs": [
    {
     "name": "stdout",
     "output_type": "stream",
     "text": [
      "              precision    recall  f1-score   support\n",
      "\n",
      "        Anti       0.48      0.30      0.37       376\n",
      "     Neutral       0.57      0.39      0.46       732\n",
      "         Pro       0.70      0.79      0.75      2009\n",
      "        News       0.71      0.80      0.75       883\n",
      "\n",
      "    accuracy                           0.67      4000\n",
      "   macro avg       0.62      0.57      0.58      4000\n",
      "weighted avg       0.66      0.67      0.66      4000\n",
      "\n"
     ]
    }
   ],
   "source": [
    "print(classification_report(y_test, y_pred, target_names=labels_names))"
   ]
  },
  {
   "cell_type": "code",
   "execution_count": 121,
   "id": "05d29869",
   "metadata": {},
   "outputs": [],
   "source": [
    "# mf = f1_score(y_test, y_pred, average='macro')\n",
    "# wf = f1_score(y_test, y_pred, average='weighted')\n",
    "# mp = precision_score(y_test, y_pred, average='macro')\n",
    "# mr = recall_score(y_test, y_pred, average='macro')"
   ]
  },
  {
   "cell_type": "code",
   "execution_count": 122,
   "id": "7c99bdeb",
   "metadata": {},
   "outputs": [],
   "source": [
    "# print(\n",
    "#     f'Macro F1: {mf: .3f} \\\n",
    "#     | Weighted F1: {wf: .3f} \\\n",
    "#     | Macro Precision: {mp: .3f} \\\n",
    "#     | Macro recall: {mr: .3f}'\n",
    "# )"
   ]
  },
  {
   "cell_type": "code",
   "execution_count": 123,
   "id": "d38d5526",
   "metadata": {},
   "outputs": [
    {
     "name": "stdout",
     "output_type": "stream",
     "text": [
      "  f1 of classes: [0.367, 0.461, 0.745, 0.753]\n",
      "  micro_f1: 0.674 , macro_f1: 0.581 , weighted_f1: 0.659, macro_precision: 0.616, macro_recall: 0.570\n"
     ]
    }
   ],
   "source": [
    "print_evaluation(y_test,y_pred)"
   ]
  },
  {
   "cell_type": "code",
   "execution_count": null,
   "id": "afc7e7e2",
   "metadata": {},
   "outputs": [],
   "source": []
  }
 ],
 "metadata": {
  "kernelspec": {
   "display_name": "Python 3 (ipykernel)",
   "language": "python",
   "name": "python3"
  },
  "language_info": {
   "codemirror_mode": {
    "name": "ipython",
    "version": 3
   },
   "file_extension": ".py",
   "mimetype": "text/x-python",
   "name": "python",
   "nbconvert_exporter": "python",
   "pygments_lexer": "ipython3",
   "version": "3.10.0"
  }
 },
 "nbformat": 4,
 "nbformat_minor": 5
}
