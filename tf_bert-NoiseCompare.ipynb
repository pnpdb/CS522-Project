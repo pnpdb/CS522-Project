{
 "cells": [
  {
   "cell_type": "markdown",
   "id": "22460778",
   "metadata": {},
   "source": [
    "# BERT - Climate Sentiment Multiclass Classification\n",
    "## CS522 Project"
   ]
  },
  {
   "cell_type": "markdown",
   "id": "6829ff32",
   "metadata": {},
   "source": [
    "**Dataset:**  \n",
    "https://www.kaggle.com/code/luiskalckstein/climate-sentiment-multiclass-classification"
   ]
  },
  {
   "cell_type": "markdown",
   "id": "bad0fd68",
   "metadata": {},
   "source": [
    "**Imports**"
   ]
  },
  {
   "cell_type": "code",
   "execution_count": 1,
   "id": "65f1e0ee",
   "metadata": {},
   "outputs": [
    {
     "name": "stdout",
     "output_type": "stream",
     "text": [
      "time: 0 ns (started: 2022-04-21 17:26:52 +08:00)\n"
     ]
    }
   ],
   "source": [
    "# ! pip install tensorflow-addons\n",
    "import os\n",
    "import warnings\n",
    "\n",
    "import numpy as np\n",
    "import pandas as pd\n",
    "import seaborn as sns\n",
    "from tqdm import tqdm\n",
    "from sklearn.preprocessing import LabelEncoder\n",
    "from sklearn.metrics import confusion_matrix, classification_report, accuracy_score\n",
    "from sklearn.metrics import precision_score, recall_score, f1_score\n",
    "from transformers import DistilBertTokenizer, TFDistilBertModel, DistilBertConfig\n",
    "from transformers import logging as hf_logging\n",
    "from Common.preprocessor import one_hot_encoding\n",
    "import tensorflow as tf\n",
    "import tensorflow_addons as tfa\n",
    "from tensorflow.keras.callbacks import ModelCheckpoint, ReduceLROnPlateau, EarlyStopping\n",
    "import matplotlib.pyplot as plt\n",
    "from Common.UtilFuncs import DataSize\n",
    "from Common.DataCenter import data_center\n",
    "from Common.UtilFuncs import print_evaluation, print_distribution\n",
    "from Common.UtilFuncs import Evaluator, Lab\n",
    "from Common.BERTModel import BERTModel, do_experiment_BERT\n",
    "try:\n",
    "    %load_ext autotime\n",
    "except:\n",
    "    !pip install ipython-autotime\n",
    "    %load_ext autotime\n",
    "    \n",
    "hf_logging.set_verbosity_error()\n",
    "warnings.filterwarnings('ignore')\n",
    "# ! pip install tensorflow-addons\n",
    "TrainSizeBaseLine = DataSize.GetTrainSizeBaseline()\n",
    "TrainSizeWithNoisyData = DataSize.GetTrainSizeWithNoisyData()\n",
    "# 4000\n",
    "TestDataSize = DataSize.GetTestDataSize()\n",
    "NoiseDataSize = DataSize.GetNoiseDataSize()\n",
    "ValidationDataSize = DataSize.GetValidationDataSize()\n",
    "\n",
    "%matplotlib inline"
   ]
  },
  {
   "cell_type": "markdown",
   "id": "65fc21ad",
   "metadata": {},
   "source": [
    "**Detect GPU**"
   ]
  },
  {
   "cell_type": "code",
   "execution_count": 2,
   "id": "fb1f2768",
   "metadata": {},
   "outputs": [
    {
     "name": "stdout",
     "output_type": "stream",
     "text": [
      "Set memory autoincrement\n",
      "Physical GPUs: 1, Logical GPUs: 1\n",
      "time: 422 ms (started: 2022-04-21 17:26:52 +08:00)\n"
     ]
    }
   ],
   "source": [
    "gpus = tf.config.experimental.list_physical_devices('GPU')\n",
    "if gpus:\n",
    "  try:\n",
    "    for gpu in gpus:\n",
    "        tf.config.experimental.set_memory_growth(gpu, True)\n",
    "    print('Set memory autoincrement')\n",
    "    logical_gpus = tf.config.experimental.list_logical_devices('GPU')\n",
    "    print('Physical GPUs: %d, Logical GPUs: %d' % (len(gpus), len(logical_gpus)))\n",
    "  except RuntimeError as e:\n",
    "    print(e)\n",
    "else:\n",
    "    print('GPUs not detected')"
   ]
  },
  {
   "cell_type": "markdown",
   "id": "ad44c4b6",
   "metadata": {},
   "source": [
    "## 1. Loading Dataset"
   ]
  },
  {
   "cell_type": "code",
   "execution_count": 3,
   "id": "26a703a4",
   "metadata": {},
   "outputs": [
    {
     "name": "stdout",
     "output_type": "stream",
     "text": [
      "time: 578 ms (started: 2022-04-21 17:26:53 +08:00)\n"
     ]
    }
   ],
   "source": [
    "# Each item: source -> (size, distribution)\n",
    "noisy_set_sizes = {\n",
    "    'mislabeled' : (8600, None),                   # max size: 15000\n",
    "    'irrelevant' : (8600, [0.25,0.25,0.25,0.25]),  # max size: 34259\n",
    "    'translated' : (5000, \"reserve_labels\"),       # max size: 5000\n",
    "}\n",
    "lab = Lab(\"twitter_sentiment_data_clean.csv\", noisy_sources = noisy_set_sizes, total_train_size = 20000, total_test_size = 4000)"
   ]
  },
  {
   "cell_type": "code",
   "execution_count": 4,
   "id": "b52c2ddc",
   "metadata": {
    "pycharm": {
     "metadata": false,
     "name": "#%%\n"
    }
   },
   "outputs": [
    {
     "name": "stdout",
     "output_type": "stream",
     "text": [
      "###################################### Data Summary #############################################\n",
      "  Total data size: 40908\n",
      "      sentiments ('Anti', 'Neutral', 'Pro', 'News'): 9.4%, 18.3%, 50.2%, 22.1%\n",
      "  Training data size: 20000\n",
      "  Test data data: 4000\n",
      "  Noisy data data: 22200\n",
      "  Validation data size: 1000\n",
      "      noise sources ('mislabeled', 'irrelevant', 'translated'): 38.7%, 38.7%, 22.5%\n",
      "##################################################################################################\n",
      "time: 0 ns (started: 2022-04-21 17:26:53 +08:00)\n"
     ]
    }
   ],
   "source": [
    "lab.dc.print_summary()\n"
   ]
  },
  {
   "cell_type": "markdown",
   "id": "119126e4",
   "metadata": {},
   "source": [
    "Observe the data."
   ]
  },
  {
   "cell_type": "code",
   "execution_count": 5,
   "id": "403444a7",
   "metadata": {
    "pycharm": {
     "metadata": false,
     "name": "#%%\n"
    }
   },
   "outputs": [
    {
     "data": {
      "text/html": [
       "<div>\n",
       "<style scoped>\n",
       "    .dataframe tbody tr th:only-of-type {\n",
       "        vertical-align: middle;\n",
       "    }\n",
       "\n",
       "    .dataframe tbody tr th {\n",
       "        vertical-align: top;\n",
       "    }\n",
       "\n",
       "    .dataframe thead th {\n",
       "        text-align: right;\n",
       "    }\n",
       "</style>\n",
       "<table border=\"1\" class=\"dataframe\">\n",
       "  <thead>\n",
       "    <tr style=\"text-align: right;\">\n",
       "      <th></th>\n",
       "      <th>noise</th>\n",
       "      <th>noise_text</th>\n",
       "      <th>sentiment</th>\n",
       "      <th>origin(sentiment)</th>\n",
       "      <th>tweetid...</th>\n",
       "      <th>message...</th>\n",
       "    </tr>\n",
       "  </thead>\n",
       "  <tbody>\n",
       "    <tr>\n",
       "      <th>0</th>\n",
       "      <td>0</td>\n",
       "      <td>none</td>\n",
       "      <td>2</td>\n",
       "      <td>-</td>\n",
       "      <td>8341187703</td>\n",
       "      <td>RT @PoliticsOTM: The people ca</td>\n",
       "    </tr>\n",
       "    <tr>\n",
       "      <th>1</th>\n",
       "      <td>0</td>\n",
       "      <td>none</td>\n",
       "      <td>0</td>\n",
       "      <td>-</td>\n",
       "      <td>8261053219</td>\n",
       "      <td>@lundstephs shut up climate ch</td>\n",
       "    </tr>\n",
       "    <tr>\n",
       "      <th>2</th>\n",
       "      <td>3</td>\n",
       "      <td>translated</td>\n",
       "      <td>3</td>\n",
       "      <td>3</td>\n",
       "      <td>8407369356</td>\n",
       "      <td>RT @EcoInternet3: телефон EPA</td>\n",
       "    </tr>\n",
       "    <tr>\n",
       "      <th>3</th>\n",
       "      <td>0</td>\n",
       "      <td>none</td>\n",
       "      <td>1</td>\n",
       "      <td>-</td>\n",
       "      <td>9547625090</td>\n",
       "      <td>@charliespiering Any climate c</td>\n",
       "    </tr>\n",
       "    <tr>\n",
       "      <th>4</th>\n",
       "      <td>0</td>\n",
       "      <td>none</td>\n",
       "      <td>3</td>\n",
       "      <td>-</td>\n",
       "      <td>8604160894</td>\n",
       "      <td>RT @TheEconomist: The impact o</td>\n",
       "    </tr>\n",
       "    <tr>\n",
       "      <th>5</th>\n",
       "      <td>0</td>\n",
       "      <td>none</td>\n",
       "      <td>2</td>\n",
       "      <td>-</td>\n",
       "      <td>9534173196</td>\n",
       "      <td>Ed our PM inspires your presid</td>\n",
       "    </tr>\n",
       "    <tr>\n",
       "      <th>6</th>\n",
       "      <td>0</td>\n",
       "      <td>none</td>\n",
       "      <td>1</td>\n",
       "      <td>-</td>\n",
       "      <td>9123373534</td>\n",
       "      <td>RT @AmyMcGrathKY: Massive lack</td>\n",
       "    </tr>\n",
       "    <tr>\n",
       "      <th>7</th>\n",
       "      <td>0</td>\n",
       "      <td>none</td>\n",
       "      <td>3</td>\n",
       "      <td>-</td>\n",
       "      <td>7020372141</td>\n",
       "      <td>Blame Zika on climate change -</td>\n",
       "    </tr>\n",
       "    <tr>\n",
       "      <th>8</th>\n",
       "      <td>1</td>\n",
       "      <td>mislabeled</td>\n",
       "      <td>0</td>\n",
       "      <td>3</td>\n",
       "      <td>9106954837</td>\n",
       "      <td>RT @michaelhallida4: BREAKING</td>\n",
       "    </tr>\n",
       "    <tr>\n",
       "      <th>9</th>\n",
       "      <td>0</td>\n",
       "      <td>none</td>\n",
       "      <td>2</td>\n",
       "      <td>-</td>\n",
       "      <td>7966996768</td>\n",
       "      <td>Dams raise global warming gas:</td>\n",
       "    </tr>\n",
       "    <tr>\n",
       "      <th>10</th>\n",
       "      <td>0</td>\n",
       "      <td>none</td>\n",
       "      <td>3</td>\n",
       "      <td>-</td>\n",
       "      <td>7720261710</td>\n",
       "      <td>UPDATE2: China, U.S. ratify Pa</td>\n",
       "    </tr>\n",
       "    <tr>\n",
       "      <th>11</th>\n",
       "      <td>1</td>\n",
       "      <td>mislabeled</td>\n",
       "      <td>1</td>\n",
       "      <td>2</td>\n",
       "      <td>8798000956</td>\n",
       "      <td>RT @TheRickyDavila: Secretary</td>\n",
       "    </tr>\n",
       "    <tr>\n",
       "      <th>12</th>\n",
       "      <td>1</td>\n",
       "      <td>mislabeled</td>\n",
       "      <td>1</td>\n",
       "      <td>3</td>\n",
       "      <td>6676948372</td>\n",
       "      <td>Climate change sentiment could</td>\n",
       "    </tr>\n",
       "    <tr>\n",
       "      <th>13</th>\n",
       "      <td>0</td>\n",
       "      <td>none</td>\n",
       "      <td>2</td>\n",
       "      <td>-</td>\n",
       "      <td>7935701063</td>\n",
       "      <td>RT @preston_spang: It's Novemb</td>\n",
       "    </tr>\n",
       "    <tr>\n",
       "      <th>14</th>\n",
       "      <td>0</td>\n",
       "      <td>none</td>\n",
       "      <td>3</td>\n",
       "      <td>-</td>\n",
       "      <td>8265649373</td>\n",
       "      <td>RT @NYtitanic1999: Boris Johns</td>\n",
       "    </tr>\n",
       "  </tbody>\n",
       "</table>\n",
       "</div>"
      ],
      "text/plain": [
       "    noise  noise_text  sentiment origin(sentiment)  tweetid...  \\\n",
       "0       0        none          2                 -  8341187703   \n",
       "1       0        none          0                 -  8261053219   \n",
       "2       3  translated          3                 3  8407369356   \n",
       "3       0        none          1                 -  9547625090   \n",
       "4       0        none          3                 -  8604160894   \n",
       "5       0        none          2                 -  9534173196   \n",
       "6       0        none          1                 -  9123373534   \n",
       "7       0        none          3                 -  7020372141   \n",
       "8       1  mislabeled          0                 3  9106954837   \n",
       "9       0        none          2                 -  7966996768   \n",
       "10      0        none          3                 -  7720261710   \n",
       "11      1  mislabeled          1                 2  8798000956   \n",
       "12      1  mislabeled          1                 3  6676948372   \n",
       "13      0        none          2                 -  7935701063   \n",
       "14      0        none          3                 -  8265649373   \n",
       "\n",
       "                        message...  \n",
       "0   RT @PoliticsOTM: The people ca  \n",
       "1   @lundstephs shut up climate ch  \n",
       "2   RT @EcoInternet3: телефон EPA   \n",
       "3   @charliespiering Any climate c  \n",
       "4   RT @TheEconomist: The impact o  \n",
       "5   Ed our PM inspires your presid  \n",
       "6   RT @AmyMcGrathKY: Massive lack  \n",
       "7   Blame Zika on climate change -  \n",
       "8   RT @michaelhallida4: BREAKING   \n",
       "9   Dams raise global warming gas:  \n",
       "10  UPDATE2: China, U.S. ratify Pa  \n",
       "11  RT @TheRickyDavila: Secretary   \n",
       "12  Climate change sentiment could  \n",
       "13  RT @preston_spang: It's Novemb  \n",
       "14  RT @NYtitanic1999: Boris Johns  "
      ]
     },
     "metadata": {},
     "output_type": "display_data"
    },
    {
     "name": "stdout",
     "output_type": "stream",
     "text": [
      "time: 47 ms (started: 2022-04-21 17:26:53 +08:00)\n"
     ]
    }
   ],
   "source": [
    "train_df = lab.dc.get_train_with_noisy_df(150,50)\n",
    "test_df = lab.dc.get_test_df()\n",
    "data_center.print_data(train_df.head(15))\n",
    "\n"
   ]
  },
  {
   "cell_type": "code",
   "execution_count": 6,
   "id": "953fad3e",
   "metadata": {},
   "outputs": [
    {
     "name": "stderr",
     "output_type": "stream",
     "text": [
      "100%|██████████| 200/200 [00:00<00:00, 1387.62it/s]\n",
      "100%|██████████| 4000/4000 [00:02<00:00, 1652.21it/s]\n",
      "100%|██████████| 1000/1000 [00:00<00:00, 1688.60it/s]\n"
     ]
    },
    {
     "name": "stdout",
     "output_type": "stream",
     "text": [
      "Epoch 1/50\n",
      "13/13 [==============================] - 29s 2s/step - loss: 1.3025 - accuracy: 0.4000 - val_loss: 1.1873 - val_accuracy: 0.5020 - lr: 1.0000e-04\n",
      "Epoch 2/50\n",
      "13/13 [==============================] - 19s 2s/step - loss: 1.2118 - accuracy: 0.4400 - val_loss: 1.1772 - val_accuracy: 0.5200 - lr: 1.0000e-04\n",
      "Epoch 3/50\n",
      "13/13 [==============================] - 20s 2s/step - loss: 1.0838 - accuracy: 0.5350 - val_loss: 1.1470 - val_accuracy: 0.5220 - lr: 1.0000e-04\n",
      "Epoch 4/50\n",
      "13/13 [==============================] - 21s 2s/step - loss: 0.9092 - accuracy: 0.6350 - val_loss: 1.1409 - val_accuracy: 0.5450 - lr: 1.0000e-04\n",
      "Epoch 5/50\n",
      "13/13 [==============================] - ETA: 0s - loss: 0.6910 - accuracy: 0.8050\n",
      "Epoch 5: ReduceLROnPlateau reducing learning rate to 9.999999747378752e-06.\n",
      "13/13 [==============================] - 21s 2s/step - loss: 0.6910 - accuracy: 0.8050 - val_loss: 1.1551 - val_accuracy: 0.5510 - lr: 1.0000e-04\n",
      "Epoch 6/50\n",
      "13/13 [==============================] - ETA: 0s - loss: 0.4824 - accuracy: 0.8350\n",
      "Epoch 6: ReduceLROnPlateau reducing learning rate to 1e-06.\n",
      "13/13 [==============================] - 18s 1s/step - loss: 0.4824 - accuracy: 0.8350 - val_loss: 1.1490 - val_accuracy: 0.5390 - lr: 1.0000e-05\n",
      "Epoch 7/50\n",
      "13/13 [==============================] - 19s 2s/step - loss: 0.4642 - accuracy: 0.8900 - val_loss: 1.1487 - val_accuracy: 0.5360 - lr: 1.0000e-06\n",
      "Epoch 8/50\n",
      "13/13 [==============================] - 19s 2s/step - loss: 0.4366 - accuracy: 0.8950 - val_loss: 1.1463 - val_accuracy: 0.5310 - lr: 1.0000e-06\n",
      "Epoch 8: early stopping\n",
      "    f1 of classes: [0.0, 0.064, 0.665, 0.553]\n",
      "    micro_f1: 0.543 , macro_f1: 0.321 , weighted_f1: 0.468, macro_precision: 0.331, macro_recall: 0.362\n",
      "time: 3min 46s (started: 2022-04-21 17:26:53 +08:00)\n"
     ]
    }
   ],
   "source": [
    "\n",
    "evaluateDF = do_experiment_BERT(train_df, test_df, lab)"
   ]
  },
  {
   "cell_type": "code",
   "execution_count": 7,
   "id": "afc7e7e2",
   "metadata": {},
   "outputs": [
    {
     "data": {
      "text/html": [
       "<div>\n",
       "<style scoped>\n",
       "    .dataframe tbody tr th:only-of-type {\n",
       "        vertical-align: middle;\n",
       "    }\n",
       "\n",
       "    .dataframe tbody tr th {\n",
       "        vertical-align: top;\n",
       "    }\n",
       "\n",
       "    .dataframe thead th {\n",
       "        text-align: right;\n",
       "    }\n",
       "</style>\n",
       "<table border=\"1\" class=\"dataframe\">\n",
       "  <thead>\n",
       "    <tr style=\"text-align: right;\">\n",
       "      <th></th>\n",
       "      <th>Micro F1</th>\n",
       "      <th>Macro F1</th>\n",
       "      <th>Weighted F1</th>\n",
       "      <th>Macro Precision</th>\n",
       "      <th>Macro Recall</th>\n",
       "      <th>F1 of classes</th>\n",
       "    </tr>\n",
       "  </thead>\n",
       "  <tbody>\n",
       "    <tr>\n",
       "      <th>0</th>\n",
       "      <td>0.5435</td>\n",
       "      <td>0.320665</td>\n",
       "      <td>0.467883</td>\n",
       "      <td>0.331355</td>\n",
       "      <td>0.361767</td>\n",
       "      <td>[0.0, 0.064, 0.665, 0.553]</td>\n",
       "    </tr>\n",
       "  </tbody>\n",
       "</table>\n",
       "</div>"
      ],
      "text/plain": [
       "   Micro F1  Macro F1  Weighted F1  Macro Precision  Macro Recall  \\\n",
       "0    0.5435  0.320665     0.467883         0.331355      0.361767   \n",
       "\n",
       "                F1 of classes  \n",
       "0  [0.0, 0.064, 0.665, 0.553]  "
      ]
     },
     "execution_count": 7,
     "metadata": {},
     "output_type": "execute_result"
    },
    {
     "name": "stdout",
     "output_type": "stream",
     "text": [
      "time: 15 ms (started: 2022-04-21 17:31:30 +08:00)\n"
     ]
    }
   ],
   "source": [
    "evaluateDF"
   ]
  },
  {
   "cell_type": "code",
   "execution_count": null,
   "id": "86d8f825",
   "metadata": {},
   "outputs": [],
   "source": []
  }
 ],
 "metadata": {
  "kernelspec": {
   "display_name": "Python 3 (ipykernel)",
   "language": "python",
   "name": "python3"
  },
  "language_info": {
   "codemirror_mode": {
    "name": "ipython",
    "version": 3
   },
   "file_extension": ".py",
   "mimetype": "text/x-python",
   "name": "python",
   "nbconvert_exporter": "python",
   "pygments_lexer": "ipython3",
   "version": "3.8.13"
  }
 },
 "nbformat": 4,
 "nbformat_minor": 5
}
