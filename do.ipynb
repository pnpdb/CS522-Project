{
  "cells": [
    {
      "cell_type": "markdown",
      "metadata": {
        "pycharm": {
          "metadata": false
        }
      },
      "source": [
        "# SVM - Climate Sentiment Multiclass Classification\n",
        "## CS522 Project"
      ]
    },
    {
      "cell_type": "markdown",
      "metadata": {
        "pycharm": {
          "metadata": false
        }
      },
      "source": [
        "### Dataset: \n",
        "https://www.kaggle.com/code/luiskalckstein/climate-sentiment-multiclass-classification"
      ]
    },
    {
      "cell_type": "markdown",
      "metadata": {
        "pycharm": {
          "metadata": false
        }
      },
      "source": [
        "### Imports"
      ]
    },
    {
      "cell_type": "code",
      "execution_count": 1,
      "metadata": {
        "pycharm": {
          "metadata": false,
          "name": "#%%\n"
        }
      },
      "outputs": [],
      "source": [
        "%matplotlib inline\n",
        "\n",
        "# Our base common modules\n",
        "from Common.DataCenter import data_center\n",
        "from Common.UtilFuncs import Evaluator, Lab\n",
        "\n",
        "# Classifiers without denoising\n",
        "import Common.SvmMethod as SvmMethod\n",
        "\n",
        "# Denoising Methodes\n",
        "import Common.IsolationForestMethod as IsolationForestMethod\n",
        "import Common.ConfidentLearningMethod as ConfidentLearningMethod\n",
        "import Common.LocalOutlierFactorMethod as LocalOutlierFactorMethod\n",
        "from Common.BERTModel import do_experiment_BERT\n"
      ]
    },
    {
      "cell_type": "markdown",
      "metadata": {
        "pycharm": {
          "metadata": false
        }
      },
      "source": [
        "**The settings of the noise sources.**"
      ]
    },
    {
      "cell_type": "code",
      "execution_count": 2,
      "id": "b3a6e132",
      "metadata": {
        "pycharm": {
          "metadata": false,
          "name": "#%%\n"
        }
      },
      "outputs": [],
      "source": [
        "# Each item: source -> (size, distribution)\n",
        "noisy_set_sizes = {\n",
        "    'mislabeled' : (8600, None),                   # max size: 15000\n",
        "    'irrelevant' : (8600, [0.25,0.25,0.25,0.25]),  # max size: 34259\n",
        "    'translated' : (8600, \"reserve_labels\"),       # max size: 5000\n",
        "}\n"
      ]
    },
    {
      "cell_type": "code",
      "execution_count": 3,
      "id": "78af2f7c",
      "metadata": {
        "pycharm": {
          "metadata": false,
          "name": "#%%\n"
        }
      },
      "outputs": [],
      "source": [
        "lab = Lab(\"twitter_sentiment_data_clean.csv\", noisy_sources = noisy_set_sizes, total_train_size = 20000, total_test_size = 4000)\n"
      ]
    },
    {
      "cell_type": "markdown",
      "metadata": {
        "pycharm": {
          "metadata": false
        }
      },
      "source": [
        "**Choose a experiment without denoising**"
      ]
    },
    {
      "cell_type": "code",
      "execution_count": 4,
      "metadata": {
        "pycharm": {
          "metadata": false,
          "name": "#%%\n"
        }
      },
      "outputs": [],
      "source": [
        "# Each item: name -> (function, args-optional, whether choose) note:only the first active one will be used\n",
        "experiment_without_denoising = {\n",
        "    'SVM without denoising' : (SvmMethod.do_experiment, 0),\n",
        "    'BERT without denoising' : (do_experiment_BERT, (lab,), 1 )\n",
        "}\n"
      ]
    },
    {
      "cell_type": "markdown",
      "metadata": {
        "pycharm": {
          "metadata": false
        }
      },
      "source": [
        "**Choose a experiment with denoising**"
      ]
    },
    {
      "cell_type": "code",
      "execution_count": 5,
      "metadata": {
        "pycharm": {
          "metadata": false,
          "name": "#%%\n"
        }
      },
      "outputs": [],
      "source": [
        "# Each item: name -> (funcion, args-optional, whether choose) note:only the first active one will be used\n",
        "experiment_with_denoising = {\n",
        "    'Confident Learning' : (ConfidentLearningMethod.do_experiment_with_denoising_for_SVM,   0),\n",
        "    'Isolation Forest'   : (IsolationForestMethod.do_experiment_with_denoising_for_SVM,     0),\n",
        "    'LocalOutlierFactor' : (LocalOutlierFactorMethod.do_experiment_with_denoising_for_SVM,  1),\n",
        "}\n"
      ]
    },
    {
      "cell_type": "markdown",
      "metadata": {
        "pycharm": {
          "metadata": false
        }
      },
      "source": [
        "**The training set of each experiment**"
      ]
    },
    {
      "cell_type": "code",
      "execution_count": 6,
      "metadata": {
        "pycharm": {
          "metadata": false,
          "name": "#%%\n"
        }
      },
      "outputs": [],
      "source": [
        "origin_train_set_sizes = [2000, 4000, 5000, 8000, 10000, 15000, 20000]\n",
        "noisy_train_set_sizes  = [(4000, 1000), (8000, 2000), (15000, 5000)]\n"
      ]
    },
    {
      "cell_type": "markdown",
      "metadata": {
        "pycharm": {
          "metadata": false
        }
      },
      "source": [
        "### Main entry\n",
        "**Initialize the lab, which will run a serial of experiments.<br>\n",
        "Split the database into training set, test set, noisy set, validation set.**"
      ]
    },
    {
      "cell_type": "markdown",
      "metadata": {
        "pycharm": {
          "metadata": false
        }
      },
      "source": [
        "**Review the summary of the whole data**"
      ]
    },
    {
      "cell_type": "code",
      "execution_count": 7,
      "metadata": {
        "pycharm": {
          "metadata": false,
          "name": "#%%\n"
        }
      },
      "outputs": [
        {
          "name": "stdout",
          "output_type": "stream",
          "text": [
            "###################################### Data Summary #############################################\n",
            "  Total data size: 40908\n",
            "      sentiments ('Anti', 'Neutral', 'Pro', 'News'): 9.4%, 18.3%, 50.2%, 22.1%\n",
            "  Training data size: 20000\n",
            "  Test data size: 4000\n",
            "  Noisy data size: 25800\n",
            "  Validation data size: 1000\n",
            "      noise sources ('mislabeled', 'irrelevant', 'translated'): 33.3%, 33.3%, 33.3%\n",
            "##################################################################################################\n"
          ]
        }
      ],
      "source": [
        "lab.dc.print_summary()\n"
      ]
    },
    {
      "cell_type": "markdown",
      "metadata": {
        "pycharm": {
          "metadata": false
        }
      },
      "source": [
        "**To see the data features via a demo**"
      ]
    },
    {
      "cell_type": "code",
      "execution_count": 8,
      "metadata": {
        "pycharm": {
          "metadata": false,
          "name": "#%%\n"
        }
      },
      "outputs": [
        {
          "data": {
            "text/html": [
              "<div>\n",
              "<style scoped>\n",
              "    .dataframe tbody tr th:only-of-type {\n",
              "        vertical-align: middle;\n",
              "    }\n",
              "\n",
              "    .dataframe tbody tr th {\n",
              "        vertical-align: top;\n",
              "    }\n",
              "\n",
              "    .dataframe thead th {\n",
              "        text-align: right;\n",
              "    }\n",
              "</style>\n",
              "<table border=\"1\" class=\"dataframe\">\n",
              "  <thead>\n",
              "    <tr style=\"text-align: right;\">\n",
              "      <th></th>\n",
              "      <th>noise</th>\n",
              "      <th>noise_text</th>\n",
              "      <th>sentiment</th>\n",
              "      <th>origin(sentiment)</th>\n",
              "      <th>tweetid...</th>\n",
              "      <th>message...</th>\n",
              "    </tr>\n",
              "  </thead>\n",
              "  <tbody>\n",
              "    <tr>\n",
              "      <th>0</th>\n",
              "      <td>1</td>\n",
              "      <td>mislabeled</td>\n",
              "      <td>3</td>\n",
              "      <td>2</td>\n",
              "      <td>8108306943</td>\n",
              "      <td>Regional/Global seabird stress</td>\n",
              "    </tr>\n",
              "    <tr>\n",
              "      <th>1</th>\n",
              "      <td>0</td>\n",
              "      <td>none</td>\n",
              "      <td>2</td>\n",
              "      <td>-</td>\n",
              "      <td>9536174384</td>\n",
              "      <td>I have to write an essay over</td>\n",
              "    </tr>\n",
              "    <tr>\n",
              "      <th>2</th>\n",
              "      <td>1</td>\n",
              "      <td>mislabeled</td>\n",
              "      <td>1</td>\n",
              "      <td>3</td>\n",
              "      <td>8645926535</td>\n",
              "      <td>Barack Obama warns climate cha</td>\n",
              "    </tr>\n",
              "    <tr>\n",
              "      <th>3</th>\n",
              "      <td>0</td>\n",
              "      <td>none</td>\n",
              "      <td>2</td>\n",
              "      <td>-</td>\n",
              "      <td>8199736905</td>\n",
              "      <td>RT @mitskileaks: want to speci</td>\n",
              "    </tr>\n",
              "    <tr>\n",
              "      <th>4</th>\n",
              "      <td>0</td>\n",
              "      <td>none</td>\n",
              "      <td>2</td>\n",
              "      <td>-</td>\n",
              "      <td>8438476460</td>\n",
              "      <td>.@RepBrianFitz Thank you for a</td>\n",
              "    </tr>\n",
              "    <tr>\n",
              "      <th>5</th>\n",
              "      <td>0</td>\n",
              "      <td>none</td>\n",
              "      <td>2</td>\n",
              "      <td>-</td>\n",
              "      <td>8182648187</td>\n",
              "      <td>RT @billmckibben: Reading clim</td>\n",
              "    </tr>\n",
              "    <tr>\n",
              "      <th>6</th>\n",
              "      <td>0</td>\n",
              "      <td>none</td>\n",
              "      <td>2</td>\n",
              "      <td>-</td>\n",
              "      <td>9556340417</td>\n",
              "      <td>RT @LanreShaper: 'Africa contr</td>\n",
              "    </tr>\n",
              "    <tr>\n",
              "      <th>7</th>\n",
              "      <td>1</td>\n",
              "      <td>mislabeled</td>\n",
              "      <td>3</td>\n",
              "      <td>1</td>\n",
              "      <td>9587601354</td>\n",
              "      <td>Keilmuan itu politik. Hawong N</td>\n",
              "    </tr>\n",
              "    <tr>\n",
              "      <th>8</th>\n",
              "      <td>0</td>\n",
              "      <td>none</td>\n",
              "      <td>2</td>\n",
              "      <td>-</td>\n",
              "      <td>8401717188</td>\n",
              "      <td>RT @WRIClimate: @CNBC He shoul</td>\n",
              "    </tr>\n",
              "    <tr>\n",
              "      <th>9</th>\n",
              "      <td>0</td>\n",
              "      <td>none</td>\n",
              "      <td>0</td>\n",
              "      <td>-</td>\n",
              "      <td>8254569694</td>\n",
              "      <td>@magslol global warming is a C</td>\n",
              "    </tr>\n",
              "    <tr>\n",
              "      <th>10</th>\n",
              "      <td>2</td>\n",
              "      <td>irrelevant</td>\n",
              "      <td>3</td>\n",
              "      <td>-</td>\n",
              "      <td>-</td>\n",
              "      <td>@chetan_bhagat And morons like</td>\n",
              "    </tr>\n",
              "    <tr>\n",
              "      <th>11</th>\n",
              "      <td>0</td>\n",
              "      <td>none</td>\n",
              "      <td>3</td>\n",
              "      <td>-</td>\n",
              "      <td>8278157032</td>\n",
              "      <td>A climate change economist sou</td>\n",
              "    </tr>\n",
              "    <tr>\n",
              "      <th>12</th>\n",
              "      <td>0</td>\n",
              "      <td>none</td>\n",
              "      <td>3</td>\n",
              "      <td>-</td>\n",
              "      <td>7328403750</td>\n",
              "      <td>RT @tveitdal: Climate change:</td>\n",
              "    </tr>\n",
              "    <tr>\n",
              "      <th>13</th>\n",
              "      <td>0</td>\n",
              "      <td>none</td>\n",
              "      <td>2</td>\n",
              "      <td>-</td>\n",
              "      <td>8496410900</td>\n",
              "      <td>Now is the time to prepare for</td>\n",
              "    </tr>\n",
              "    <tr>\n",
              "      <th>14</th>\n",
              "      <td>0</td>\n",
              "      <td>none</td>\n",
              "      <td>2</td>\n",
              "      <td>-</td>\n",
              "      <td>7597927163</td>\n",
              "      <td>GOP: Stop Denying Climate Chan</td>\n",
              "    </tr>\n",
              "  </tbody>\n",
              "</table>\n",
              "</div>"
            ],
            "text/plain": [
              "    noise  noise_text  sentiment origin(sentiment)  tweetid...  \\\n",
              "0       1  mislabeled          3                 2  8108306943   \n",
              "1       0        none          2                 -  9536174384   \n",
              "2       1  mislabeled          1                 3  8645926535   \n",
              "3       0        none          2                 -  8199736905   \n",
              "4       0        none          2                 -  8438476460   \n",
              "5       0        none          2                 -  8182648187   \n",
              "6       0        none          2                 -  9556340417   \n",
              "7       1  mislabeled          3                 1  9587601354   \n",
              "8       0        none          2                 -  8401717188   \n",
              "9       0        none          0                 -  8254569694   \n",
              "10      2  irrelevant          3                 -           -   \n",
              "11      0        none          3                 -  8278157032   \n",
              "12      0        none          3                 -  7328403750   \n",
              "13      0        none          2                 -  8496410900   \n",
              "14      0        none          2                 -  7597927163   \n",
              "\n",
              "                        message...  \n",
              "0   Regional/Global seabird stress  \n",
              "1   I have to write an essay over   \n",
              "2   Barack Obama warns climate cha  \n",
              "3   RT @mitskileaks: want to speci  \n",
              "4   .@RepBrianFitz Thank you for a  \n",
              "5   RT @billmckibben: Reading clim  \n",
              "6   RT @LanreShaper: 'Africa contr  \n",
              "7   Keilmuan itu politik. Hawong N  \n",
              "8   RT @WRIClimate: @CNBC He shoul  \n",
              "9   @magslol global warming is a C  \n",
              "10  @chetan_bhagat And morons like  \n",
              "11  A climate change economist sou  \n",
              "12  RT @tveitdal: Climate change:   \n",
              "13  Now is the time to prepare for  \n",
              "14  GOP: Stop Denying Climate Chan  "
            ]
          },
          "metadata": {},
          "output_type": "display_data"
        }
      ],
      "source": [
        "train_df = lab.dc.get_train_with_noisy_df(15000,5000)\n",
        "data_center.print_data(train_df.head(15))\n"
      ]
    },
    {
      "cell_type": "markdown",
      "metadata": {
        "pycharm": {
          "metadata": false
        }
      },
      "source": [
        "**Calculate the filename for save the lab**"
      ]
    },
    {
      "cell_type": "code",
      "execution_count": 9,
      "metadata": {
        "pycharm": {
          "metadata": false,
          "name": "#%%\n"
        }
      },
      "outputs": [],
      "source": [
        "lab_filename = Lab.get_active_experiment_name(experiment_with_denoising)\n",
        "if lab_filename is None:\n",
        "    lab_filename  = Lab.get_active_experiment_name(experiment_without_denoising)\n",
        "if lab_filename is None:\n",
        "    print(\"Nothing to do.\")\n",
        "    exit(0)\n",
        "lab_filename = \"saving/\" + lab_filename + str(noisy_train_set_sizes) + \".pk\"\n",
        "    "
      ]
    },
    {
      "cell_type": "markdown",
      "metadata": {
        "pycharm": {
          "metadata": false
        }
      },
      "source": [
        "# Run new experiments (or just review the evaluations saved by previous experiments)"
      ]
    },
    {
      "cell_type": "code",
      "execution_count": 10,
      "metadata": {
        "pycharm": {
          "metadata": false,
          "name": "#%%\n"
        }
      },
      "outputs": [
        {
          "name": "stdout",
          "output_type": "stream",
          "text": [
            "-------------- No noisy training sets ----------\n",
            "* 1> Training set size: 2000 samples\n",
            "  Sentiments ('Anti', 'Neutral', 'Pro', 'News'): 9.4%, 18.3%, 50.2%, 22.1%\n"
          ]
        },
        {
          "name": "stderr",
          "output_type": "stream",
          "text": [
            "Some layers from the model checkpoint at distilbert-base-uncased were not used when initializing TFDistilBertModel: ['vocab_transform', 'activation_13', 'vocab_layer_norm', 'vocab_projector']\n",
            "- This IS expected if you are initializing TFDistilBertModel from the checkpoint of a model trained on another task or with another architecture (e.g. initializing a BertForSequenceClassification model from a BertForPreTraining model).\n",
            "- This IS NOT expected if you are initializing TFDistilBertModel from the checkpoint of a model that you expect to be exactly identical (initializing a BertForSequenceClassification model from a BertForSequenceClassification model).\n",
            "All the layers of TFDistilBertModel were initialized from the model checkpoint at distilbert-base-uncased.\n",
            "If your task is similar to the task the model of the checkpoint was trained on, you can already use TFDistilBertModel for predictions without further training.\n",
            "  0%|          | 0/2000 [00:00<?, ?it/s]D:\\Program Files\\Anaconda3\\envs\\tfgpu\\lib\\site-packages\\transformers\\tokenization_utils_base.py:2271: FutureWarning: The `pad_to_max_length` argument is deprecated and will be removed in a future version, use `padding=True` or `padding='longest'` to pad to the longest sequence in the batch, or use `padding='max_length'` to pad to a max length. In this case, you can give a specific length with `max_length` (e.g. `max_length=45`) or leave max_length to None to pad to the maximal input size of the model (e.g. 512 for Bert).\n",
            "  warnings.warn(\n",
            "100%|██████████| 2000/2000 [00:01<00:00, 1552.05it/s]\n",
            "100%|██████████| 4000/4000 [00:02<00:00, 1644.56it/s]\n",
            "100%|██████████| 1000/1000 [00:00<00:00, 1612.25it/s]"
          ]
        },
        {
          "name": "stdout",
          "output_type": "stream",
          "text": [
            "Epoch 1/50\n"
          ]
        },
        {
          "name": "stderr",
          "output_type": "stream",
          "text": [
            "\n"
          ]
        },
        {
          "name": "stdout",
          "output_type": "stream",
          "text": [
            "125/125 [==============================] - 91s 670ms/step - loss: 1.0962 - accuracy: 0.5370 - val_loss: 0.9578 - val_accuracy: 0.5870 - lr: 1.0000e-04\n",
            "Epoch 2/50\n",
            "125/125 [==============================] - 82s 653ms/step - loss: 0.7895 - accuracy: 0.6680 - val_loss: 0.8987 - val_accuracy: 0.6480 - lr: 1.0000e-04\n",
            "Epoch 3/50\n",
            " 54/125 [===========>..................] - ETA: 39s - loss: 0.3672 - accuracy: 0.8715"
          ]
        },
        {
          "ename": "KeyboardInterrupt",
          "evalue": "",
          "output_type": "error",
          "traceback": [
            "\u001b[1;31m---------------------------------------------------------------------------\u001b[0m",
            "\u001b[1;31mKeyboardInterrupt\u001b[0m                         Traceback (most recent call last)",
            "\u001b[1;32me:\\workspace\\CS522-Project\\do.ipynb Cell 22'\u001b[0m in \u001b[0;36m<cell line: 2>\u001b[1;34m()\u001b[0m\n\u001b[0;32m      <a href='vscode-notebook-cell:/e%3A/workspace/CS522-Project/do.ipynb#ch0000021?line=6'>7</a>\u001b[0m lab\u001b[39m.\u001b[39mset_experiment_with_denoising(experiment_with_denoising)\n\u001b[0;32m      <a href='vscode-notebook-cell:/e%3A/workspace/CS522-Project/do.ipynb#ch0000021?line=8'>9</a>\u001b[0m \u001b[39mprint\u001b[39m(\u001b[39m\"\u001b[39m\u001b[39m-------------- No noisy training sets ----------\u001b[39m\u001b[39m\"\u001b[39m)\n\u001b[1;32m---> <a href='vscode-notebook-cell:/e%3A/workspace/CS522-Project/do.ipynb#ch0000021?line=9'>10</a>\u001b[0m lab\u001b[39m.\u001b[39;49mdo_batch_experiments(origin_train_set_sizes)\n\u001b[0;32m     <a href='vscode-notebook-cell:/e%3A/workspace/CS522-Project/do.ipynb#ch0000021?line=11'>12</a>\u001b[0m \u001b[39mprint\u001b[39m(\u001b[39m\"\u001b[39m\u001b[39m-------------- Noisy training sets -------------\u001b[39m\u001b[39m\"\u001b[39m)\n\u001b[0;32m     <a href='vscode-notebook-cell:/e%3A/workspace/CS522-Project/do.ipynb#ch0000021?line=12'>13</a>\u001b[0m lab\u001b[39m.\u001b[39mdo_batch_experiments(noisy_train_set_sizes)\n",
            "File \u001b[1;32me:\\workspace\\CS522-Project\\Common\\UtilFuncs.py:234\u001b[0m, in \u001b[0;36mLab.do_batch_experiments\u001b[1;34m(self, train_set_sizes)\u001b[0m\n\u001b[0;32m    <a href='file:///e%3A/workspace/CS522-Project/Common/UtilFuncs.py?line=231'>232</a>\u001b[0m \u001b[39m# Do an experiment\u001b[39;00m\n\u001b[0;32m    <a href='file:///e%3A/workspace/CS522-Project/Common/UtilFuncs.py?line=232'>233</a>\u001b[0m \u001b[39mif\u001b[39;00m \u001b[39mself\u001b[39m\u001b[39m.\u001b[39mexperiment_params \u001b[39mis\u001b[39;00m \u001b[39mnot\u001b[39;00m \u001b[39mNone\u001b[39;00m:\n\u001b[1;32m--> <a href='file:///e%3A/workspace/CS522-Project/Common/UtilFuncs.py?line=233'>234</a>\u001b[0m     dfResult \u001b[39m=\u001b[39m \u001b[39mself\u001b[39;49m\u001b[39m.\u001b[39;49mexperiment(train_df, test_df, \u001b[39m*\u001b[39;49m\u001b[39mself\u001b[39;49m\u001b[39m.\u001b[39;49mexperiment_params)\n\u001b[0;32m    <a href='file:///e%3A/workspace/CS522-Project/Common/UtilFuncs.py?line=234'>235</a>\u001b[0m \u001b[39melse\u001b[39;00m:\n\u001b[0;32m    <a href='file:///e%3A/workspace/CS522-Project/Common/UtilFuncs.py?line=235'>236</a>\u001b[0m     dfResult \u001b[39m=\u001b[39m \u001b[39mself\u001b[39m\u001b[39m.\u001b[39mexperiment(train_df, test_df)\n",
            "File \u001b[1;32me:\\workspace\\CS522-Project\\Common\\BERTModel.py:146\u001b[0m, in \u001b[0;36mdo_experiment_BERT\u001b[1;34m(train_df, test_df, *args)\u001b[0m\n\u001b[0;32m    <a href='file:///e%3A/workspace/CS522-Project/Common/BERTModel.py?line=140'>141</a>\u001b[0m y_val \u001b[39m=\u001b[39m np\u001b[39m.\u001b[39marray(y_val)\n\u001b[0;32m    <a href='file:///e%3A/workspace/CS522-Project/Common/BERTModel.py?line=141'>142</a>\u001b[0m y_test \u001b[39m=\u001b[39m np\u001b[39m.\u001b[39marray(y_test)\n\u001b[1;32m--> <a href='file:///e%3A/workspace/CS522-Project/Common/BERTModel.py?line=145'>146</a>\u001b[0m bert\u001b[39m.\u001b[39;49mTrain(X_train_token, y_train, X_val_token, y_val)\n\u001b[0;32m    <a href='file:///e%3A/workspace/CS522-Project/Common/BERTModel.py?line=146'>147</a>\u001b[0m y_pred \u001b[39m=\u001b[39m bert\u001b[39m.\u001b[39mPredict(X_test_token)\n\u001b[0;32m    <a href='file:///e%3A/workspace/CS522-Project/Common/BERTModel.py?line=149'>150</a>\u001b[0m \u001b[39m# Print the evaluation\u001b[39;00m\n",
            "File \u001b[1;32me:\\workspace\\CS522-Project\\Common\\BERTModel.py:85\u001b[0m, in \u001b[0;36mBERTModel.Train\u001b[1;34m(self, X_train, y_train, X_val, y_val)\u001b[0m\n\u001b[0;32m     <a href='file:///e%3A/workspace/CS522-Project/Common/BERTModel.py?line=83'>84</a>\u001b[0m \u001b[39mdef\u001b[39;00m \u001b[39mTrain\u001b[39m(\u001b[39mself\u001b[39m, X_train, y_train, X_val, y_val):\n\u001b[1;32m---> <a href='file:///e%3A/workspace/CS522-Project/Common/BERTModel.py?line=84'>85</a>\u001b[0m     history \u001b[39m=\u001b[39m \u001b[39mself\u001b[39;49m\u001b[39m.\u001b[39;49mModel\u001b[39m.\u001b[39;49mfit(X_train,\n\u001b[0;32m     <a href='file:///e%3A/workspace/CS522-Project/Common/BERTModel.py?line=85'>86</a>\u001b[0m                 y_train,\n\u001b[0;32m     <a href='file:///e%3A/workspace/CS522-Project/Common/BERTModel.py?line=86'>87</a>\u001b[0m                 epochs\u001b[39m=\u001b[39;49m\u001b[39m50\u001b[39;49m,\n\u001b[0;32m     <a href='file:///e%3A/workspace/CS522-Project/Common/BERTModel.py?line=87'>88</a>\u001b[0m                 batch_size\u001b[39m=\u001b[39;49m\u001b[39m16\u001b[39;49m,\n\u001b[0;32m     <a href='file:///e%3A/workspace/CS522-Project/Common/BERTModel.py?line=88'>89</a>\u001b[0m                 validation_data\u001b[39m=\u001b[39;49m(X_val, y_val),\n\u001b[0;32m     <a href='file:///e%3A/workspace/CS522-Project/Common/BERTModel.py?line=89'>90</a>\u001b[0m                 callbacks\u001b[39m=\u001b[39;49m[\u001b[39mself\u001b[39;49m\u001b[39m.\u001b[39;49mmodel_checkpoint, \u001b[39mself\u001b[39;49m\u001b[39m.\u001b[39;49mearly_stopping, \u001b[39mself\u001b[39;49m\u001b[39m.\u001b[39;49mreduce_lr])\n\u001b[0;32m     <a href='file:///e%3A/workspace/CS522-Project/Common/BERTModel.py?line=90'>91</a>\u001b[0m     \u001b[39mself\u001b[39m\u001b[39m.\u001b[39mHistory \u001b[39m=\u001b[39m history\n\u001b[0;32m     <a href='file:///e%3A/workspace/CS522-Project/Common/BERTModel.py?line=91'>92</a>\u001b[0m     \u001b[39m# load the best model\u001b[39;00m\n",
            "File \u001b[1;32mD:\\Program Files\\Anaconda3\\envs\\tfgpu\\lib\\site-packages\\keras\\utils\\traceback_utils.py:64\u001b[0m, in \u001b[0;36mfilter_traceback.<locals>.error_handler\u001b[1;34m(*args, **kwargs)\u001b[0m\n\u001b[0;32m     <a href='file:///d%3A/Program%20Files/Anaconda3/envs/tfgpu/lib/site-packages/keras/utils/traceback_utils.py?line=61'>62</a>\u001b[0m filtered_tb \u001b[39m=\u001b[39m \u001b[39mNone\u001b[39;00m\n\u001b[0;32m     <a href='file:///d%3A/Program%20Files/Anaconda3/envs/tfgpu/lib/site-packages/keras/utils/traceback_utils.py?line=62'>63</a>\u001b[0m \u001b[39mtry\u001b[39;00m:\n\u001b[1;32m---> <a href='file:///d%3A/Program%20Files/Anaconda3/envs/tfgpu/lib/site-packages/keras/utils/traceback_utils.py?line=63'>64</a>\u001b[0m   \u001b[39mreturn\u001b[39;00m fn(\u001b[39m*\u001b[39;49margs, \u001b[39m*\u001b[39;49m\u001b[39m*\u001b[39;49mkwargs)\n\u001b[0;32m     <a href='file:///d%3A/Program%20Files/Anaconda3/envs/tfgpu/lib/site-packages/keras/utils/traceback_utils.py?line=64'>65</a>\u001b[0m \u001b[39mexcept\u001b[39;00m \u001b[39mException\u001b[39;00m \u001b[39mas\u001b[39;00m e:  \u001b[39m# pylint: disable=broad-except\u001b[39;00m\n\u001b[0;32m     <a href='file:///d%3A/Program%20Files/Anaconda3/envs/tfgpu/lib/site-packages/keras/utils/traceback_utils.py?line=65'>66</a>\u001b[0m   filtered_tb \u001b[39m=\u001b[39m _process_traceback_frames(e\u001b[39m.\u001b[39m__traceback__)\n",
            "File \u001b[1;32mD:\\Program Files\\Anaconda3\\envs\\tfgpu\\lib\\site-packages\\keras\\engine\\training.py:1389\u001b[0m, in \u001b[0;36mModel.fit\u001b[1;34m(self, x, y, batch_size, epochs, verbose, callbacks, validation_split, validation_data, shuffle, class_weight, sample_weight, initial_epoch, steps_per_epoch, validation_steps, validation_batch_size, validation_freq, max_queue_size, workers, use_multiprocessing)\u001b[0m\n\u001b[0;32m   <a href='file:///d%3A/Program%20Files/Anaconda3/envs/tfgpu/lib/site-packages/keras/engine/training.py?line=1386'>1387</a>\u001b[0m logs \u001b[39m=\u001b[39m tmp_logs  \u001b[39m# No error, now safe to assign to logs.\u001b[39;00m\n\u001b[0;32m   <a href='file:///d%3A/Program%20Files/Anaconda3/envs/tfgpu/lib/site-packages/keras/engine/training.py?line=1387'>1388</a>\u001b[0m end_step \u001b[39m=\u001b[39m step \u001b[39m+\u001b[39m data_handler\u001b[39m.\u001b[39mstep_increment\n\u001b[1;32m-> <a href='file:///d%3A/Program%20Files/Anaconda3/envs/tfgpu/lib/site-packages/keras/engine/training.py?line=1388'>1389</a>\u001b[0m callbacks\u001b[39m.\u001b[39;49mon_train_batch_end(end_step, logs)\n\u001b[0;32m   <a href='file:///d%3A/Program%20Files/Anaconda3/envs/tfgpu/lib/site-packages/keras/engine/training.py?line=1389'>1390</a>\u001b[0m \u001b[39mif\u001b[39;00m \u001b[39mself\u001b[39m\u001b[39m.\u001b[39mstop_training:\n\u001b[0;32m   <a href='file:///d%3A/Program%20Files/Anaconda3/envs/tfgpu/lib/site-packages/keras/engine/training.py?line=1390'>1391</a>\u001b[0m   \u001b[39mbreak\u001b[39;00m\n",
            "File \u001b[1;32mD:\\Program Files\\Anaconda3\\envs\\tfgpu\\lib\\site-packages\\keras\\callbacks.py:438\u001b[0m, in \u001b[0;36mCallbackList.on_train_batch_end\u001b[1;34m(self, batch, logs)\u001b[0m\n\u001b[0;32m    <a href='file:///d%3A/Program%20Files/Anaconda3/envs/tfgpu/lib/site-packages/keras/callbacks.py?line=430'>431</a>\u001b[0m \u001b[39m\"\"\"Calls the `on_train_batch_end` methods of its callbacks.\u001b[39;00m\n\u001b[0;32m    <a href='file:///d%3A/Program%20Files/Anaconda3/envs/tfgpu/lib/site-packages/keras/callbacks.py?line=431'>432</a>\u001b[0m \n\u001b[0;32m    <a href='file:///d%3A/Program%20Files/Anaconda3/envs/tfgpu/lib/site-packages/keras/callbacks.py?line=432'>433</a>\u001b[0m \u001b[39mArgs:\u001b[39;00m\n\u001b[0;32m    <a href='file:///d%3A/Program%20Files/Anaconda3/envs/tfgpu/lib/site-packages/keras/callbacks.py?line=433'>434</a>\u001b[0m \u001b[39m    batch: Integer, index of batch within the current epoch.\u001b[39;00m\n\u001b[0;32m    <a href='file:///d%3A/Program%20Files/Anaconda3/envs/tfgpu/lib/site-packages/keras/callbacks.py?line=434'>435</a>\u001b[0m \u001b[39m    logs: Dict. Aggregated metric results up until this batch.\u001b[39;00m\n\u001b[0;32m    <a href='file:///d%3A/Program%20Files/Anaconda3/envs/tfgpu/lib/site-packages/keras/callbacks.py?line=435'>436</a>\u001b[0m \u001b[39m\"\"\"\u001b[39;00m\n\u001b[0;32m    <a href='file:///d%3A/Program%20Files/Anaconda3/envs/tfgpu/lib/site-packages/keras/callbacks.py?line=436'>437</a>\u001b[0m \u001b[39mif\u001b[39;00m \u001b[39mself\u001b[39m\u001b[39m.\u001b[39m_should_call_train_batch_hooks:\n\u001b[1;32m--> <a href='file:///d%3A/Program%20Files/Anaconda3/envs/tfgpu/lib/site-packages/keras/callbacks.py?line=437'>438</a>\u001b[0m   \u001b[39mself\u001b[39;49m\u001b[39m.\u001b[39;49m_call_batch_hook(ModeKeys\u001b[39m.\u001b[39;49mTRAIN, \u001b[39m'\u001b[39;49m\u001b[39mend\u001b[39;49m\u001b[39m'\u001b[39;49m, batch, logs\u001b[39m=\u001b[39;49mlogs)\n",
            "File \u001b[1;32mD:\\Program Files\\Anaconda3\\envs\\tfgpu\\lib\\site-packages\\keras\\callbacks.py:297\u001b[0m, in \u001b[0;36mCallbackList._call_batch_hook\u001b[1;34m(self, mode, hook, batch, logs)\u001b[0m\n\u001b[0;32m    <a href='file:///d%3A/Program%20Files/Anaconda3/envs/tfgpu/lib/site-packages/keras/callbacks.py?line=294'>295</a>\u001b[0m   \u001b[39mself\u001b[39m\u001b[39m.\u001b[39m_call_batch_begin_hook(mode, batch, logs)\n\u001b[0;32m    <a href='file:///d%3A/Program%20Files/Anaconda3/envs/tfgpu/lib/site-packages/keras/callbacks.py?line=295'>296</a>\u001b[0m \u001b[39melif\u001b[39;00m hook \u001b[39m==\u001b[39m \u001b[39m'\u001b[39m\u001b[39mend\u001b[39m\u001b[39m'\u001b[39m:\n\u001b[1;32m--> <a href='file:///d%3A/Program%20Files/Anaconda3/envs/tfgpu/lib/site-packages/keras/callbacks.py?line=296'>297</a>\u001b[0m   \u001b[39mself\u001b[39;49m\u001b[39m.\u001b[39;49m_call_batch_end_hook(mode, batch, logs)\n\u001b[0;32m    <a href='file:///d%3A/Program%20Files/Anaconda3/envs/tfgpu/lib/site-packages/keras/callbacks.py?line=297'>298</a>\u001b[0m \u001b[39melse\u001b[39;00m:\n\u001b[0;32m    <a href='file:///d%3A/Program%20Files/Anaconda3/envs/tfgpu/lib/site-packages/keras/callbacks.py?line=298'>299</a>\u001b[0m   \u001b[39mraise\u001b[39;00m \u001b[39mValueError\u001b[39;00m(\n\u001b[0;32m    <a href='file:///d%3A/Program%20Files/Anaconda3/envs/tfgpu/lib/site-packages/keras/callbacks.py?line=299'>300</a>\u001b[0m       \u001b[39mf\u001b[39m\u001b[39m'\u001b[39m\u001b[39mUnrecognized hook: \u001b[39m\u001b[39m{\u001b[39;00mhook\u001b[39m}\u001b[39;00m\u001b[39m. Expected values are [\u001b[39m\u001b[39m\"\u001b[39m\u001b[39mbegin\u001b[39m\u001b[39m\"\u001b[39m\u001b[39m, \u001b[39m\u001b[39m\"\u001b[39m\u001b[39mend\u001b[39m\u001b[39m\"\u001b[39m\u001b[39m]\u001b[39m\u001b[39m'\u001b[39m)\n",
            "File \u001b[1;32mD:\\Program Files\\Anaconda3\\envs\\tfgpu\\lib\\site-packages\\keras\\callbacks.py:318\u001b[0m, in \u001b[0;36mCallbackList._call_batch_end_hook\u001b[1;34m(self, mode, batch, logs)\u001b[0m\n\u001b[0;32m    <a href='file:///d%3A/Program%20Files/Anaconda3/envs/tfgpu/lib/site-packages/keras/callbacks.py?line=314'>315</a>\u001b[0m   batch_time \u001b[39m=\u001b[39m time\u001b[39m.\u001b[39mtime() \u001b[39m-\u001b[39m \u001b[39mself\u001b[39m\u001b[39m.\u001b[39m_batch_start_time\n\u001b[0;32m    <a href='file:///d%3A/Program%20Files/Anaconda3/envs/tfgpu/lib/site-packages/keras/callbacks.py?line=315'>316</a>\u001b[0m   \u001b[39mself\u001b[39m\u001b[39m.\u001b[39m_batch_times\u001b[39m.\u001b[39mappend(batch_time)\n\u001b[1;32m--> <a href='file:///d%3A/Program%20Files/Anaconda3/envs/tfgpu/lib/site-packages/keras/callbacks.py?line=317'>318</a>\u001b[0m \u001b[39mself\u001b[39;49m\u001b[39m.\u001b[39;49m_call_batch_hook_helper(hook_name, batch, logs)\n\u001b[0;32m    <a href='file:///d%3A/Program%20Files/Anaconda3/envs/tfgpu/lib/site-packages/keras/callbacks.py?line=319'>320</a>\u001b[0m \u001b[39mif\u001b[39;00m \u001b[39mlen\u001b[39m(\u001b[39mself\u001b[39m\u001b[39m.\u001b[39m_batch_times) \u001b[39m>\u001b[39m\u001b[39m=\u001b[39m \u001b[39mself\u001b[39m\u001b[39m.\u001b[39m_num_batches_for_timing_check:\n\u001b[0;32m    <a href='file:///d%3A/Program%20Files/Anaconda3/envs/tfgpu/lib/site-packages/keras/callbacks.py?line=320'>321</a>\u001b[0m   end_hook_name \u001b[39m=\u001b[39m hook_name\n",
            "File \u001b[1;32mD:\\Program Files\\Anaconda3\\envs\\tfgpu\\lib\\site-packages\\keras\\callbacks.py:356\u001b[0m, in \u001b[0;36mCallbackList._call_batch_hook_helper\u001b[1;34m(self, hook_name, batch, logs)\u001b[0m\n\u001b[0;32m    <a href='file:///d%3A/Program%20Files/Anaconda3/envs/tfgpu/lib/site-packages/keras/callbacks.py?line=353'>354</a>\u001b[0m \u001b[39mfor\u001b[39;00m callback \u001b[39min\u001b[39;00m \u001b[39mself\u001b[39m\u001b[39m.\u001b[39mcallbacks:\n\u001b[0;32m    <a href='file:///d%3A/Program%20Files/Anaconda3/envs/tfgpu/lib/site-packages/keras/callbacks.py?line=354'>355</a>\u001b[0m   hook \u001b[39m=\u001b[39m \u001b[39mgetattr\u001b[39m(callback, hook_name)\n\u001b[1;32m--> <a href='file:///d%3A/Program%20Files/Anaconda3/envs/tfgpu/lib/site-packages/keras/callbacks.py?line=355'>356</a>\u001b[0m   hook(batch, logs)\n\u001b[0;32m    <a href='file:///d%3A/Program%20Files/Anaconda3/envs/tfgpu/lib/site-packages/keras/callbacks.py?line=357'>358</a>\u001b[0m \u001b[39mif\u001b[39;00m \u001b[39mself\u001b[39m\u001b[39m.\u001b[39m_check_timing:\n\u001b[0;32m    <a href='file:///d%3A/Program%20Files/Anaconda3/envs/tfgpu/lib/site-packages/keras/callbacks.py?line=358'>359</a>\u001b[0m   \u001b[39mif\u001b[39;00m hook_name \u001b[39mnot\u001b[39;00m \u001b[39min\u001b[39;00m \u001b[39mself\u001b[39m\u001b[39m.\u001b[39m_hook_times:\n",
            "File \u001b[1;32mD:\\Program Files\\Anaconda3\\envs\\tfgpu\\lib\\site-packages\\keras\\callbacks.py:1034\u001b[0m, in \u001b[0;36mProgbarLogger.on_train_batch_end\u001b[1;34m(self, batch, logs)\u001b[0m\n\u001b[0;32m   <a href='file:///d%3A/Program%20Files/Anaconda3/envs/tfgpu/lib/site-packages/keras/callbacks.py?line=1032'>1033</a>\u001b[0m \u001b[39mdef\u001b[39;00m \u001b[39mon_train_batch_end\u001b[39m(\u001b[39mself\u001b[39m, batch, logs\u001b[39m=\u001b[39m\u001b[39mNone\u001b[39;00m):\n\u001b[1;32m-> <a href='file:///d%3A/Program%20Files/Anaconda3/envs/tfgpu/lib/site-packages/keras/callbacks.py?line=1033'>1034</a>\u001b[0m   \u001b[39mself\u001b[39;49m\u001b[39m.\u001b[39;49m_batch_update_progbar(batch, logs)\n",
            "File \u001b[1;32mD:\\Program Files\\Anaconda3\\envs\\tfgpu\\lib\\site-packages\\keras\\callbacks.py:1106\u001b[0m, in \u001b[0;36mProgbarLogger._batch_update_progbar\u001b[1;34m(self, batch, logs)\u001b[0m\n\u001b[0;32m   <a href='file:///d%3A/Program%20Files/Anaconda3/envs/tfgpu/lib/site-packages/keras/callbacks.py?line=1101'>1102</a>\u001b[0m   \u001b[39mself\u001b[39m\u001b[39m.\u001b[39mseen \u001b[39m+\u001b[39m\u001b[39m=\u001b[39m add_seen\n\u001b[0;32m   <a href='file:///d%3A/Program%20Files/Anaconda3/envs/tfgpu/lib/site-packages/keras/callbacks.py?line=1103'>1104</a>\u001b[0m \u001b[39mif\u001b[39;00m \u001b[39mself\u001b[39m\u001b[39m.\u001b[39mverbose \u001b[39m==\u001b[39m \u001b[39m1\u001b[39m:\n\u001b[0;32m   <a href='file:///d%3A/Program%20Files/Anaconda3/envs/tfgpu/lib/site-packages/keras/callbacks.py?line=1104'>1105</a>\u001b[0m   \u001b[39m# Only block async when verbose = 1.\u001b[39;00m\n\u001b[1;32m-> <a href='file:///d%3A/Program%20Files/Anaconda3/envs/tfgpu/lib/site-packages/keras/callbacks.py?line=1105'>1106</a>\u001b[0m   logs \u001b[39m=\u001b[39m tf_utils\u001b[39m.\u001b[39;49msync_to_numpy_or_python_type(logs)\n\u001b[0;32m   <a href='file:///d%3A/Program%20Files/Anaconda3/envs/tfgpu/lib/site-packages/keras/callbacks.py?line=1106'>1107</a>\u001b[0m   \u001b[39mself\u001b[39m\u001b[39m.\u001b[39mprogbar\u001b[39m.\u001b[39mupdate(\u001b[39mself\u001b[39m\u001b[39m.\u001b[39mseen, \u001b[39mlist\u001b[39m(logs\u001b[39m.\u001b[39mitems()), finalize\u001b[39m=\u001b[39m\u001b[39mFalse\u001b[39;00m)\n",
            "File \u001b[1;32mD:\\Program Files\\Anaconda3\\envs\\tfgpu\\lib\\site-packages\\keras\\utils\\tf_utils.py:563\u001b[0m, in \u001b[0;36msync_to_numpy_or_python_type\u001b[1;34m(tensors)\u001b[0m\n\u001b[0;32m    <a href='file:///d%3A/Program%20Files/Anaconda3/envs/tfgpu/lib/site-packages/keras/utils/tf_utils.py?line=559'>560</a>\u001b[0m     \u001b[39mreturn\u001b[39;00m t\n\u001b[0;32m    <a href='file:///d%3A/Program%20Files/Anaconda3/envs/tfgpu/lib/site-packages/keras/utils/tf_utils.py?line=560'>561</a>\u001b[0m   \u001b[39mreturn\u001b[39;00m t\u001b[39m.\u001b[39mitem() \u001b[39mif\u001b[39;00m np\u001b[39m.\u001b[39mndim(t) \u001b[39m==\u001b[39m \u001b[39m0\u001b[39m \u001b[39melse\u001b[39;00m t\n\u001b[1;32m--> <a href='file:///d%3A/Program%20Files/Anaconda3/envs/tfgpu/lib/site-packages/keras/utils/tf_utils.py?line=562'>563</a>\u001b[0m \u001b[39mreturn\u001b[39;00m tf\u001b[39m.\u001b[39;49mnest\u001b[39m.\u001b[39;49mmap_structure(_to_single_numpy_or_python_type, tensors)\n",
            "File \u001b[1;32mD:\\Program Files\\Anaconda3\\envs\\tfgpu\\lib\\site-packages\\tensorflow\\python\\util\\nest.py:914\u001b[0m, in \u001b[0;36mmap_structure\u001b[1;34m(func, *structure, **kwargs)\u001b[0m\n\u001b[0;32m    <a href='file:///d%3A/Program%20Files/Anaconda3/envs/tfgpu/lib/site-packages/tensorflow/python/util/nest.py?line=909'>910</a>\u001b[0m flat_structure \u001b[39m=\u001b[39m (flatten(s, expand_composites) \u001b[39mfor\u001b[39;00m s \u001b[39min\u001b[39;00m structure)\n\u001b[0;32m    <a href='file:///d%3A/Program%20Files/Anaconda3/envs/tfgpu/lib/site-packages/tensorflow/python/util/nest.py?line=910'>911</a>\u001b[0m entries \u001b[39m=\u001b[39m \u001b[39mzip\u001b[39m(\u001b[39m*\u001b[39mflat_structure)\n\u001b[0;32m    <a href='file:///d%3A/Program%20Files/Anaconda3/envs/tfgpu/lib/site-packages/tensorflow/python/util/nest.py?line=912'>913</a>\u001b[0m \u001b[39mreturn\u001b[39;00m pack_sequence_as(\n\u001b[1;32m--> <a href='file:///d%3A/Program%20Files/Anaconda3/envs/tfgpu/lib/site-packages/tensorflow/python/util/nest.py?line=913'>914</a>\u001b[0m     structure[\u001b[39m0\u001b[39m], [func(\u001b[39m*\u001b[39mx) \u001b[39mfor\u001b[39;00m x \u001b[39min\u001b[39;00m entries],\n\u001b[0;32m    <a href='file:///d%3A/Program%20Files/Anaconda3/envs/tfgpu/lib/site-packages/tensorflow/python/util/nest.py?line=914'>915</a>\u001b[0m     expand_composites\u001b[39m=\u001b[39mexpand_composites)\n",
            "File \u001b[1;32mD:\\Program Files\\Anaconda3\\envs\\tfgpu\\lib\\site-packages\\tensorflow\\python\\util\\nest.py:914\u001b[0m, in \u001b[0;36m<listcomp>\u001b[1;34m(.0)\u001b[0m\n\u001b[0;32m    <a href='file:///d%3A/Program%20Files/Anaconda3/envs/tfgpu/lib/site-packages/tensorflow/python/util/nest.py?line=909'>910</a>\u001b[0m flat_structure \u001b[39m=\u001b[39m (flatten(s, expand_composites) \u001b[39mfor\u001b[39;00m s \u001b[39min\u001b[39;00m structure)\n\u001b[0;32m    <a href='file:///d%3A/Program%20Files/Anaconda3/envs/tfgpu/lib/site-packages/tensorflow/python/util/nest.py?line=910'>911</a>\u001b[0m entries \u001b[39m=\u001b[39m \u001b[39mzip\u001b[39m(\u001b[39m*\u001b[39mflat_structure)\n\u001b[0;32m    <a href='file:///d%3A/Program%20Files/Anaconda3/envs/tfgpu/lib/site-packages/tensorflow/python/util/nest.py?line=912'>913</a>\u001b[0m \u001b[39mreturn\u001b[39;00m pack_sequence_as(\n\u001b[1;32m--> <a href='file:///d%3A/Program%20Files/Anaconda3/envs/tfgpu/lib/site-packages/tensorflow/python/util/nest.py?line=913'>914</a>\u001b[0m     structure[\u001b[39m0\u001b[39m], [func(\u001b[39m*\u001b[39;49mx) \u001b[39mfor\u001b[39;00m x \u001b[39min\u001b[39;00m entries],\n\u001b[0;32m    <a href='file:///d%3A/Program%20Files/Anaconda3/envs/tfgpu/lib/site-packages/tensorflow/python/util/nest.py?line=914'>915</a>\u001b[0m     expand_composites\u001b[39m=\u001b[39mexpand_composites)\n",
            "File \u001b[1;32mD:\\Program Files\\Anaconda3\\envs\\tfgpu\\lib\\site-packages\\keras\\utils\\tf_utils.py:557\u001b[0m, in \u001b[0;36msync_to_numpy_or_python_type.<locals>._to_single_numpy_or_python_type\u001b[1;34m(t)\u001b[0m\n\u001b[0;32m    <a href='file:///d%3A/Program%20Files/Anaconda3/envs/tfgpu/lib/site-packages/keras/utils/tf_utils.py?line=553'>554</a>\u001b[0m \u001b[39mdef\u001b[39;00m \u001b[39m_to_single_numpy_or_python_type\u001b[39m(t):\n\u001b[0;32m    <a href='file:///d%3A/Program%20Files/Anaconda3/envs/tfgpu/lib/site-packages/keras/utils/tf_utils.py?line=554'>555</a>\u001b[0m   \u001b[39m# Don't turn ragged or sparse tensors to NumPy.\u001b[39;00m\n\u001b[0;32m    <a href='file:///d%3A/Program%20Files/Anaconda3/envs/tfgpu/lib/site-packages/keras/utils/tf_utils.py?line=555'>556</a>\u001b[0m   \u001b[39mif\u001b[39;00m \u001b[39misinstance\u001b[39m(t, tf\u001b[39m.\u001b[39mTensor):\n\u001b[1;32m--> <a href='file:///d%3A/Program%20Files/Anaconda3/envs/tfgpu/lib/site-packages/keras/utils/tf_utils.py?line=556'>557</a>\u001b[0m     t \u001b[39m=\u001b[39m t\u001b[39m.\u001b[39;49mnumpy()\n\u001b[0;32m    <a href='file:///d%3A/Program%20Files/Anaconda3/envs/tfgpu/lib/site-packages/keras/utils/tf_utils.py?line=557'>558</a>\u001b[0m   \u001b[39m# Strings, ragged and sparse tensors don't have .item(). Return them as-is.\u001b[39;00m\n\u001b[0;32m    <a href='file:///d%3A/Program%20Files/Anaconda3/envs/tfgpu/lib/site-packages/keras/utils/tf_utils.py?line=558'>559</a>\u001b[0m   \u001b[39mif\u001b[39;00m \u001b[39mnot\u001b[39;00m \u001b[39misinstance\u001b[39m(t, (np\u001b[39m.\u001b[39mndarray, np\u001b[39m.\u001b[39mgeneric)):\n",
            "File \u001b[1;32mD:\\Program Files\\Anaconda3\\envs\\tfgpu\\lib\\site-packages\\tensorflow\\python\\framework\\ops.py:1223\u001b[0m, in \u001b[0;36m_EagerTensorBase.numpy\u001b[1;34m(self)\u001b[0m\n\u001b[0;32m   <a href='file:///d%3A/Program%20Files/Anaconda3/envs/tfgpu/lib/site-packages/tensorflow/python/framework/ops.py?line=1199'>1200</a>\u001b[0m \u001b[39m\"\"\"Copy of the contents of this Tensor into a NumPy array or scalar.\u001b[39;00m\n\u001b[0;32m   <a href='file:///d%3A/Program%20Files/Anaconda3/envs/tfgpu/lib/site-packages/tensorflow/python/framework/ops.py?line=1200'>1201</a>\u001b[0m \n\u001b[0;32m   <a href='file:///d%3A/Program%20Files/Anaconda3/envs/tfgpu/lib/site-packages/tensorflow/python/framework/ops.py?line=1201'>1202</a>\u001b[0m \u001b[39mUnlike NumPy arrays, Tensors are immutable, so this method has to copy\u001b[39;00m\n\u001b[1;32m   (...)\u001b[0m\n\u001b[0;32m   <a href='file:///d%3A/Program%20Files/Anaconda3/envs/tfgpu/lib/site-packages/tensorflow/python/framework/ops.py?line=1219'>1220</a>\u001b[0m \u001b[39m    NumPy dtype.\u001b[39;00m\n\u001b[0;32m   <a href='file:///d%3A/Program%20Files/Anaconda3/envs/tfgpu/lib/site-packages/tensorflow/python/framework/ops.py?line=1220'>1221</a>\u001b[0m \u001b[39m\"\"\"\u001b[39;00m\n\u001b[0;32m   <a href='file:///d%3A/Program%20Files/Anaconda3/envs/tfgpu/lib/site-packages/tensorflow/python/framework/ops.py?line=1221'>1222</a>\u001b[0m \u001b[39m# TODO(slebedev): Consider avoiding a copy for non-CPU or remote tensors.\u001b[39;00m\n\u001b[1;32m-> <a href='file:///d%3A/Program%20Files/Anaconda3/envs/tfgpu/lib/site-packages/tensorflow/python/framework/ops.py?line=1222'>1223</a>\u001b[0m maybe_arr \u001b[39m=\u001b[39m \u001b[39mself\u001b[39;49m\u001b[39m.\u001b[39;49m_numpy()  \u001b[39m# pylint: disable=protected-access\u001b[39;00m\n\u001b[0;32m   <a href='file:///d%3A/Program%20Files/Anaconda3/envs/tfgpu/lib/site-packages/tensorflow/python/framework/ops.py?line=1223'>1224</a>\u001b[0m \u001b[39mreturn\u001b[39;00m maybe_arr\u001b[39m.\u001b[39mcopy() \u001b[39mif\u001b[39;00m \u001b[39misinstance\u001b[39m(maybe_arr, np\u001b[39m.\u001b[39mndarray) \u001b[39melse\u001b[39;00m maybe_arr\n",
            "File \u001b[1;32mD:\\Program Files\\Anaconda3\\envs\\tfgpu\\lib\\site-packages\\tensorflow\\python\\framework\\ops.py:1189\u001b[0m, in \u001b[0;36m_EagerTensorBase._numpy\u001b[1;34m(self)\u001b[0m\n\u001b[0;32m   <a href='file:///d%3A/Program%20Files/Anaconda3/envs/tfgpu/lib/site-packages/tensorflow/python/framework/ops.py?line=1186'>1187</a>\u001b[0m \u001b[39mdef\u001b[39;00m \u001b[39m_numpy\u001b[39m(\u001b[39mself\u001b[39m):\n\u001b[0;32m   <a href='file:///d%3A/Program%20Files/Anaconda3/envs/tfgpu/lib/site-packages/tensorflow/python/framework/ops.py?line=1187'>1188</a>\u001b[0m   \u001b[39mtry\u001b[39;00m:\n\u001b[1;32m-> <a href='file:///d%3A/Program%20Files/Anaconda3/envs/tfgpu/lib/site-packages/tensorflow/python/framework/ops.py?line=1188'>1189</a>\u001b[0m     \u001b[39mreturn\u001b[39;00m \u001b[39mself\u001b[39;49m\u001b[39m.\u001b[39;49m_numpy_internal()\n\u001b[0;32m   <a href='file:///d%3A/Program%20Files/Anaconda3/envs/tfgpu/lib/site-packages/tensorflow/python/framework/ops.py?line=1189'>1190</a>\u001b[0m   \u001b[39mexcept\u001b[39;00m core\u001b[39m.\u001b[39m_NotOkStatusException \u001b[39mas\u001b[39;00m e:  \u001b[39m# pylint: disable=protected-access\u001b[39;00m\n\u001b[0;32m   <a href='file:///d%3A/Program%20Files/Anaconda3/envs/tfgpu/lib/site-packages/tensorflow/python/framework/ops.py?line=1190'>1191</a>\u001b[0m     \u001b[39mraise\u001b[39;00m core\u001b[39m.\u001b[39m_status_to_exception(e) \u001b[39mfrom\u001b[39;00m \u001b[39mNone\u001b[39m\n",
            "\u001b[1;31mKeyboardInterrupt\u001b[0m: "
          ]
        }
      ],
      "source": [
        "RUN = 1\n",
        "if RUN:     # Run new experiments\n",
        "    # Set the function to classify data without denoising\n",
        "    lab.set_experiment_no_denoising(experiment_without_denoising)\n",
        "\n",
        "    # Set the function to classify data with denoising\n",
        "    lab.set_experiment_with_denoising(experiment_with_denoising)\n",
        "\n",
        "    print(\"-------------- No noisy training sets ----------\")\n",
        "    lab.do_batch_experiments(origin_train_set_sizes)\n",
        "\n",
        "    print(\"-------------- Noisy training sets -------------\")\n",
        "    lab.do_batch_experiments(noisy_train_set_sizes)\n",
        "\n",
        "    # Save the evaluations of lab\n",
        "    lab.save(lab_filename)\n",
        "\n",
        "else:       # Load evaluations saved by previous experiments\n",
        "    lab = Lab.load(lab_filename)\n"
      ]
    },
    {
      "cell_type": "markdown",
      "metadata": {
        "pycharm": {
          "metadata": false
        }
      },
      "source": [
        "# Show evaluations"
      ]
    },
    {
      "cell_type": "code",
      "execution_count": null,
      "metadata": {
        "pycharm": {
          "metadata": false,
          "name": "#%%\n"
        }
      },
      "outputs": [],
      "source": [
        "# In a form\n",
        "lab.print()\n",
        "\n",
        "# In a plot\n",
        "lab.plot()\n"
      ]
    }
  ],
  "metadata": {
    "kernelspec": {
      "display_name": "Python 3",
      "language": "python",
      "name": "python3"
    },
    "language_info": {
      "codemirror_mode": {
        "name": "ipython",
        "version": 3
      },
      "file_extension": ".py",
      "mimetype": "text/x-python",
      "name": "python",
      "nbconvert_exporter": "python",
      "pygments_lexer": "ipython3",
      "version": "3.8.13"
    },
    "stem_cell": {
      "cell_type": "raw",
      "metadata": {
        "pycharm": {
          "metadata": false
        }
      },
      "source": ""
    }
  },
  "nbformat": 4,
  "nbformat_minor": 5
}
