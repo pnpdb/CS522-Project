{
  "cells": [
    {
      "cell_type": "markdown",
      "metadata": {
        "pycharm": {
          "metadata": false
        }
      },
      "source": [
        "# SVM - Climate Sentiment Multiclass Classification\n",
        "## CS522 Project"
      ]
    },
    {
      "cell_type": "markdown",
      "metadata": {
        "pycharm": {
          "metadata": false
        }
      },
      "source": [
        "### Dataset: \n",
        "https://www.kaggle.com/code/luiskalckstein/climate-sentiment-multiclass-classification"
      ]
    },
    {
      "cell_type": "markdown",
      "metadata": {
        "pycharm": {
          "metadata": false
        }
      },
      "source": [
        "### Imports"
      ]
    },
    {
      "cell_type": "code",
      "execution_count": 1,
      "metadata": {
        "pycharm": {
          "metadata": false,
          "name": "#%%\n"
        }
      },
      "outputs": [],
      "source": "%matplotlib inline\n\n# Our base common modules\nfrom Common.DataCenter import data_center\nfrom Common.UtilFuncs import Evaluator, Lab\n\n# Classifiers without denoising\nimport Common.SvmMethod as SvmMethod\nimport Common.BERTModel as BERTModel\n\n# Denoising Methodes\nimport Common.IsolationForestMethod as IsolationForestMethod\nimport Common.ConfidentLearningMethod as ConfidentLearningMethod\nimport Common.LocalOutlierFactorMethod as LocalOutlierFactorMethod\n"
    },
    {
      "cell_type": "markdown",
      "metadata": {
        "pycharm": {
          "metadata": false
        }
      },
      "source": [
        "**The settings of the noise sources.**"
      ]
    },
    {
      "cell_type": "code",
      "execution_count": 2,
      "id": "b3a6e132",
      "metadata": {
        "pycharm": {
          "metadata": false,
          "name": "#%%\n"
        }
      },
      "outputs": [],
      "source": "# Each item: source -\u003e (size, distribution)\nnoisy_set_sizes \u003d {\n    \u0027mislabeled\u0027 : (8600, None),                   # max size: 15000\n    \u0027irrelevant\u0027 : (8600, [0.25,0.25,0.25,0.25]),  # max size: 34259\n    \u0027translated\u0027 : (8600, \"reserve_labels\"),       # max size: 5000\n}\n"
    },
    {
      "cell_type": "code",
      "execution_count": null,
      "outputs": [],
      "source": "",
      "metadata": {
        "pycharm": {
          "metadata": false,
          "name": "#%%\n"
        }
      }
    },
    {
      "cell_type": "markdown",
      "source": "**Initialize the lab, which will run a serial of experiments.\u003cbr\u003e\nSplit the database into training set, test set, noisy set, validation set.**",
      "metadata": {
        "pycharm": {
          "metadata": false
        }
      }
    },
    {
      "cell_type": "code",
      "execution_count": null,
      "outputs": [],
      "source": "lab \u003d Lab(\"twitter_sentiment_data_clean.csv\", noisy_sources \u003d noisy_set_sizes, total_train_size \u003d 20000, total_test_size \u003d 4000)\n",
      "metadata": {
        "pycharm": {
          "metadata": false,
          "name": "#%%\n"
        }
      }
    },
    {
      "cell_type": "markdown",
      "metadata": {
        "pycharm": {
          "metadata": false
        }
      },
      "source": "**Choose a experiment without denoising**"
    },
    {
      "cell_type": "code",
      "execution_count": 4,
      "metadata": {
        "pycharm": {
          "metadata": false,
          "name": "#%%\n"
        }
      },
      "outputs": [],
      "source": "# Each item: name -\u003e (function, args-optional, whether choose) note:only the first active one will be used\nexperiment_without_denoising \u003d {\n    \u0027SVM without denoising\u0027 : (SvmMethod.do_experiment, 0),\n    \u0027BERT without denoising\u0027 : (BERTModel.do_experiment_BERT, lab.dc.get_validation_df(), 1)\n}\n"
    },
    {
      "cell_type": "markdown",
      "metadata": {
        "pycharm": {
          "metadata": false
        }
      },
      "source": [
        "**Choose a experiment with denoising**"
      ]
    },
    {
      "cell_type": "code",
      "execution_count": 5,
      "metadata": {
        "pycharm": {
          "metadata": false,
          "name": "#%%\n"
        }
      },
      "outputs": [],
      "source": [
        "# Each item: name -\u003e (funcion, args-optional, whether choose) note:only the first active one will be used\n",
        "experiment_with_denoising \u003d {\n",
        "    \u0027Confident Learning\u0027 : (ConfidentLearningMethod.do_experiment_with_denoising_for_SVM,   0),\n",
        "    \u0027Isolation Forest\u0027   : (IsolationForestMethod.do_experiment_with_denoising_for_SVM,     0),\n",
        "    \u0027LocalOutlierFactor\u0027 : (LocalOutlierFactorMethod.do_experiment_with_denoising_for_SVM,  1),\n",
        "}\n"
      ]
    },
    {
      "cell_type": "markdown",
      "metadata": {
        "pycharm": {
          "metadata": false
        }
      },
      "source": [
        "**The training set of each experiment**"
      ]
    },
    {
      "cell_type": "code",
      "execution_count": 6,
      "metadata": {
        "pycharm": {
          "metadata": false,
          "name": "#%%\n"
        }
      },
      "outputs": [],
      "source": [
        "origin_train_set_sizes \u003d [2000, 4000, 5000, 8000, 10000, 15000, 20000]\n",
        "noisy_train_set_sizes  \u003d [(4000, 1000), (8000, 2000), (15000, 5000)]\n"
      ]
    },
    {
      "cell_type": "markdown",
      "metadata": {
        "pycharm": {
          "metadata": false
        }
      },
      "source": "### Main entry"
    },
    {
      "cell_type": "markdown",
      "metadata": {
        "pycharm": {
          "metadata": false
        }
      },
      "source": [
        "**Review the summary of the whole data**"
      ]
    },
    {
      "cell_type": "code",
      "execution_count": 7,
      "metadata": {
        "pycharm": {
          "metadata": false,
          "name": "#%%\n"
        }
      },
      "outputs": [
        {
          "name": "stdout",
          "output_type": "stream",
          "text": [
            "###################################### Data Summary #############################################\n",
            "  Total data size: 40908\n",
            "      sentiments (\u0027Anti\u0027, \u0027Neutral\u0027, \u0027Pro\u0027, \u0027News\u0027): 9.4%, 18.3%, 50.2%, 22.1%\n",
            "  Training data size: 20000\n",
            "  Test data size: 4000\n",
            "  Noisy data size: 25800\n",
            "  Validation data size: 1000\n",
            "      noise sources (\u0027mislabeled\u0027, \u0027irrelevant\u0027, \u0027translated\u0027): 33.3%, 33.3%, 33.3%\n",
            "##################################################################################################\n"
          ]
        }
      ],
      "source": "lab.dc.print_summary()\n"
    },
    {
      "cell_type": "markdown",
      "metadata": {
        "pycharm": {
          "metadata": false
        }
      },
      "source": [
        "**To see the data features via a demo**"
      ]
    },
    {
      "cell_type": "code",
      "execution_count": 8,
      "metadata": {
        "pycharm": {
          "metadata": false,
          "name": "#%%\n"
        }
      },
      "outputs": [
        {
          "data": {
            "text/html": [
              "\u003cdiv\u003e\n",
              "\u003cstyle scoped\u003e\n",
              "    .dataframe tbody tr th:only-of-type {\n",
              "        vertical-align: middle;\n",
              "    }\n",
              "\n",
              "    .dataframe tbody tr th {\n",
              "        vertical-align: top;\n",
              "    }\n",
              "\n",
              "    .dataframe thead th {\n",
              "        text-align: right;\n",
              "    }\n",
              "\u003c/style\u003e\n",
              "\u003ctable border\u003d\"1\" class\u003d\"dataframe\"\u003e\n",
              "  \u003cthead\u003e\n",
              "    \u003ctr style\u003d\"text-align: right;\"\u003e\n",
              "      \u003cth\u003e\u003c/th\u003e\n",
              "      \u003cth\u003enoise\u003c/th\u003e\n",
              "      \u003cth\u003enoise_text\u003c/th\u003e\n",
              "      \u003cth\u003esentiment\u003c/th\u003e\n",
              "      \u003cth\u003eorigin(sentiment)\u003c/th\u003e\n",
              "      \u003cth\u003etweetid...\u003c/th\u003e\n",
              "      \u003cth\u003emessage...\u003c/th\u003e\n",
              "    \u003c/tr\u003e\n",
              "  \u003c/thead\u003e\n",
              "  \u003ctbody\u003e\n",
              "    \u003ctr\u003e\n",
              "      \u003cth\u003e0\u003c/th\u003e\n",
              "      \u003ctd\u003e1\u003c/td\u003e\n",
              "      \u003ctd\u003emislabeled\u003c/td\u003e\n",
              "      \u003ctd\u003e3\u003c/td\u003e\n",
              "      \u003ctd\u003e2\u003c/td\u003e\n",
              "      \u003ctd\u003e8108306943\u003c/td\u003e\n",
              "      \u003ctd\u003eRegional/Global seabird stress\u003c/td\u003e\n",
              "    \u003c/tr\u003e\n",
              "    \u003ctr\u003e\n",
              "      \u003cth\u003e1\u003c/th\u003e\n",
              "      \u003ctd\u003e0\u003c/td\u003e\n",
              "      \u003ctd\u003enone\u003c/td\u003e\n",
              "      \u003ctd\u003e2\u003c/td\u003e\n",
              "      \u003ctd\u003e-\u003c/td\u003e\n",
              "      \u003ctd\u003e9536174384\u003c/td\u003e\n",
              "      \u003ctd\u003eI have to write an essay over\u003c/td\u003e\n",
              "    \u003c/tr\u003e\n",
              "    \u003ctr\u003e\n",
              "      \u003cth\u003e2\u003c/th\u003e\n",
              "      \u003ctd\u003e1\u003c/td\u003e\n",
              "      \u003ctd\u003emislabeled\u003c/td\u003e\n",
              "      \u003ctd\u003e1\u003c/td\u003e\n",
              "      \u003ctd\u003e3\u003c/td\u003e\n",
              "      \u003ctd\u003e8645926535\u003c/td\u003e\n",
              "      \u003ctd\u003eBarack Obama warns climate cha\u003c/td\u003e\n",
              "    \u003c/tr\u003e\n",
              "    \u003ctr\u003e\n",
              "      \u003cth\u003e3\u003c/th\u003e\n",
              "      \u003ctd\u003e0\u003c/td\u003e\n",
              "      \u003ctd\u003enone\u003c/td\u003e\n",
              "      \u003ctd\u003e2\u003c/td\u003e\n",
              "      \u003ctd\u003e-\u003c/td\u003e\n",
              "      \u003ctd\u003e8199736905\u003c/td\u003e\n",
              "      \u003ctd\u003eRT @mitskileaks: want to speci\u003c/td\u003e\n",
              "    \u003c/tr\u003e\n",
              "    \u003ctr\u003e\n",
              "      \u003cth\u003e4\u003c/th\u003e\n",
              "      \u003ctd\u003e0\u003c/td\u003e\n",
              "      \u003ctd\u003enone\u003c/td\u003e\n",
              "      \u003ctd\u003e2\u003c/td\u003e\n",
              "      \u003ctd\u003e-\u003c/td\u003e\n",
              "      \u003ctd\u003e8438476460\u003c/td\u003e\n",
              "      \u003ctd\u003e.@RepBrianFitz Thank you for a\u003c/td\u003e\n",
              "    \u003c/tr\u003e\n",
              "    \u003ctr\u003e\n",
              "      \u003cth\u003e5\u003c/th\u003e\n",
              "      \u003ctd\u003e0\u003c/td\u003e\n",
              "      \u003ctd\u003enone\u003c/td\u003e\n",
              "      \u003ctd\u003e2\u003c/td\u003e\n",
              "      \u003ctd\u003e-\u003c/td\u003e\n",
              "      \u003ctd\u003e8182648187\u003c/td\u003e\n",
              "      \u003ctd\u003eRT @billmckibben: Reading clim\u003c/td\u003e\n",
              "    \u003c/tr\u003e\n",
              "    \u003ctr\u003e\n",
              "      \u003cth\u003e6\u003c/th\u003e\n",
              "      \u003ctd\u003e0\u003c/td\u003e\n",
              "      \u003ctd\u003enone\u003c/td\u003e\n",
              "      \u003ctd\u003e2\u003c/td\u003e\n",
              "      \u003ctd\u003e-\u003c/td\u003e\n",
              "      \u003ctd\u003e9556340417\u003c/td\u003e\n",
              "      \u003ctd\u003eRT @LanreShaper: \u0027Africa contr\u003c/td\u003e\n",
              "    \u003c/tr\u003e\n",
              "    \u003ctr\u003e\n",
              "      \u003cth\u003e7\u003c/th\u003e\n",
              "      \u003ctd\u003e1\u003c/td\u003e\n",
              "      \u003ctd\u003emislabeled\u003c/td\u003e\n",
              "      \u003ctd\u003e3\u003c/td\u003e\n",
              "      \u003ctd\u003e1\u003c/td\u003e\n",
              "      \u003ctd\u003e9587601354\u003c/td\u003e\n",
              "      \u003ctd\u003eKeilmuan itu politik. Hawong N\u003c/td\u003e\n",
              "    \u003c/tr\u003e\n",
              "    \u003ctr\u003e\n",
              "      \u003cth\u003e8\u003c/th\u003e\n",
              "      \u003ctd\u003e0\u003c/td\u003e\n",
              "      \u003ctd\u003enone\u003c/td\u003e\n",
              "      \u003ctd\u003e2\u003c/td\u003e\n",
              "      \u003ctd\u003e-\u003c/td\u003e\n",
              "      \u003ctd\u003e8401717188\u003c/td\u003e\n",
              "      \u003ctd\u003eRT @WRIClimate: @CNBC He shoul\u003c/td\u003e\n",
              "    \u003c/tr\u003e\n",
              "    \u003ctr\u003e\n",
              "      \u003cth\u003e9\u003c/th\u003e\n",
              "      \u003ctd\u003e0\u003c/td\u003e\n",
              "      \u003ctd\u003enone\u003c/td\u003e\n",
              "      \u003ctd\u003e0\u003c/td\u003e\n",
              "      \u003ctd\u003e-\u003c/td\u003e\n",
              "      \u003ctd\u003e8254569694\u003c/td\u003e\n",
              "      \u003ctd\u003e@magslol global warming is a C\u003c/td\u003e\n",
              "    \u003c/tr\u003e\n",
              "    \u003ctr\u003e\n",
              "      \u003cth\u003e10\u003c/th\u003e\n",
              "      \u003ctd\u003e2\u003c/td\u003e\n",
              "      \u003ctd\u003eirrelevant\u003c/td\u003e\n",
              "      \u003ctd\u003e3\u003c/td\u003e\n",
              "      \u003ctd\u003e-\u003c/td\u003e\n",
              "      \u003ctd\u003e-\u003c/td\u003e\n",
              "      \u003ctd\u003e@chetan_bhagat And morons like\u003c/td\u003e\n",
              "    \u003c/tr\u003e\n",
              "    \u003ctr\u003e\n",
              "      \u003cth\u003e11\u003c/th\u003e\n",
              "      \u003ctd\u003e0\u003c/td\u003e\n",
              "      \u003ctd\u003enone\u003c/td\u003e\n",
              "      \u003ctd\u003e3\u003c/td\u003e\n",
              "      \u003ctd\u003e-\u003c/td\u003e\n",
              "      \u003ctd\u003e8278157032\u003c/td\u003e\n",
              "      \u003ctd\u003eA climate change economist sou\u003c/td\u003e\n",
              "    \u003c/tr\u003e\n",
              "    \u003ctr\u003e\n",
              "      \u003cth\u003e12\u003c/th\u003e\n",
              "      \u003ctd\u003e0\u003c/td\u003e\n",
              "      \u003ctd\u003enone\u003c/td\u003e\n",
              "      \u003ctd\u003e3\u003c/td\u003e\n",
              "      \u003ctd\u003e-\u003c/td\u003e\n",
              "      \u003ctd\u003e7328403750\u003c/td\u003e\n",
              "      \u003ctd\u003eRT @tveitdal: Climate change:\u003c/td\u003e\n",
              "    \u003c/tr\u003e\n",
              "    \u003ctr\u003e\n",
              "      \u003cth\u003e13\u003c/th\u003e\n",
              "      \u003ctd\u003e0\u003c/td\u003e\n",
              "      \u003ctd\u003enone\u003c/td\u003e\n",
              "      \u003ctd\u003e2\u003c/td\u003e\n",
              "      \u003ctd\u003e-\u003c/td\u003e\n",
              "      \u003ctd\u003e8496410900\u003c/td\u003e\n",
              "      \u003ctd\u003eNow is the time to prepare for\u003c/td\u003e\n",
              "    \u003c/tr\u003e\n",
              "    \u003ctr\u003e\n",
              "      \u003cth\u003e14\u003c/th\u003e\n",
              "      \u003ctd\u003e0\u003c/td\u003e\n",
              "      \u003ctd\u003enone\u003c/td\u003e\n",
              "      \u003ctd\u003e2\u003c/td\u003e\n",
              "      \u003ctd\u003e-\u003c/td\u003e\n",
              "      \u003ctd\u003e7597927163\u003c/td\u003e\n",
              "      \u003ctd\u003eGOP: Stop Denying Climate Chan\u003c/td\u003e\n",
              "    \u003c/tr\u003e\n",
              "  \u003c/tbody\u003e\n",
              "\u003c/table\u003e\n",
              "\u003c/div\u003e"
            ],
            "text/plain": [
              "    noise  noise_text  sentiment origin(sentiment)  tweetid...  \\\n",
              "0       1  mislabeled          3                 2  8108306943   \n",
              "1       0        none          2                 -  9536174384   \n",
              "2       1  mislabeled          1                 3  8645926535   \n",
              "3       0        none          2                 -  8199736905   \n",
              "4       0        none          2                 -  8438476460   \n",
              "5       0        none          2                 -  8182648187   \n",
              "6       0        none          2                 -  9556340417   \n",
              "7       1  mislabeled          3                 1  9587601354   \n",
              "8       0        none          2                 -  8401717188   \n",
              "9       0        none          0                 -  8254569694   \n",
              "10      2  irrelevant          3                 -           -   \n",
              "11      0        none          3                 -  8278157032   \n",
              "12      0        none          3                 -  7328403750   \n",
              "13      0        none          2                 -  8496410900   \n",
              "14      0        none          2                 -  7597927163   \n",
              "\n",
              "                        message...  \n",
              "0   Regional/Global seabird stress  \n",
              "1   I have to write an essay over   \n",
              "2   Barack Obama warns climate cha  \n",
              "3   RT @mitskileaks: want to speci  \n",
              "4   .@RepBrianFitz Thank you for a  \n",
              "5   RT @billmckibben: Reading clim  \n",
              "6   RT @LanreShaper: \u0027Africa contr  \n",
              "7   Keilmuan itu politik. Hawong N  \n",
              "8   RT @WRIClimate: @CNBC He shoul  \n",
              "9   @magslol global warming is a C  \n",
              "10  @chetan_bhagat And morons like  \n",
              "11  A climate change economist sou  \n",
              "12  RT @tveitdal: Climate change:   \n",
              "13  Now is the time to prepare for  \n",
              "14  GOP: Stop Denying Climate Chan  "
            ]
          },
          "metadata": {},
          "output_type": "display_data"
        }
      ],
      "source": [
        "train_df \u003d lab.dc.get_train_with_noisy_df(15000,5000)\n",
        "data_center.print_data(train_df.head(15))\n"
      ]
    },
    {
      "cell_type": "markdown",
      "metadata": {
        "pycharm": {
          "metadata": false
        }
      },
      "source": [
        "**Calculate the filename for save the lab**"
      ]
    },
    {
      "cell_type": "code",
      "execution_count": 9,
      "metadata": {
        "pycharm": {
          "metadata": false,
          "name": "#%%\n"
        }
      },
      "outputs": [],
      "source": [
        "lab_filename \u003d Lab.get_active_experiment_name(experiment_with_denoising)\n",
        "if lab_filename is None:\n",
        "    lab_filename  \u003d Lab.get_active_experiment_name(experiment_without_denoising)\n",
        "if lab_filename is None:\n",
        "    print(\"Nothing to do.\")\n",
        "    exit(0)\n",
        "lab_filename \u003d \"saving/\" + lab_filename + str(noisy_train_set_sizes) + \".pk\"\n",
        "    "
      ]
    },
    {
      "cell_type": "markdown",
      "metadata": {
        "pycharm": {
          "metadata": false
        }
      },
      "source": [
        "# Run new experiments (or just review the evaluations saved by previous experiments)"
      ]
    },
    {
      "cell_type": "code",
      "execution_count": 10,
      "metadata": {
        "pycharm": {
          "metadata": false,
          "name": "#%%\n"
        }
      },
      "outputs": [
        {
          "name": "stdout",
          "output_type": "stream",
          "text": [
            "-------------- No noisy training sets ----------\n",
            "* 1\u003e Training set size: 2000 samples\n",
            "  Sentiments (\u0027Anti\u0027, \u0027Neutral\u0027, \u0027Pro\u0027, \u0027News\u0027): 9.4%, 18.3%, 50.2%, 22.1%\n"
          ]
        },
        {
          "name": "stderr",
          "output_type": "stream",
          "text": [
            "Some layers from the model checkpoint at distilbert-base-uncased were not used when initializing TFDistilBertModel: [\u0027vocab_transform\u0027, \u0027activation_13\u0027, \u0027vocab_layer_norm\u0027, \u0027vocab_projector\u0027]\n",
            "- This IS expected if you are initializing TFDistilBertModel from the checkpoint of a model trained on another task or with another architecture (e.g. initializing a BertForSequenceClassification model from a BertForPreTraining model).\n",
            "- This IS NOT expected if you are initializing TFDistilBertModel from the checkpoint of a model that you expect to be exactly identical (initializing a BertForSequenceClassification model from a BertForSequenceClassification model).\n",
            "All the layers of TFDistilBertModel were initialized from the model checkpoint at distilbert-base-uncased.\n",
            "If your task is similar to the task the model of the checkpoint was trained on, you can already use TFDistilBertModel for predictions without further training.\n",
            "  0%|          | 0/2000 [00:00\u003c?, ?it/s]D:\\Program Files\\Anaconda3\\envs\\tfgpu\\lib\\site-packages\\transformers\\tokenization_utils_base.py:2271: FutureWarning: The `pad_to_max_length` argument is deprecated and will be removed in a future version, use `padding\u003dTrue` or `padding\u003d\u0027longest\u0027` to pad to the longest sequence in the batch, or use `padding\u003d\u0027max_length\u0027` to pad to a max length. In this case, you can give a specific length with `max_length` (e.g. `max_length\u003d45`) or leave max_length to None to pad to the maximal input size of the model (e.g. 512 for Bert).\n",
            "  warnings.warn(\n",
            "100%|██████████| 2000/2000 [00:01\u003c00:00, 1552.05it/s]\n",
            "100%|██████████| 4000/4000 [00:02\u003c00:00, 1644.56it/s]\n",
            "100%|██████████| 1000/1000 [00:00\u003c00:00, 1612.25it/s]"
          ]
        },
        {
          "name": "stdout",
          "output_type": "stream",
          "text": [
            "Epoch 1/50\n"
          ]
        },
        {
          "name": "stderr",
          "output_type": "stream",
          "text": [
            "\n"
          ]
        },
        {
          "name": "stdout",
          "output_type": "stream",
          "text": [
            "125/125 [\u003d\u003d\u003d\u003d\u003d\u003d\u003d\u003d\u003d\u003d\u003d\u003d\u003d\u003d\u003d\u003d\u003d\u003d\u003d\u003d\u003d\u003d\u003d\u003d\u003d\u003d\u003d\u003d\u003d\u003d] - 91s 670ms/step - loss: 1.0962 - accuracy: 0.5370 - val_loss: 0.9578 - val_accuracy: 0.5870 - lr: 1.0000e-04\n",
            "Epoch 2/50\n",
            "125/125 [\u003d\u003d\u003d\u003d\u003d\u003d\u003d\u003d\u003d\u003d\u003d\u003d\u003d\u003d\u003d\u003d\u003d\u003d\u003d\u003d\u003d\u003d\u003d\u003d\u003d\u003d\u003d\u003d\u003d\u003d] - 82s 653ms/step - loss: 0.7895 - accuracy: 0.6680 - val_loss: 0.8987 - val_accuracy: 0.6480 - lr: 1.0000e-04\n",
            "Epoch 3/50\n",
            " 54/125 [\u003d\u003d\u003d\u003d\u003d\u003d\u003d\u003d\u003d\u003d\u003d\u003e..................] - ETA: 39s - loss: 0.3672 - accuracy: 0.8715"
          ]
        },
        {
          "ename": "KeyboardInterrupt",
          "evalue": "",
          "output_type": "error",
          "traceback": [
            "\u001b[1;31m---------------------------------------------------------------------------\u001b[0m",
            "\u001b[1;31mKeyboardInterrupt\u001b[0m                         Traceback (most recent call last)",
            "\u001b[1;32me:\\workspace\\CS522-Project\\do.ipynb Cell 22\u0027\u001b[0m in \u001b[0;36m\u003ccell line: 2\u003e\u001b[1;34m()\u001b[0m\n\u001b[0;32m      \u003ca href\u003d\u0027vscode-notebook-cell:/e%3A/workspace/CS522-Project/do.ipynb#ch0000021?line\u003d6\u0027\u003e7\u003c/a\u003e\u001b[0m lab\u001b[39m.\u001b[39mset_experiment_with_denoising(experiment_with_denoising)\n\u001b[0;32m      \u003ca href\u003d\u0027vscode-notebook-cell:/e%3A/workspace/CS522-Project/do.ipynb#ch0000021?line\u003d8\u0027\u003e9\u003c/a\u003e\u001b[0m \u001b[39mprint\u001b[39m(\u001b[39m\"\u001b[39m\u001b[39m-------------- No noisy training sets ----------\u001b[39m\u001b[39m\"\u001b[39m)\n\u001b[1;32m---\u003e \u003ca href\u003d\u0027vscode-notebook-cell:/e%3A/workspace/CS522-Project/do.ipynb#ch0000021?line\u003d9\u0027\u003e10\u003c/a\u003e\u001b[0m lab\u001b[39m.\u001b[39;49mdo_batch_experiments(origin_train_set_sizes)\n\u001b[0;32m     \u003ca href\u003d\u0027vscode-notebook-cell:/e%3A/workspace/CS522-Project/do.ipynb#ch0000021?line\u003d11\u0027\u003e12\u003c/a\u003e\u001b[0m \u001b[39mprint\u001b[39m(\u001b[39m\"\u001b[39m\u001b[39m-------------- Noisy training sets -------------\u001b[39m\u001b[39m\"\u001b[39m)\n\u001b[0;32m     \u003ca href\u003d\u0027vscode-notebook-cell:/e%3A/workspace/CS522-Project/do.ipynb#ch0000021?line\u003d12\u0027\u003e13\u003c/a\u003e\u001b[0m lab\u001b[39m.\u001b[39mdo_batch_experiments(noisy_train_set_sizes)\n",
            "File \u001b[1;32me:\\workspace\\CS522-Project\\Common\\UtilFuncs.py:234\u001b[0m, in \u001b[0;36mLab.do_batch_experiments\u001b[1;34m(self, train_set_sizes)\u001b[0m\n\u001b[0;32m    \u003ca href\u003d\u0027file:///e%3A/workspace/CS522-Project/Common/UtilFuncs.py?line\u003d231\u0027\u003e232\u003c/a\u003e\u001b[0m \u001b[39m# Do an experiment\u001b[39;00m\n\u001b[0;32m    \u003ca href\u003d\u0027file:///e%3A/workspace/CS522-Project/Common/UtilFuncs.py?line\u003d232\u0027\u003e233\u003c/a\u003e\u001b[0m \u001b[39mif\u001b[39;00m \u001b[39mself\u001b[39m\u001b[39m.\u001b[39mexperiment_params \u001b[39mis\u001b[39;00m \u001b[39mnot\u001b[39;00m \u001b[39mNone\u001b[39;00m:\n\u001b[1;32m--\u003e \u003ca href\u003d\u0027file:///e%3A/workspace/CS522-Project/Common/UtilFuncs.py?line\u003d233\u0027\u003e234\u003c/a\u003e\u001b[0m     dfResult \u001b[39m\u003d\u001b[39m \u001b[39mself\u001b[39;49m\u001b[39m.\u001b[39;49mexperiment(train_df, test_df, \u001b[39m*\u001b[39;49m\u001b[39mself\u001b[39;49m\u001b[39m.\u001b[39;49mexperiment_params)\n\u001b[0;32m    \u003ca href\u003d\u0027file:///e%3A/workspace/CS522-Project/Common/UtilFuncs.py?line\u003d234\u0027\u003e235\u003c/a\u003e\u001b[0m \u001b[39melse\u001b[39;00m:\n\u001b[0;32m    \u003ca href\u003d\u0027file:///e%3A/workspace/CS522-Project/Common/UtilFuncs.py?line\u003d235\u0027\u003e236\u003c/a\u003e\u001b[0m     dfResult \u001b[39m\u003d\u001b[39m \u001b[39mself\u001b[39m\u001b[39m.\u001b[39mexperiment(train_df, test_df)\n",
            "File \u001b[1;32me:\\workspace\\CS522-Project\\Common\\BERTModel.py:146\u001b[0m, in \u001b[0;36mdo_experiment_BERT\u001b[1;34m(train_df, test_df, *args)\u001b[0m\n\u001b[0;32m    \u003ca href\u003d\u0027file:///e%3A/workspace/CS522-Project/Common/BERTModel.py?line\u003d140\u0027\u003e141\u003c/a\u003e\u001b[0m y_val \u001b[39m\u003d\u001b[39m np\u001b[39m.\u001b[39marray(y_val)\n\u001b[0;32m    \u003ca href\u003d\u0027file:///e%3A/workspace/CS522-Project/Common/BERTModel.py?line\u003d141\u0027\u003e142\u003c/a\u003e\u001b[0m y_test \u001b[39m\u003d\u001b[39m np\u001b[39m.\u001b[39marray(y_test)\n\u001b[1;32m--\u003e \u003ca href\u003d\u0027file:///e%3A/workspace/CS522-Project/Common/BERTModel.py?line\u003d145\u0027\u003e146\u003c/a\u003e\u001b[0m bert\u001b[39m.\u001b[39;49mTrain(X_train_token, y_train, X_val_token, y_val)\n\u001b[0;32m    \u003ca href\u003d\u0027file:///e%3A/workspace/CS522-Project/Common/BERTModel.py?line\u003d146\u0027\u003e147\u003c/a\u003e\u001b[0m y_pred \u001b[39m\u003d\u001b[39m bert\u001b[39m.\u001b[39mPredict(X_test_token)\n\u001b[0;32m    \u003ca href\u003d\u0027file:///e%3A/workspace/CS522-Project/Common/BERTModel.py?line\u003d149\u0027\u003e150\u003c/a\u003e\u001b[0m \u001b[39m# Print the evaluation\u001b[39;00m\n",
            "File \u001b[1;32me:\\workspace\\CS522-Project\\Common\\BERTModel.py:85\u001b[0m, in \u001b[0;36mBERTModel.Train\u001b[1;34m(self, X_train, y_train, X_val, y_val)\u001b[0m\n\u001b[0;32m     \u003ca href\u003d\u0027file:///e%3A/workspace/CS522-Project/Common/BERTModel.py?line\u003d83\u0027\u003e84\u003c/a\u003e\u001b[0m \u001b[39mdef\u001b[39;00m \u001b[39mTrain\u001b[39m(\u001b[39mself\u001b[39m, X_train, y_train, X_val, y_val):\n\u001b[1;32m---\u003e \u003ca href\u003d\u0027file:///e%3A/workspace/CS522-Project/Common/BERTModel.py?line\u003d84\u0027\u003e85\u003c/a\u003e\u001b[0m     history \u001b[39m\u003d\u001b[39m \u001b[39mself\u001b[39;49m\u001b[39m.\u001b[39;49mModel\u001b[39m.\u001b[39;49mfit(X_train,\n\u001b[0;32m     \u003ca href\u003d\u0027file:///e%3A/workspace/CS522-Project/Common/BERTModel.py?line\u003d85\u0027\u003e86\u003c/a\u003e\u001b[0m                 y_train,\n\u001b[0;32m     \u003ca href\u003d\u0027file:///e%3A/workspace/CS522-Project/Common/BERTModel.py?line\u003d86\u0027\u003e87\u003c/a\u003e\u001b[0m                 epochs\u001b[39m\u003d\u001b[39;49m\u001b[39m50\u001b[39;49m,\n\u001b[0;32m     \u003ca href\u003d\u0027file:///e%3A/workspace/CS522-Project/Common/BERTModel.py?line\u003d87\u0027\u003e88\u003c/a\u003e\u001b[0m                 batch_size\u001b[39m\u003d\u001b[39;49m\u001b[39m16\u001b[39;49m,\n\u001b[0;32m     \u003ca href\u003d\u0027file:///e%3A/workspace/CS522-Project/Common/BERTModel.py?line\u003d88\u0027\u003e89\u003c/a\u003e\u001b[0m                 validation_data\u001b[39m\u003d\u001b[39;49m(X_val, y_val),\n\u001b[0;32m     \u003ca href\u003d\u0027file:///e%3A/workspace/CS522-Project/Common/BERTModel.py?line\u003d89\u0027\u003e90\u003c/a\u003e\u001b[0m                 callbacks\u001b[39m\u003d\u001b[39;49m[\u001b[39mself\u001b[39;49m\u001b[39m.\u001b[39;49mmodel_checkpoint, \u001b[39mself\u001b[39;49m\u001b[39m.\u001b[39;49mearly_stopping, \u001b[39mself\u001b[39;49m\u001b[39m.\u001b[39;49mreduce_lr])\n\u001b[0;32m     \u003ca href\u003d\u0027file:///e%3A/workspace/CS522-Project/Common/BERTModel.py?line\u003d90\u0027\u003e91\u003c/a\u003e\u001b[0m     \u001b[39mself\u001b[39m\u001b[39m.\u001b[39mHistory \u001b[39m\u003d\u001b[39m history\n\u001b[0;32m     \u003ca href\u003d\u0027file:///e%3A/workspace/CS522-Project/Common/BERTModel.py?line\u003d91\u0027\u003e92\u003c/a\u003e\u001b[0m     \u001b[39m# load the best model\u001b[39;00m\n",
            "File \u001b[1;32mD:\\Program Files\\Anaconda3\\envs\\tfgpu\\lib\\site-packages\\keras\\utils\\traceback_utils.py:64\u001b[0m, in \u001b[0;36mfilter_traceback.\u003clocals\u003e.error_handler\u001b[1;34m(*args, **kwargs)\u001b[0m\n\u001b[0;32m     \u003ca href\u003d\u0027file:///d%3A/Program%20Files/Anaconda3/envs/tfgpu/lib/site-packages/keras/utils/traceback_utils.py?line\u003d61\u0027\u003e62\u003c/a\u003e\u001b[0m filtered_tb \u001b[39m\u003d\u001b[39m \u001b[39mNone\u001b[39;00m\n\u001b[0;32m     \u003ca href\u003d\u0027file:///d%3A/Program%20Files/Anaconda3/envs/tfgpu/lib/site-packages/keras/utils/traceback_utils.py?line\u003d62\u0027\u003e63\u003c/a\u003e\u001b[0m \u001b[39mtry\u001b[39;00m:\n\u001b[1;32m---\u003e \u003ca href\u003d\u0027file:///d%3A/Program%20Files/Anaconda3/envs/tfgpu/lib/site-packages/keras/utils/traceback_utils.py?line\u003d63\u0027\u003e64\u003c/a\u003e\u001b[0m   \u001b[39mreturn\u001b[39;00m fn(\u001b[39m*\u001b[39;49margs, \u001b[39m*\u001b[39;49m\u001b[39m*\u001b[39;49mkwargs)\n\u001b[0;32m     \u003ca href\u003d\u0027file:///d%3A/Program%20Files/Anaconda3/envs/tfgpu/lib/site-packages/keras/utils/traceback_utils.py?line\u003d64\u0027\u003e65\u003c/a\u003e\u001b[0m \u001b[39mexcept\u001b[39;00m \u001b[39mException\u001b[39;00m \u001b[39mas\u001b[39;00m e:  \u001b[39m# pylint: disable\u003dbroad-except\u001b[39;00m\n\u001b[0;32m     \u003ca href\u003d\u0027file:///d%3A/Program%20Files/Anaconda3/envs/tfgpu/lib/site-packages/keras/utils/traceback_utils.py?line\u003d65\u0027\u003e66\u003c/a\u003e\u001b[0m   filtered_tb \u001b[39m\u003d\u001b[39m _process_traceback_frames(e\u001b[39m.\u001b[39m__traceback__)\n",
            "File \u001b[1;32mD:\\Program Files\\Anaconda3\\envs\\tfgpu\\lib\\site-packages\\keras\\engine\\training.py:1389\u001b[0m, in \u001b[0;36mModel.fit\u001b[1;34m(self, x, y, batch_size, epochs, verbose, callbacks, validation_split, validation_data, shuffle, class_weight, sample_weight, initial_epoch, steps_per_epoch, validation_steps, validation_batch_size, validation_freq, max_queue_size, workers, use_multiprocessing)\u001b[0m\n\u001b[0;32m   \u003ca href\u003d\u0027file:///d%3A/Program%20Files/Anaconda3/envs/tfgpu/lib/site-packages/keras/engine/training.py?line\u003d1386\u0027\u003e1387\u003c/a\u003e\u001b[0m logs \u001b[39m\u003d\u001b[39m tmp_logs  \u001b[39m# No error, now safe to assign to logs.\u001b[39;00m\n\u001b[0;32m   \u003ca href\u003d\u0027file:///d%3A/Program%20Files/Anaconda3/envs/tfgpu/lib/site-packages/keras/engine/training.py?line\u003d1387\u0027\u003e1388\u003c/a\u003e\u001b[0m end_step \u001b[39m\u003d\u001b[39m step \u001b[39m+\u001b[39m data_handler\u001b[39m.\u001b[39mstep_increment\n\u001b[1;32m-\u003e \u003ca href\u003d\u0027file:///d%3A/Program%20Files/Anaconda3/envs/tfgpu/lib/site-packages/keras/engine/training.py?line\u003d1388\u0027\u003e1389\u003c/a\u003e\u001b[0m callbacks\u001b[39m.\u001b[39;49mon_train_batch_end(end_step, logs)\n\u001b[0;32m   \u003ca href\u003d\u0027file:///d%3A/Program%20Files/Anaconda3/envs/tfgpu/lib/site-packages/keras/engine/training.py?line\u003d1389\u0027\u003e1390\u003c/a\u003e\u001b[0m \u001b[39mif\u001b[39;00m \u001b[39mself\u001b[39m\u001b[39m.\u001b[39mstop_training:\n\u001b[0;32m   \u003ca href\u003d\u0027file:///d%3A/Program%20Files/Anaconda3/envs/tfgpu/lib/site-packages/keras/engine/training.py?line\u003d1390\u0027\u003e1391\u003c/a\u003e\u001b[0m   \u001b[39mbreak\u001b[39;00m\n",
            "File \u001b[1;32mD:\\Program Files\\Anaconda3\\envs\\tfgpu\\lib\\site-packages\\keras\\callbacks.py:438\u001b[0m, in \u001b[0;36mCallbackList.on_train_batch_end\u001b[1;34m(self, batch, logs)\u001b[0m\n\u001b[0;32m    \u003ca href\u003d\u0027file:///d%3A/Program%20Files/Anaconda3/envs/tfgpu/lib/site-packages/keras/callbacks.py?line\u003d430\u0027\u003e431\u003c/a\u003e\u001b[0m \u001b[39m\"\"\"Calls the `on_train_batch_end` methods of its callbacks.\u001b[39;00m\n\u001b[0;32m    \u003ca href\u003d\u0027file:///d%3A/Program%20Files/Anaconda3/envs/tfgpu/lib/site-packages/keras/callbacks.py?line\u003d431\u0027\u003e432\u003c/a\u003e\u001b[0m \n\u001b[0;32m    \u003ca href\u003d\u0027file:///d%3A/Program%20Files/Anaconda3/envs/tfgpu/lib/site-packages/keras/callbacks.py?line\u003d432\u0027\u003e433\u003c/a\u003e\u001b[0m \u001b[39mArgs:\u001b[39;00m\n\u001b[0;32m    \u003ca href\u003d\u0027file:///d%3A/Program%20Files/Anaconda3/envs/tfgpu/lib/site-packages/keras/callbacks.py?line\u003d433\u0027\u003e434\u003c/a\u003e\u001b[0m \u001b[39m    batch: Integer, index of batch within the current epoch.\u001b[39;00m\n\u001b[0;32m    \u003ca href\u003d\u0027file:///d%3A/Program%20Files/Anaconda3/envs/tfgpu/lib/site-packages/keras/callbacks.py?line\u003d434\u0027\u003e435\u003c/a\u003e\u001b[0m \u001b[39m    logs: Dict. Aggregated metric results up until this batch.\u001b[39;00m\n\u001b[0;32m    \u003ca href\u003d\u0027file:///d%3A/Program%20Files/Anaconda3/envs/tfgpu/lib/site-packages/keras/callbacks.py?line\u003d435\u0027\u003e436\u003c/a\u003e\u001b[0m \u001b[39m\"\"\"\u001b[39;00m\n\u001b[0;32m    \u003ca href\u003d\u0027file:///d%3A/Program%20Files/Anaconda3/envs/tfgpu/lib/site-packages/keras/callbacks.py?line\u003d436\u0027\u003e437\u003c/a\u003e\u001b[0m \u001b[39mif\u001b[39;00m \u001b[39mself\u001b[39m\u001b[39m.\u001b[39m_should_call_train_batch_hooks:\n\u001b[1;32m--\u003e \u003ca href\u003d\u0027file:///d%3A/Program%20Files/Anaconda3/envs/tfgpu/lib/site-packages/keras/callbacks.py?line\u003d437\u0027\u003e438\u003c/a\u003e\u001b[0m   \u001b[39mself\u001b[39;49m\u001b[39m.\u001b[39;49m_call_batch_hook(ModeKeys\u001b[39m.\u001b[39;49mTRAIN, \u001b[39m\u0027\u001b[39;49m\u001b[39mend\u001b[39;49m\u001b[39m\u0027\u001b[39;49m, batch, logs\u001b[39m\u003d\u001b[39;49mlogs)\n",
            "File \u001b[1;32mD:\\Program Files\\Anaconda3\\envs\\tfgpu\\lib\\site-packages\\keras\\callbacks.py:297\u001b[0m, in \u001b[0;36mCallbackList._call_batch_hook\u001b[1;34m(self, mode, hook, batch, logs)\u001b[0m\n\u001b[0;32m    \u003ca href\u003d\u0027file:///d%3A/Program%20Files/Anaconda3/envs/tfgpu/lib/site-packages/keras/callbacks.py?line\u003d294\u0027\u003e295\u003c/a\u003e\u001b[0m   \u001b[39mself\u001b[39m\u001b[39m.\u001b[39m_call_batch_begin_hook(mode, batch, logs)\n\u001b[0;32m    \u003ca href\u003d\u0027file:///d%3A/Program%20Files/Anaconda3/envs/tfgpu/lib/site-packages/keras/callbacks.py?line\u003d295\u0027\u003e296\u003c/a\u003e\u001b[0m \u001b[39melif\u001b[39;00m hook \u001b[39m\u003d\u003d\u001b[39m \u001b[39m\u0027\u001b[39m\u001b[39mend\u001b[39m\u001b[39m\u0027\u001b[39m:\n\u001b[1;32m--\u003e \u003ca href\u003d\u0027file:///d%3A/Program%20Files/Anaconda3/envs/tfgpu/lib/site-packages/keras/callbacks.py?line\u003d296\u0027\u003e297\u003c/a\u003e\u001b[0m   \u001b[39mself\u001b[39;49m\u001b[39m.\u001b[39;49m_call_batch_end_hook(mode, batch, logs)\n\u001b[0;32m    \u003ca href\u003d\u0027file:///d%3A/Program%20Files/Anaconda3/envs/tfgpu/lib/site-packages/keras/callbacks.py?line\u003d297\u0027\u003e298\u003c/a\u003e\u001b[0m \u001b[39melse\u001b[39;00m:\n\u001b[0;32m    \u003ca href\u003d\u0027file:///d%3A/Program%20Files/Anaconda3/envs/tfgpu/lib/site-packages/keras/callbacks.py?line\u003d298\u0027\u003e299\u003c/a\u003e\u001b[0m   \u001b[39mraise\u001b[39;00m \u001b[39mValueError\u001b[39;00m(\n\u001b[0;32m    \u003ca href\u003d\u0027file:///d%3A/Program%20Files/Anaconda3/envs/tfgpu/lib/site-packages/keras/callbacks.py?line\u003d299\u0027\u003e300\u003c/a\u003e\u001b[0m       \u001b[39mf\u001b[39m\u001b[39m\u0027\u001b[39m\u001b[39mUnrecognized hook: \u001b[39m\u001b[39m{\u001b[39;00mhook\u001b[39m}\u001b[39;00m\u001b[39m. Expected values are [\u001b[39m\u001b[39m\"\u001b[39m\u001b[39mbegin\u001b[39m\u001b[39m\"\u001b[39m\u001b[39m, \u001b[39m\u001b[39m\"\u001b[39m\u001b[39mend\u001b[39m\u001b[39m\"\u001b[39m\u001b[39m]\u001b[39m\u001b[39m\u0027\u001b[39m)\n",
            "File \u001b[1;32mD:\\Program Files\\Anaconda3\\envs\\tfgpu\\lib\\site-packages\\keras\\callbacks.py:318\u001b[0m, in \u001b[0;36mCallbackList._call_batch_end_hook\u001b[1;34m(self, mode, batch, logs)\u001b[0m\n\u001b[0;32m    \u003ca href\u003d\u0027file:///d%3A/Program%20Files/Anaconda3/envs/tfgpu/lib/site-packages/keras/callbacks.py?line\u003d314\u0027\u003e315\u003c/a\u003e\u001b[0m   batch_time \u001b[39m\u003d\u001b[39m time\u001b[39m.\u001b[39mtime() \u001b[39m-\u001b[39m \u001b[39mself\u001b[39m\u001b[39m.\u001b[39m_batch_start_time\n\u001b[0;32m    \u003ca href\u003d\u0027file:///d%3A/Program%20Files/Anaconda3/envs/tfgpu/lib/site-packages/keras/callbacks.py?line\u003d315\u0027\u003e316\u003c/a\u003e\u001b[0m   \u001b[39mself\u001b[39m\u001b[39m.\u001b[39m_batch_times\u001b[39m.\u001b[39mappend(batch_time)\n\u001b[1;32m--\u003e \u003ca href\u003d\u0027file:///d%3A/Program%20Files/Anaconda3/envs/tfgpu/lib/site-packages/keras/callbacks.py?line\u003d317\u0027\u003e318\u003c/a\u003e\u001b[0m \u001b[39mself\u001b[39;49m\u001b[39m.\u001b[39;49m_call_batch_hook_helper(hook_name, batch, logs)\n\u001b[0;32m    \u003ca href\u003d\u0027file:///d%3A/Program%20Files/Anaconda3/envs/tfgpu/lib/site-packages/keras/callbacks.py?line\u003d319\u0027\u003e320\u003c/a\u003e\u001b[0m \u001b[39mif\u001b[39;00m \u001b[39mlen\u001b[39m(\u001b[39mself\u001b[39m\u001b[39m.\u001b[39m_batch_times) \u001b[39m\u003e\u001b[39m\u001b[39m\u003d\u001b[39m \u001b[39mself\u001b[39m\u001b[39m.\u001b[39m_num_batches_for_timing_check:\n\u001b[0;32m    \u003ca href\u003d\u0027file:///d%3A/Program%20Files/Anaconda3/envs/tfgpu/lib/site-packages/keras/callbacks.py?line\u003d320\u0027\u003e321\u003c/a\u003e\u001b[0m   end_hook_name \u001b[39m\u003d\u001b[39m hook_name\n",
            "File \u001b[1;32mD:\\Program Files\\Anaconda3\\envs\\tfgpu\\lib\\site-packages\\keras\\callbacks.py:356\u001b[0m, in \u001b[0;36mCallbackList._call_batch_hook_helper\u001b[1;34m(self, hook_name, batch, logs)\u001b[0m\n\u001b[0;32m    \u003ca href\u003d\u0027file:///d%3A/Program%20Files/Anaconda3/envs/tfgpu/lib/site-packages/keras/callbacks.py?line\u003d353\u0027\u003e354\u003c/a\u003e\u001b[0m \u001b[39mfor\u001b[39;00m callback \u001b[39min\u001b[39;00m \u001b[39mself\u001b[39m\u001b[39m.\u001b[39mcallbacks:\n\u001b[0;32m    \u003ca href\u003d\u0027file:///d%3A/Program%20Files/Anaconda3/envs/tfgpu/lib/site-packages/keras/callbacks.py?line\u003d354\u0027\u003e355\u003c/a\u003e\u001b[0m   hook \u001b[39m\u003d\u001b[39m \u001b[39mgetattr\u001b[39m(callback, hook_name)\n\u001b[1;32m--\u003e \u003ca href\u003d\u0027file:///d%3A/Program%20Files/Anaconda3/envs/tfgpu/lib/site-packages/keras/callbacks.py?line\u003d355\u0027\u003e356\u003c/a\u003e\u001b[0m   hook(batch, logs)\n\u001b[0;32m    \u003ca href\u003d\u0027file:///d%3A/Program%20Files/Anaconda3/envs/tfgpu/lib/site-packages/keras/callbacks.py?line\u003d357\u0027\u003e358\u003c/a\u003e\u001b[0m \u001b[39mif\u001b[39;00m \u001b[39mself\u001b[39m\u001b[39m.\u001b[39m_check_timing:\n\u001b[0;32m    \u003ca href\u003d\u0027file:///d%3A/Program%20Files/Anaconda3/envs/tfgpu/lib/site-packages/keras/callbacks.py?line\u003d358\u0027\u003e359\u003c/a\u003e\u001b[0m   \u001b[39mif\u001b[39;00m hook_name \u001b[39mnot\u001b[39;00m \u001b[39min\u001b[39;00m \u001b[39mself\u001b[39m\u001b[39m.\u001b[39m_hook_times:\n",
            "File \u001b[1;32mD:\\Program Files\\Anaconda3\\envs\\tfgpu\\lib\\site-packages\\keras\\callbacks.py:1034\u001b[0m, in \u001b[0;36mProgbarLogger.on_train_batch_end\u001b[1;34m(self, batch, logs)\u001b[0m\n\u001b[0;32m   \u003ca href\u003d\u0027file:///d%3A/Program%20Files/Anaconda3/envs/tfgpu/lib/site-packages/keras/callbacks.py?line\u003d1032\u0027\u003e1033\u003c/a\u003e\u001b[0m \u001b[39mdef\u001b[39;00m \u001b[39mon_train_batch_end\u001b[39m(\u001b[39mself\u001b[39m, batch, logs\u001b[39m\u003d\u001b[39m\u001b[39mNone\u001b[39;00m):\n\u001b[1;32m-\u003e \u003ca href\u003d\u0027file:///d%3A/Program%20Files/Anaconda3/envs/tfgpu/lib/site-packages/keras/callbacks.py?line\u003d1033\u0027\u003e1034\u003c/a\u003e\u001b[0m   \u001b[39mself\u001b[39;49m\u001b[39m.\u001b[39;49m_batch_update_progbar(batch, logs)\n",
            "File \u001b[1;32mD:\\Program Files\\Anaconda3\\envs\\tfgpu\\lib\\site-packages\\keras\\callbacks.py:1106\u001b[0m, in \u001b[0;36mProgbarLogger._batch_update_progbar\u001b[1;34m(self, batch, logs)\u001b[0m\n\u001b[0;32m   \u003ca href\u003d\u0027file:///d%3A/Program%20Files/Anaconda3/envs/tfgpu/lib/site-packages/keras/callbacks.py?line\u003d1101\u0027\u003e1102\u003c/a\u003e\u001b[0m   \u001b[39mself\u001b[39m\u001b[39m.\u001b[39mseen \u001b[39m+\u001b[39m\u001b[39m\u003d\u001b[39m add_seen\n\u001b[0;32m   \u003ca href\u003d\u0027file:///d%3A/Program%20Files/Anaconda3/envs/tfgpu/lib/site-packages/keras/callbacks.py?line\u003d1103\u0027\u003e1104\u003c/a\u003e\u001b[0m \u001b[39mif\u001b[39;00m \u001b[39mself\u001b[39m\u001b[39m.\u001b[39mverbose \u001b[39m\u003d\u003d\u001b[39m \u001b[39m1\u001b[39m:\n\u001b[0;32m   \u003ca href\u003d\u0027file:///d%3A/Program%20Files/Anaconda3/envs/tfgpu/lib/site-packages/keras/callbacks.py?line\u003d1104\u0027\u003e1105\u003c/a\u003e\u001b[0m   \u001b[39m# Only block async when verbose \u003d 1.\u001b[39;00m\n\u001b[1;32m-\u003e \u003ca href\u003d\u0027file:///d%3A/Program%20Files/Anaconda3/envs/tfgpu/lib/site-packages/keras/callbacks.py?line\u003d1105\u0027\u003e1106\u003c/a\u003e\u001b[0m   logs \u001b[39m\u003d\u001b[39m tf_utils\u001b[39m.\u001b[39;49msync_to_numpy_or_python_type(logs)\n\u001b[0;32m   \u003ca href\u003d\u0027file:///d%3A/Program%20Files/Anaconda3/envs/tfgpu/lib/site-packages/keras/callbacks.py?line\u003d1106\u0027\u003e1107\u003c/a\u003e\u001b[0m   \u001b[39mself\u001b[39m\u001b[39m.\u001b[39mprogbar\u001b[39m.\u001b[39mupdate(\u001b[39mself\u001b[39m\u001b[39m.\u001b[39mseen, \u001b[39mlist\u001b[39m(logs\u001b[39m.\u001b[39mitems()), finalize\u001b[39m\u003d\u001b[39m\u001b[39mFalse\u001b[39;00m)\n",
            "File \u001b[1;32mD:\\Program Files\\Anaconda3\\envs\\tfgpu\\lib\\site-packages\\keras\\utils\\tf_utils.py:563\u001b[0m, in \u001b[0;36msync_to_numpy_or_python_type\u001b[1;34m(tensors)\u001b[0m\n\u001b[0;32m    \u003ca href\u003d\u0027file:///d%3A/Program%20Files/Anaconda3/envs/tfgpu/lib/site-packages/keras/utils/tf_utils.py?line\u003d559\u0027\u003e560\u003c/a\u003e\u001b[0m     \u001b[39mreturn\u001b[39;00m t\n\u001b[0;32m    \u003ca href\u003d\u0027file:///d%3A/Program%20Files/Anaconda3/envs/tfgpu/lib/site-packages/keras/utils/tf_utils.py?line\u003d560\u0027\u003e561\u003c/a\u003e\u001b[0m   \u001b[39mreturn\u001b[39;00m t\u001b[39m.\u001b[39mitem() \u001b[39mif\u001b[39;00m np\u001b[39m.\u001b[39mndim(t) \u001b[39m\u003d\u003d\u001b[39m \u001b[39m0\u001b[39m \u001b[39melse\u001b[39;00m t\n\u001b[1;32m--\u003e \u003ca href\u003d\u0027file:///d%3A/Program%20Files/Anaconda3/envs/tfgpu/lib/site-packages/keras/utils/tf_utils.py?line\u003d562\u0027\u003e563\u003c/a\u003e\u001b[0m \u001b[39mreturn\u001b[39;00m tf\u001b[39m.\u001b[39;49mnest\u001b[39m.\u001b[39;49mmap_structure(_to_single_numpy_or_python_type, tensors)\n",
            "File \u001b[1;32mD:\\Program Files\\Anaconda3\\envs\\tfgpu\\lib\\site-packages\\tensorflow\\python\\util\\nest.py:914\u001b[0m, in \u001b[0;36mmap_structure\u001b[1;34m(func, *structure, **kwargs)\u001b[0m\n\u001b[0;32m    \u003ca href\u003d\u0027file:///d%3A/Program%20Files/Anaconda3/envs/tfgpu/lib/site-packages/tensorflow/python/util/nest.py?line\u003d909\u0027\u003e910\u003c/a\u003e\u001b[0m flat_structure \u001b[39m\u003d\u001b[39m (flatten(s, expand_composites) \u001b[39mfor\u001b[39;00m s \u001b[39min\u001b[39;00m structure)\n\u001b[0;32m    \u003ca href\u003d\u0027file:///d%3A/Program%20Files/Anaconda3/envs/tfgpu/lib/site-packages/tensorflow/python/util/nest.py?line\u003d910\u0027\u003e911\u003c/a\u003e\u001b[0m entries \u001b[39m\u003d\u001b[39m \u001b[39mzip\u001b[39m(\u001b[39m*\u001b[39mflat_structure)\n\u001b[0;32m    \u003ca href\u003d\u0027file:///d%3A/Program%20Files/Anaconda3/envs/tfgpu/lib/site-packages/tensorflow/python/util/nest.py?line\u003d912\u0027\u003e913\u003c/a\u003e\u001b[0m \u001b[39mreturn\u001b[39;00m pack_sequence_as(\n\u001b[1;32m--\u003e \u003ca href\u003d\u0027file:///d%3A/Program%20Files/Anaconda3/envs/tfgpu/lib/site-packages/tensorflow/python/util/nest.py?line\u003d913\u0027\u003e914\u003c/a\u003e\u001b[0m     structure[\u001b[39m0\u001b[39m], [func(\u001b[39m*\u001b[39mx) \u001b[39mfor\u001b[39;00m x \u001b[39min\u001b[39;00m entries],\n\u001b[0;32m    \u003ca href\u003d\u0027file:///d%3A/Program%20Files/Anaconda3/envs/tfgpu/lib/site-packages/tensorflow/python/util/nest.py?line\u003d914\u0027\u003e915\u003c/a\u003e\u001b[0m     expand_composites\u001b[39m\u003d\u001b[39mexpand_composites)\n",
            "File \u001b[1;32mD:\\Program Files\\Anaconda3\\envs\\tfgpu\\lib\\site-packages\\tensorflow\\python\\util\\nest.py:914\u001b[0m, in \u001b[0;36m\u003clistcomp\u003e\u001b[1;34m(.0)\u001b[0m\n\u001b[0;32m    \u003ca href\u003d\u0027file:///d%3A/Program%20Files/Anaconda3/envs/tfgpu/lib/site-packages/tensorflow/python/util/nest.py?line\u003d909\u0027\u003e910\u003c/a\u003e\u001b[0m flat_structure \u001b[39m\u003d\u001b[39m (flatten(s, expand_composites) \u001b[39mfor\u001b[39;00m s \u001b[39min\u001b[39;00m structure)\n\u001b[0;32m    \u003ca href\u003d\u0027file:///d%3A/Program%20Files/Anaconda3/envs/tfgpu/lib/site-packages/tensorflow/python/util/nest.py?line\u003d910\u0027\u003e911\u003c/a\u003e\u001b[0m entries \u001b[39m\u003d\u001b[39m \u001b[39mzip\u001b[39m(\u001b[39m*\u001b[39mflat_structure)\n\u001b[0;32m    \u003ca href\u003d\u0027file:///d%3A/Program%20Files/Anaconda3/envs/tfgpu/lib/site-packages/tensorflow/python/util/nest.py?line\u003d912\u0027\u003e913\u003c/a\u003e\u001b[0m \u001b[39mreturn\u001b[39;00m pack_sequence_as(\n\u001b[1;32m--\u003e \u003ca href\u003d\u0027file:///d%3A/Program%20Files/Anaconda3/envs/tfgpu/lib/site-packages/tensorflow/python/util/nest.py?line\u003d913\u0027\u003e914\u003c/a\u003e\u001b[0m     structure[\u001b[39m0\u001b[39m], [func(\u001b[39m*\u001b[39;49mx) \u001b[39mfor\u001b[39;00m x \u001b[39min\u001b[39;00m entries],\n\u001b[0;32m    \u003ca href\u003d\u0027file:///d%3A/Program%20Files/Anaconda3/envs/tfgpu/lib/site-packages/tensorflow/python/util/nest.py?line\u003d914\u0027\u003e915\u003c/a\u003e\u001b[0m     expand_composites\u001b[39m\u003d\u001b[39mexpand_composites)\n",
            "File \u001b[1;32mD:\\Program Files\\Anaconda3\\envs\\tfgpu\\lib\\site-packages\\keras\\utils\\tf_utils.py:557\u001b[0m, in \u001b[0;36msync_to_numpy_or_python_type.\u003clocals\u003e._to_single_numpy_or_python_type\u001b[1;34m(t)\u001b[0m\n\u001b[0;32m    \u003ca href\u003d\u0027file:///d%3A/Program%20Files/Anaconda3/envs/tfgpu/lib/site-packages/keras/utils/tf_utils.py?line\u003d553\u0027\u003e554\u003c/a\u003e\u001b[0m \u001b[39mdef\u001b[39;00m \u001b[39m_to_single_numpy_or_python_type\u001b[39m(t):\n\u001b[0;32m    \u003ca href\u003d\u0027file:///d%3A/Program%20Files/Anaconda3/envs/tfgpu/lib/site-packages/keras/utils/tf_utils.py?line\u003d554\u0027\u003e555\u003c/a\u003e\u001b[0m   \u001b[39m# Don\u0027t turn ragged or sparse tensors to NumPy.\u001b[39;00m\n\u001b[0;32m    \u003ca href\u003d\u0027file:///d%3A/Program%20Files/Anaconda3/envs/tfgpu/lib/site-packages/keras/utils/tf_utils.py?line\u003d555\u0027\u003e556\u003c/a\u003e\u001b[0m   \u001b[39mif\u001b[39;00m \u001b[39misinstance\u001b[39m(t, tf\u001b[39m.\u001b[39mTensor):\n\u001b[1;32m--\u003e \u003ca href\u003d\u0027file:///d%3A/Program%20Files/Anaconda3/envs/tfgpu/lib/site-packages/keras/utils/tf_utils.py?line\u003d556\u0027\u003e557\u003c/a\u003e\u001b[0m     t \u001b[39m\u003d\u001b[39m t\u001b[39m.\u001b[39;49mnumpy()\n\u001b[0;32m    \u003ca href\u003d\u0027file:///d%3A/Program%20Files/Anaconda3/envs/tfgpu/lib/site-packages/keras/utils/tf_utils.py?line\u003d557\u0027\u003e558\u003c/a\u003e\u001b[0m   \u001b[39m# Strings, ragged and sparse tensors don\u0027t have .item(). Return them as-is.\u001b[39;00m\n\u001b[0;32m    \u003ca href\u003d\u0027file:///d%3A/Program%20Files/Anaconda3/envs/tfgpu/lib/site-packages/keras/utils/tf_utils.py?line\u003d558\u0027\u003e559\u003c/a\u003e\u001b[0m   \u001b[39mif\u001b[39;00m \u001b[39mnot\u001b[39;00m \u001b[39misinstance\u001b[39m(t, (np\u001b[39m.\u001b[39mndarray, np\u001b[39m.\u001b[39mgeneric)):\n",
            "File \u001b[1;32mD:\\Program Files\\Anaconda3\\envs\\tfgpu\\lib\\site-packages\\tensorflow\\python\\framework\\ops.py:1223\u001b[0m, in \u001b[0;36m_EagerTensorBase.numpy\u001b[1;34m(self)\u001b[0m\n\u001b[0;32m   \u003ca href\u003d\u0027file:///d%3A/Program%20Files/Anaconda3/envs/tfgpu/lib/site-packages/tensorflow/python/framework/ops.py?line\u003d1199\u0027\u003e1200\u003c/a\u003e\u001b[0m \u001b[39m\"\"\"Copy of the contents of this Tensor into a NumPy array or scalar.\u001b[39;00m\n\u001b[0;32m   \u003ca href\u003d\u0027file:///d%3A/Program%20Files/Anaconda3/envs/tfgpu/lib/site-packages/tensorflow/python/framework/ops.py?line\u003d1200\u0027\u003e1201\u003c/a\u003e\u001b[0m \n\u001b[0;32m   \u003ca href\u003d\u0027file:///d%3A/Program%20Files/Anaconda3/envs/tfgpu/lib/site-packages/tensorflow/python/framework/ops.py?line\u003d1201\u0027\u003e1202\u003c/a\u003e\u001b[0m \u001b[39mUnlike NumPy arrays, Tensors are immutable, so this method has to copy\u001b[39;00m\n\u001b[1;32m   (...)\u001b[0m\n\u001b[0;32m   \u003ca href\u003d\u0027file:///d%3A/Program%20Files/Anaconda3/envs/tfgpu/lib/site-packages/tensorflow/python/framework/ops.py?line\u003d1219\u0027\u003e1220\u003c/a\u003e\u001b[0m \u001b[39m    NumPy dtype.\u001b[39;00m\n\u001b[0;32m   \u003ca href\u003d\u0027file:///d%3A/Program%20Files/Anaconda3/envs/tfgpu/lib/site-packages/tensorflow/python/framework/ops.py?line\u003d1220\u0027\u003e1221\u003c/a\u003e\u001b[0m \u001b[39m\"\"\"\u001b[39;00m\n\u001b[0;32m   \u003ca href\u003d\u0027file:///d%3A/Program%20Files/Anaconda3/envs/tfgpu/lib/site-packages/tensorflow/python/framework/ops.py?line\u003d1221\u0027\u003e1222\u003c/a\u003e\u001b[0m \u001b[39m# TODO(slebedev): Consider avoiding a copy for non-CPU or remote tensors.\u001b[39;00m\n\u001b[1;32m-\u003e \u003ca href\u003d\u0027file:///d%3A/Program%20Files/Anaconda3/envs/tfgpu/lib/site-packages/tensorflow/python/framework/ops.py?line\u003d1222\u0027\u003e1223\u003c/a\u003e\u001b[0m maybe_arr \u001b[39m\u003d\u001b[39m \u001b[39mself\u001b[39;49m\u001b[39m.\u001b[39;49m_numpy()  \u001b[39m# pylint: disable\u003dprotected-access\u001b[39;00m\n\u001b[0;32m   \u003ca href\u003d\u0027file:///d%3A/Program%20Files/Anaconda3/envs/tfgpu/lib/site-packages/tensorflow/python/framework/ops.py?line\u003d1223\u0027\u003e1224\u003c/a\u003e\u001b[0m \u001b[39mreturn\u001b[39;00m maybe_arr\u001b[39m.\u001b[39mcopy() \u001b[39mif\u001b[39;00m \u001b[39misinstance\u001b[39m(maybe_arr, np\u001b[39m.\u001b[39mndarray) \u001b[39melse\u001b[39;00m maybe_arr\n",
            "File \u001b[1;32mD:\\Program Files\\Anaconda3\\envs\\tfgpu\\lib\\site-packages\\tensorflow\\python\\framework\\ops.py:1189\u001b[0m, in \u001b[0;36m_EagerTensorBase._numpy\u001b[1;34m(self)\u001b[0m\n\u001b[0;32m   \u003ca href\u003d\u0027file:///d%3A/Program%20Files/Anaconda3/envs/tfgpu/lib/site-packages/tensorflow/python/framework/ops.py?line\u003d1186\u0027\u003e1187\u003c/a\u003e\u001b[0m \u001b[39mdef\u001b[39;00m \u001b[39m_numpy\u001b[39m(\u001b[39mself\u001b[39m):\n\u001b[0;32m   \u003ca href\u003d\u0027file:///d%3A/Program%20Files/Anaconda3/envs/tfgpu/lib/site-packages/tensorflow/python/framework/ops.py?line\u003d1187\u0027\u003e1188\u003c/a\u003e\u001b[0m   \u001b[39mtry\u001b[39;00m:\n\u001b[1;32m-\u003e \u003ca href\u003d\u0027file:///d%3A/Program%20Files/Anaconda3/envs/tfgpu/lib/site-packages/tensorflow/python/framework/ops.py?line\u003d1188\u0027\u003e1189\u003c/a\u003e\u001b[0m     \u001b[39mreturn\u001b[39;00m \u001b[39mself\u001b[39;49m\u001b[39m.\u001b[39;49m_numpy_internal()\n\u001b[0;32m   \u003ca href\u003d\u0027file:///d%3A/Program%20Files/Anaconda3/envs/tfgpu/lib/site-packages/tensorflow/python/framework/ops.py?line\u003d1189\u0027\u003e1190\u003c/a\u003e\u001b[0m   \u001b[39mexcept\u001b[39;00m core\u001b[39m.\u001b[39m_NotOkStatusException \u001b[39mas\u001b[39;00m e:  \u001b[39m# pylint: disable\u003dprotected-access\u001b[39;00m\n\u001b[0;32m   \u003ca href\u003d\u0027file:///d%3A/Program%20Files/Anaconda3/envs/tfgpu/lib/site-packages/tensorflow/python/framework/ops.py?line\u003d1190\u0027\u003e1191\u003c/a\u003e\u001b[0m     \u001b[39mraise\u001b[39;00m core\u001b[39m.\u001b[39m_status_to_exception(e) \u001b[39mfrom\u001b[39;00m \u001b[39mNone\u001b[39m\n",
            "\u001b[1;31mKeyboardInterrupt\u001b[0m: "
          ]
        }
      ],
      "source": "RUN \u003d 1\nif RUN:     # Run new experiments\n    # Set the function to classify data without denoising\n    lab.set_experiment_no_denoising(experiment_without_denoising)\n\n    # Set the function to classify data with denoising\n    lab.set_experiment_with_denoising(experiment_with_denoising)\n\n    print(\"-------------- No noisy training sets ----------\")\n    lab.do_batch_experiments(origin_train_set_sizes)\n\n    print(\"-------------- Noisy training sets -------------\")\n    lab.do_batch_experiments(noisy_train_set_sizes)\n\n    # Save the evaluations of lab\n    lab.save(lab_filename)\n\nelse:       # Load evaluations saved by previous experiments\n    lab \u003d Lab.load(lab_filename)\n"
    },
    {
      "cell_type": "markdown",
      "metadata": {
        "pycharm": {
          "metadata": false
        }
      },
      "source": "# Show evaluations"
    },
    {
      "cell_type": "code",
      "execution_count": null,
      "metadata": {
        "pycharm": {
          "metadata": false,
          "name": "#%%\n"
        }
      },
      "outputs": [],
      "source": [
        "# In a form\n",
        "lab.print()\n",
        "\n",
        "# In a plot\n",
        "lab.plot()\n"
      ]
    }
  ],
  "metadata": {
    "kernelspec": {
      "display_name": "Python 3",
      "language": "python",
      "name": "python3"
    },
    "language_info": {
      "codemirror_mode": {
        "name": "ipython",
        "version": 3
      },
      "file_extension": ".py",
      "mimetype": "text/x-python",
      "name": "python",
      "nbconvert_exporter": "python",
      "pygments_lexer": "ipython3",
      "version": "3.8.13"
    },
    "stem_cell": {
      "cell_type": "raw",
      "metadata": {
        "pycharm": {
          "metadata": false
        }
      },
      "source": ""
    }
  },
  "nbformat": 4,
  "nbformat_minor": 5
}