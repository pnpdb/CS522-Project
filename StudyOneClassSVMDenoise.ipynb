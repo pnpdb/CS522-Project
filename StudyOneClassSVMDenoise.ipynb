{
 "cells": [
  {
   "cell_type": "markdown",
   "id": "79799332-2277-4bfe-98b4-58ce2271d693",
   "metadata": {},
   "source": [
    "# Study Local Outlier Factor\n",
    "Local Outlier Factor"
   ]
  },
  {
   "cell_type": "code",
   "execution_count": 2,
   "id": "973b8689-f546-4d74-9155-4ac6400d4bae",
   "metadata": {},
   "outputs": [],
   "source": [
    "import numpy as np\n",
    "import pandas as pd\n",
    "from sklearn.neighbors import LocalOutlierFactor\n",
    "from Common.DataCenter import data_center"
   ]
  },
  {
   "cell_type": "markdown",
   "id": "803dfda0-0dfd-492a-976d-35b6d638f5d7",
   "metadata": {},
   "source": [
    "现在构造一部分数据点"
   ]
  },
  {
   "cell_type": "code",
   "execution_count": 3,
   "id": "0e39d889-e881-4896-8ceb-a9080ca47c67",
   "metadata": {},
   "outputs": [
    {
     "data": {
      "text/plain": [
       "array([ 1,  1, -1,  1])"
      ]
     },
     "execution_count": 3,
     "metadata": {},
     "output_type": "execute_result"
    }
   ],
   "source": [
    "X = [[-1.1], [0.2], [101.1], [0.3]]\n",
    "clf = LocalOutlierFactor(n_neighbors=2)\n",
    "clf.fit_predict(X)"
   ]
  },
  {
   "cell_type": "markdown",
   "id": "f8f0042e-4ed4-419d-9228-c9e872ce3d57",
   "metadata": {},
   "source": [
    "我们能看得出来，最大的那个101.1被认为是outlier，看起来很不错，现在使用我们的数据"
   ]
  },
  {
   "cell_type": "code",
   "execution_count": null,
   "id": "e6cee362-def9-4ada-a6d1-c0acdea06987",
   "metadata": {},
   "outputs": [],
   "source": [
    "trainDF = dc.get_train_with_noisy_df(4000, 1000, train_distribution)\n",
    "trainDF.reset_index(drop=True, inplace=True)"
   ]
  }
 ],
 "metadata": {
  "kernelspec": {
   "display_name": "tensorflow_gpu",
   "language": "python",
   "name": "tensorflow_gpu"
  },
  "language_info": {
   "codemirror_mode": {
    "name": "ipython",
    "version": 3
   },
   "file_extension": ".py",
   "mimetype": "text/x-python",
   "name": "python",
   "nbconvert_exporter": "python",
   "pygments_lexer": "ipython3",
   "version": "3.9.12"
  }
 },
 "nbformat": 4,
 "nbformat_minor": 5
}
