{
 "cells": [
  {
   "cell_type": "markdown",
   "id": "ac875a5d",
   "metadata": {
    "pycharm": {
     "metadata": false
    }
   },
   "source": [
    "# SVM - Climate Sentiment Multiclass Classification\n",
    "## CS522 Project\n",
    "SVM with Count Vectorizer"
   ]
  },
  {
   "cell_type": "markdown",
   "id": "15c04439",
   "metadata": {
    "pycharm": {
     "metadata": false
    }
   },
   "source": [
    "### Dataset: \n",
    "https://www.kaggle.com/code/luiskalckstein/climate-sentiment-multiclass-classification"
   ]
  },
  {
   "cell_type": "markdown",
   "id": "98c9502e",
   "metadata": {
    "pycharm": {
     "metadata": false
    }
   },
   "source": [
    "### Imports"
   ]
  },
  {
   "cell_type": "code",
   "execution_count": 1,
   "id": "a471b8ce",
   "metadata": {
    "pycharm": {
     "metadata": false,
     "name": "#%%\n"
    }
   },
   "outputs": [
    {
     "name": "stdout",
     "output_type": "stream",
     "text": [
      "time: 134 µs (started: 2022-04-09 16:51:37 +08:00)\n"
     ]
    }
   ],
   "source": [
    "from sklearn.feature_extraction.text import TfidfVectorizer\n",
    "from sklearn.preprocessing import MultiLabelBinarizer\n",
    "from sklearn.multiclass import OneVsRestClassifier\n",
    "from sklearn.metrics import precision_score, recall_score, f1_score, confusion_matrix\n",
    "from sklearn.svm import LinearSVC,SVC\n",
    "from sklearn.feature_extraction.text import CountVectorizer\n",
    "from sklearn.decomposition import TruncatedSVD\n",
    "from Common.DataCenter import data_center\n",
    "from Common.LSI import SKLearnLSA\n",
    "from Common.UtilFuncs import DataSize\n",
    "from Common.UtilFuncs import print_evaluation, EvaluationToDF\n",
    "import pandas as pd\n",
    "\n",
    "TrainSizeBaseLine = DataSize.GetTrainSizeBaseline()\n",
    "TrainSizeWithNoisyData = DataSize.GetTrainSizeWithNoisyData()\n",
    "TestDataSize = DataSize.GetTestDataSize()\n",
    "NoiseDataSize = DataSize.GetNoiseDataSize()\n",
    "ValidationDataSize = DataSize.GetValidationDataSize()\n",
    "\n",
    "%matplotlib inline\n",
    "try:\n",
    "    %load_ext autotime\n",
    "except:\n",
    "    !pip install ipython-autotime\n",
    "    %load_ext autotime"
   ]
  },
  {
   "cell_type": "markdown",
   "id": "c65bb9a6",
   "metadata": {
    "pycharm": {
     "metadata": false
    }
   },
   "source": [
    "### Text preprocessing"
   ]
  },
  {
   "cell_type": "code",
   "execution_count": 2,
   "id": "5b97cc85",
   "metadata": {
    "pycharm": {
     "metadata": false,
     "name": "#%%\n"
    }
   },
   "outputs": [
    {
     "name": "stdout",
     "output_type": "stream",
     "text": [
      "time: 351 µs (started: 2022-04-09 16:51:37 +08:00)\n"
     ]
    }
   ],
   "source": [
    "# parameter: original X of training set and test set\n",
    "# return:  vectorised X of training set and test set\n",
    "def text_preprocessing(X_train, X_test):\n",
    "    # Convert texts to vectors\n",
    "    vectorizer = CountVectorizer(min_df = 1, stop_words = 'english')\n",
    "    X_train_vec = vectorizer.fit_transform(X_train)\n",
    "    X_test_vec = vectorizer.transform(X_test)\n",
    "    X_train_vec = X_train_vec.astype(float)\n",
    "    X_test_vec = X_test_vec.astype(float)\n",
    "\n",
    "\n",
    "    return X_train_vec, X_test_vec\n"
   ]
  },
  {
   "cell_type": "markdown",
   "id": "ff9a754f",
   "metadata": {
    "pycharm": {
     "metadata": false
    }
   },
   "source": [
    "### One-hot encoding, convert the labels to vectors (4 x 1) each"
   ]
  },
  {
   "cell_type": "code",
   "execution_count": 3,
   "id": "167ffdc7",
   "metadata": {
    "pycharm": {
     "metadata": false,
     "name": "#%%\n"
    }
   },
   "outputs": [
    {
     "name": "stdout",
     "output_type": "stream",
     "text": [
      "time: 295 µs (started: 2022-04-09 16:51:37 +08:00)\n"
     ]
    }
   ],
   "source": [
    "# parameter: original y of training set, original y of test set\n",
    "# return:  encoded y of training set and test set\n",
    "def one_hot_encoding(y_train, y_test):\n",
    "    mlb          = MultiLabelBinarizer()\n",
    "    y_train_vec  = mlb.fit_transform(map(str, y_train))\n",
    "    y_test_vec   = mlb.transform(map(str, y_test))\n",
    "    return y_train_vec, y_test_vec\n"
   ]
  },
  {
   "cell_type": "markdown",
   "id": "a16eefc7",
   "metadata": {
    "pycharm": {
     "metadata": false
    }
   },
   "source": [
    "### Run SVM and evaluate the results"
   ]
  },
  {
   "cell_type": "code",
   "execution_count": 4,
   "id": "fc133f80",
   "metadata": {
    "pycharm": {
     "metadata": false,
     "name": "#%%\n"
    }
   },
   "outputs": [
    {
     "name": "stdout",
     "output_type": "stream",
     "text": [
      "time: 489 µs (started: 2022-04-09 16:51:37 +08:00)\n"
     ]
    }
   ],
   "source": [
    "# parameter:  vectorised X and encoded y of training set and test set\n",
    "def evaluate_SVM(X_train_vec, y_train_vec, X_test_vec, y_test_vec):\n",
    "    # Run SVM - fit and predict\n",
    "    SVM             = OneVsRestClassifier(LinearSVC(dual=False, class_weight='balanced'), n_jobs=-1)\n",
    "    #SVM = OneVsRestClassifier(SVC(gamma='auto'), n_jobs=-1)\n",
    "    SVM.fit(X_train_vec, y_train_vec)\n",
    "    prediction      = SVM.predict(X_test_vec)\n",
    "    print_evaluation(y_test_vec, prediction)\n",
    "    \n",
    "    # Evaluate the results\n",
    "    macro_f1        = f1_score(y_test_vec, prediction, average='macro')\n",
    "    weighted_f1     = f1_score(y_test_vec, prediction, average='weighted')\n",
    "    macro_precision = precision_score(y_test_vec, prediction, average='macro')\n",
    "    macro_recall    = recall_score(y_test_vec, prediction, average='macro')\n",
    "\n",
    "    return macro_f1, weighted_f1, macro_precision, macro_recall\n"
   ]
  },
  {
   "cell_type": "markdown",
   "id": "348e3459",
   "metadata": {
    "pycharm": {
     "metadata": false
    }
   },
   "source": [
    "### Do an experiment"
   ]
  },
  {
   "cell_type": "code",
   "execution_count": 5,
   "id": "52dbb13f",
   "metadata": {
    "pycharm": {
     "metadata": false,
     "name": "#%%\n"
    }
   },
   "outputs": [
    {
     "name": "stdout",
     "output_type": "stream",
     "text": [
      "time: 410 µs (started: 2022-04-09 16:51:37 +08:00)\n"
     ]
    }
   ],
   "source": [
    "# Parameter: original X,y of training set and test set\n",
    "def do_experiment(X_train, y_train, X_test, y_test):\n",
    "    # Convert texts to vectors\n",
    "    X_train_vec, X_test_vec = text_preprocessing(X_train, X_test)\n",
    "    y_train_vec, y_test_vec = one_hot_encoding(y_train, y_test)\n",
    "\n",
    "    # Run SVM and evaluate the results\n",
    "    macro_f1, weighted_f1, macro_precision, macro_recall = \\\n",
    "        evaluate_SVM(X_train_vec, y_train_vec, X_test_vec, y_test_vec)\n",
    "\n",
    "    # Show the indicators\n",
    "    #print(\" macro_f1: %.4f , weighted_f1: %.4f, macro_precision: %.4f, macro_recall: %.4f\" %\n",
    "    #      (macro_f1, weighted_f1, macro_precision, macro_recall))\n",
    "    return X_train_vec\n"
   ]
  },
  {
   "cell_type": "markdown",
   "id": "467ba834-9a4f-43fd-b8e4-7ead5da8a74f",
   "metadata": {
    "pycharm": {
     "metadata": false
    }
   },
   "source": [
    "### Main entry"
   ]
  },
  {
   "cell_type": "code",
   "execution_count": 6,
   "id": "e478a702-fa64-4874-be3e-ddfd558fccb5",
   "metadata": {
    "pycharm": {
     "metadata": false,
     "name": "#%%\n"
    }
   },
   "outputs": [
    {
     "name": "stdout",
     "output_type": "stream",
     "text": [
      "####################################################\n",
      "Total data size:  40908\n",
      "Total train data size:  30908\n",
      "Total test data size:  4000\n",
      "time: 122 ms (started: 2022-04-09 16:51:37 +08:00)\n"
     ]
    }
   ],
   "source": [
    "\n",
    "noisy_set_sizes = {\n",
    "    'mislabeled' : 5000,   # max size: 15000\n",
    "    'irrelevant' : 5000,   # max size: 34259\n",
    "    'translated' : 5000,   # max size: 5000\n",
    "}\n",
    "\n",
    "# Load the database and split it into training set, test set, noisy set, validation set\n",
    "dc = data_center(\"twitter_sentiment_data_clean.csv\", test_size = 4000, validation_size = 1000,\n",
    "                 noisy_size = noisy_set_sizes['mislabeled'])\n",
    "\n",
    "print(\"####################################################\")\n",
    "print(\"Total data size: \",       dc.get_len())\n",
    "print(\"Total train data size: \", dc.get_train_len())\n",
    "print(\"Total test data size: \",  dc.get_test_len())"
   ]
  },
  {
   "cell_type": "markdown",
   "id": "10d64a56-a46e-40d8-916f-52f719f5e9af",
   "metadata": {
    "pycharm": {
     "metadata": false
    }
   },
   "source": [
    "**Get the test set for evaluation**"
   ]
  },
  {
   "cell_type": "code",
   "execution_count": 7,
   "id": "286b9be2-8fd2-459c-8ad4-02aff8baffd4",
   "metadata": {
    "pycharm": {
     "metadata": false,
     "name": "#%%\n"
    }
   },
   "outputs": [
    {
     "name": "stdout",
     "output_type": "stream",
     "text": [
      "time: 4.3 ms (started: 2022-04-09 16:51:37 +08:00)\n"
     ]
    }
   ],
   "source": [
    "X_test, y_test = dc.get_test()\n"
   ]
  },
  {
   "cell_type": "markdown",
   "id": "136b1728-af24-49f9-a023-7978c4d1fa8f",
   "metadata": {
    "pycharm": {
     "metadata": false
    }
   },
   "source": [
    "**Set distributions of training set.**"
   ]
  },
  {
   "cell_type": "code",
   "execution_count": 8,
   "id": "40b88ac7-03d4-4033-91e3-c6e8f5ff11c7",
   "metadata": {
    "pycharm": {
     "metadata": false,
     "name": "#%%\n"
    }
   },
   "outputs": [
    {
     "name": "stdout",
     "output_type": "stream",
     "text": [
      "time: 218 µs (started: 2022-04-09 16:51:37 +08:00)\n"
     ]
    }
   ],
   "source": [
    "# distribution of training set\n",
    "train_distribution = None\n"
   ]
  },
  {
   "cell_type": "markdown",
   "id": "b293d045-0d9f-4b1b-883e-0af687da893b",
   "metadata": {
    "pycharm": {
     "metadata": false
    }
   },
   "source": [
    "**Prepare the noisy set.**"
   ]
  },
  {
   "cell_type": "code",
   "execution_count": 9,
   "id": "11150421-550c-4d60-9c49-db513fc0ef41",
   "metadata": {
    "pycharm": {
     "metadata": false,
     "name": "#%%\n"
    }
   },
   "outputs": [
    {
     "name": "stdout",
     "output_type": "stream",
     "text": [
      "Noisy set size is 5000\n",
      "5000 noisy samples added\n",
      "5000 noisy samples added\n",
      "Noisy set new size is 15000\n",
      "time: 322 ms (started: 2022-04-09 16:51:37 +08:00)\n"
     ]
    }
   ],
   "source": [
    "lstNoisyInfo = [(\"mislabeled\",dc.get_noisy_len())]\n",
    "print(\"Noisy set size is %d\"                % dc.get_noisy_len())\n",
    "\n",
    "# add the external noisy data (irrelevant texts)\n",
    "# distribution of irrelevant noisy\n",
    "irrelevant_noisy_distribution = [0.25, 0.25, 0.25, 0.25]    # None, if use the distribution of original set\n",
    "added_size = dc.add_noisy(noisy_source=\"irrelevant\", distribution = irrelevant_noisy_distribution,\n",
    "                          size = noisy_set_sizes['irrelevant'])\n",
    "print(\"%d noisy samples added\" % added_size)\n",
    "lstNoisyInfo.append((\"irrelevant\",added_size))\n",
    "\n",
    "# add the external noisy data (translated texts). use the labels of each noisy data\n",
    "added_size = dc.add_noisy(noisy_source=\"translated\", distribution = \"reserve_labels\", \n",
    "                          size = noisy_set_sizes['translated'])\n",
    "print(\"%d noisy samples added\" % added_size)\n",
    "lstNoisyInfo.append((\"translated\",added_size))\n",
    "\n",
    "print(\"Noisy set new size is %d\"                % dc.get_noisy_len())\n",
    "\n"
   ]
  },
  {
   "cell_type": "markdown",
   "id": "015241db-0ad7-41bd-98c4-618c43e7f660",
   "metadata": {
    "pycharm": {
     "metadata": false
    }
   },
   "source": [
    "**Load the database and split it into training set, test set, noisy set, validation set**"
   ]
  },
  {
   "cell_type": "markdown",
   "id": "d4c83030-b009-4ef0-980c-cacc795b8c51",
   "metadata": {
    "pycharm": {
     "metadata": false
    }
   },
   "source": [
    "**Get the test set for evaluation**"
   ]
  },
  {
   "cell_type": "markdown",
   "id": "5dd91d73-8c0a-40a2-bc2a-68f6ee5aeb81",
   "metadata": {
    "pycharm": {
     "metadata": false
    }
   },
   "source": [
    "**Run experiments with different training sets, and use the same test set.**"
   ]
  },
  {
   "cell_type": "code",
   "execution_count": 10,
   "id": "3e478b3a-8751-48b4-a0f7-c7549c4fde63",
   "metadata": {
    "pycharm": {
     "metadata": false,
     "name": "#%%\n"
    }
   },
   "outputs": [
    {
     "name": "stdout",
     "output_type": "stream",
     "text": [
      "-----------------------------------------------\n",
      "Training set size: 2000 samples (6.5%): \n",
      "  f1 of classes: [0.254, 0.402, 0.657, 0.599]\n",
      "  micro_f1: 0.571 , macro_f1: 0.478 , weighted_f1: 0.560, macro_precision: 0.594, macro_recall: 0.421\n",
      "Training set size: 4000 samples (12.9%): \n",
      "  f1 of classes: [0.366, 0.43, 0.701, 0.651]\n",
      "  micro_f1: 0.618 , macro_f1: 0.537 , weighted_f1: 0.609, macro_precision: 0.613, macro_recall: 0.489\n",
      "Training set size: 5000 samples (16.2%): \n",
      "  f1 of classes: [0.411, 0.448, 0.7, 0.665]\n",
      "  micro_f1: 0.625 , macro_f1: 0.556 , weighted_f1: 0.619, macro_precision: 0.617, macro_recall: 0.514\n",
      "Training set size: 8000 samples (25.9%): \n",
      "  f1 of classes: [0.424, 0.461, 0.714, 0.676]\n",
      "  micro_f1: 0.637 , macro_f1: 0.569 , weighted_f1: 0.632, macro_precision: 0.624, macro_recall: 0.531\n",
      "Training set size: 10000 samples (32.4%): \n",
      "  f1 of classes: [0.467, 0.476, 0.715, 0.683]\n",
      "  micro_f1: 0.644 , macro_f1: 0.585 , weighted_f1: 0.641, macro_precision: 0.633, macro_recall: 0.551\n",
      "Training set size: 15000 samples (48.5%): \n",
      "  f1 of classes: [0.468, 0.5, 0.723, 0.705]\n",
      "  micro_f1: 0.657 , macro_f1: 0.599 , weighted_f1: 0.654, macro_precision: 0.642, macro_recall: 0.568\n",
      "Training set size: 20000 samples (64.7%): \n",
      "  f1 of classes: [0.504, 0.518, 0.742, 0.714]\n",
      "  micro_f1: 0.674 , macro_f1: 0.620 , weighted_f1: 0.672, macro_precision: 0.648, macro_recall: 0.599\n",
      "-----------------------------------------------\n",
      "Noisy training set size: 5000 samples (4000 original, 1000 noisy)\n"
     ]
    },
    {
     "name": "stderr",
     "output_type": "stream",
     "text": [
      "/Users/guopei/miniforge3/envs/tf2/lib/python3.9/site-packages/sklearn/svm/_base.py:1206: ConvergenceWarning: Liblinear failed to converge, increase the number of iterations.\n",
      "  warnings.warn(\n",
      "/Users/guopei/miniforge3/envs/tf2/lib/python3.9/site-packages/sklearn/svm/_base.py:1206: ConvergenceWarning: Liblinear failed to converge, increase the number of iterations.\n",
      "  warnings.warn(\n"
     ]
    },
    {
     "name": "stdout",
     "output_type": "stream",
     "text": [
      "  f1 of classes: [0.358, 0.389, 0.681, 0.619]\n",
      "  micro_f1: 0.590 , macro_f1: 0.512 , weighted_f1: 0.584, macro_precision: 0.579, macro_recall: 0.463\n",
      "Noisy training set size: 10000 samples (8000 original, 2000 noisy)\n"
     ]
    },
    {
     "name": "stderr",
     "output_type": "stream",
     "text": [
      "/Users/guopei/miniforge3/envs/tf2/lib/python3.9/site-packages/sklearn/svm/_base.py:1206: ConvergenceWarning: Liblinear failed to converge, increase the number of iterations.\n",
      "  warnings.warn(\n",
      "/Users/guopei/miniforge3/envs/tf2/lib/python3.9/site-packages/sklearn/svm/_base.py:1206: ConvergenceWarning: Liblinear failed to converge, increase the number of iterations.\n",
      "  warnings.warn(\n",
      "/Users/guopei/miniforge3/envs/tf2/lib/python3.9/site-packages/sklearn/svm/_base.py:1206: ConvergenceWarning: Liblinear failed to converge, increase the number of iterations.\n",
      "  warnings.warn(\n"
     ]
    },
    {
     "name": "stdout",
     "output_type": "stream",
     "text": [
      "  f1 of classes: [0.436, 0.442, 0.689, 0.635]\n",
      "  micro_f1: 0.610 , macro_f1: 0.551 , weighted_f1: 0.608, macro_precision: 0.592, macro_recall: 0.515\n",
      "Noisy training set size: 20000 samples (15000 original, 5000 noisy)\n"
     ]
    },
    {
     "name": "stderr",
     "output_type": "stream",
     "text": [
      "/Users/guopei/miniforge3/envs/tf2/lib/python3.9/site-packages/sklearn/svm/_base.py:1206: ConvergenceWarning: Liblinear failed to converge, increase the number of iterations.\n",
      "  warnings.warn(\n",
      "/Users/guopei/miniforge3/envs/tf2/lib/python3.9/site-packages/sklearn/svm/_base.py:1206: ConvergenceWarning: Liblinear failed to converge, increase the number of iterations.\n",
      "  warnings.warn(\n",
      "/Users/guopei/miniforge3/envs/tf2/lib/python3.9/site-packages/sklearn/svm/_base.py:1206: ConvergenceWarning: Liblinear failed to converge, increase the number of iterations.\n",
      "  warnings.warn(\n"
     ]
    },
    {
     "name": "stdout",
     "output_type": "stream",
     "text": [
      "  f1 of classes: [0.417, 0.443, 0.691, 0.644]\n",
      "  micro_f1: 0.610 , macro_f1: 0.549 , weighted_f1: 0.610, macro_precision: 0.575, macro_recall: 0.526\n",
      "time: 23 s (started: 2022-04-09 16:51:38 +08:00)\n"
     ]
    },
    {
     "name": "stderr",
     "output_type": "stream",
     "text": [
      "/Users/guopei/miniforge3/envs/tf2/lib/python3.9/site-packages/sklearn/svm/_base.py:1206: ConvergenceWarning: Liblinear failed to converge, increase the number of iterations.\n",
      "  warnings.warn(\n"
     ]
    }
   ],
   "source": [
    "print(\"-----------------------------------------------\")\n",
    "for size in TrainSizeBaseLine:\n",
    "    # Get a training set without noisy data\n",
    "    X_train, y_train = dc.get_train(size, train_distribution)\n",
    "    print(\"Training set size: %d samples (%.1f%%): \" % (len(X_train), len(y_train)/dc.get_train_len()*100))\n",
    "\n",
    "    # Do an experiment\n",
    "    do_experiment(X_train, y_train, X_test, y_test)\n",
    "\n",
    "print(\"-----------------------------------------------\")\n",
    "xtrainvec = None\n",
    "for size in TrainSizeWithNoisyData:\n",
    "    # Get a noisy training set\n",
    "    X_train, y_train = dc.get_train_with_noisy(size[0], size[1], train_distribution)\n",
    "    print(\"Noisy training set size: %d samples (%d original, %d noisy)\" % (len(y_train), size[0], size[1]))\n",
    "\n",
    "    # Do an experiment\n",
    "    xtrainvec = do_experiment(X_train, y_train, X_test, y_test)"
   ]
  },
  {
   "cell_type": "code",
   "execution_count": null,
   "id": "55310e6c-714b-40ae-b4ed-726923d828af",
   "metadata": {
    "pycharm": {
     "metadata": false
    }
   },
   "outputs": [],
   "source": []
  }
 ],
 "metadata": {
  "kernelspec": {
   "display_name": "tensorflow_gpu",
   "language": "python",
   "name": "tensorflow_gpu"
  },
  "language_info": {
   "codemirror_mode": {
    "name": "ipython",
    "version": 3
   },
   "file_extension": ".py",
   "mimetype": "text/x-python",
   "name": "python",
   "nbconvert_exporter": "python",
   "pygments_lexer": "ipython3",
   "version": "3.9.12"
  },
  "stem_cell": {
   "cell_type": "raw",
   "metadata": {
    "pycharm": {
     "metadata": false
    }
   },
   "source": ""
  }
 },
 "nbformat": 4,
 "nbformat_minor": 5
}
