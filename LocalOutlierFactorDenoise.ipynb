{
 "cells": [
  {
   "cell_type": "markdown",
   "id": "6617e59d",
   "metadata": {
    "pycharm": {
     "metadata": false
    }
   },
   "source": [
    "# SVM - Climate Sentiment Multiclass Classification\n",
    "## CS522 Project"
   ]
  },
  {
   "cell_type": "markdown",
   "id": "0bfbb976-dff0-489d-b675-31ba55f872c5",
   "metadata": {},
   "source": [
    "Local Outlier Factor Denoise"
   ]
  },
  {
   "cell_type": "markdown",
   "id": "2a096dc5",
   "metadata": {
    "pycharm": {
     "metadata": false
    }
   },
   "source": [
    "### Dataset: \n",
    "https://www.kaggle.com/code/luiskalckstein/climate-sentiment-multiclass-classification"
   ]
  },
  {
   "cell_type": "markdown",
   "id": "130b788e",
   "metadata": {
    "pycharm": {
     "metadata": false
    }
   },
   "source": [
    "### Imports"
   ]
  },
  {
   "cell_type": "code",
   "execution_count": 1,
   "id": "7d3915c3",
   "metadata": {
    "pycharm": {
     "metadata": false,
     "name": "#%%\n"
    }
   },
   "outputs": [],
   "source": [
    "import numpy as np\n",
    "from sklearn.feature_extraction.text import TfidfVectorizer\n",
    "from sklearn.preprocessing import MultiLabelBinarizer\n",
    "from sklearn.multiclass import OneVsRestClassifier\n",
    "from sklearn.svm import LinearSVC\n",
    "from sklearn.calibration import CalibratedClassifierCV\n",
    "from Common.DataCenter import data_center\n",
    "from Common.preprocessor import normalize_preprocessing\n",
    "from Common.UtilFuncs import print_evaluation, Evaluator\n",
    "from Common.LocalOutlierFactorMethod import LocalOutlierFactorMethod\n",
    "\n",
    "%matplotlib inline\n",
    "\n",
    "Ev  = Evaluator()\n"
   ]
  },
  {
   "cell_type": "markdown",
   "id": "d2d457a3",
   "metadata": {
    "pycharm": {
     "metadata": false
    },
    "tags": []
   },
   "source": [
    "### Text preprocessing"
   ]
  },
  {
   "cell_type": "code",
   "execution_count": 2,
   "id": "feeb1f79",
   "metadata": {
    "pycharm": {
     "metadata": false,
     "name": "#%%\n"
    }
   },
   "outputs": [],
   "source": [
    "# parameter: original X of training set and test set\n",
    "# return:  vectorised X of training set and test set\n",
    "def text_preprocessing(X_train, X_test):\n",
    "    # preprocessing with traditional NLP methodology\n",
    "    X_train_normalized = normalize_preprocessing(X_train)\n",
    "    X_test_normalized  = normalize_preprocessing(X_test)\n",
    "    \n",
    "    # vectorization\n",
    "    # Convert texts to vectors by TFIDF\n",
    "    vectorizer = TfidfVectorizer(ngram_range=(1,2))\n",
    "    X_train_vec  = vectorizer.fit_transform(X_train_normalized)\n",
    "    X_test_vec   = vectorizer.transform(X_test_normalized)\n",
    "      \n",
    "    return X_train_vec, X_test_vec"
   ]
  },
  {
   "cell_type": "markdown",
   "id": "9420835a",
   "metadata": {
    "pycharm": {
     "metadata": false
    }
   },
   "source": [
    "### One-hot encoding, convert the labels to vectors (4 x 1) each"
   ]
  },
  {
   "cell_type": "code",
   "execution_count": 3,
   "id": "b1a775d0",
   "metadata": {
    "pycharm": {
     "metadata": false,
     "name": "#%%\n"
    }
   },
   "outputs": [],
   "source": [
    "# parameter: original y of training set, original y of test set\n",
    "# return:  encoded y of training set and test set\n",
    "def one_hot_encoding(y_train, y_test):\n",
    "    mlb          = MultiLabelBinarizer()\n",
    "    y_train_vec  = mlb.fit_transform(map(str, y_train))\n",
    "    y_test_vec   = mlb.transform(map(str, y_test))\n",
    "    return y_train_vec, y_test_vec\n"
   ]
  },
  {
   "cell_type": "markdown",
   "id": "c9ce8530",
   "metadata": {
    "pycharm": {
     "metadata": false
    },
    "tags": []
   },
   "source": [
    "### Run SVM"
   ]
  },
  {
   "cell_type": "code",
   "execution_count": 4,
   "id": "56afce5b",
   "metadata": {
    "pycharm": {
     "metadata": false,
     "name": "#%%\n"
    }
   },
   "outputs": [],
   "source": [
    "# parameter:  vectorised X and encoded y of training set and test set\n",
    "def run_SVM(X_train_vec, y_train_vec, X_test_vec, y_test_vec):\n",
    "    # Run SVM - fit and predict\n",
    "    SVM             = OneVsRestClassifier(LinearSVC(dual=False, class_weight='balanced'), n_jobs=-1)\n",
    "    SVM.fit(X_train_vec, y_train_vec)\n",
    "    y_pred          = SVM.predict(X_test_vec)\n",
    "    return  y_pred\n"
   ]
  },
  {
   "cell_type": "markdown",
   "id": "acabcc21",
   "metadata": {
    "pycharm": {
     "metadata": false
    }
   },
   "source": [
    "### Do an experiment"
   ]
  },
  {
   "cell_type": "code",
   "execution_count": 5,
   "id": "f3ca444c",
   "metadata": {
    "pycharm": {
     "metadata": false,
     "name": "#%%\n"
    }
   },
   "outputs": [],
   "source": [
    "# Parameter: original X,y of training set and test set\n",
    "def do_experiment(X_train, y_train, X_test, y_test):\n",
    "    # Convert texts to vectors\n",
    "    X_train_vec, X_test_vec = text_preprocessing(X_train, X_test)\n",
    "    y_train_vec, y_test_vec = one_hot_encoding(y_train, y_test)\n",
    "\n",
    "    # Run SVM and evaluate the results\n",
    "    y_pred = run_SVM(X_train_vec, y_train_vec, X_test_vec, y_test_vec)\n",
    "\n",
    "    # Print the evaluation\n",
    "    print_evaluation(y_test_vec, y_pred, labels=[0,1,2,3])\n",
    "    evaluateDF = Ev.evaluate(y_test_vec, y_pred)\n",
    "    return evaluateDF\n",
    "\n",
    "# do an experiment with denoise\n",
    "# Parameter: original X,y of training set and test set\n",
    "def do_experiment_denoise( trainDF, X_train, y_train, X_test, y_test, dimension):\n",
    "    # Convert texts to vectors\n",
    "    X_train_vec, X_test_vec = text_preprocessing(X_train, X_test)\n",
    "    y_train_vec, y_test_vec = one_hot_encoding(y_train, y_test)\n",
    "\n",
    "    # LearningWithNoisyLabels require the classifier has the entry predict_proba()\n",
    "    # So, use CalibratedClassifierCV to wrap LinearSVC\n",
    "    #SVM = CalibratedClassifierCV(LinearSVC(dual=False, class_weight='balanced'))\n",
    "    SVM             = OneVsRestClassifier(LinearSVC(dual=False, class_weight='balanced'), n_jobs=-1)\n",
    "    \n",
    "    # clean noise in noisy data frame\n",
    "    denoiseMethod = LocalOutlierFactorMethod(3)\n",
    "    cleanTrainDF, clean_X_train_vec, clean_y_train = denoiseMethod.CleanDFNoise(trainDF, X_train_vec, y_train )\n",
    "    \n",
    "    SVM.fit(clean_X_train_vec, clean_y_train)\n",
    "    y_pred          = SVM.predict(X_test_vec)\n",
    "    \n",
    "\n",
    "    # Print the evaluation\n",
    "    # One hot encoding for print_evaluation()\n",
    "    _, y_pred = one_hot_encoding(y_train, y_pred)\n",
    "    print_evaluation(y_test_vec, y_pred, labels=[0,1,2,3])\n",
    "\n",
    "    evaluateDF = Ev.evaluate(y_test_vec, y_pred)\n",
    "    return evaluateDF\n"
   ]
  },
  {
   "cell_type": "markdown",
   "id": "2fc3e594",
   "metadata": {
    "pycharm": {
     "metadata": false
    }
   },
   "source": [
    "### Main entry\n",
    "**The settings of the noise sources.**"
   ]
  },
  {
   "cell_type": "code",
   "execution_count": 6,
   "id": "b806a554",
   "metadata": {
    "pycharm": {
     "metadata": false,
     "name": "#%%\n"
    }
   },
   "outputs": [],
   "source": [
    "#Each entry: source type and (size, distribution)\n",
    "noisy_set_sizes = {\n",
    "    'mislabeled' : (8000, None),                   # max size: 15000\n",
    "    'irrelevant' : (0, [0.25,0.25,0.25,0.25]),  # max size: 34259\n",
    "    'translated' : (0, \"reserve_labels\"),       # max size: 5000\n",
    "}\n"
   ]
  },
  {
   "cell_type": "markdown",
   "id": "53755c34",
   "metadata": {
    "pycharm": {
     "metadata": false
    }
   },
   "source": [
    "**Load the database and split it into training set, test set, noisy set, validation set**"
   ]
  },
  {
   "cell_type": "code",
   "execution_count": 7,
   "id": "66ab5074",
   "metadata": {
    "pycharm": {
     "metadata": false,
     "name": "#%%\n"
    }
   },
   "outputs": [],
   "source": [
    "# dc = data_center(\"twitter_sentiment_data_clean.csv\", train_size = 20000, test_size = 4000, validation_size = 1000,\n",
    "#                  noisy_size = noisy_set_sizes['mislabeled'][0] if 'mislabeled' in noisy_set_sizes.keys() else 0)\n",
    "\n",
    "# Load the database and split it into training set, test set, noisy set, validation set\n",
    "# Using noisy_set_sizes directly\n",
    "dc = data_center(\"twitter_sentiment_data_clean.csv\", train_size = 20000, test_size = 4000, validation_size = 1000,\n",
    "                 noisy_size = noisy_set_sizes)\n"
   ]
  },
  {
   "cell_type": "markdown",
   "id": "3cda0707",
   "metadata": {
    "pycharm": {
     "metadata": false
    }
   },
   "source": [
    "**Show the summary of the whole data**"
   ]
  },
  {
   "cell_type": "code",
   "execution_count": 8,
   "id": "0fc58ae4",
   "metadata": {
    "pycharm": {
     "metadata": false,
     "name": "#%%\n"
    }
   },
   "outputs": [
    {
     "name": "stdout",
     "output_type": "stream",
     "text": [
      "###################################### Data Summary #############################################\n",
      "  Original set size: 40908\n",
      "      sentiments ('Anti', 'Neutral', 'Pro', 'News'): 9.4%, 18.3%, 50.2%, 22.1%\n",
      "  Training set size: 20000\n",
      "  Test set size: 4000\n",
      "  Noisy set size: 8000\n",
      "  Validation set size: 1000\n",
      "      noise sources ('mislabeled', 'irrelevant', 'translated'): 100.0%, 0.0%, 0.0%\n",
      "##################################################################################################\n"
     ]
    }
   ],
   "source": [
    "dc.print_summary()\n"
   ]
  },
  {
   "cell_type": "markdown",
   "id": "4b9aef48",
   "metadata": {
    "pycharm": {
     "metadata": false
    }
   },
   "source": [
    "**To see the data features via a demo**"
   ]
  },
  {
   "cell_type": "code",
   "execution_count": 9,
   "id": "9edead72",
   "metadata": {
    "pycharm": {
     "metadata": false,
     "name": "#%%\n"
    }
   },
   "outputs": [
    {
     "data": {
      "text/html": [
       "<div>\n",
       "<style scoped>\n",
       "    .dataframe tbody tr th:only-of-type {\n",
       "        vertical-align: middle;\n",
       "    }\n",
       "\n",
       "    .dataframe tbody tr th {\n",
       "        vertical-align: top;\n",
       "    }\n",
       "\n",
       "    .dataframe thead th {\n",
       "        text-align: right;\n",
       "    }\n",
       "</style>\n",
       "<table border=\"1\" class=\"dataframe\">\n",
       "  <thead>\n",
       "    <tr style=\"text-align: right;\">\n",
       "      <th></th>\n",
       "      <th>noise</th>\n",
       "      <th>noise_text</th>\n",
       "      <th>sentiment</th>\n",
       "      <th>origin(sentiment)</th>\n",
       "      <th>tweetid(partial)</th>\n",
       "      <th>message(partial)</th>\n",
       "    </tr>\n",
       "  </thead>\n",
       "  <tbody>\n",
       "    <tr>\n",
       "      <th>0</th>\n",
       "      <td>1</td>\n",
       "      <td>mislabeled</td>\n",
       "      <td>2</td>\n",
       "      <td>0</td>\n",
       "      <td>701899</td>\n",
       "      <td>@CHEXNewswatch check out https</td>\n",
       "    </tr>\n",
       "    <tr>\n",
       "      <th>1</th>\n",
       "      <td>0</td>\n",
       "      <td>none</td>\n",
       "      <td>3</td>\n",
       "      <td>-1</td>\n",
       "      <td>605804</td>\n",
       "      <td>Obama to follow Al Gore into c</td>\n",
       "    </tr>\n",
       "    <tr>\n",
       "      <th>2</th>\n",
       "      <td>1</td>\n",
       "      <td>mislabeled</td>\n",
       "      <td>3</td>\n",
       "      <td>2</td>\n",
       "      <td>956485</td>\n",
       "      <td>@Patriot4545 The next take wil</td>\n",
       "    </tr>\n",
       "    <tr>\n",
       "      <th>3</th>\n",
       "      <td>0</td>\n",
       "      <td>none</td>\n",
       "      <td>2</td>\n",
       "      <td>-1</td>\n",
       "      <td>951653</td>\n",
       "      <td>umm ??? so itâ€™s basically su</td>\n",
       "    </tr>\n",
       "    <tr>\n",
       "      <th>4</th>\n",
       "      <td>1</td>\n",
       "      <td>mislabeled</td>\n",
       "      <td>2</td>\n",
       "      <td>3</td>\n",
       "      <td>951154</td>\n",
       "      <td>Germany provides â‚¬22m to add</td>\n",
       "    </tr>\n",
       "    <tr>\n",
       "      <th>5</th>\n",
       "      <td>1</td>\n",
       "      <td>mislabeled</td>\n",
       "      <td>2</td>\n",
       "      <td>3</td>\n",
       "      <td>856024</td>\n",
       "      <td>Warmer summers, unpredictable</td>\n",
       "    </tr>\n",
       "    <tr>\n",
       "      <th>6</th>\n",
       "      <td>0</td>\n",
       "      <td>none</td>\n",
       "      <td>1</td>\n",
       "      <td>-1</td>\n",
       "      <td>840241</td>\n",
       "      <td>@bradcarlson_ not denying clim</td>\n",
       "    </tr>\n",
       "    <tr>\n",
       "      <th>7</th>\n",
       "      <td>0</td>\n",
       "      <td>none</td>\n",
       "      <td>2</td>\n",
       "      <td>-1</td>\n",
       "      <td>796429</td>\n",
       "      <td>RT @emmaroller: A climate chan</td>\n",
       "    </tr>\n",
       "    <tr>\n",
       "      <th>8</th>\n",
       "      <td>0</td>\n",
       "      <td>none</td>\n",
       "      <td>1</td>\n",
       "      <td>-1</td>\n",
       "      <td>793214</td>\n",
       "      <td>@michellemalkin Trump wins ele</td>\n",
       "    </tr>\n",
       "    <tr>\n",
       "      <th>9</th>\n",
       "      <td>0</td>\n",
       "      <td>none</td>\n",
       "      <td>3</td>\n",
       "      <td>-1</td>\n",
       "      <td>793175</td>\n",
       "      <td>Satellites help scientists see</td>\n",
       "    </tr>\n",
       "    <tr>\n",
       "      <th>10</th>\n",
       "      <td>0</td>\n",
       "      <td>none</td>\n",
       "      <td>2</td>\n",
       "      <td>-1</td>\n",
       "      <td>819688</td>\n",
       "      <td>RT @Scientists4EU: Meh, why be</td>\n",
       "    </tr>\n",
       "    <tr>\n",
       "      <th>11</th>\n",
       "      <td>1</td>\n",
       "      <td>mislabeled</td>\n",
       "      <td>1</td>\n",
       "      <td>2</td>\n",
       "      <td>665204</td>\n",
       "      <td>RT @sierraclub: Let’s make cli</td>\n",
       "    </tr>\n",
       "    <tr>\n",
       "      <th>12</th>\n",
       "      <td>1</td>\n",
       "      <td>mislabeled</td>\n",
       "      <td>1</td>\n",
       "      <td>2</td>\n",
       "      <td>810129</td>\n",
       "      <td>Retweeted Climate Central (@Cl</td>\n",
       "    </tr>\n",
       "    <tr>\n",
       "      <th>13</th>\n",
       "      <td>1</td>\n",
       "      <td>mislabeled</td>\n",
       "      <td>3</td>\n",
       "      <td>2</td>\n",
       "      <td>955801</td>\n",
       "      <td>maldives~ it's really pretty b</td>\n",
       "    </tr>\n",
       "    <tr>\n",
       "      <th>14</th>\n",
       "      <td>1</td>\n",
       "      <td>mislabeled</td>\n",
       "      <td>1</td>\n",
       "      <td>3</td>\n",
       "      <td>638923</td>\n",
       "      <td>RT @HuffingtonPost: Obama poin</td>\n",
       "    </tr>\n",
       "  </tbody>\n",
       "</table>\n",
       "</div>"
      ],
      "text/plain": [
       "    noise  noise_text  sentiment  origin(sentiment)  tweetid(partial)  \\\n",
       "0       1  mislabeled          2                  0            701899   \n",
       "1       0        none          3                 -1            605804   \n",
       "2       1  mislabeled          3                  2            956485   \n",
       "3       0        none          2                 -1            951653   \n",
       "4       1  mislabeled          2                  3            951154   \n",
       "5       1  mislabeled          2                  3            856024   \n",
       "6       0        none          1                 -1            840241   \n",
       "7       0        none          2                 -1            796429   \n",
       "8       0        none          1                 -1            793214   \n",
       "9       0        none          3                 -1            793175   \n",
       "10      0        none          2                 -1            819688   \n",
       "11      1  mislabeled          1                  2            665204   \n",
       "12      1  mislabeled          1                  2            810129   \n",
       "13      1  mislabeled          3                  2            955801   \n",
       "14      1  mislabeled          1                  3            638923   \n",
       "\n",
       "                  message(partial)  \n",
       "0   @CHEXNewswatch check out https  \n",
       "1   Obama to follow Al Gore into c  \n",
       "2   @Patriot4545 The next take wil  \n",
       "3   umm ??? so itâ€™s basically su  \n",
       "4   Germany provides â‚¬22m to add  \n",
       "5   Warmer summers, unpredictable   \n",
       "6   @bradcarlson_ not denying clim  \n",
       "7   RT @emmaroller: A climate chan  \n",
       "8   @michellemalkin Trump wins ele  \n",
       "9   Satellites help scientists see  \n",
       "10  RT @Scientists4EU: Meh, why be  \n",
       "11  RT @sierraclub: Let’s make cli  \n",
       "12  Retweeted Climate Central (@Cl  \n",
       "13  maldives~ it's really pretty b  \n",
       "14  RT @HuffingtonPost: Obama poin  "
      ]
     },
     "metadata": {},
     "output_type": "display_data"
    }
   ],
   "source": [
    "train_df = dc.get_train_with_noisy_df(1000,1000)\n",
    "data_center.print_data(train_df.head(15))\n"
   ]
  },
  {
   "cell_type": "markdown",
   "id": "56ef2437",
   "metadata": {
    "pycharm": {
     "metadata": false
    }
   },
   "source": [
    "**Get the test set for evaluation.**"
   ]
  },
  {
   "cell_type": "code",
   "execution_count": 10,
   "id": "c2302630",
   "metadata": {
    "pycharm": {
     "metadata": false,
     "name": "#%%\n"
    }
   },
   "outputs": [],
   "source": [
    "X_test, y_test = dc.get_test()\n"
   ]
  },
  {
   "cell_type": "markdown",
   "id": "f3eb843a",
   "metadata": {
    "pycharm": {
     "metadata": false
    }
   },
   "source": [
    "**Set distributions of training set.**"
   ]
  },
  {
   "cell_type": "code",
   "execution_count": 11,
   "id": "c9c7b292",
   "metadata": {
    "pycharm": {
     "metadata": false,
     "name": "#%%\n"
    }
   },
   "outputs": [],
   "source": [
    "# distribution of training set\n",
    "train_distribution = None\n"
   ]
  },
  {
   "cell_type": "markdown",
   "id": "d9acaaed",
   "metadata": {
    "pycharm": {
     "metadata": false
    }
   },
   "source": [
    "**Run experiments with different training sets, and use the same test set.**\n",
    "**Please wait some minutes until the finish message appears.**"
   ]
  },
  {
   "cell_type": "code",
   "execution_count": 12,
   "id": "8984a1b9",
   "metadata": {
    "pycharm": {
     "metadata": false,
     "name": "#%%\n"
    }
   },
   "outputs": [
    {
     "name": "stdout",
     "output_type": "stream",
     "text": [
      "-------------- No noisy training sets ----------\n",
      "* Training set size: 2000 samples\n",
      "  Sentiments ('Anti', 'Neutral', 'Pro', 'News'): 9.4%, 18.3%, 50.2%, 22.1%\n",
      "    f1 of classes: [0.349, 0.315, 0.711, 0.678]\n",
      "    micro_f1: 0.626 , macro_f1: 0.513 , weighted_f1: 0.597, macro_precision: 0.592, macro_recall: 0.504\n",
      "* Training set size: 4000 samples\n",
      "  Sentiments ('Anti', 'Neutral', 'Pro', 'News'): 9.4%, 18.3%, 50.2%, 22.1%\n",
      "    f1 of classes: [0.442, 0.371, 0.741, 0.695]\n",
      "    micro_f1: 0.657 , macro_f1: 0.562 , weighted_f1: 0.635, macro_precision: 0.623, macro_recall: 0.554\n",
      "* Training set size: 5000 samples\n",
      "  Sentiments ('Anti', 'Neutral', 'Pro', 'News'): 9.4%, 18.3%, 50.2%, 22.1%\n",
      "    f1 of classes: [0.466, 0.4, 0.746, 0.709]\n",
      "    micro_f1: 0.668 , macro_f1: 0.580 , weighted_f1: 0.648, macro_precision: 0.636, macro_recall: 0.570\n",
      "* Training set size: 8000 samples\n",
      "  Sentiments ('Anti', 'Neutral', 'Pro', 'News'): 9.4%, 18.3%, 50.2%, 22.1%\n",
      "    f1 of classes: [0.521, 0.42, 0.758, 0.719]\n",
      "    micro_f1: 0.682 , macro_f1: 0.604 , weighted_f1: 0.665, macro_precision: 0.648, macro_recall: 0.598\n",
      "* Training set size: 10000 samples\n",
      "  Sentiments ('Anti', 'Neutral', 'Pro', 'News'): 9.4%, 18.3%, 50.2%, 22.1%\n",
      "    f1 of classes: [0.534, 0.431, 0.765, 0.727]\n",
      "    micro_f1: 0.689 , macro_f1: 0.614 , weighted_f1: 0.674, macro_precision: 0.645, macro_recall: 0.613\n",
      "* Training set size: 15000 samples\n",
      "  Sentiments ('Anti', 'Neutral', 'Pro', 'News'): 9.4%, 18.3%, 50.2%, 22.1%\n",
      "    f1 of classes: [0.567, 0.452, 0.774, 0.74]\n",
      "    micro_f1: 0.702 , macro_f1: 0.633 , weighted_f1: 0.688, macro_precision: 0.657, macro_recall: 0.637\n",
      "* Training set size: 20000 samples\n",
      "  Sentiments ('Anti', 'Neutral', 'Pro', 'News'): 9.4%, 18.3%, 50.2%, 22.1%\n",
      "    f1 of classes: [0.599, 0.483, 0.788, 0.746]\n",
      "    micro_f1: 0.716 , macro_f1: 0.654 , weighted_f1: 0.705, macro_precision: 0.668, macro_recall: 0.660\n",
      "-------------- Noisy training sets -------------\n",
      "General noise source distribution ('mislabeled', 'irrelevant', 'translated'): 100.0%, 0.0%, 0.0%\n",
      "* Noisy training set size: 5000 samples (4000 original, 1000 noisy)\n",
      "  Sentiments ('Anti', 'Neutral', 'Pro', 'News'): 13.6%, 20.0%, 43.4%, 23.0%\n",
      "  Noise sources ('mislabeled', 'irrelevant', 'translated'): 100.0%, 0.0%, 0.0%\n",
      "  Before de-noising:\n",
      "    f1 of classes: [0.389, 0.33, 0.708, 0.659]\n",
      "    micro_f1: 0.615 , macro_f1: 0.521 , weighted_f1: 0.598, macro_precision: 0.574, macro_recall: 0.502\n",
      "  After de-noising:\n",
      "    f1 of classes: [0.41, 0.364, 0.724, 0.65]\n",
      "    micro_f1: 0.625 , macro_f1: 0.537 , weighted_f1: 0.612, macro_precision: 0.555, macro_recall: 0.540\n",
      "* Noisy training set size: 10000 samples (8000 original, 2000 noisy)\n",
      "  Sentiments ('Anti', 'Neutral', 'Pro', 'News'): 13.5%, 20.0%, 43.4%, 23.1%\n",
      "  Noise sources ('mislabeled', 'irrelevant', 'translated'): 100.0%, 0.0%, 0.0%\n",
      "  Before de-noising:\n",
      "    f1 of classes: [0.461, 0.383, 0.722, 0.674]\n",
      "    micro_f1: 0.635 , macro_f1: 0.560 , weighted_f1: 0.625, macro_precision: 0.587, macro_recall: 0.551\n",
      "  After de-noising:\n",
      "    f1 of classes: [0.483, 0.405, 0.737, 0.659]\n",
      "    micro_f1: 0.644 , macro_f1: 0.571 , weighted_f1: 0.635, macro_precision: 0.582, macro_recall: 0.575\n",
      "* Noisy training set size: 20000 samples (15000 original, 5000 noisy)\n",
      "  Sentiments ('Anti', 'Neutral', 'Pro', 'News'): 14.7%, 20.3%, 41.9%, 23.2%\n",
      "  Noise sources ('mislabeled', 'irrelevant', 'translated'): 100.0%, 0.0%, 0.0%\n",
      "  Before de-noising:\n",
      "    f1 of classes: [0.449, 0.403, 0.727, 0.675]\n",
      "    micro_f1: 0.637 , macro_f1: 0.564 , weighted_f1: 0.630, macro_precision: 0.578, macro_recall: 0.566\n",
      "  After de-noising:\n",
      "    f1 of classes: [0.477, 0.414, 0.738, 0.673]\n",
      "    micro_f1: 0.646 , macro_f1: 0.576 , weighted_f1: 0.640, macro_precision: 0.580, macro_recall: 0.585\n",
      "-------------- Experiments are finished. -------------\n"
     ]
    }
   ],
   "source": [
    "expriment_no    = 1\n",
    "print(\"-------------- No noisy training sets ----------\")\n",
    "for size in [2000, 4000, 5000, 8000, 10000, 15000, 20000]:\n",
    "    # Get a training set without noisy data\n",
    "    X_train, y_train = dc.get_train(size, train_distribution)\n",
    "\n",
    "    print(\"* Training set size: %d samples\" % (len(y_train)))\n",
    "    data_center.print_distribution(\"  Sentiments\", y_train)\n",
    "\n",
    "    # Do an experiment\n",
    "    dfResult = do_experiment(X_train, y_train, X_test, y_test)\n",
    "    Ev.add_evaluation(dfResult, size, 0, \"-\",\n",
    "                              data_center.calc_distribution_str(y_train, 'sentiment', [0,1,2,3]),\n",
    "                              \"-\", expriment_no\n",
    "                              )\n",
    "    expriment_no += 1\n",
    "\n",
    "print(\"-------------- Noisy training sets -------------\")\n",
    "# The noise source distribution of the whole noisy data.\n",
    "dc.print_noise_source_distribution(\"General noise source distribution\")\n",
    "\n",
    "# here is the hyperparameter for dimension reduction\n",
    "svdDimension = (400, 800, 1500)\n",
    "dimensionIndex = 0\n",
    "lstNoiseSizes = [(4000, 1000), (8000, 2000), (15000, 5000)]\n",
    "\n",
    "for size in lstNoiseSizes:\n",
    "    # Get a noisy training set\n",
    "    train_df         = dc.get_train_with_noisy_df(size[0], size[1], train_distribution)\n",
    "    # 在这里重置index\n",
    "    train_df.reset_index(drop=True, inplace=True)\n",
    "    X_train, y_train = data_center.Xy(train_df)\n",
    "    X_noisy          = train_df[train_df['noise'] != 0]\n",
    "\n",
    "    print(\"* Noisy training set size: %d samples (%d original, %d noisy)\" % (len(y_train), size[0], size[1]))\n",
    "    data_center.print_distribution(\"  Sentiments\", y_train)\n",
    "    dc.print_noise_source_distribution(\"  Noise sources\")\n",
    "\n",
    "    # Do an experiment without de-noising\n",
    "    print(\"  Before de-noising:\")\n",
    "    dfResult = do_experiment(X_train, y_train, X_test, y_test)\n",
    "    Ev.add_evaluation(dfResult, size[0], size[1], \"N\",\n",
    "                            data_center.calc_distribution_str(y_train, 'sentiment', [0,1,2,3]),\n",
    "                            data_center.calc_distribution_str(X_noisy, 'noise', [1,2,3]),\n",
    "                            expriment_no\n",
    "                            )\n",
    "\n",
    "    # Do an experiment with de-noising\n",
    "    print(\"  After de-noising:\")\n",
    "    dfResult = do_experiment_denoise(train_df, X_train, y_train, X_test, y_test, svdDimension[dimensionIndex])\n",
    "    dimensionIndex += 1\n",
    "    Ev.add_evaluation(dfResult, size[0], size[1], \"Y\",\n",
    "                            data_center.calc_distribution_str(y_train, 'sentiment', [0,1,2,3]),\n",
    "                            data_center.calc_distribution_str(X_noisy, 'noise', [1,2,3]),\n",
    "                            expriment_no + len(lstNoiseSizes)\n",
    "                            )\n",
    "    expriment_no += 1\n",
    "    \n",
    "print(\"-------------- Experiments are finished. -------------\")    \n"
   ]
  },
  {
   "cell_type": "markdown",
   "id": "46dc1847",
   "metadata": {
    "pycharm": {
     "metadata": false
    }
   },
   "source": [
    "**Show evaluations in a form (be sure the experiments have been finished)**"
   ]
  },
  {
   "cell_type": "code",
   "execution_count": 13,
   "id": "cca80284",
   "metadata": {
    "pycharm": {
     "metadata": false,
     "name": "#%%\n"
    }
   },
   "outputs": [
    {
     "data": {
      "text/html": [
       "<div>\n",
       "<style scoped>\n",
       "    .dataframe tbody tr th:only-of-type {\n",
       "        vertical-align: middle;\n",
       "    }\n",
       "\n",
       "    .dataframe tbody tr th {\n",
       "        vertical-align: top;\n",
       "    }\n",
       "\n",
       "    .dataframe thead th {\n",
       "        text-align: right;\n",
       "    }\n",
       "</style>\n",
       "<table border=\"1\" class=\"dataframe\">\n",
       "  <thead>\n",
       "    <tr style=\"text-align: right;\">\n",
       "      <th></th>\n",
       "      <th>Origin</th>\n",
       "      <th>Noise</th>\n",
       "      <th>Denoised</th>\n",
       "      <th>Micro F1</th>\n",
       "      <th>Macro F1</th>\n",
       "      <th>Weighted F1</th>\n",
       "      <th>Macro Precision</th>\n",
       "      <th>Macro Recall</th>\n",
       "      <th>F1 of classes</th>\n",
       "      <th>Sentiments distribution</th>\n",
       "      <th>Noise sources distribution</th>\n",
       "    </tr>\n",
       "    <tr>\n",
       "      <th>Experiment</th>\n",
       "      <th></th>\n",
       "      <th></th>\n",
       "      <th></th>\n",
       "      <th></th>\n",
       "      <th></th>\n",
       "      <th></th>\n",
       "      <th></th>\n",
       "      <th></th>\n",
       "      <th></th>\n",
       "      <th></th>\n",
       "      <th></th>\n",
       "    </tr>\n",
       "  </thead>\n",
       "  <tbody>\n",
       "    <tr>\n",
       "      <th>1</th>\n",
       "      <td>2000</td>\n",
       "      <td>0</td>\n",
       "      <td>-</td>\n",
       "      <td>0.625651</td>\n",
       "      <td>0.513415</td>\n",
       "      <td>0.597445</td>\n",
       "      <td>0.591622</td>\n",
       "      <td>0.503592</td>\n",
       "      <td>[0.349, 0.315, 0.711, 0.678]</td>\n",
       "      <td>[9.4%, 18.3%, 50.2%, 22.1%]</td>\n",
       "      <td>-</td>\n",
       "    </tr>\n",
       "    <tr>\n",
       "      <th>2</th>\n",
       "      <td>4000</td>\n",
       "      <td>0</td>\n",
       "      <td>-</td>\n",
       "      <td>0.657229</td>\n",
       "      <td>0.562267</td>\n",
       "      <td>0.634902</td>\n",
       "      <td>0.623003</td>\n",
       "      <td>0.553626</td>\n",
       "      <td>[0.442, 0.371, 0.741, 0.695]</td>\n",
       "      <td>[9.4%, 18.3%, 50.2%, 22.1%]</td>\n",
       "      <td>-</td>\n",
       "    </tr>\n",
       "    <tr>\n",
       "      <th>3</th>\n",
       "      <td>5000</td>\n",
       "      <td>0</td>\n",
       "      <td>-</td>\n",
       "      <td>0.667753</td>\n",
       "      <td>0.580286</td>\n",
       "      <td>0.648046</td>\n",
       "      <td>0.636269</td>\n",
       "      <td>0.569531</td>\n",
       "      <td>[0.466, 0.4, 0.746, 0.709]</td>\n",
       "      <td>[9.4%, 18.3%, 50.2%, 22.1%]</td>\n",
       "      <td>-</td>\n",
       "    </tr>\n",
       "    <tr>\n",
       "      <th>4</th>\n",
       "      <td>8000</td>\n",
       "      <td>0</td>\n",
       "      <td>-</td>\n",
       "      <td>0.682283</td>\n",
       "      <td>0.604498</td>\n",
       "      <td>0.665412</td>\n",
       "      <td>0.647677</td>\n",
       "      <td>0.597741</td>\n",
       "      <td>[0.521, 0.42, 0.758, 0.719]</td>\n",
       "      <td>[9.4%, 18.3%, 50.2%, 22.1%]</td>\n",
       "      <td>-</td>\n",
       "    </tr>\n",
       "    <tr>\n",
       "      <th>5</th>\n",
       "      <td>10000</td>\n",
       "      <td>0</td>\n",
       "      <td>-</td>\n",
       "      <td>0.689442</td>\n",
       "      <td>0.614399</td>\n",
       "      <td>0.673934</td>\n",
       "      <td>0.645478</td>\n",
       "      <td>0.613033</td>\n",
       "      <td>[0.534, 0.431, 0.765, 0.727]</td>\n",
       "      <td>[9.4%, 18.3%, 50.2%, 22.1%]</td>\n",
       "      <td>-</td>\n",
       "    </tr>\n",
       "    <tr>\n",
       "      <th>6</th>\n",
       "      <td>15000</td>\n",
       "      <td>0</td>\n",
       "      <td>-</td>\n",
       "      <td>0.701889</td>\n",
       "      <td>0.633075</td>\n",
       "      <td>0.687961</td>\n",
       "      <td>0.657390</td>\n",
       "      <td>0.636509</td>\n",
       "      <td>[0.567, 0.452, 0.774, 0.74]</td>\n",
       "      <td>[9.4%, 18.3%, 50.2%, 22.1%]</td>\n",
       "      <td>-</td>\n",
       "    </tr>\n",
       "    <tr>\n",
       "      <th>7</th>\n",
       "      <td>20000</td>\n",
       "      <td>0</td>\n",
       "      <td>-</td>\n",
       "      <td>0.716268</td>\n",
       "      <td>0.654099</td>\n",
       "      <td>0.705114</td>\n",
       "      <td>0.668449</td>\n",
       "      <td>0.660337</td>\n",
       "      <td>[0.599, 0.483, 0.788, 0.746]</td>\n",
       "      <td>[9.4%, 18.3%, 50.2%, 22.1%]</td>\n",
       "      <td>-</td>\n",
       "    </tr>\n",
       "    <tr>\n",
       "      <th>8</th>\n",
       "      <td>4000</td>\n",
       "      <td>1000</td>\n",
       "      <td>N</td>\n",
       "      <td>0.615143</td>\n",
       "      <td>0.521284</td>\n",
       "      <td>0.597829</td>\n",
       "      <td>0.574358</td>\n",
       "      <td>0.502180</td>\n",
       "      <td>[0.389, 0.33, 0.708, 0.659]</td>\n",
       "      <td>[13.6%, 20.0%, 43.4%, 23.0%]</td>\n",
       "      <td>[100.0%, 0.0%, 0.0%]</td>\n",
       "    </tr>\n",
       "    <tr>\n",
       "      <th>9</th>\n",
       "      <td>8000</td>\n",
       "      <td>2000</td>\n",
       "      <td>N</td>\n",
       "      <td>0.635031</td>\n",
       "      <td>0.560007</td>\n",
       "      <td>0.624831</td>\n",
       "      <td>0.587391</td>\n",
       "      <td>0.551359</td>\n",
       "      <td>[0.461, 0.383, 0.722, 0.674]</td>\n",
       "      <td>[13.5%, 20.0%, 43.4%, 23.1%]</td>\n",
       "      <td>[100.0%, 0.0%, 0.0%]</td>\n",
       "    </tr>\n",
       "    <tr>\n",
       "      <th>10</th>\n",
       "      <td>15000</td>\n",
       "      <td>5000</td>\n",
       "      <td>N</td>\n",
       "      <td>0.637254</td>\n",
       "      <td>0.563603</td>\n",
       "      <td>0.630285</td>\n",
       "      <td>0.578483</td>\n",
       "      <td>0.566328</td>\n",
       "      <td>[0.449, 0.403, 0.727, 0.675]</td>\n",
       "      <td>[14.7%, 20.3%, 41.9%, 23.2%]</td>\n",
       "      <td>[100.0%, 0.0%, 0.0%]</td>\n",
       "    </tr>\n",
       "    <tr>\n",
       "      <th>11</th>\n",
       "      <td>4000</td>\n",
       "      <td>1000</td>\n",
       "      <td>Y</td>\n",
       "      <td>0.625500</td>\n",
       "      <td>0.536820</td>\n",
       "      <td>0.612011</td>\n",
       "      <td>0.554985</td>\n",
       "      <td>0.539960</td>\n",
       "      <td>[0.41, 0.364, 0.724, 0.65]</td>\n",
       "      <td>[13.6%, 20.0%, 43.4%, 23.0%]</td>\n",
       "      <td>[100.0%, 0.0%, 0.0%]</td>\n",
       "    </tr>\n",
       "    <tr>\n",
       "      <th>12</th>\n",
       "      <td>8000</td>\n",
       "      <td>2000</td>\n",
       "      <td>Y</td>\n",
       "      <td>0.644250</td>\n",
       "      <td>0.570923</td>\n",
       "      <td>0.635108</td>\n",
       "      <td>0.582314</td>\n",
       "      <td>0.574597</td>\n",
       "      <td>[0.483, 0.405, 0.737, 0.659]</td>\n",
       "      <td>[13.5%, 20.0%, 43.4%, 23.1%]</td>\n",
       "      <td>[100.0%, 0.0%, 0.0%]</td>\n",
       "    </tr>\n",
       "    <tr>\n",
       "      <th>13</th>\n",
       "      <td>15000</td>\n",
       "      <td>5000</td>\n",
       "      <td>Y</td>\n",
       "      <td>0.646500</td>\n",
       "      <td>0.575624</td>\n",
       "      <td>0.639826</td>\n",
       "      <td>0.579527</td>\n",
       "      <td>0.585349</td>\n",
       "      <td>[0.477, 0.414, 0.738, 0.673]</td>\n",
       "      <td>[14.7%, 20.3%, 41.9%, 23.2%]</td>\n",
       "      <td>[100.0%, 0.0%, 0.0%]</td>\n",
       "    </tr>\n",
       "  </tbody>\n",
       "</table>\n",
       "</div>"
      ],
      "text/plain": [
       "            Origin  Noise Denoised  Micro F1  Macro F1  Weighted F1  \\\n",
       "Experiment                                                            \n",
       "1             2000      0        -  0.625651  0.513415     0.597445   \n",
       "2             4000      0        -  0.657229  0.562267     0.634902   \n",
       "3             5000      0        -  0.667753  0.580286     0.648046   \n",
       "4             8000      0        -  0.682283  0.604498     0.665412   \n",
       "5            10000      0        -  0.689442  0.614399     0.673934   \n",
       "6            15000      0        -  0.701889  0.633075     0.687961   \n",
       "7            20000      0        -  0.716268  0.654099     0.705114   \n",
       "8             4000   1000        N  0.615143  0.521284     0.597829   \n",
       "9             8000   2000        N  0.635031  0.560007     0.624831   \n",
       "10           15000   5000        N  0.637254  0.563603     0.630285   \n",
       "11            4000   1000        Y  0.625500  0.536820     0.612011   \n",
       "12            8000   2000        Y  0.644250  0.570923     0.635108   \n",
       "13           15000   5000        Y  0.646500  0.575624     0.639826   \n",
       "\n",
       "            Macro Precision  Macro Recall                 F1 of classes  \\\n",
       "Experiment                                                                \n",
       "1                  0.591622      0.503592  [0.349, 0.315, 0.711, 0.678]   \n",
       "2                  0.623003      0.553626  [0.442, 0.371, 0.741, 0.695]   \n",
       "3                  0.636269      0.569531    [0.466, 0.4, 0.746, 0.709]   \n",
       "4                  0.647677      0.597741   [0.521, 0.42, 0.758, 0.719]   \n",
       "5                  0.645478      0.613033  [0.534, 0.431, 0.765, 0.727]   \n",
       "6                  0.657390      0.636509   [0.567, 0.452, 0.774, 0.74]   \n",
       "7                  0.668449      0.660337  [0.599, 0.483, 0.788, 0.746]   \n",
       "8                  0.574358      0.502180   [0.389, 0.33, 0.708, 0.659]   \n",
       "9                  0.587391      0.551359  [0.461, 0.383, 0.722, 0.674]   \n",
       "10                 0.578483      0.566328  [0.449, 0.403, 0.727, 0.675]   \n",
       "11                 0.554985      0.539960    [0.41, 0.364, 0.724, 0.65]   \n",
       "12                 0.582314      0.574597  [0.483, 0.405, 0.737, 0.659]   \n",
       "13                 0.579527      0.585349  [0.477, 0.414, 0.738, 0.673]   \n",
       "\n",
       "                 Sentiments distribution Noise sources distribution  \n",
       "Experiment                                                           \n",
       "1            [9.4%, 18.3%, 50.2%, 22.1%]                          -  \n",
       "2            [9.4%, 18.3%, 50.2%, 22.1%]                          -  \n",
       "3            [9.4%, 18.3%, 50.2%, 22.1%]                          -  \n",
       "4            [9.4%, 18.3%, 50.2%, 22.1%]                          -  \n",
       "5            [9.4%, 18.3%, 50.2%, 22.1%]                          -  \n",
       "6            [9.4%, 18.3%, 50.2%, 22.1%]                          -  \n",
       "7            [9.4%, 18.3%, 50.2%, 22.1%]                          -  \n",
       "8           [13.6%, 20.0%, 43.4%, 23.0%]       [100.0%, 0.0%, 0.0%]  \n",
       "9           [13.5%, 20.0%, 43.4%, 23.1%]       [100.0%, 0.0%, 0.0%]  \n",
       "10          [14.7%, 20.3%, 41.9%, 23.2%]       [100.0%, 0.0%, 0.0%]  \n",
       "11          [13.6%, 20.0%, 43.4%, 23.0%]       [100.0%, 0.0%, 0.0%]  \n",
       "12          [13.5%, 20.0%, 43.4%, 23.1%]       [100.0%, 0.0%, 0.0%]  \n",
       "13          [14.7%, 20.3%, 41.9%, 23.2%]       [100.0%, 0.0%, 0.0%]  "
      ]
     },
     "metadata": {},
     "output_type": "display_data"
    }
   ],
   "source": [
    "Ev.print()\n"
   ]
  },
  {
   "cell_type": "markdown",
   "id": "a6729ce2",
   "metadata": {
    "pycharm": {
     "metadata": false
    }
   },
   "source": [
    "**Parameters for plotting.**"
   ]
  },
  {
   "cell_type": "code",
   "execution_count": 14,
   "id": "f5a592ff",
   "metadata": {
    "pycharm": {
     "metadata": false,
     "name": "#%%\n"
    }
   },
   "outputs": [],
   "source": [
    "# Plot training set size vs. Macro F1\n",
    "# x coordinate\n",
    "xValue  = \"x['Origin']+x['Noise']\"\n",
    "xLabel  = \"Size of training sets\\nnoisy sets: %s\" % str(lstNoiseSizes)\n",
    "# also can try other numeric columns, like:\n",
    "# xValue  = \"x['Origin']\"\n",
    "\n",
    "# y coordinate\n",
    "yValue  = \"y['Macro F1']\"\n",
    "# also can try other numeric columns, like:\n",
    "# yValue  = \"y['Weighted F1']\"\n",
    "# yValue  = \"y['Macro Precision']\"\n",
    "\n",
    "# Divide experiments into several groups, which will be plot as lines\n",
    "lines = { # each item: name, filter\n",
    "    'Original Data':      \"df['Denoised']=='-'\",\n",
    "    'Noisy Data':       \"df['Denoised']=='N'\",\n",
    "    'Denoised Data':    \"df['Denoised']=='Y'\",\n",
    "}\n"
   ]
  },
  {
   "cell_type": "markdown",
   "id": "f6f9cdfe",
   "metadata": {
    "pycharm": {
     "metadata": false
    }
   },
   "source": [
    "**Plot the evaluations.**"
   ]
  },
  {
   "cell_type": "code",
   "execution_count": 15,
   "id": "aeee2bfb",
   "metadata": {
    "pycharm": {
     "metadata": false,
     "name": "#%%\n"
    }
   },
   "outputs": [
    {
     "data": {
      "image/png": "[encoded data removed]",
      "text/plain": [
       "<Figure size 432x288 with 1 Axes>"
      ]
     },
     "metadata": {
      "needs_background": "light"
     },
     "output_type": "display_data"
    }
   ],
   "source": [
    "#Ev.plot(xValue = xValue, yValue = yValue, lines = lines,\n",
    "#        title = 'SVM using Local Outlier Factor for de-noising')\n",
    "\n",
    "denoise_name = \"Local Outlier Factor\"\n",
    "\n",
    "Ev.plot(xValue = xValue, yValue = yValue, lines = lines,\n",
    "        xLabel = xLabel,\n",
    "        title = 'SVM using %s for de-noising' % denoise_name,\n",
    "        subtitle = data_center.distribution2str(\n",
    "            \"noise sources: \", dc.get_noise_source_distribution(), 3))\n"
   ]
  },
  {
   "cell_type": "code",
   "execution_count": 17,
   "id": "bb6f14b1-7ca1-4ff7-8969-5139e8f99fa1",
   "metadata": {},
   "outputs": [],
   "source": [
    "\n",
    "Ev.evaluateDF.to_clipboard(excel=True)"
   ]
  },
  {
   "cell_type": "code",
   "execution_count": null,
   "id": "97decaf8-17c5-43e7-bbae-0ad0161701b3",
   "metadata": {},
   "outputs": [],
   "source": []
  }
 ],
 "metadata": {
  "kernelspec": {
   "display_name": "tensorflow_gpu",
   "language": "python",
   "name": "tfgpu"
  },
  "language_info": {
   "codemirror_mode": {
    "name": "ipython",
    "version": 3
   },
   "file_extension": ".py",
   "mimetype": "text/x-python",
   "name": "python",
   "nbconvert_exporter": "python",
   "pygments_lexer": "ipython3",
   "version": "3.8.13"
  },
  "stem_cell": {
   "cell_type": "raw",
   "metadata": {
    "pycharm": {
     "metadata": false
    }
   },
   "source": ""
  }
 },
 "nbformat": 4,
 "nbformat_minor": 5
}
