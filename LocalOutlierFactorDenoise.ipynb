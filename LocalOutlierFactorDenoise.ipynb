{
 "cells": [
  {
   "cell_type": "markdown",
   "id": "6617e59d",
   "metadata": {
    "pycharm": {
     "metadata": false
    }
   },
   "source": [
    "# SVM - Climate Sentiment Multiclass Classification\n",
    "## CS522 Project"
   ]
  },
  {
   "cell_type": "markdown",
   "id": "0bfbb976-dff0-489d-b675-31ba55f872c5",
   "metadata": {},
   "source": [
    "Elliptical Envelope Denoise"
   ]
  },
  {
   "cell_type": "markdown",
   "id": "2a096dc5",
   "metadata": {
    "pycharm": {
     "metadata": false
    }
   },
   "source": [
    "### Dataset: \n",
    "https://www.kaggle.com/code/luiskalckstein/climate-sentiment-multiclass-classification"
   ]
  },
  {
   "cell_type": "markdown",
   "id": "130b788e",
   "metadata": {
    "pycharm": {
     "metadata": false
    }
   },
   "source": [
    "### Imports"
   ]
  },
  {
   "cell_type": "code",
   "execution_count": 1,
   "id": "7d3915c3",
   "metadata": {
    "pycharm": {
     "metadata": false,
     "name": "#%%\n"
    }
   },
   "outputs": [],
   "source": [
    "import numpy as np\n",
    "from sklearn.feature_extraction.text import TfidfVectorizer\n",
    "from sklearn.preprocessing import MultiLabelBinarizer\n",
    "from sklearn.multiclass import OneVsRestClassifier\n",
    "from sklearn.svm import LinearSVC\n",
    "from sklearn.calibration import CalibratedClassifierCV\n",
    "from Common.DataCenter import data_center\n",
    "from Common.preprocessor import normalize_preprocessing\n",
    "from Common.UtilFuncs import print_evaluation, Evaluator\n",
    "from Common.EllipticalEnvelopeMethod import EllipticalEnvelopeMethod\n",
    "\n",
    "%matplotlib inline\n",
    "\n",
    "Ev  = Evaluator()\n"
   ]
  },
  {
   "cell_type": "markdown",
   "id": "d2d457a3",
   "metadata": {
    "pycharm": {
     "metadata": false
    },
    "tags": []
   },
   "source": [
    "### Text preprocessing"
   ]
  },
  {
   "cell_type": "code",
   "execution_count": 2,
   "id": "feeb1f79",
   "metadata": {
    "pycharm": {
     "metadata": false,
     "name": "#%%\n"
    }
   },
   "outputs": [],
   "source": [
    "# parameter: original X of training set and test set\n",
    "# return:  vectorised X of training set and test set\n",
    "def text_preprocessing(X_train, X_test):\n",
    "    # preprocessing with traditional NLP methodology\n",
    "    X_train_normalized = normalize_preprocessing(X_train)\n",
    "    X_test_normalized  = normalize_preprocessing(X_test)\n",
    "    \n",
    "    # vectorization\n",
    "    # Convert texts to vectors by TFIDF\n",
    "    vectorizer = TfidfVectorizer(ngram_range=(1,2))\n",
    "    X_train_vec  = vectorizer.fit_transform(X_train_normalized)\n",
    "    X_test_vec   = vectorizer.transform(X_test_normalized)\n",
    "      \n",
    "    return X_train_vec, X_test_vec"
   ]
  },
  {
   "cell_type": "markdown",
   "id": "9420835a",
   "metadata": {
    "pycharm": {
     "metadata": false
    }
   },
   "source": [
    "### One-hot encoding, convert the labels to vectors (4 x 1) each"
   ]
  },
  {
   "cell_type": "code",
   "execution_count": 3,
   "id": "b1a775d0",
   "metadata": {
    "pycharm": {
     "metadata": false,
     "name": "#%%\n"
    }
   },
   "outputs": [],
   "source": [
    "# parameter: original y of training set, original y of test set\n",
    "# return:  encoded y of training set and test set\n",
    "def one_hot_encoding(y_train, y_test):\n",
    "    mlb          = MultiLabelBinarizer()\n",
    "    y_train_vec  = mlb.fit_transform(map(str, y_train))\n",
    "    y_test_vec   = mlb.transform(map(str, y_test))\n",
    "    return y_train_vec, y_test_vec\n"
   ]
  },
  {
   "cell_type": "markdown",
   "id": "c9ce8530",
   "metadata": {
    "pycharm": {
     "metadata": false
    },
    "tags": []
   },
   "source": [
    "### Run SVM"
   ]
  },
  {
   "cell_type": "code",
   "execution_count": 4,
   "id": "56afce5b",
   "metadata": {
    "pycharm": {
     "metadata": false,
     "name": "#%%\n"
    }
   },
   "outputs": [],
   "source": [
    "# parameter:  vectorised X and encoded y of training set and test set\n",
    "def run_SVM(X_train_vec, y_train_vec, X_test_vec, y_test_vec):\n",
    "    # Run SVM - fit and predict\n",
    "    SVM             = OneVsRestClassifier(LinearSVC(dual=False, class_weight='balanced'), n_jobs=-1)\n",
    "    SVM.fit(X_train_vec, y_train_vec)\n",
    "    y_pred          = SVM.predict(X_test_vec)\n",
    "    return  y_pred\n"
   ]
  },
  {
   "cell_type": "markdown",
   "id": "acabcc21",
   "metadata": {
    "pycharm": {
     "metadata": false
    }
   },
   "source": [
    "### Do an experiment"
   ]
  },
  {
   "cell_type": "code",
   "execution_count": 5,
   "id": "f3ca444c",
   "metadata": {
    "pycharm": {
     "metadata": false,
     "name": "#%%\n"
    }
   },
   "outputs": [],
   "source": [
    "# Parameter: original X,y of training set and test set\n",
    "def do_experiment(X_train, y_train, X_test, y_test):\n",
    "    # Convert texts to vectors\n",
    "    X_train_vec, X_test_vec = text_preprocessing(X_train, X_test)\n",
    "    y_train_vec, y_test_vec = one_hot_encoding(y_train, y_test)\n",
    "\n",
    "    # Run SVM and evaluate the results\n",
    "    y_pred = run_SVM(X_train_vec, y_train_vec, X_test_vec, y_test_vec)\n",
    "\n",
    "    # Print the evaluation\n",
    "    print_evaluation(y_test_vec, y_pred, labels=[0,1,2,3])\n",
    "    evaluateDF = Ev.evaluate(y_test_vec, y_pred)\n",
    "    return evaluateDF\n",
    "\n",
    "# do an experiment with denoise\n",
    "# Parameter: original X,y of training set and test set\n",
    "def do_experiment_denoise( trainDF, X_train, y_train, X_test, y_test, dimension):\n",
    "    # Convert texts to vectors\n",
    "    X_train_vec, X_test_vec = text_preprocessing(X_train, X_test)\n",
    "    y_train_vec, y_test_vec = one_hot_encoding(y_train, y_test)\n",
    "\n",
    "    # LearningWithNoisyLabels require the classifier has the entry predict_proba()\n",
    "    # So, use CalibratedClassifierCV to wrap LinearSVC\n",
    "    #SVM = CalibratedClassifierCV(LinearSVC(dual=False, class_weight='balanced'))\n",
    "    SVM             = OneVsRestClassifier(LinearSVC(dual=False, class_weight='balanced'), n_jobs=-1)\n",
    "    \n",
    "    # clean noise in noisy data frame\n",
    "    denoiseMethod = EllipticalEnvelopeMethod(dimension)\n",
    "    cleanTrainDF, clean_X_train_vec, clean_y_train = denoiseMethod.CleanDFNoise(trainDF, X_train_vec, y_train )\n",
    "    \n",
    "    SVM.fit(clean_X_train_vec, clean_y_train)\n",
    "    y_pred          = SVM.predict(X_test_vec)\n",
    "    \n",
    "\n",
    "    # Print the evaluation\n",
    "    # One hot encoding for print_evaluation()\n",
    "    _, y_pred = one_hot_encoding(y_train, y_pred)\n",
    "    print_evaluation(y_test_vec, y_pred, labels=[0,1,2,3])\n",
    "\n",
    "    evaluateDF = Ev.evaluate(y_test_vec, y_pred)\n",
    "    return evaluateDF\n"
   ]
  },
  {
   "cell_type": "markdown",
   "id": "2fc3e594",
   "metadata": {
    "pycharm": {
     "metadata": false
    }
   },
   "source": [
    "### Main entry\n",
    "**The settings of the noise sources.**"
   ]
  },
  {
   "cell_type": "code",
   "execution_count": 6,
   "id": "b806a554",
   "metadata": {
    "pycharm": {
     "metadata": false,
     "name": "#%%\n"
    }
   },
   "outputs": [],
   "source": [
    "#Each entry: source type and (size, distribution)\n",
    "noisy_set_sizes = {\n",
    "    'mislabeled' : (8000, None),                   # max size: 15000\n",
    "    'irrelevant' : (2000, [0.25,0.25,0.25,0.25]),  # max size: 34259\n",
    "    'translated' : (2000, \"reserve_labels\"),       # max size: 5000\n",
    "}\n"
   ]
  },
  {
   "cell_type": "markdown",
   "id": "53755c34",
   "metadata": {
    "pycharm": {
     "metadata": false
    }
   },
   "source": [
    "**Load the database and split it into training set, test set, noisy set, validation set**"
   ]
  },
  {
   "cell_type": "code",
   "execution_count": 7,
   "id": "66ab5074",
   "metadata": {
    "pycharm": {
     "metadata": false,
     "name": "#%%\n"
    }
   },
   "outputs": [],
   "source": [
    "# dc = data_center(\"twitter_sentiment_data_clean.csv\", train_size = 20000, test_size = 4000, validation_size = 1000,\n",
    "#                  noisy_size = noisy_set_sizes['mislabeled'][0] if 'mislabeled' in noisy_set_sizes.keys() else 0)\n",
    "\n",
    "# Load the database and split it into training set, test set, noisy set, validation set\n",
    "# Using noisy_set_sizes directly\n",
    "dc = data_center(\"twitter_sentiment_data_clean.csv\", train_size = 20000, test_size = 4000, validation_size = 1000,\n",
    "                 noisy_size = noisy_set_sizes)\n"
   ]
  },
  {
   "cell_type": "markdown",
   "id": "3cda0707",
   "metadata": {
    "pycharm": {
     "metadata": false
    }
   },
   "source": [
    "**Show the summary of the whole data**"
   ]
  },
  {
   "cell_type": "code",
   "execution_count": 8,
   "id": "0fc58ae4",
   "metadata": {
    "pycharm": {
     "metadata": false,
     "name": "#%%\n"
    }
   },
   "outputs": [
    {
     "name": "stdout",
     "output_type": "stream",
     "text": [
      "###################################### Data Summary #############################################\n",
      "  Raw set (not cleaned) size: 40908\n",
      "  Original set size: 40908\n",
      "      sentiments ('Anti', 'Neutral', 'Pro', 'News'): 9.4%, 18.3%, 50.2%, 22.1%\n",
      "  Training set size: 20000\n",
      "  Test set size: 4000\n",
      "  Noisy set size: 12000\n",
      "  Validation set size: 1000\n",
      "      noise sources ('mislabeled', 'irrelevant', 'translated'): 66.7%, 16.7%, 16.7%\n",
      "##################################################################################################\n"
     ]
    }
   ],
   "source": [
    "dc.print_summary()\n"
   ]
  },
  {
   "cell_type": "markdown",
   "id": "4b9aef48",
   "metadata": {
    "pycharm": {
     "metadata": false
    }
   },
   "source": [
    "**To see the data features via a demo**"
   ]
  },
  {
   "cell_type": "code",
   "execution_count": 9,
   "id": "9edead72",
   "metadata": {
    "pycharm": {
     "metadata": false,
     "name": "#%%\n"
    }
   },
   "outputs": [
    {
     "data": {
      "text/html": [
       "<div>\n",
       "<style scoped>\n",
       "    .dataframe tbody tr th:only-of-type {\n",
       "        vertical-align: middle;\n",
       "    }\n",
       "\n",
       "    .dataframe tbody tr th {\n",
       "        vertical-align: top;\n",
       "    }\n",
       "\n",
       "    .dataframe thead th {\n",
       "        text-align: right;\n",
       "    }\n",
       "</style>\n",
       "<table border=\"1\" class=\"dataframe\">\n",
       "  <thead>\n",
       "    <tr style=\"text-align: right;\">\n",
       "      <th></th>\n",
       "      <th>noise</th>\n",
       "      <th>noise_text</th>\n",
       "      <th>sentiment</th>\n",
       "      <th>origin(sentiment)</th>\n",
       "      <th>tweetid(partial)</th>\n",
       "      <th>message(partial)</th>\n",
       "    </tr>\n",
       "  </thead>\n",
       "  <tbody>\n",
       "    <tr>\n",
       "      <th>1120</th>\n",
       "      <td>1</td>\n",
       "      <td>mislabeled</td>\n",
       "      <td>3</td>\n",
       "      <td>2</td>\n",
       "      <td>794664</td>\n",
       "      <td>RT @ChelseaClinton: Thank you</td>\n",
       "    </tr>\n",
       "    <tr>\n",
       "      <th>34005</th>\n",
       "      <td>0</td>\n",
       "      <td>none</td>\n",
       "      <td>3</td>\n",
       "      <td>-1</td>\n",
       "      <td>605804</td>\n",
       "      <td>Obama to follow Al Gore into c</td>\n",
       "    </tr>\n",
       "    <tr>\n",
       "      <th>144</th>\n",
       "      <td>2</td>\n",
       "      <td>irrelevant</td>\n",
       "      <td>1</td>\n",
       "      <td>-1</td>\n",
       "      <td>-1</td>\n",
       "      <td>Can't wait to go on a field tr</td>\n",
       "    </tr>\n",
       "    <tr>\n",
       "      <th>29275</th>\n",
       "      <td>0</td>\n",
       "      <td>none</td>\n",
       "      <td>2</td>\n",
       "      <td>-1</td>\n",
       "      <td>951653</td>\n",
       "      <td>umm ??? so itâ€™s basically su</td>\n",
       "    </tr>\n",
       "    <tr>\n",
       "      <th>15593</th>\n",
       "      <td>1</td>\n",
       "      <td>mislabeled</td>\n",
       "      <td>0</td>\n",
       "      <td>2</td>\n",
       "      <td>848920</td>\n",
       "      <td>RT @Colorlines: POC who live t</td>\n",
       "    </tr>\n",
       "    <tr>\n",
       "      <th>3724</th>\n",
       "      <td>1</td>\n",
       "      <td>mislabeled</td>\n",
       "      <td>1</td>\n",
       "      <td>3</td>\n",
       "      <td>798878</td>\n",
       "      <td>RT @ReutersLive: LIVE: U.S. Se</td>\n",
       "    </tr>\n",
       "    <tr>\n",
       "      <th>11870</th>\n",
       "      <td>0</td>\n",
       "      <td>none</td>\n",
       "      <td>1</td>\n",
       "      <td>-1</td>\n",
       "      <td>840241</td>\n",
       "      <td>@bradcarlson_ not denying clim</td>\n",
       "    </tr>\n",
       "    <tr>\n",
       "      <th>1896</th>\n",
       "      <td>0</td>\n",
       "      <td>none</td>\n",
       "      <td>2</td>\n",
       "      <td>-1</td>\n",
       "      <td>796429</td>\n",
       "      <td>RT @emmaroller: A climate chan</td>\n",
       "    </tr>\n",
       "    <tr>\n",
       "      <th>120</th>\n",
       "      <td>0</td>\n",
       "      <td>none</td>\n",
       "      <td>1</td>\n",
       "      <td>-1</td>\n",
       "      <td>793214</td>\n",
       "      <td>@michellemalkin Trump wins ele</td>\n",
       "    </tr>\n",
       "    <tr>\n",
       "      <th>80</th>\n",
       "      <td>0</td>\n",
       "      <td>none</td>\n",
       "      <td>3</td>\n",
       "      <td>-1</td>\n",
       "      <td>793175</td>\n",
       "      <td>Satellites help scientists see</td>\n",
       "    </tr>\n",
       "    <tr>\n",
       "      <th>8176</th>\n",
       "      <td>0</td>\n",
       "      <td>none</td>\n",
       "      <td>2</td>\n",
       "      <td>-1</td>\n",
       "      <td>819688</td>\n",
       "      <td>RT @Scientists4EU: Meh, why be</td>\n",
       "    </tr>\n",
       "    <tr>\n",
       "      <th>708</th>\n",
       "      <td>2</td>\n",
       "      <td>irrelevant</td>\n",
       "      <td>0</td>\n",
       "      <td>-1</td>\n",
       "      <td>-1</td>\n",
       "      <td>\"Black Box\" Topics (Ideologica</td>\n",
       "    </tr>\n",
       "    <tr>\n",
       "      <th>9990</th>\n",
       "      <td>1</td>\n",
       "      <td>mislabeled</td>\n",
       "      <td>2</td>\n",
       "      <td>3</td>\n",
       "      <td>829376</td>\n",
       "      <td>RT @DoNotForget911: Federal sc</td>\n",
       "    </tr>\n",
       "    <tr>\n",
       "      <th>736</th>\n",
       "      <td>2</td>\n",
       "      <td>irrelevant</td>\n",
       "      <td>1</td>\n",
       "      <td>-1</td>\n",
       "      <td>-1</td>\n",
       "      <td>But then, 98% Muslims vote for</td>\n",
       "    </tr>\n",
       "    <tr>\n",
       "      <th>1310</th>\n",
       "      <td>2</td>\n",
       "      <td>irrelevant</td>\n",
       "      <td>1</td>\n",
       "      <td>-1</td>\n",
       "      <td>-1</td>\n",
       "      <td>Homer is driving drunk😱 and ha</td>\n",
       "    </tr>\n",
       "  </tbody>\n",
       "</table>\n",
       "</div>"
      ],
      "text/plain": [
       "       noise  noise_text  sentiment  origin(sentiment)  tweetid(partial)  \\\n",
       "1120       1  mislabeled          3                  2            794664   \n",
       "34005      0        none          3                 -1            605804   \n",
       "144        2  irrelevant          1                 -1                -1   \n",
       "29275      0        none          2                 -1            951653   \n",
       "15593      1  mislabeled          0                  2            848920   \n",
       "3724       1  mislabeled          1                  3            798878   \n",
       "11870      0        none          1                 -1            840241   \n",
       "1896       0        none          2                 -1            796429   \n",
       "120        0        none          1                 -1            793214   \n",
       "80         0        none          3                 -1            793175   \n",
       "8176       0        none          2                 -1            819688   \n",
       "708        2  irrelevant          0                 -1                -1   \n",
       "9990       1  mislabeled          2                  3            829376   \n",
       "736        2  irrelevant          1                 -1                -1   \n",
       "1310       2  irrelevant          1                 -1                -1   \n",
       "\n",
       "                     message(partial)  \n",
       "1120   RT @ChelseaClinton: Thank you   \n",
       "34005  Obama to follow Al Gore into c  \n",
       "144    Can't wait to go on a field tr  \n",
       "29275  umm ??? so itâ€™s basically su  \n",
       "15593  RT @Colorlines: POC who live t  \n",
       "3724   RT @ReutersLive: LIVE: U.S. Se  \n",
       "11870  @bradcarlson_ not denying clim  \n",
       "1896   RT @emmaroller: A climate chan  \n",
       "120    @michellemalkin Trump wins ele  \n",
       "80     Satellites help scientists see  \n",
       "8176   RT @Scientists4EU: Meh, why be  \n",
       "708    \"Black Box\" Topics (Ideologica  \n",
       "9990   RT @DoNotForget911: Federal sc  \n",
       "736    But then, 98% Muslims vote for  \n",
       "1310   Homer is driving drunk😱 and ha  "
      ]
     },
     "metadata": {},
     "output_type": "display_data"
    }
   ],
   "source": [
    "train_df = dc.get_train_with_noisy_df(1000,1000)\n",
    "data_center.print_data(train_df.head(15))\n"
   ]
  },
  {
   "cell_type": "markdown",
   "id": "56ef2437",
   "metadata": {
    "pycharm": {
     "metadata": false
    }
   },
   "source": [
    "**Get the test set for evaluation.**"
   ]
  },
  {
   "cell_type": "code",
   "execution_count": 10,
   "id": "c2302630",
   "metadata": {
    "pycharm": {
     "metadata": false,
     "name": "#%%\n"
    }
   },
   "outputs": [],
   "source": [
    "X_test, y_test = dc.get_test()\n"
   ]
  },
  {
   "cell_type": "markdown",
   "id": "f3eb843a",
   "metadata": {
    "pycharm": {
     "metadata": false
    }
   },
   "source": [
    "**Set distributions of training set.**"
   ]
  },
  {
   "cell_type": "code",
   "execution_count": 11,
   "id": "c9c7b292",
   "metadata": {
    "pycharm": {
     "metadata": false,
     "name": "#%%\n"
    }
   },
   "outputs": [],
   "source": [
    "# distribution of training set\n",
    "train_distribution = None\n"
   ]
  },
  {
   "cell_type": "markdown",
   "id": "d9acaaed",
   "metadata": {
    "pycharm": {
     "metadata": false
    }
   },
   "source": [
    "**Run experiments with different training sets, and use the same test set.**\n",
    "**Please wait some minutes until the finish message appears.**"
   ]
  },
  {
   "cell_type": "code",
   "execution_count": null,
   "id": "8984a1b9",
   "metadata": {
    "pycharm": {
     "metadata": false,
     "name": "#%%\n"
    }
   },
   "outputs": [
    {
     "name": "stdout",
     "output_type": "stream",
     "text": [
      "-------------- No noisy training sets ----------\n",
      "* Training set size: 2000 samples\n",
      "  Sentiments ('Anti', 'Neutral', 'Pro', 'News'): 9.4%, 18.3%, 50.2%, 22.1%\n",
      "    f1 of classes: [0.349, 0.315, 0.711, 0.678]\n",
      "    micro_f1: 0.626 , macro_f1: 0.513 , weighted_f1: 0.597, macro_precision: 0.592, macro_recall: 0.504\n",
      "* Training set size: 4000 samples\n",
      "  Sentiments ('Anti', 'Neutral', 'Pro', 'News'): 9.4%, 18.3%, 50.2%, 22.1%\n",
      "    f1 of classes: [0.442, 0.371, 0.741, 0.695]\n",
      "    micro_f1: 0.657 , macro_f1: 0.562 , weighted_f1: 0.635, macro_precision: 0.623, macro_recall: 0.554\n",
      "* Training set size: 5000 samples\n",
      "  Sentiments ('Anti', 'Neutral', 'Pro', 'News'): 9.4%, 18.3%, 50.2%, 22.1%\n",
      "    f1 of classes: [0.466, 0.4, 0.746, 0.709]\n",
      "    micro_f1: 0.668 , macro_f1: 0.580 , weighted_f1: 0.648, macro_precision: 0.636, macro_recall: 0.570\n",
      "* Training set size: 8000 samples\n",
      "  Sentiments ('Anti', 'Neutral', 'Pro', 'News'): 9.4%, 18.3%, 50.2%, 22.1%\n",
      "    f1 of classes: [0.521, 0.42, 0.758, 0.719]\n",
      "    micro_f1: 0.682 , macro_f1: 0.604 , weighted_f1: 0.665, macro_precision: 0.648, macro_recall: 0.598\n",
      "* Training set size: 10000 samples\n",
      "  Sentiments ('Anti', 'Neutral', 'Pro', 'News'): 9.4%, 18.3%, 50.2%, 22.1%\n",
      "    f1 of classes: [0.534, 0.431, 0.765, 0.727]\n",
      "    micro_f1: 0.689 , macro_f1: 0.614 , weighted_f1: 0.674, macro_precision: 0.645, macro_recall: 0.613\n",
      "* Training set size: 15000 samples\n",
      "  Sentiments ('Anti', 'Neutral', 'Pro', 'News'): 9.4%, 18.3%, 50.2%, 22.1%\n",
      "    f1 of classes: [0.567, 0.452, 0.774, 0.74]\n",
      "    micro_f1: 0.702 , macro_f1: 0.633 , weighted_f1: 0.688, macro_precision: 0.657, macro_recall: 0.637\n",
      "* Training set size: 20000 samples\n",
      "  Sentiments ('Anti', 'Neutral', 'Pro', 'News'): 9.4%, 18.3%, 50.2%, 22.1%\n",
      "    f1 of classes: [0.599, 0.483, 0.788, 0.746]\n",
      "    micro_f1: 0.716 , macro_f1: 0.654 , weighted_f1: 0.705, macro_precision: 0.668, macro_recall: 0.660\n",
      "-------------- Noisy training sets -------------\n",
      "General noise source distribution ('mislabeled', 'irrelevant', 'translated'): 66.7%, 16.7%, 16.7%\n",
      "* Noisy training set size: 5000 samples (4000 original, 1000 noisy)\n",
      "  Sentiments ('Anti', 'Neutral', 'Pro', 'News'): 13.2%, 19.9%, 44.4%, 22.5%\n",
      "  Noise sources ('mislabeled', 'irrelevant', 'translated'): 66.7%, 16.7%, 16.7%\n",
      "  Before de-noising:\n",
      "    f1 of classes: [0.387, 0.354, 0.714, 0.677]\n",
      "    micro_f1: 0.627 , macro_f1: 0.533 , weighted_f1: 0.609, macro_precision: 0.586, macro_recall: 0.517\n",
      "  After de-noising:\n"
     ]
    },
    {
     "name": "stderr",
     "output_type": "stream",
     "text": [
      "/Users/guopei/miniforge3/envs/tf2/lib/python3.9/site-packages/sklearn/covariance/_robust_covariance.py:183: RuntimeWarning: Determinant has increased; this should not happen: log(det) > log(previous_det) (-7334.055974844926823 > -7448.981121492077364). You may want to try with a higher value of support_fraction (current value: 0.800).\n",
      "  warnings.warn(\n",
      "/Users/guopei/miniforge3/envs/tf2/lib/python3.9/site-packages/sklearn/covariance/_robust_covariance.py:183: RuntimeWarning: Determinant has increased; this should not happen: log(det) > log(previous_det) (-7338.086250161711177 > -7454.836621712873239). You may want to try with a higher value of support_fraction (current value: 0.800).\n",
      "  warnings.warn(\n",
      "/Users/guopei/miniforge3/envs/tf2/lib/python3.9/site-packages/sklearn/covariance/_robust_covariance.py:183: RuntimeWarning: Determinant has increased; this should not happen: log(det) > log(previous_det) (-7338.479698386255222 > -7343.936977397402188). You may want to try with a higher value of support_fraction (current value: 0.800).\n",
      "  warnings.warn(\n",
      "/Users/guopei/miniforge3/envs/tf2/lib/python3.9/site-packages/sklearn/covariance/_robust_covariance.py:183: RuntimeWarning: Determinant has increased; this should not happen: log(det) > log(previous_det) (-7330.886452631388238 > -7451.236952866230240). You may want to try with a higher value of support_fraction (current value: 0.800).\n",
      "  warnings.warn(\n",
      "/Users/guopei/miniforge3/envs/tf2/lib/python3.9/site-packages/sklearn/covariance/_robust_covariance.py:183: RuntimeWarning: Determinant has increased; this should not happen: log(det) > log(previous_det) (-7349.315540494499146 > -7352.408848013037641). You may want to try with a higher value of support_fraction (current value: 0.800).\n",
      "  warnings.warn(\n",
      "/Users/guopei/miniforge3/envs/tf2/lib/python3.9/site-packages/sklearn/covariance/_robust_covariance.py:183: RuntimeWarning: Determinant has increased; this should not happen: log(det) > log(previous_det) (-7337.903179574127535 > -7345.833287507593013). You may want to try with a higher value of support_fraction (current value: 0.800).\n",
      "  warnings.warn(\n",
      "/Users/guopei/miniforge3/envs/tf2/lib/python3.9/site-packages/sklearn/covariance/_robust_covariance.py:183: RuntimeWarning: Determinant has increased; this should not happen: log(det) > log(previous_det) (-7337.915660688659955 > -7338.872182564613468). You may want to try with a higher value of support_fraction (current value: 0.800).\n",
      "  warnings.warn(\n",
      "/Users/guopei/miniforge3/envs/tf2/lib/python3.9/site-packages/sklearn/covariance/_robust_covariance.py:183: RuntimeWarning: Determinant has increased; this should not happen: log(det) > log(previous_det) (-7338.863113363103366 > -7345.304598210173026). You may want to try with a higher value of support_fraction (current value: 0.800).\n",
      "  warnings.warn(\n",
      "/Users/guopei/miniforge3/envs/tf2/lib/python3.9/site-packages/sklearn/covariance/_robust_covariance.py:183: RuntimeWarning: Determinant has increased; this should not happen: log(det) > log(previous_det) (-7343.800231194883054 > -7457.923841691453163). You may want to try with a higher value of support_fraction (current value: 0.800).\n",
      "  warnings.warn(\n",
      "/Users/guopei/miniforge3/envs/tf2/lib/python3.9/site-packages/sklearn/covariance/_robust_covariance.py:183: RuntimeWarning: Determinant has increased; this should not happen: log(det) > log(previous_det) (-7340.615118214749600 > -7342.208832424076718). You may want to try with a higher value of support_fraction (current value: 0.800).\n",
      "  warnings.warn(\n",
      "/Users/guopei/miniforge3/envs/tf2/lib/python3.9/site-packages/sklearn/covariance/_robust_covariance.py:183: RuntimeWarning: Determinant has increased; this should not happen: log(det) > log(previous_det) (-7337.611209623840296 > -7338.474221418135130). You may want to try with a higher value of support_fraction (current value: 0.800).\n",
      "  warnings.warn(\n",
      "/Users/guopei/miniforge3/envs/tf2/lib/python3.9/site-packages/sklearn/covariance/_robust_covariance.py:183: RuntimeWarning: Determinant has increased; this should not happen: log(det) > log(previous_det) (-7327.727222118821373 > -7336.777468696826872). You may want to try with a higher value of support_fraction (current value: 0.800).\n",
      "  warnings.warn(\n",
      "/Users/guopei/miniforge3/envs/tf2/lib/python3.9/site-packages/sklearn/covariance/_robust_covariance.py:183: RuntimeWarning: Determinant has increased; this should not happen: log(det) > log(previous_det) (-7338.143340864285165 > -7452.599634160795176). You may want to try with a higher value of support_fraction (current value: 0.800).\n",
      "  warnings.warn(\n",
      "/Users/guopei/miniforge3/envs/tf2/lib/python3.9/site-packages/sklearn/covariance/_robust_covariance.py:183: RuntimeWarning: Determinant has increased; this should not happen: log(det) > log(previous_det) (-7336.877743481840298 > -7452.362535572805427). You may want to try with a higher value of support_fraction (current value: 0.800).\n",
      "  warnings.warn(\n",
      "/Users/guopei/miniforge3/envs/tf2/lib/python3.9/site-packages/sklearn/covariance/_robust_covariance.py:183: RuntimeWarning: Determinant has increased; this should not happen: log(det) > log(previous_det) (-7341.515921403338325 > -7449.266113339121148). You may want to try with a higher value of support_fraction (current value: 0.800).\n",
      "  warnings.warn(\n",
      "/Users/guopei/miniforge3/envs/tf2/lib/python3.9/site-packages/sklearn/covariance/_robust_covariance.py:183: RuntimeWarning: Determinant has increased; this should not happen: log(det) > log(previous_det) (-7347.932517070087670 > -7456.910807434149319). You may want to try with a higher value of support_fraction (current value: 0.800).\n",
      "  warnings.warn(\n",
      "/Users/guopei/miniforge3/envs/tf2/lib/python3.9/site-packages/sklearn/covariance/_robust_covariance.py:183: RuntimeWarning: Determinant has increased; this should not happen: log(det) > log(previous_det) (-7343.640576965975015 > -7344.950770024808662). You may want to try with a higher value of support_fraction (current value: 0.800).\n",
      "  warnings.warn(\n",
      "/Users/guopei/miniforge3/envs/tf2/lib/python3.9/site-packages/sklearn/covariance/_robust_covariance.py:183: RuntimeWarning: Determinant has increased; this should not happen: log(det) > log(previous_det) (-7345.278799257174796 > -7460.215543310715475). You may want to try with a higher value of support_fraction (current value: 0.800).\n",
      "  warnings.warn(\n",
      "/Users/guopei/miniforge3/envs/tf2/lib/python3.9/site-packages/sklearn/covariance/_robust_covariance.py:183: RuntimeWarning: Determinant has increased; this should not happen: log(det) > log(previous_det) (-7332.937932327436101 > -7454.046435159557404). You may want to try with a higher value of support_fraction (current value: 0.800).\n",
      "  warnings.warn(\n",
      "/Users/guopei/miniforge3/envs/tf2/lib/python3.9/site-packages/sklearn/covariance/_robust_covariance.py:183: RuntimeWarning: Determinant has increased; this should not happen: log(det) > log(previous_det) (-7331.687745164867010 > -7452.361641254089591). You may want to try with a higher value of support_fraction (current value: 0.800).\n",
      "  warnings.warn(\n",
      "/Users/guopei/miniforge3/envs/tf2/lib/python3.9/site-packages/sklearn/covariance/_robust_covariance.py:183: RuntimeWarning: Determinant has increased; this should not happen: log(det) > log(previous_det) (-7339.477168855058153 > -7340.899902130589908). You may want to try with a higher value of support_fraction (current value: 0.800).\n",
      "  warnings.warn(\n",
      "/Users/guopei/miniforge3/envs/tf2/lib/python3.9/site-packages/sklearn/covariance/_robust_covariance.py:183: RuntimeWarning: Determinant has increased; this should not happen: log(det) > log(previous_det) (-7343.180494045757769 > -7457.515181611376647). You may want to try with a higher value of support_fraction (current value: 0.800).\n",
      "  warnings.warn(\n",
      "/Users/guopei/miniforge3/envs/tf2/lib/python3.9/site-packages/sklearn/covariance/_robust_covariance.py:183: RuntimeWarning: Determinant has increased; this should not happen: log(det) > log(previous_det) (-7341.429154393526005 > -7347.262064203041518). You may want to try with a higher value of support_fraction (current value: 0.800).\n",
      "  warnings.warn(\n",
      "/Users/guopei/miniforge3/envs/tf2/lib/python3.9/site-packages/sklearn/covariance/_robust_covariance.py:183: RuntimeWarning: Determinant has increased; this should not happen: log(det) > log(previous_det) (-7340.295511978553805 > -7340.505062740620815). You may want to try with a higher value of support_fraction (current value: 0.800).\n",
      "  warnings.warn(\n",
      "/Users/guopei/miniforge3/envs/tf2/lib/python3.9/site-packages/sklearn/covariance/_robust_covariance.py:183: RuntimeWarning: Determinant has increased; this should not happen: log(det) > log(previous_det) (-7341.641830787178151 > -7450.286311946916612). You may want to try with a higher value of support_fraction (current value: 0.800).\n",
      "  warnings.warn(\n",
      "/Users/guopei/miniforge3/envs/tf2/lib/python3.9/site-packages/sklearn/covariance/_robust_covariance.py:183: RuntimeWarning: Determinant has increased; this should not happen: log(det) > log(previous_det) (-7338.869212729805440 > -7343.476217246764463). You may want to try with a higher value of support_fraction (current value: 0.800).\n",
      "  warnings.warn(\n",
      "/Users/guopei/miniforge3/envs/tf2/lib/python3.9/site-packages/sklearn/covariance/_robust_covariance.py:183: RuntimeWarning: Determinant has increased; this should not happen: log(det) > log(previous_det) (-7331.052592500912397 > -7344.077501778154328). You may want to try with a higher value of support_fraction (current value: 0.800).\n",
      "  warnings.warn(\n",
      "/Users/guopei/miniforge3/envs/tf2/lib/python3.9/site-packages/sklearn/covariance/_robust_covariance.py:183: RuntimeWarning: Determinant has increased; this should not happen: log(det) > log(previous_det) (-7345.447456280900042 > -7351.571529181293045). You may want to try with a higher value of support_fraction (current value: 0.800).\n",
      "  warnings.warn(\n",
      "/Users/guopei/miniforge3/envs/tf2/lib/python3.9/site-packages/sklearn/covariance/_robust_covariance.py:183: RuntimeWarning: Determinant has increased; this should not happen: log(det) > log(previous_det) (-7344.853670071720444 > -7459.520749235920448). You may want to try with a higher value of support_fraction (current value: 0.800).\n",
      "  warnings.warn(\n",
      "/Users/guopei/miniforge3/envs/tf2/lib/python3.9/site-packages/sklearn/covariance/_robust_covariance.py:183: RuntimeWarning: Determinant has increased; this should not happen: log(det) > log(previous_det) (-7337.874869251983000 > -7344.861045551211646). You may want to try with a higher value of support_fraction (current value: 0.800).\n",
      "  warnings.warn(\n",
      "/Users/guopei/miniforge3/envs/tf2/lib/python3.9/site-packages/sklearn/covariance/_robust_covariance.py:183: RuntimeWarning: Determinant has increased; this should not happen: log(det) > log(previous_det) (-7345.417421174976880 > -7449.726139188597699). You may want to try with a higher value of support_fraction (current value: 0.800).\n",
      "  warnings.warn(\n",
      "/Users/guopei/miniforge3/envs/tf2/lib/python3.9/site-packages/sklearn/covariance/_robust_covariance.py:183: RuntimeWarning: Determinant has increased; this should not happen: log(det) > log(previous_det) (-7342.340726915693267 > -7343.800770472254953). You may want to try with a higher value of support_fraction (current value: 0.800).\n",
      "  warnings.warn(\n",
      "/Users/guopei/miniforge3/envs/tf2/lib/python3.9/site-packages/sklearn/covariance/_robust_covariance.py:183: RuntimeWarning: Determinant has increased; this should not happen: log(det) > log(previous_det) (-7338.537023963665888 > -7447.399301570919306). You may want to try with a higher value of support_fraction (current value: 0.800).\n",
      "  warnings.warn(\n",
      "/Users/guopei/miniforge3/envs/tf2/lib/python3.9/site-packages/sklearn/covariance/_robust_covariance.py:183: RuntimeWarning: Determinant has increased; this should not happen: log(det) > log(previous_det) (-7332.930729395217895 > -7445.787920145307908). You may want to try with a higher value of support_fraction (current value: 0.800).\n",
      "  warnings.warn(\n",
      "/Users/guopei/miniforge3/envs/tf2/lib/python3.9/site-packages/sklearn/covariance/_robust_covariance.py:183: RuntimeWarning: Determinant has increased; this should not happen: log(det) > log(previous_det) (-7341.011724919837434 > -7342.249694757696489). You may want to try with a higher value of support_fraction (current value: 0.800).\n",
      "  warnings.warn(\n",
      "/Users/guopei/miniforge3/envs/tf2/lib/python3.9/site-packages/sklearn/covariance/_robust_covariance.py:183: RuntimeWarning: Determinant has increased; this should not happen: log(det) > log(previous_det) (-7335.938475449591351 > -7343.292257382820026). You may want to try with a higher value of support_fraction (current value: 0.800).\n",
      "  warnings.warn(\n",
      "/Users/guopei/miniforge3/envs/tf2/lib/python3.9/site-packages/sklearn/covariance/_robust_covariance.py:183: RuntimeWarning: Determinant has increased; this should not happen: log(det) > log(previous_det) (-7337.493605182214196 > -7337.815555350502109). You may want to try with a higher value of support_fraction (current value: 0.800).\n",
      "  warnings.warn(\n",
      "/Users/guopei/miniforge3/envs/tf2/lib/python3.9/site-packages/sklearn/covariance/_robust_covariance.py:183: RuntimeWarning: Determinant has increased; this should not happen: log(det) > log(previous_det) (-7341.640240891135363 > -7351.327672902227278). You may want to try with a higher value of support_fraction (current value: 0.800).\n",
      "  warnings.warn(\n",
      "/Users/guopei/miniforge3/envs/tf2/lib/python3.9/site-packages/sklearn/covariance/_robust_covariance.py:183: RuntimeWarning: Determinant has increased; this should not happen: log(det) > log(previous_det) (-7340.119407025560577 > -7457.752577077892965). You may want to try with a higher value of support_fraction (current value: 0.800).\n",
      "  warnings.warn(\n",
      "/Users/guopei/miniforge3/envs/tf2/lib/python3.9/site-packages/sklearn/covariance/_robust_covariance.py:183: RuntimeWarning: Determinant has increased; this should not happen: log(det) > log(previous_det) (-7344.802648992755167 > -7460.571721887379681). You may want to try with a higher value of support_fraction (current value: 0.800).\n",
      "  warnings.warn(\n",
      "/Users/guopei/miniforge3/envs/tf2/lib/python3.9/site-packages/sklearn/covariance/_robust_covariance.py:183: RuntimeWarning: Determinant has increased; this should not happen: log(det) > log(previous_det) (-7347.163635842331132 > -7348.963840261410041). You may want to try with a higher value of support_fraction (current value: 0.800).\n",
      "  warnings.warn(\n",
      "/Users/guopei/miniforge3/envs/tf2/lib/python3.9/site-packages/sklearn/covariance/_robust_covariance.py:183: RuntimeWarning: Determinant has increased; this should not happen: log(det) > log(previous_det) (-7345.197136063409744 > -7348.983431738258332). You may want to try with a higher value of support_fraction (current value: 0.800).\n",
      "  warnings.warn(\n",
      "/Users/guopei/miniforge3/envs/tf2/lib/python3.9/site-packages/sklearn/covariance/_robust_covariance.py:183: RuntimeWarning: Determinant has increased; this should not happen: log(det) > log(previous_det) (-7346.576046758274970 > -7347.248791774376514). You may want to try with a higher value of support_fraction (current value: 0.800).\n",
      "  warnings.warn(\n",
      "/Users/guopei/miniforge3/envs/tf2/lib/python3.9/site-packages/sklearn/covariance/_robust_covariance.py:183: RuntimeWarning: Determinant has increased; this should not happen: log(det) > log(previous_det) (-7347.546171267500540 > -7461.664522306127765). You may want to try with a higher value of support_fraction (current value: 0.800).\n",
      "  warnings.warn(\n",
      "/Users/guopei/miniforge3/envs/tf2/lib/python3.9/site-packages/sklearn/covariance/_robust_covariance.py:183: RuntimeWarning: Determinant has increased; this should not happen: log(det) > log(previous_det) (-7346.222378260343248 > -7454.871199549957964). You may want to try with a higher value of support_fraction (current value: 0.800).\n",
      "  warnings.warn(\n",
      "/Users/guopei/miniforge3/envs/tf2/lib/python3.9/site-packages/sklearn/covariance/_robust_covariance.py:183: RuntimeWarning: Determinant has increased; this should not happen: log(det) > log(previous_det) (-7336.343417513455279 > -7453.560132513542158). You may want to try with a higher value of support_fraction (current value: 0.800).\n",
      "  warnings.warn(\n",
      "/Users/guopei/miniforge3/envs/tf2/lib/python3.9/site-packages/sklearn/covariance/_robust_covariance.py:183: RuntimeWarning: Determinant has increased; this should not happen: log(det) > log(previous_det) (-7347.183798608921279 > -7461.964461832224515). You may want to try with a higher value of support_fraction (current value: 0.800).\n",
      "  warnings.warn(\n",
      "/Users/guopei/miniforge3/envs/tf2/lib/python3.9/site-packages/sklearn/covariance/_robust_covariance.py:183: RuntimeWarning: Determinant has increased; this should not happen: log(det) > log(previous_det) (-7331.905179988433702 > -7446.126004796964480). You may want to try with a higher value of support_fraction (current value: 0.800).\n",
      "  warnings.warn(\n",
      "/Users/guopei/miniforge3/envs/tf2/lib/python3.9/site-packages/sklearn/covariance/_robust_covariance.py:183: RuntimeWarning: Determinant has increased; this should not happen: log(det) > log(previous_det) (-7342.250939480089073 > -7342.786506481016659). You may want to try with a higher value of support_fraction (current value: 0.800).\n",
      "  warnings.warn(\n",
      "/Users/guopei/miniforge3/envs/tf2/lib/python3.9/site-packages/sklearn/covariance/_robust_covariance.py:183: RuntimeWarning: Determinant has increased; this should not happen: log(det) > log(previous_det) (-7339.584685048476786 > -7339.889418846547414). You may want to try with a higher value of support_fraction (current value: 0.800).\n",
      "  warnings.warn(\n",
      "/Users/guopei/miniforge3/envs/tf2/lib/python3.9/site-packages/sklearn/covariance/_robust_covariance.py:183: RuntimeWarning: Determinant has increased; this should not happen: log(det) > log(previous_det) (-7333.426628015830829 > -7340.104577296496245). You may want to try with a higher value of support_fraction (current value: 0.800).\n",
      "  warnings.warn(\n",
      "/Users/guopei/miniforge3/envs/tf2/lib/python3.9/site-packages/sklearn/covariance/_robust_covariance.py:183: RuntimeWarning: Determinant has increased; this should not happen: log(det) > log(previous_det) (-7336.816716607086164 > -7339.091146142704019). You may want to try with a higher value of support_fraction (current value: 0.800).\n",
      "  warnings.warn(\n",
      "/Users/guopei/miniforge3/envs/tf2/lib/python3.9/site-packages/sklearn/covariance/_robust_covariance.py:183: RuntimeWarning: Determinant has increased; this should not happen: log(det) > log(previous_det) (-7330.698057694638010 > -7342.368534663803985). You may want to try with a higher value of support_fraction (current value: 0.800).\n",
      "  warnings.warn(\n",
      "/Users/guopei/miniforge3/envs/tf2/lib/python3.9/site-packages/sklearn/covariance/_robust_covariance.py:183: RuntimeWarning: Determinant has increased; this should not happen: log(det) > log(previous_det) (-7327.579787607574872 > -7335.852316746493671). You may want to try with a higher value of support_fraction (current value: 0.800).\n",
      "  warnings.warn(\n",
      "/Users/guopei/miniforge3/envs/tf2/lib/python3.9/site-packages/sklearn/covariance/_robust_covariance.py:183: RuntimeWarning: Determinant has increased; this should not happen: log(det) > log(previous_det) (-7332.599507038185038 > -7336.993198096002743). You may want to try with a higher value of support_fraction (current value: 0.800).\n",
      "  warnings.warn(\n",
      "/Users/guopei/miniforge3/envs/tf2/lib/python3.9/site-packages/sklearn/covariance/_robust_covariance.py:183: RuntimeWarning: Determinant has increased; this should not happen: log(det) > log(previous_det) (-7343.116947110078399 > -7344.523242714734806). You may want to try with a higher value of support_fraction (current value: 0.800).\n",
      "  warnings.warn(\n",
      "/Users/guopei/miniforge3/envs/tf2/lib/python3.9/site-packages/sklearn/covariance/_robust_covariance.py:183: RuntimeWarning: Determinant has increased; this should not happen: log(det) > log(previous_det) (-7346.874485293975340 > -7443.388943000537438). You may want to try with a higher value of support_fraction (current value: 0.800).\n",
      "  warnings.warn(\n",
      "/Users/guopei/miniforge3/envs/tf2/lib/python3.9/site-packages/sklearn/covariance/_robust_covariance.py:183: RuntimeWarning: Determinant has increased; this should not happen: log(det) > log(previous_det) (-7337.477807382972060 > -7344.451254634947873). You may want to try with a higher value of support_fraction (current value: 0.800).\n",
      "  warnings.warn(\n",
      "/Users/guopei/miniforge3/envs/tf2/lib/python3.9/site-packages/sklearn/covariance/_robust_covariance.py:183: RuntimeWarning: Determinant has increased; this should not happen: log(det) > log(previous_det) (-7336.157408575903901 > -7347.664395437972416). You may want to try with a higher value of support_fraction (current value: 0.800).\n",
      "  warnings.warn(\n",
      "/Users/guopei/miniforge3/envs/tf2/lib/python3.9/site-packages/sklearn/covariance/_robust_covariance.py:183: RuntimeWarning: Determinant has increased; this should not happen: log(det) > log(previous_det) (-7333.051932346260401 > -7447.656652803013458). You may want to try with a higher value of support_fraction (current value: 0.800).\n",
      "  warnings.warn(\n",
      "/Users/guopei/miniforge3/envs/tf2/lib/python3.9/site-packages/sklearn/covariance/_robust_covariance.py:183: RuntimeWarning: Determinant has increased; this should not happen: log(det) > log(previous_det) (-7338.930864472051326 > -7344.892073432727557). You may want to try with a higher value of support_fraction (current value: 0.800).\n",
      "  warnings.warn(\n",
      "/Users/guopei/miniforge3/envs/tf2/lib/python3.9/site-packages/sklearn/covariance/_robust_covariance.py:183: RuntimeWarning: Determinant has increased; this should not happen: log(det) > log(previous_det) (-7343.042266696794286 > -7438.626008256680507). You may want to try with a higher value of support_fraction (current value: 0.800).\n",
      "  warnings.warn(\n",
      "/Users/guopei/miniforge3/envs/tf2/lib/python3.9/site-packages/sklearn/covariance/_robust_covariance.py:183: RuntimeWarning: Determinant has increased; this should not happen: log(det) > log(previous_det) (-7337.867715005720129 > -7341.448352696711481). You may want to try with a higher value of support_fraction (current value: 0.800).\n",
      "  warnings.warn(\n",
      "/Users/guopei/miniforge3/envs/tf2/lib/python3.9/site-packages/sklearn/covariance/_robust_covariance.py:183: RuntimeWarning: Determinant has increased; this should not happen: log(det) > log(previous_det) (-7333.564354726623606 > -7340.283434816070439). You may want to try with a higher value of support_fraction (current value: 0.800).\n",
      "  warnings.warn(\n",
      "/Users/guopei/miniforge3/envs/tf2/lib/python3.9/site-packages/sklearn/covariance/_robust_covariance.py:183: RuntimeWarning: Determinant has increased; this should not happen: log(det) > log(previous_det) (-7338.463097363023735 > -7447.727913347685899). You may want to try with a higher value of support_fraction (current value: 0.800).\n",
      "  warnings.warn(\n",
      "/Users/guopei/miniforge3/envs/tf2/lib/python3.9/site-packages/sklearn/covariance/_robust_covariance.py:183: RuntimeWarning: Determinant has increased; this should not happen: log(det) > log(previous_det) (-7337.425509380823314 > -7443.290523044778638). You may want to try with a higher value of support_fraction (current value: 0.800).\n",
      "  warnings.warn(\n",
      "/Users/guopei/miniforge3/envs/tf2/lib/python3.9/site-packages/sklearn/covariance/_robust_covariance.py:183: RuntimeWarning: Determinant has increased; this should not happen: log(det) > log(previous_det) (-7342.002522527978726 > -7445.433582204695085). You may want to try with a higher value of support_fraction (current value: 0.800).\n",
      "  warnings.warn(\n",
      "/Users/guopei/miniforge3/envs/tf2/lib/python3.9/site-packages/sklearn/covariance/_robust_covariance.py:183: RuntimeWarning: Determinant has increased; this should not happen: log(det) > log(previous_det) (-7335.768464654723175 > -7338.715112857763415). You may want to try with a higher value of support_fraction (current value: 0.800).\n",
      "  warnings.warn(\n",
      "/Users/guopei/miniforge3/envs/tf2/lib/python3.9/site-packages/sklearn/covariance/_robust_covariance.py:183: RuntimeWarning: Determinant has increased; this should not happen: log(det) > log(previous_det) (-7339.881859604935926 > -7449.683757196051374). You may want to try with a higher value of support_fraction (current value: 0.800).\n",
      "  warnings.warn(\n",
      "/Users/guopei/miniforge3/envs/tf2/lib/python3.9/site-packages/sklearn/covariance/_robust_covariance.py:183: RuntimeWarning: Determinant has increased; this should not happen: log(det) > log(previous_det) (-7329.804954290098976 > -7442.743249563222889). You may want to try with a higher value of support_fraction (current value: 0.800).\n",
      "  warnings.warn(\n",
      "/Users/guopei/miniforge3/envs/tf2/lib/python3.9/site-packages/sklearn/covariance/_robust_covariance.py:183: RuntimeWarning: Determinant has increased; this should not happen: log(det) > log(previous_det) (-7333.005745001384639 > -7450.242511462985931). You may want to try with a higher value of support_fraction (current value: 0.800).\n",
      "  warnings.warn(\n",
      "/Users/guopei/miniforge3/envs/tf2/lib/python3.9/site-packages/sklearn/covariance/_robust_covariance.py:183: RuntimeWarning: Determinant has increased; this should not happen: log(det) > log(previous_det) (-7336.428329152851802 > -7342.637272281930564). You may want to try with a higher value of support_fraction (current value: 0.800).\n",
      "  warnings.warn(\n",
      "/Users/guopei/miniforge3/envs/tf2/lib/python3.9/site-packages/sklearn/covariance/_robust_covariance.py:183: RuntimeWarning: Determinant has increased; this should not happen: log(det) > log(previous_det) (-2504.940266913704363 > -2623.123634731636685). You may want to try with a higher value of support_fraction (current value: 0.800).\n",
      "  warnings.warn(\n",
      "/Users/guopei/miniforge3/envs/tf2/lib/python3.9/site-packages/sklearn/covariance/_robust_covariance.py:183: RuntimeWarning: Determinant has increased; this should not happen: log(det) > log(previous_det) (-2522.259770703324193 > -2640.873107843647176). You may want to try with a higher value of support_fraction (current value: 0.800).\n",
      "  warnings.warn(\n",
      "/Users/guopei/miniforge3/envs/tf2/lib/python3.9/site-packages/sklearn/covariance/_robust_covariance.py:183: RuntimeWarning: Determinant has increased; this should not happen: log(det) > log(previous_det) (-2502.197286513035579 > -2620.447001671466296). You may want to try with a higher value of support_fraction (current value: 0.800).\n",
      "  warnings.warn(\n",
      "/Users/guopei/miniforge3/envs/tf2/lib/python3.9/site-packages/sklearn/covariance/_robust_covariance.py:183: RuntimeWarning: Determinant has increased; this should not happen: log(det) > log(previous_det) (-2549.652228041702074 > -2655.313051709853880). You may want to try with a higher value of support_fraction (current value: 0.800).\n",
      "  warnings.warn(\n",
      "/Users/guopei/miniforge3/envs/tf2/lib/python3.9/site-packages/sklearn/covariance/_robust_covariance.py:183: RuntimeWarning: Determinant has increased; this should not happen: log(det) > log(previous_det) (-7344.446589930373193 > -7348.354661352822404). You may want to try with a higher value of support_fraction (current value: 0.801).\n",
      "  warnings.warn(\n",
      "/Users/guopei/miniforge3/envs/tf2/lib/python3.9/site-packages/sklearn/covariance/_robust_covariance.py:183: RuntimeWarning: Determinant has increased; this should not happen: log(det) > log(previous_det) (-7359.322991290719074 > -7382.019876403537637). You may want to try with a higher value of support_fraction (current value: 0.801).\n",
      "  warnings.warn(\n",
      "/Users/guopei/miniforge3/envs/tf2/lib/python3.9/site-packages/sklearn/covariance/_robust_covariance.py:183: RuntimeWarning: Determinant has increased; this should not happen: log(det) > log(previous_det) (-7349.139069171306801 > -7372.176734802465944). You may want to try with a higher value of support_fraction (current value: 0.801).\n",
      "  warnings.warn(\n",
      "/Users/guopei/miniforge3/envs/tf2/lib/python3.9/site-packages/sklearn/covariance/_robust_covariance.py:183: RuntimeWarning: Determinant has increased; this should not happen: log(det) > log(previous_det) (-7354.055514871456580 > -7354.129795898740667). You may want to try with a higher value of support_fraction (current value: 0.801).\n",
      "  warnings.warn(\n",
      "/Users/guopei/miniforge3/envs/tf2/lib/python3.9/site-packages/sklearn/covariance/_robust_covariance.py:183: RuntimeWarning: Determinant has increased; this should not happen: log(det) > log(previous_det) (-7360.341664996683903 > -7362.001334650958597). You may want to try with a higher value of support_fraction (current value: 0.801).\n",
      "  warnings.warn(\n",
      "/Users/guopei/miniforge3/envs/tf2/lib/python3.9/site-packages/sklearn/covariance/_robust_covariance.py:183: RuntimeWarning: Determinant has increased; this should not happen: log(det) > log(previous_det) (-7352.820905513407524 > -7360.450347971467636). You may want to try with a higher value of support_fraction (current value: 0.801).\n",
      "  warnings.warn(\n",
      "/Users/guopei/miniforge3/envs/tf2/lib/python3.9/site-packages/sklearn/covariance/_robust_covariance.py:183: RuntimeWarning: Determinant has increased; this should not happen: log(det) > log(previous_det) (-7315.903888007534988 > -7325.563241974907214). You may want to try with a higher value of support_fraction (current value: 0.801).\n",
      "  warnings.warn(\n",
      "/Users/guopei/miniforge3/envs/tf2/lib/python3.9/site-packages/sklearn/covariance/_robust_covariance.py:183: RuntimeWarning: Determinant has increased; this should not happen: log(det) > log(previous_det) (-7345.614142274660480 > -7348.680892310051604). You may want to try with a higher value of support_fraction (current value: 0.801).\n",
      "  warnings.warn(\n"
     ]
    }
   ],
   "source": [
    "expriment_no    = 1\n",
    "print(\"-------------- No noisy training sets ----------\")\n",
    "for size in [2000, 4000, 5000, 8000, 10000, 15000, 20000]:\n",
    "    # Get a training set without noisy data\n",
    "    X_train, y_train = dc.get_train(size, train_distribution)\n",
    "\n",
    "    print(\"* Training set size: %d samples\" % (len(y_train)))\n",
    "    data_center.print_distribution(\"  Sentiments\", y_train)\n",
    "\n",
    "    # Do an experiment\n",
    "    dfResult = do_experiment(X_train, y_train, X_test, y_test)\n",
    "    Ev.add_evaluation(dfResult, size, 0, \"-\",\n",
    "                              data_center.calc_distribution_str(y_train, 'sentiment', [0,1,2,3]),\n",
    "                              \"-\", expriment_no\n",
    "                              )\n",
    "    expriment_no += 1\n",
    "\n",
    "print(\"-------------- Noisy training sets -------------\")\n",
    "# The noise source distribution of the whole noisy data.\n",
    "dc.print_noise_source_distribution(\"General noise source distribution\")\n",
    "\n",
    "# here is the hyperparameter for dimension reduction\n",
    "svdDimension = (400, 800, 1500)\n",
    "dimensionIndex = 0\n",
    "lstSizes = [(4000, 1000), (8000, 2000), (15000, 5000)]\n",
    "\n",
    "for size in lstSizes:\n",
    "    # Get a noisy training set\n",
    "    train_df         = dc.get_train_with_noisy_df(size[0], size[1], train_distribution)\n",
    "    # 在这里重置index\n",
    "    train_df.reset_index(drop=True, inplace=True)\n",
    "    X_train, y_train = data_center.Xy(train_df)\n",
    "    X_noisy          = train_df[train_df['noise'] != 0]\n",
    "\n",
    "    print(\"* Noisy training set size: %d samples (%d original, %d noisy)\" % (len(y_train), size[0], size[1]))\n",
    "    data_center.print_distribution(\"  Sentiments\", y_train)\n",
    "    dc.print_noise_source_distribution(\"  Noise sources\")\n",
    "\n",
    "    # Do an experiment without de-noising\n",
    "    print(\"  Before de-noising:\")\n",
    "    dfResult = do_experiment(X_train, y_train, X_test, y_test)\n",
    "    Ev.add_evaluation(dfResult, size[0], size[1], \"N\",\n",
    "                            data_center.calc_distribution_str(y_train, 'sentiment', [0,1,2,3]),\n",
    "                            data_center.calc_distribution_str(X_noisy, 'noise', [1,2,3]),\n",
    "                            expriment_no\n",
    "                            )\n",
    "\n",
    "    # Do an experiment with de-noising\n",
    "    print(\"  After de-noising:\")\n",
    "    dfResult = do_experiment_denoise(train_df, X_train, y_train, X_test, y_test, svdDimension[dimensionIndex])\n",
    "    dimensionIndex += 1\n",
    "    Ev.add_evaluation(dfResult, size[0], size[1], \"Y\",\n",
    "                            data_center.calc_distribution_str(y_train, 'sentiment', [0,1,2,3]),\n",
    "                            data_center.calc_distribution_str(X_noisy, 'noise', [1,2,3]),\n",
    "                            expriment_no + len(lstSizes)\n",
    "                            )\n",
    "    expriment_no += 1\n",
    "    \n",
    "print(\"-------------- Experiments are finished. -------------\")    \n"
   ]
  },
  {
   "cell_type": "markdown",
   "id": "46dc1847",
   "metadata": {
    "pycharm": {
     "metadata": false
    }
   },
   "source": [
    "**Show evaluations in a form (be sure the experiments have been finished)**"
   ]
  },
  {
   "cell_type": "code",
   "execution_count": null,
   "id": "cca80284",
   "metadata": {
    "pycharm": {
     "metadata": false,
     "name": "#%%\n"
    }
   },
   "outputs": [],
   "source": [
    "Ev.print()\n"
   ]
  },
  {
   "cell_type": "markdown",
   "id": "a6729ce2",
   "metadata": {
    "pycharm": {
     "metadata": false
    }
   },
   "source": [
    "**Parameters for plotting.**"
   ]
  },
  {
   "cell_type": "code",
   "execution_count": null,
   "id": "f5a592ff",
   "metadata": {
    "pycharm": {
     "metadata": false,
     "name": "#%%\n"
    }
   },
   "outputs": [],
   "source": [
    "# Plot training set size vs. Macro F1\n",
    "# x coordinate\n",
    "xValue  = \"x['Origin']+x['Noise']\"\n",
    "# also can try other numeric columns, like:\n",
    "# xValue  = \"x['Origin']\"\n",
    "\n",
    "# y coordinate\n",
    "yValue  = \"y['Macro F1']\"\n",
    "# also can try other numeric columns, like:\n",
    "# yValue  = \"y['Weighted F1']\"\n",
    "# yValue  = \"y['Macro Precision']\"\n",
    "\n",
    "# Divide experiments into several groups, which will be plot as lines\n",
    "lines = { # each item: name, filter\n",
    "    'Original Data':      \"df['Denoised']=='-'\",\n",
    "    'Noisy Data':       \"df['Denoised']=='N'\",\n",
    "    'Denoised Data':    \"df['Denoised']=='Y'\",\n",
    "}\n"
   ]
  },
  {
   "cell_type": "markdown",
   "id": "f6f9cdfe",
   "metadata": {
    "pycharm": {
     "metadata": false
    }
   },
   "source": [
    "**Plot the evaluations.**"
   ]
  },
  {
   "cell_type": "code",
   "execution_count": null,
   "id": "aeee2bfb",
   "metadata": {
    "pycharm": {
     "metadata": false,
     "name": "#%%\n"
    }
   },
   "outputs": [],
   "source": [
    "Ev.plot(xValue = xValue, yValue = yValue, lines = lines,\n",
    "        title = 'SVM using Elliptic Envelope for de-noising')\n"
   ]
  },
  {
   "cell_type": "code",
   "execution_count": null,
   "id": "bb6f14b1-7ca1-4ff7-8969-5139e8f99fa1",
   "metadata": {},
   "outputs": [],
   "source": [
    "\n",
    "Ev.evaluateDF.to_clipboard(excel=True)"
   ]
  },
  {
   "cell_type": "code",
   "execution_count": null,
   "id": "97decaf8-17c5-43e7-bbae-0ad0161701b3",
   "metadata": {},
   "outputs": [],
   "source": []
  }
 ],
 "metadata": {
  "kernelspec": {
   "display_name": "Python 3 (ipykernel)",
   "language": "python",
   "name": "python3"
  },
  "language_info": {
   "codemirror_mode": {
    "name": "ipython",
    "version": 3
   },
   "file_extension": ".py",
   "mimetype": "text/x-python",
   "name": "python",
   "nbconvert_exporter": "python",
   "pygments_lexer": "ipython3",
   "version": "3.9.12"
  },
  "stem_cell": {
   "cell_type": "raw",
   "metadata": {
    "pycharm": {
     "metadata": false
    }
   },
   "source": ""
  }
 },
 "nbformat": 4,
 "nbformat_minor": 5
}
