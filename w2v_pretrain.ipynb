{
 "cells": [
  {
   "cell_type": "code",
   "execution_count": 1,
   "id": "bc18fa9d-a930-4333-828d-8d718534d6e8",
   "metadata": {},
   "outputs": [],
   "source": [
    "from Common.DataCenter import data_center\n",
    "import nltk\n",
    "import string\n",
    "from nltk.corpus import stopwords\n",
    "from nltk.stem.porter import PorterStemmer\n",
    "#from gensim.models.keyedvectors import KeyedVectors\n",
    "from gensim.models import Word2Vec\n",
    "import os\n",
    "import numpy as np\n",
    "import pandas as pd"
   ]
  },
  {
   "cell_type": "code",
   "execution_count": 2,
   "id": "1999abab-688d-4da8-a23c-8ed1bf2fd60d",
   "metadata": {},
   "outputs": [],
   "source": [
    "vector_size = 300"
   ]
  },
  {
   "cell_type": "code",
   "execution_count": 3,
   "id": "09aca470-6425-478b-a7f6-e885205aa56b",
   "metadata": {},
   "outputs": [],
   "source": [
    "# parameter: list of tweet messages\n",
    "# return: normalize NLP pre-processing\n",
    "def normalize_preprocessing(data):\n",
    "    messages = data\n",
    "    # Traversal the message list\n",
    "    for i in range(len(data)):\n",
    "        # Lower case\n",
    "        message         = data[i].lower()\n",
    "        # Remove punctuation\n",
    "        for c in string.punctuation:\n",
    "            message         = message.replace(c, ' ')\n",
    "        # Tokenize\n",
    "        message         = nltk.word_tokenize(message)\n",
    "        ## Remove stop words\n",
    "        # message_filtered = [w for w in message if w not in stopwords.words('english')]\n",
    "        ## Only keep Noun and specified POS\n",
    "        # message_refiltered = nltk.pos_tag(message_filtered)\n",
    "        # message_filtered = [w for w, pos in message_refiltered if pos.startswith('NN')]\n",
    "        # Stemming\n",
    "        ps               = PorterStemmer()\n",
    "        # message_filtered = [ps.stem(w) for w in message_filtered]\n",
    "        message_filtered = [ps.stem(w) for w in message]\n",
    "        # Re-Combinate\n",
    "        # message          = \" \".join(message_filtered)\n",
    "        messages.append(message_filtered)\n",
    "    \n",
    "    return messages"
   ]
  },
  {
   "cell_type": "code",
   "execution_count": 4,
   "id": "ec66c4fb-3004-4336-ba85-44072efcfafb",
   "metadata": {},
   "outputs": [],
   "source": [
    "dc      = data_center(\"twitter_sentiment_data.csv\", test_size=0, noisy_size=0, validation_size=0)\n",
    "data, _ = dc.get_train(dc.get_train_len())\n"
   ]
  },
  {
   "cell_type": "code",
   "execution_count": 5,
   "id": "68722ce5-958f-49b8-9971-3ecd13b15605",
   "metadata": {},
   "outputs": [
    {
     "name": "stdout",
     "output_type": "stream",
     "text": [
      "vocabulary building finished, start training...\n"
     ]
    }
   ],
   "source": [
    "data = normalize_preprocessing(data)\n",
    "\n",
    "model = Word2Vec(vector_size=vector_size, min_count=1)\n",
    "model.build_vocab(data)\n",
    "print('vocabulary building finished, start training...')\n",
    "model.train(data, total_examples = model.corpus_count, epochs = model.epochs)\n",
    "model.save('models/climates.41k.300d.bin')"
   ]
  },
  {
   "cell_type": "code",
   "execution_count": 6,
   "id": "9085b63b-7ae2-4057-8505-289fa8851930",
   "metadata": {},
   "outputs": [
    {
     "name": "stdout",
     "output_type": "stream",
     "text": [
      "[ 8.79766166e-01  6.52831001e-03 -3.38785291e+00 -2.25502506e-01\n",
      " -2.75181174e+00 -3.57197106e-01  1.11634684e+00 -7.80172527e-01\n",
      " -1.23460114e+00 -6.31465614e-01  8.46548855e-01 -1.49311864e+00\n",
      " -1.84820855e+00 -6.38156414e-01 -1.27736497e+00  1.09652925e+00\n",
      "  5.68661511e-01 -7.19206214e-01 -1.16466358e-01 -6.35980010e-01\n",
      " -1.45920348e+00  9.27659452e-01  1.42016017e+00 -3.70823145e-01\n",
      "  6.66030407e-01 -1.04402733e+00 -2.42720991e-01 -5.98644055e-02\n",
      "  2.46843860e-01 -1.56184101e+00  3.33785005e-02  6.57422543e-01\n",
      "  1.90974784e+00 -2.35474691e-01  7.44730756e-02 -1.07684553e+00\n",
      "  1.18405096e-01  5.70547640e-01  1.37373185e+00  8.44773352e-01\n",
      " -5.15914500e-01  3.90612960e-01  1.14574909e+00 -2.38707232e+00\n",
      "  1.40103936e-01  6.63210005e-02 -9.27376270e-01  6.96265280e-01\n",
      " -5.37050962e-01  1.32507133e+00 -1.24156356e+00 -1.32312253e-01\n",
      "  1.42424560e+00  3.01283628e-01 -2.99590945e-01  5.18694878e-01\n",
      "  5.78216136e-01 -1.20633699e-01  1.06414545e+00  9.28200483e-01\n",
      " -5.00029206e-01 -6.90599859e-01 -2.34539080e+00  5.46437919e-01\n",
      " -6.92673177e-02 -1.34760842e-01 -8.55465412e-01 -9.06379282e-01\n",
      " -1.26157892e+00  1.48063838e+00 -1.85812855e+00  1.16785800e+00\n",
      "  4.65138882e-01 -2.02339339e+00 -2.20772624e-01 -6.75796568e-02\n",
      "  1.72749257e+00  9.45453763e-01 -6.88498616e-01 -2.73912835e+00\n",
      " -1.69207549e+00 -1.28351301e-01  4.86388862e-01  1.88055027e+00\n",
      "  1.12207942e-01 -2.16224074e-01  8.63133296e-02 -7.64251173e-01\n",
      " -3.48767668e-01  2.46139672e-02 -1.79795516e+00  4.30566639e-01\n",
      " -1.99068320e+00 -3.40285152e-02  3.35524529e-01 -3.68097901e-01\n",
      " -1.67688286e+00  1.21784997e+00 -3.25154960e-01 -1.07119787e+00\n",
      " -1.05236150e-01 -2.92748094e-01 -2.97927761e+00 -4.74469304e-01\n",
      "  9.85418379e-01 -2.12938190e+00 -4.08837795e-01  6.70373142e-01\n",
      " -4.91574049e-01 -8.15660954e-01  5.61316729e-01  1.39455521e+00\n",
      "  4.43343461e-01 -1.97448587e+00  7.57236958e-01  9.49494958e-01\n",
      "  8.84837329e-01 -2.29351163e-01  5.73887706e-01  2.79412568e-01\n",
      " -3.08920950e-01 -3.72176856e-01  1.00945187e+00 -1.49361825e+00\n",
      "  3.39503741e+00  2.35259205e-01 -9.14270878e-01  1.72332656e-02\n",
      " -2.75719106e-01  1.27787507e+00  8.93156350e-01  1.17703938e+00\n",
      "  2.85964394e+00 -1.77985221e-01  2.97965556e-01 -5.50262511e-01\n",
      " -2.12224293e+00 -9.02899981e-01 -6.73830211e-01 -7.69474089e-01\n",
      "  2.59667367e-01  2.43412927e-01  4.59999181e-02  1.13724697e+00\n",
      " -6.47320867e-01 -1.72276688e+00 -9.87532079e-01 -1.11222565e+00\n",
      "  1.22634888e-01 -3.51652622e-01  1.96542525e+00 -9.80773091e-01\n",
      "  6.81695342e-02  1.21125057e-01  1.28141475e+00  3.41547102e-01\n",
      " -8.33607852e-01  2.67829943e+00  4.70929891e-01  5.20098090e-01\n",
      "  6.60483778e-01 -4.80880402e-02  1.20401299e+00  4.67588723e-01\n",
      " -1.73816991e+00  1.27761137e+00 -9.46109772e-01  1.52745992e-01\n",
      "  1.34524190e+00 -9.67902422e-01  1.11748850e+00  8.71220510e-03\n",
      "  2.37847495e+00  3.52749497e-01  1.23275673e+00  6.68093681e-01\n",
      "  4.66824025e-01 -1.45698261e+00 -6.36408513e-04 -1.31852686e+00\n",
      "  1.97757676e-01  3.62348366e+00  9.54448700e-01  1.04188889e-01\n",
      " -4.63230550e-01  3.04861724e-01  2.52259350e+00  1.04211843e+00\n",
      "  1.34473085e+00  6.15922987e-01  2.95852900e+00  1.85646021e+00\n",
      " -2.52334213e+00  7.67066598e-01 -1.18157554e+00  2.43300104e+00\n",
      " -7.20221460e-01 -1.43043673e+00 -4.86009240e-01 -2.34836030e+00\n",
      "  3.36743325e-01 -7.34168470e-01  1.61557928e-01  5.52667499e-01\n",
      "  8.25526536e-01  2.02689004e+00  8.76812339e-01  1.03963248e-01\n",
      " -1.03775787e+00  3.34039122e-01 -2.75022924e-01 -1.06027579e+00\n",
      "  3.80548030e-01 -2.31235504e+00  7.27081478e-01 -7.80391216e-01\n",
      " -1.93902576e+00 -3.06077099e+00 -1.21771443e+00 -1.44109413e-01\n",
      " -7.68600106e-01  8.47359478e-01 -6.18945241e-01 -2.00021625e+00\n",
      "  1.25950468e+00  1.56301614e-02 -3.22121978e-01  1.21641171e+00\n",
      " -2.25092983e+00 -1.99385250e+00 -1.18771458e+00  3.70110840e-01\n",
      " -3.33244726e-02  1.58427179e+00 -1.08714104e+00 -1.94842517e-01\n",
      "  1.36609447e+00 -6.31777704e-01 -1.04647136e+00 -2.28689224e-01\n",
      " -1.44051838e+00 -1.21160366e-01 -1.19837070e+00  2.51939631e+00\n",
      "  1.37280381e+00 -4.79592562e-01  1.33451700e+00 -1.46682405e+00\n",
      " -2.83202440e-01 -5.01942575e-01 -1.06538403e+00  3.25528264e-01\n",
      " -1.03304279e+00 -1.40036833e+00 -3.43932986e-01 -1.04469812e+00\n",
      "  2.82376856e-01 -2.52422601e-01 -3.49610478e-01  8.87343764e-01\n",
      " -7.76352525e-01  1.29353583e+00 -1.80343306e+00  1.08751225e+00\n",
      "  1.64816666e+00 -1.25381041e+00 -1.27308583e+00  1.88410893e-01\n",
      "  1.42375159e+00  9.49759185e-02  9.73105192e-01  6.98008060e-01\n",
      " -7.81908810e-01  2.49645996e+00 -7.10581958e-01 -2.64613223e+00\n",
      " -1.53748870e+00 -2.06993628e+00  1.98772228e+00 -1.10896468e+00\n",
      "  6.35525942e-01  8.43811214e-01 -1.84703395e-01 -3.54816675e-01\n",
      " -9.33246762e-02 -6.28486693e-01  2.57434011e+00 -1.37863100e+00\n",
      " -4.14991826e-01 -6.36157155e-01  7.35585630e-01  4.43848759e-01\n",
      "  1.11215842e+00  1.27125263e+00  2.24506664e+00  9.44230676e-01\n",
      " -2.02384138e+00 -1.51342586e-01 -6.52588978e-02 -1.89774525e+00]\n"
     ]
    }
   ],
   "source": [
    "print(model.wv['global'])"
   ]
  }
 ],
 "metadata": {
  "kernelspec": {
   "display_name": "pytorch",
   "language": "python",
   "name": "pytorch"
  },
  "language_info": {
   "codemirror_mode": {
    "name": "ipython",
    "version": 3
   },
   "file_extension": ".py",
   "mimetype": "text/x-python",
   "name": "python",
   "nbconvert_exporter": "python",
   "pygments_lexer": "ipython3",
   "version": "3.9.7"
  }
 },
 "nbformat": 4,
 "nbformat_minor": 5
}
