{
 "cells": [
  {
   "cell_type": "markdown",
   "id": "c02d7dc3-5acf-46ff-8e37-170327cbe2f5",
   "metadata": {},
   "source": [
    "# LSI text preprocessing example"
   ]
  },
  {
   "cell_type": "code",
   "execution_count": 1,
   "id": "6a232b3b-0e37-4d15-9b5a-6e8f33a28b85",
   "metadata": {},
   "outputs": [],
   "source": [
    "from gensim.test.utils import common_dictionary, common_corpus\n",
    "from gensim.models import LsiModel\n",
    "from Common.DataCenter import data_center\n",
    "import pandas as pd"
   ]
  },
  {
   "cell_type": "markdown",
   "id": "1a8d9927-d9c5-4a42-9b8d-e6c9b0c8859b",
   "metadata": {},
   "source": [
    "首先给出官方文档中的例子"
   ]
  },
  {
   "cell_type": "code",
   "execution_count": 2,
   "id": "13a30a25-a928-497e-b63b-eaf2f5c152bb",
   "metadata": {},
   "outputs": [],
   "source": [
    "model = LsiModel(common_corpus, id2word=common_dictionary)\n",
    "vectorized_corpus = model[common_corpus]"
   ]
  },
  {
   "cell_type": "markdown",
   "id": "837a04be-64be-4f79-aaaf-31631afd8396",
   "metadata": {},
   "source": [
    "非常简单粗暴，传入corpus，以及传入字典，就能构造出LSA模型。得到模型以后，传入了corpus，就能得到向量。下面我们从头构造，来了解一下它是怎么运作的。"
   ]
  },
  {
   "cell_type": "markdown",
   "id": "77c4b8a1-5204-46d4-897d-ddc4015b12d8",
   "metadata": {},
   "source": [
    "举例： 如何构造corpus"
   ]
  },
  {
   "cell_type": "code",
   "execution_count": 3,
   "id": "5a801099-b34c-451e-ab46-ce0297fa9b60",
   "metadata": {},
   "outputs": [],
   "source": [
    "from collections import defaultdict\n",
    "from gensim import corpora\n",
    "# 这个就是文档库，是个字符串数组，列表中的每个元素是个字符串\n",
    "documents = [\n",
    "    \"Human machine interface for lab abc computer applications\",\n",
    "    \"A survey of user opinion of computer system response time\",\n",
    "    \"The EPS user interface management system\",\n",
    "    \"System and human system engineering testing of EPS\",\n",
    "    \"Relation of user perceived response time to error measurement\",\n",
    "    \"The generation of random binary unordered trees\",\n",
    "    \"The intersection graph of paths in trees\",\n",
    "    \"Graph minors IV Widths of trees and well quasi ordering\",\n",
    "    \"Graph minors A survey\",\n",
    "]\n",
    "# 将文档中的所有单词转换为小写，移除刁stop words，并按空格分割\n",
    "# remove common words and tokenize\n",
    "stoplist = set('for a of the and to in'.split())\n",
    "texts = [\n",
    "    [word for word in document.lower().split() if word not in stoplist]\n",
    "    for document in documents\n",
    "]\n",
    "# 这里删除罕见词，将只出现过1次的词删掉\n",
    "# remove words that appear only once\n",
    "frequency = defaultdict(int)\n",
    "for text in texts:\n",
    "    for token in text:\n",
    "        frequency[token] += 1\n",
    "\n",
    "texts = [\n",
    "    [token for token in text if frequency[token] > 1]\n",
    "    for text in texts\n",
    "]\n",
    "# 将文档库的所有单词存入字典，内部自动赋予ID\n",
    "dictionary = corpora.Dictionary(texts)\n",
    "# 重新将文档库进行doc2bow，每篇文章由单词数组，转换为了[(id1, number),(id2, number), ... ]的形式，每个独一无二的单词对应一个id\n",
    "corpus = [dictionary.doc2bow(text) for text in texts]"
   ]
  },
  {
   "cell_type": "markdown",
   "id": "28c2d419-d781-48ec-b8e6-763b1e9795a6",
   "metadata": {},
   "source": [
    "doc2bow可以将文档转换为内部定义的数字token"
   ]
  },
  {
   "cell_type": "code",
   "execution_count": 4,
   "id": "1bcf383a-f321-4fd6-8b77-705dc111f9e5",
   "metadata": {},
   "outputs": [
    {
     "data": {
      "text/plain": [
       "[(4, 1), (10, 2)]"
      ]
     },
     "execution_count": 4,
     "metadata": {},
     "output_type": "execute_result"
    }
   ],
   "source": [
    "dictionary.doc2bow(['survey', 'graph', 'graph'])"
   ]
  },
  {
   "cell_type": "markdown",
   "id": "1cbcebe2-5be9-4339-a155-01d35f774669",
   "metadata": {},
   "source": [
    "这里的4代表survey，后面的数字1代表survey出现了一次；10代表graph，后面的2代表出现了2次。  \n",
    "总结一下，我们的文档库是用列表的形式表示，列表的一个元素是一个字符串。我们手工将字符串转换成小写以后，通过空格进行分割，这样每个文档就对应了个字符串的数组，每个数组元素就是一个单词。然后通过Dictionary，将这个二级数组转换为dictionary，这里的dictionary将所有单词存起来，每个单词指定了一个索引。  \n",
    "接下来对于文档库的每一个文档，用doc2bow函数，转换为[(id1, number), (id2, number), ...]的形式。  \n",
    "现在使用LsiModel"
   ]
  },
  {
   "cell_type": "code",
   "execution_count": 5,
   "id": "016ccf60-5f33-4bda-a7b8-8eeeff71e501",
   "metadata": {
    "scrolled": true,
    "tags": []
   },
   "outputs": [],
   "source": [
    "testModel = LsiModel(corpus=corpus, id2word=dictionary)\n",
    "vec_corpus = model[corpus]"
   ]
  },
  {
   "cell_type": "markdown",
   "id": "e18ccc0e-7f13-4117-99e2-71dcf36b69b9",
   "metadata": {
    "tags": []
   },
   "source": [
    "把topic按照重要程度列出来，每个默认列前10个单词"
   ]
  },
  {
   "cell_type": "code",
   "execution_count": 6,
   "id": "9f84ebf1-657d-4c3d-a2ae-d63b09e61b62",
   "metadata": {},
   "outputs": [
    {
     "data": {
      "text/plain": [
       "[(0,\n",
       "  '0.644*\"system\" + 0.404*\"user\" + 0.301*\"eps\" + 0.265*\"time\" + 0.265*\"response\" + 0.240*\"computer\" + 0.221*\"human\" + 0.206*\"survey\" + 0.198*\"interface\" + 0.036*\"graph\"'),\n",
       " (1,\n",
       "  '0.623*\"graph\" + 0.490*\"trees\" + 0.451*\"minors\" + 0.274*\"survey\" + -0.167*\"system\" + -0.141*\"eps\" + -0.113*\"human\" + 0.107*\"response\" + 0.107*\"time\" + -0.072*\"interface\"'),\n",
       " (2,\n",
       "  '0.426*\"response\" + 0.426*\"time\" + -0.361*\"system\" + 0.338*\"user\" + -0.330*\"eps\" + -0.289*\"human\" + -0.231*\"trees\" + -0.223*\"graph\" + 0.178*\"survey\" + 0.164*\"computer\"'),\n",
       " (3,\n",
       "  '0.595*\"computer\" + 0.552*\"interface\" + 0.415*\"human\" + -0.333*\"system\" + -0.188*\"eps\" + -0.099*\"user\" + -0.074*\"response\" + -0.074*\"time\" + 0.032*\"survey\" + -0.025*\"trees\"'),\n",
       " (4,\n",
       "  '0.594*\"trees\" + -0.537*\"survey\" + 0.332*\"user\" + -0.300*\"minors\" + 0.282*\"interface\" + -0.159*\"system\" + 0.115*\"eps\" + -0.107*\"computer\" + -0.106*\"human\" + 0.080*\"time\"'),\n",
       " (5,\n",
       "  '0.496*\"interface\" + -0.392*\"trees\" + 0.385*\"user\" + -0.341*\"human\" + 0.277*\"minors\" + 0.272*\"eps\" + -0.255*\"computer\" + -0.207*\"system\" + -0.170*\"response\" + -0.170*\"time\"'),\n",
       " (6,\n",
       "  '-0.523*\"human\" + 0.467*\"survey\" + -0.339*\"minors\" + 0.302*\"computer\" + 0.288*\"trees\" + -0.283*\"response\" + -0.283*\"time\" + 0.166*\"system\" + -0.160*\"graph\" + 0.070*\"interface\"'),\n",
       " (7,\n",
       "  '0.681*\"graph\" + -0.678*\"minors\" + -0.255*\"trees\" + -0.062*\"computer\" + 0.060*\"human\" + 0.036*\"survey\" + -0.034*\"system\" + 0.019*\"eps\" + 0.016*\"response\" + 0.016*\"time\"'),\n",
       " (8,\n",
       "  '-0.579*\"survey\" + 0.492*\"computer\" + -0.407*\"human\" + 0.271*\"system\" + 0.232*\"graph\" + -0.225*\"trees\" + 0.183*\"minors\" + -0.165*\"eps\" + -0.109*\"interface\" + -0.054*\"response\"')]"
      ]
     },
     "execution_count": 6,
     "metadata": {},
     "output_type": "execute_result"
    }
   ],
   "source": [
    "testModel.show_topics()"
   ]
  },
  {
   "cell_type": "markdown",
   "id": "5308b6d4-ccda-49b0-9db5-bb20d9ade401",
   "metadata": {},
   "source": [
    "下面给定一句话(query)，将其转换到latent space"
   ]
  },
  {
   "cell_type": "code",
   "execution_count": 7,
   "id": "a30fd1ef-a8c8-49f6-a291-d7c4a773b772",
   "metadata": {},
   "outputs": [
    {
     "name": "stdout",
     "output_type": "stream",
     "text": [
      "[(0, 0.4618210045327156), (1, -0.07002766527900064), (2, -0.1245290755189914), (3, 1.0097125584438542), (4, -0.21303040605626514), (5, -0.5959384533820675), (6, -0.22041753546094384), (7, -0.001877877355475073), (8, 0.08576685494995573)]\n"
     ]
    },
    {
     "data": {
      "text/plain": [
       "[(0, 0.6594664059797393),\n",
       " (1, -0.14211544403729992),\n",
       " (2, -0.25956871420842187),\n",
       " (3, 1.561952142099364),\n",
       " (4, 0.06873853289228085),\n",
       " (5, -0.10006044227146021),\n",
       " (6, -0.14999409428716526),\n",
       " (7, 0.008062159852297848),\n",
       " (8, -0.02316341061634601)]"
      ]
     },
     "execution_count": 7,
     "metadata": {},
     "output_type": "execute_result"
    }
   ],
   "source": [
    "doc = \"Human computer interaction\"\n",
    "vec_bow = dictionary.doc2bow(doc.lower().split())\n",
    "vec_lsi = testModel[vec_bow]  # convert the query to LSI space\n",
    "print(vec_lsi)\n",
    "testModel[corpus[0]]"
   ]
  },
  {
   "cell_type": "markdown",
   "id": "6c777847-af26-4c51-a2de-9091de8435f2",
   "metadata": {},
   "source": [
    "我们能看出，它给出的格式是一个tuple列表，tuple的第一个元素代表topic id，第二个元素就代表在该topic下的取值。从而得到latent space下的向量。  \n",
    "下面使用data center中的数据，训练LSA，然后算出latent space下的vector"
   ]
  },
  {
   "cell_type": "code",
   "execution_count": 8,
   "id": "cdd7fcda-573f-492a-abc8-6572646271a4",
   "metadata": {},
   "outputs": [],
   "source": [
    "def dc_format(D):\n",
    "    data = {'message':D[0] , 'sentiment':D[1]}\n",
    "    df = pd.DataFrame(data)\n",
    "    return df"
   ]
  },
  {
   "cell_type": "code",
   "execution_count": 9,
   "id": "dba11459-a374-4468-a436-1173a7b494f8",
   "metadata": {},
   "outputs": [
    {
     "name": "stdout",
     "output_type": "stream",
     "text": [
      "Test size: 8000\n",
      "Validation size: 5000\n"
     ]
    }
   ],
   "source": [
    "# 加载测试集和验证集\n",
    "dc = data_center('./twitter_sentiment_data.csv', test_size=8000, noisy_size=8000, validation_size=5000)\n",
    "test_df = dc_format(dc.get_test())\n",
    "val_df = dc_format(dc.get_validation())\n",
    "\n",
    "print(f\"Test size: {test_df.shape[0]}\")\n",
    "print(f\"Validation size: {val_df.shape[0]}\")"
   ]
  },
  {
   "cell_type": "code",
   "execution_count": 10,
   "id": "1a01f467-ee43-41b7-813c-251400272599",
   "metadata": {},
   "outputs": [],
   "source": [
    "# 加载训练集\n",
    "train_df_2000 = dc_format(dc.get_train(2000))\n",
    "train_df_2500 = dc_format(dc.get_train(2500))\n",
    "train_df_4000 = dc_format(dc.get_train(4000))\n",
    "train_df_5000 = dc_format(dc.get_train(5000))\n",
    "train_df_7500 = dc_format(dc.get_train(7500))\n",
    "train_df_10000 = dc_format(dc.get_train(10000))"
   ]
  },
  {
   "cell_type": "markdown",
   "id": "dd403de9-0e11-43d2-97ae-919775b655e5",
   "metadata": {},
   "source": [
    "只用train_df_2000做测试，message那一列就是文本数据"
   ]
  },
  {
   "cell_type": "code",
   "execution_count": 11,
   "id": "67775732-3964-41f0-8033-6890ad73a54f",
   "metadata": {},
   "outputs": [],
   "source": [
    "# 把message列转为list\n",
    "trainDocs = train_df_2000['message'].tolist()"
   ]
  },
  {
   "cell_type": "code",
   "execution_count": 12,
   "id": "6eb5f5cb-cbc2-4bbc-9a49-95ab3b1870e4",
   "metadata": {},
   "outputs": [],
   "source": [
    "# 将文档中的所有单词转换为小写，移除掉stop words，并按空格分割\n",
    "# remove common words and tokenize\n",
    "def Document2Corpus(documents):    \n",
    "    stoplist = set('for a of the and to in'.split())\n",
    "    texts = [\n",
    "        [word for word in document.lower().split() if word not in stoplist]\n",
    "        for document in documents\n",
    "    ]\n",
    "    # 这里删除罕见词，将只出现过1次的词删掉\n",
    "    # remove words that appear only once\n",
    "    frequency = defaultdict(int)\n",
    "    for text in texts:\n",
    "        for token in text:\n",
    "            frequency[token] += 1\n",
    "\n",
    "    texts = [\n",
    "        [token for token in text if frequency[token] > 1]\n",
    "        for text in texts\n",
    "    ]\n",
    "    # 将文档库的所有单词存入字典，内部自动赋予ID\n",
    "    dictionary = corpora.Dictionary(texts)\n",
    "    # 重新将文档库进行doc2bow，每篇文章由单词数组，转换为了[(id1, number),(id2, number), ... ]的形式，每个独一无二的单词对应一个id\n",
    "    corpus = [dictionary.doc2bow(text) for text in texts]\n",
    "    return (dictionary, corpus)"
   ]
  },
  {
   "cell_type": "markdown",
   "id": "41009e26-e8ae-4a60-af05-7f72916eeb45",
   "metadata": {},
   "source": [
    "现在根据文档库，构造dictionary和corpus"
   ]
  },
  {
   "cell_type": "code",
   "execution_count": 13,
   "id": "d0171423-fa15-4140-b84c-bce94bcbf185",
   "metadata": {},
   "outputs": [],
   "source": [
    "trainDict, trainCorpus = Document2Corpus(trainDocs)"
   ]
  },
  {
   "cell_type": "markdown",
   "id": "bc5721e5-89ed-456f-8dbd-3ec4ae87b8d6",
   "metadata": {},
   "source": [
    "构造LSI model"
   ]
  },
  {
   "cell_type": "code",
   "execution_count": 14,
   "id": "b0eeadad-3b7d-4636-ae10-7381fad17ebb",
   "metadata": {},
   "outputs": [],
   "source": [
    "# 构造LSI model\n",
    "lsiModel = LsiModel(corpus=trainCorpus, id2word=trainDict, num_topics=20)\n"
   ]
  },
  {
   "cell_type": "code",
   "execution_count": 15,
   "id": "b1450dd4-82d6-49dc-8889-d25f11d21aae",
   "metadata": {},
   "outputs": [
    {
     "data": {
      "text/plain": [
       "[(0, 0.015947732435792686),\n",
       " (1, -0.0032388213615168614),\n",
       " (2, 0.006381591182950672),\n",
       " (3, 0.02028579259522966),\n",
       " (4, 0.002988925702525963),\n",
       " (5, 0.005793669219836691),\n",
       " (6, 0.020151713433651453),\n",
       " (7, 0.006790440958006139),\n",
       " (8, -0.005148689615160713),\n",
       " (9, 0.010112700688297624),\n",
       " (10, 0.0056909523299113075),\n",
       " (11, 0.003550866501387658),\n",
       " (12, -0.0011754495761561506),\n",
       " (13, 0.0020487974261467275),\n",
       " (14, 0.02114851858916627),\n",
       " (15, -0.02434774221721605),\n",
       " (16, -0.006876773270630155),\n",
       " (17, 0.010336101640595164),\n",
       " (18, 0.021279373888977382),\n",
       " (19, 0.021126892219531283)]"
      ]
     },
     "execution_count": 15,
     "metadata": {},
     "output_type": "execute_result"
    }
   ],
   "source": [
    "# 测试\n",
    "testStr = \"Hello world\"\n",
    "query = trainDict.doc2bow(testStr.lower().split())\n",
    "queryLsi = lsiModel[query]  # convert the query to LSI space\n",
    "queryLsi"
   ]
  },
  {
   "cell_type": "code",
   "execution_count": 16,
   "id": "0bbdb5db-e5c6-4340-ad42-97ce9d36d6cb",
   "metadata": {},
   "outputs": [
    {
     "data": {
      "text/plain": [
       "[0.015947732435792686,\n",
       " -0.0032388213615168614,\n",
       " 0.006381591182950672,\n",
       " 0.02028579259522966,\n",
       " 0.002988925702525963,\n",
       " 0.005793669219836691,\n",
       " 0.020151713433651453,\n",
       " 0.006790440958006139,\n",
       " -0.005148689615160713,\n",
       " 0.010112700688297624,\n",
       " 0.0056909523299113075,\n",
       " 0.003550866501387658,\n",
       " -0.0011754495761561506,\n",
       " 0.0020487974261467275,\n",
       " 0.02114851858916627,\n",
       " -0.02434774221721605,\n",
       " -0.006876773270630155,\n",
       " 0.010336101640595164,\n",
       " 0.021279373888977382,\n",
       " 0.021126892219531283]"
      ]
     },
     "execution_count": 16,
     "metadata": {},
     "output_type": "execute_result"
    }
   ],
   "source": [
    "df = pd.DataFrame(queryLsi, columns=['index','vec'])\n",
    "queryVec = df['vec'].tolist()\n",
    "queryVec"
   ]
  },
  {
   "cell_type": "markdown",
   "id": "2146a180-d8e4-48fb-bf08-426f8eed2733",
   "metadata": {},
   "source": [
    "下面看sklearn所带的LSA"
   ]
  },
  {
   "cell_type": "code",
   "execution_count": 17,
   "id": "c962f50c-a245-4065-b3de-96ed252545d3",
   "metadata": {},
   "outputs": [],
   "source": [
    "from sklearn.decomposition import TruncatedSVD\n",
    "from sklearn.feature_extraction.text import TfidfVectorizer\n",
    "from sklearn.feature_extraction.text import CountVectorizer\n",
    "from sklearn.preprocessing import Normalizer\n",
    "import numpy as np"
   ]
  },
  {
   "cell_type": "markdown",
   "id": "c5f5dca3",
   "metadata": {},
   "source": [
    "首先可以构造document term matrix(dtm)"
   ]
  },
  {
   "cell_type": "code",
   "execution_count": 18,
   "id": "5797bead",
   "metadata": {},
   "outputs": [
    {
     "data": {
      "text/html": [
       "<div>\n",
       "<style scoped>\n",
       "    .dataframe tbody tr th:only-of-type {\n",
       "        vertical-align: middle;\n",
       "    }\n",
       "\n",
       "    .dataframe tbody tr th {\n",
       "        vertical-align: top;\n",
       "    }\n",
       "\n",
       "    .dataframe thead th {\n",
       "        text-align: right;\n",
       "    }\n",
       "</style>\n",
       "<table border=\"1\" class=\"dataframe\">\n",
       "  <thead>\n",
       "    <tr style=\"text-align: right;\">\n",
       "      <th></th>\n",
       "      <th>cool</th>\n",
       "      <th>data</th>\n",
       "      <th>football</th>\n",
       "      <th>fun</th>\n",
       "      <th>great</th>\n",
       "      <th>learning</th>\n",
       "      <th>like</th>\n",
       "      <th>machine</th>\n",
       "      <th>python</th>\n",
       "      <th>science</th>\n",
       "      <th>statistics</th>\n",
       "      <th>super</th>\n",
       "      <th>watch</th>\n",
       "    </tr>\n",
       "  </thead>\n",
       "  <tbody>\n",
       "    <tr>\n",
       "      <th>Machine learning is super fun</th>\n",
       "      <td>0</td>\n",
       "      <td>0</td>\n",
       "      <td>0</td>\n",
       "      <td>1</td>\n",
       "      <td>0</td>\n",
       "      <td>1</td>\n",
       "      <td>0</td>\n",
       "      <td>1</td>\n",
       "      <td>0</td>\n",
       "      <td>0</td>\n",
       "      <td>0</td>\n",
       "      <td>1</td>\n",
       "      <td>0</td>\n",
       "    </tr>\n",
       "    <tr>\n",
       "      <th>Python is super, super cool</th>\n",
       "      <td>1</td>\n",
       "      <td>0</td>\n",
       "      <td>0</td>\n",
       "      <td>0</td>\n",
       "      <td>0</td>\n",
       "      <td>0</td>\n",
       "      <td>0</td>\n",
       "      <td>0</td>\n",
       "      <td>1</td>\n",
       "      <td>0</td>\n",
       "      <td>0</td>\n",
       "      <td>2</td>\n",
       "      <td>0</td>\n",
       "    </tr>\n",
       "    <tr>\n",
       "      <th>Statistics is cool, too</th>\n",
       "      <td>1</td>\n",
       "      <td>0</td>\n",
       "      <td>0</td>\n",
       "      <td>0</td>\n",
       "      <td>0</td>\n",
       "      <td>0</td>\n",
       "      <td>0</td>\n",
       "      <td>0</td>\n",
       "      <td>0</td>\n",
       "      <td>0</td>\n",
       "      <td>1</td>\n",
       "      <td>0</td>\n",
       "      <td>0</td>\n",
       "    </tr>\n",
       "    <tr>\n",
       "      <th>Data science is fun</th>\n",
       "      <td>0</td>\n",
       "      <td>1</td>\n",
       "      <td>0</td>\n",
       "      <td>1</td>\n",
       "      <td>0</td>\n",
       "      <td>0</td>\n",
       "      <td>0</td>\n",
       "      <td>0</td>\n",
       "      <td>0</td>\n",
       "      <td>1</td>\n",
       "      <td>0</td>\n",
       "      <td>0</td>\n",
       "      <td>0</td>\n",
       "    </tr>\n",
       "    <tr>\n",
       "      <th>Python is great for machine learning</th>\n",
       "      <td>0</td>\n",
       "      <td>0</td>\n",
       "      <td>0</td>\n",
       "      <td>0</td>\n",
       "      <td>1</td>\n",
       "      <td>1</td>\n",
       "      <td>0</td>\n",
       "      <td>1</td>\n",
       "      <td>1</td>\n",
       "      <td>0</td>\n",
       "      <td>0</td>\n",
       "      <td>0</td>\n",
       "      <td>0</td>\n",
       "    </tr>\n",
       "    <tr>\n",
       "      <th>I like football</th>\n",
       "      <td>0</td>\n",
       "      <td>0</td>\n",
       "      <td>1</td>\n",
       "      <td>0</td>\n",
       "      <td>0</td>\n",
       "      <td>0</td>\n",
       "      <td>1</td>\n",
       "      <td>0</td>\n",
       "      <td>0</td>\n",
       "      <td>0</td>\n",
       "      <td>0</td>\n",
       "      <td>0</td>\n",
       "      <td>0</td>\n",
       "    </tr>\n",
       "    <tr>\n",
       "      <th>Football is great to watch</th>\n",
       "      <td>0</td>\n",
       "      <td>0</td>\n",
       "      <td>1</td>\n",
       "      <td>0</td>\n",
       "      <td>1</td>\n",
       "      <td>0</td>\n",
       "      <td>0</td>\n",
       "      <td>0</td>\n",
       "      <td>0</td>\n",
       "      <td>0</td>\n",
       "      <td>0</td>\n",
       "      <td>0</td>\n",
       "      <td>1</td>\n",
       "    </tr>\n",
       "  </tbody>\n",
       "</table>\n",
       "</div>"
      ],
      "text/plain": [
       "                                      cool  data  football  fun  great  \\\n",
       "Machine learning is super fun            0     0         0    1      0   \n",
       "Python is super, super cool              1     0         0    0      0   \n",
       "Statistics is cool, too                  1     0         0    0      0   \n",
       "Data science is fun                      0     1         0    1      0   \n",
       "Python is great for machine learning     0     0         0    0      1   \n",
       "I like football                          0     0         1    0      0   \n",
       "Football is great to watch               0     0         1    0      1   \n",
       "\n",
       "                                      learning  like  machine  python  \\\n",
       "Machine learning is super fun                1     0        1       0   \n",
       "Python is super, super cool                  0     0        0       1   \n",
       "Statistics is cool, too                      0     0        0       0   \n",
       "Data science is fun                          0     0        0       0   \n",
       "Python is great for machine learning         1     0        1       1   \n",
       "I like football                              0     1        0       0   \n",
       "Football is great to watch                   0     0        0       0   \n",
       "\n",
       "                                      science  statistics  super  watch  \n",
       "Machine learning is super fun               0           0      1      0  \n",
       "Python is super, super cool                 0           0      2      0  \n",
       "Statistics is cool, too                     0           1      0      0  \n",
       "Data science is fun                         1           0      0      0  \n",
       "Python is great for machine learning        0           0      0      0  \n",
       "I like football                             0           0      0      0  \n",
       "Football is great to watch                  0           0      0      1  "
      ]
     },
     "execution_count": 18,
     "metadata": {},
     "output_type": "execute_result"
    }
   ],
   "source": [
    "example = [\"Machine learning is super fun\",\n",
    "\"Python is super, super cool\",\n",
    "\"Statistics is cool, too\",\n",
    "\"Data science is fun\",\n",
    "\"Python is great for machine learning\",\n",
    "\"I like football\",\n",
    "\"Football is great to watch\"]\n",
    "vectorizer = CountVectorizer(min_df = 1, stop_words = 'english')\n",
    "dtm = vectorizer.fit_transform(example)\n",
    "pd.DataFrame(dtm.toarray(),index=example,columns=vectorizer.get_feature_names_out()).head(10)"
   ]
  },
  {
   "cell_type": "markdown",
   "id": "8a1164b5",
   "metadata": {},
   "source": [
    "这个是doc-term matrix，课上讲的是term-doc matrix"
   ]
  },
  {
   "cell_type": "code",
   "execution_count": 19,
   "id": "6fa2dbd2",
   "metadata": {},
   "outputs": [
    {
     "data": {
      "text/html": [
       "<div>\n",
       "<style scoped>\n",
       "    .dataframe tbody tr th:only-of-type {\n",
       "        vertical-align: middle;\n",
       "    }\n",
       "\n",
       "    .dataframe tbody tr th {\n",
       "        vertical-align: top;\n",
       "    }\n",
       "\n",
       "    .dataframe thead th {\n",
       "        text-align: right;\n",
       "    }\n",
       "</style>\n",
       "<table border=\"1\" class=\"dataframe\">\n",
       "  <thead>\n",
       "    <tr style=\"text-align: right;\">\n",
       "      <th></th>\n",
       "      <th>cool</th>\n",
       "      <th>data</th>\n",
       "      <th>football</th>\n",
       "      <th>fun</th>\n",
       "      <th>great</th>\n",
       "      <th>learning</th>\n",
       "      <th>like</th>\n",
       "      <th>machine</th>\n",
       "      <th>python</th>\n",
       "      <th>science</th>\n",
       "      <th>statistics</th>\n",
       "      <th>super</th>\n",
       "      <th>watch</th>\n",
       "    </tr>\n",
       "  </thead>\n",
       "  <tbody>\n",
       "    <tr>\n",
       "      <th>Machine learning is super fun</th>\n",
       "      <td>0</td>\n",
       "      <td>0</td>\n",
       "      <td>0</td>\n",
       "      <td>1</td>\n",
       "      <td>0</td>\n",
       "      <td>1</td>\n",
       "      <td>0</td>\n",
       "      <td>1</td>\n",
       "      <td>0</td>\n",
       "      <td>0</td>\n",
       "      <td>0</td>\n",
       "      <td>1</td>\n",
       "      <td>0</td>\n",
       "    </tr>\n",
       "    <tr>\n",
       "      <th>Python is super, super cool</th>\n",
       "      <td>1</td>\n",
       "      <td>0</td>\n",
       "      <td>0</td>\n",
       "      <td>0</td>\n",
       "      <td>0</td>\n",
       "      <td>0</td>\n",
       "      <td>0</td>\n",
       "      <td>0</td>\n",
       "      <td>1</td>\n",
       "      <td>0</td>\n",
       "      <td>0</td>\n",
       "      <td>2</td>\n",
       "      <td>0</td>\n",
       "    </tr>\n",
       "    <tr>\n",
       "      <th>Statistics is cool, too</th>\n",
       "      <td>1</td>\n",
       "      <td>0</td>\n",
       "      <td>0</td>\n",
       "      <td>0</td>\n",
       "      <td>0</td>\n",
       "      <td>0</td>\n",
       "      <td>0</td>\n",
       "      <td>0</td>\n",
       "      <td>0</td>\n",
       "      <td>0</td>\n",
       "      <td>1</td>\n",
       "      <td>0</td>\n",
       "      <td>0</td>\n",
       "    </tr>\n",
       "    <tr>\n",
       "      <th>Data science is fun</th>\n",
       "      <td>0</td>\n",
       "      <td>1</td>\n",
       "      <td>0</td>\n",
       "      <td>1</td>\n",
       "      <td>0</td>\n",
       "      <td>0</td>\n",
       "      <td>0</td>\n",
       "      <td>0</td>\n",
       "      <td>0</td>\n",
       "      <td>1</td>\n",
       "      <td>0</td>\n",
       "      <td>0</td>\n",
       "      <td>0</td>\n",
       "    </tr>\n",
       "    <tr>\n",
       "      <th>Python is great for machine learning</th>\n",
       "      <td>0</td>\n",
       "      <td>0</td>\n",
       "      <td>0</td>\n",
       "      <td>0</td>\n",
       "      <td>1</td>\n",
       "      <td>1</td>\n",
       "      <td>0</td>\n",
       "      <td>1</td>\n",
       "      <td>1</td>\n",
       "      <td>0</td>\n",
       "      <td>0</td>\n",
       "      <td>0</td>\n",
       "      <td>0</td>\n",
       "    </tr>\n",
       "    <tr>\n",
       "      <th>I like football</th>\n",
       "      <td>0</td>\n",
       "      <td>0</td>\n",
       "      <td>1</td>\n",
       "      <td>0</td>\n",
       "      <td>0</td>\n",
       "      <td>0</td>\n",
       "      <td>1</td>\n",
       "      <td>0</td>\n",
       "      <td>0</td>\n",
       "      <td>0</td>\n",
       "      <td>0</td>\n",
       "      <td>0</td>\n",
       "      <td>0</td>\n",
       "    </tr>\n",
       "    <tr>\n",
       "      <th>Football is great to watch</th>\n",
       "      <td>0</td>\n",
       "      <td>0</td>\n",
       "      <td>1</td>\n",
       "      <td>0</td>\n",
       "      <td>1</td>\n",
       "      <td>0</td>\n",
       "      <td>0</td>\n",
       "      <td>0</td>\n",
       "      <td>0</td>\n",
       "      <td>0</td>\n",
       "      <td>0</td>\n",
       "      <td>0</td>\n",
       "      <td>1</td>\n",
       "    </tr>\n",
       "  </tbody>\n",
       "</table>\n",
       "</div>"
      ],
      "text/plain": [
       "                                      cool  data  football  fun  great  \\\n",
       "Machine learning is super fun            0     0         0    1      0   \n",
       "Python is super, super cool              1     0         0    0      0   \n",
       "Statistics is cool, too                  1     0         0    0      0   \n",
       "Data science is fun                      0     1         0    1      0   \n",
       "Python is great for machine learning     0     0         0    0      1   \n",
       "I like football                          0     0         1    0      0   \n",
       "Football is great to watch               0     0         1    0      1   \n",
       "\n",
       "                                      learning  like  machine  python  \\\n",
       "Machine learning is super fun                1     0        1       0   \n",
       "Python is super, super cool                  0     0        0       1   \n",
       "Statistics is cool, too                      0     0        0       0   \n",
       "Data science is fun                          0     0        0       0   \n",
       "Python is great for machine learning         1     0        1       1   \n",
       "I like football                              0     1        0       0   \n",
       "Football is great to watch                   0     0        0       0   \n",
       "\n",
       "                                      science  statistics  super  watch  \n",
       "Machine learning is super fun               0           0      1      0  \n",
       "Python is super, super cool                 0           0      2      0  \n",
       "Statistics is cool, too                     0           1      0      0  \n",
       "Data science is fun                         1           0      0      0  \n",
       "Python is great for machine learning        0           0      0      0  \n",
       "I like football                             0           0      0      0  \n",
       "Football is great to watch                  0           0      0      1  "
      ]
     },
     "execution_count": 19,
     "metadata": {},
     "output_type": "execute_result"
    }
   ],
   "source": [
    "pd.DataFrame(dtm.toarray(),index=example,columns=vectorizer.get_feature_names_out()).head(10)"
   ]
  },
  {
   "cell_type": "markdown",
   "id": "36c23639-b758-4dbb-ab9f-11f7720601c1",
   "metadata": {},
   "source": [
    "将这个document-term matrix进行SVD分解，并且只保留2个topic"
   ]
  },
  {
   "cell_type": "code",
   "execution_count": 20,
   "id": "a663a483",
   "metadata": {},
   "outputs": [],
   "source": [
    "# Fit LSA. Use algorithm = “randomized” for large datasets\n",
    "lsa = TruncatedSVD(2, algorithm = 'arpack')\n",
    "dtmfloat = dtm.astype(float)\n",
    "dtm_lsa = lsa.fit_transform(dtmfloat)\n",
    "dtm_lsa = Normalizer(copy=False).fit_transform(dtm_lsa)"
   ]
  },
  {
   "cell_type": "markdown",
   "id": "ba1615e0",
   "metadata": {},
   "source": [
    "下面打印一下矩阵，转换为我们熟悉的$USV^T$的命名方式"
   ]
  },
  {
   "cell_type": "code",
   "execution_count": 21,
   "id": "82dcadd0",
   "metadata": {},
   "outputs": [
    {
     "data": {
      "text/html": [
       "<div>\n",
       "<style scoped>\n",
       "    .dataframe tbody tr th:only-of-type {\n",
       "        vertical-align: middle;\n",
       "    }\n",
       "\n",
       "    .dataframe tbody tr th {\n",
       "        vertical-align: top;\n",
       "    }\n",
       "\n",
       "    .dataframe thead th {\n",
       "        text-align: right;\n",
       "    }\n",
       "</style>\n",
       "<table border=\"1\" class=\"dataframe\">\n",
       "  <thead>\n",
       "    <tr style=\"text-align: right;\">\n",
       "      <th></th>\n",
       "      <th>component_1</th>\n",
       "      <th>component_2</th>\n",
       "    </tr>\n",
       "  </thead>\n",
       "  <tbody>\n",
       "    <tr>\n",
       "      <th>cool</th>\n",
       "      <td>0.280004</td>\n",
       "      <td>0.365270</td>\n",
       "    </tr>\n",
       "    <tr>\n",
       "      <th>data</th>\n",
       "      <td>0.035353</td>\n",
       "      <td>-0.064548</td>\n",
       "    </tr>\n",
       "    <tr>\n",
       "      <th>football</th>\n",
       "      <td>0.033417</td>\n",
       "      <td>-0.298349</td>\n",
       "    </tr>\n",
       "    <tr>\n",
       "      <th>fun</th>\n",
       "      <td>0.223993</td>\n",
       "      <td>-0.168056</td>\n",
       "    </tr>\n",
       "    <tr>\n",
       "      <th>great</th>\n",
       "      <td>0.178307</td>\n",
       "      <td>-0.478428</td>\n",
       "    </tr>\n",
       "    <tr>\n",
       "      <th>learning</th>\n",
       "      <td>0.338085</td>\n",
       "      <td>-0.366379</td>\n",
       "    </tr>\n",
       "    <tr>\n",
       "      <th>like</th>\n",
       "      <td>0.004555</td>\n",
       "      <td>-0.082792</td>\n",
       "    </tr>\n",
       "    <tr>\n",
       "      <th>machine</th>\n",
       "      <td>0.338085</td>\n",
       "      <td>-0.366379</td>\n",
       "    </tr>\n",
       "    <tr>\n",
       "      <th>python</th>\n",
       "      <td>0.391281</td>\n",
       "      <td>0.001036</td>\n",
       "    </tr>\n",
       "    <tr>\n",
       "      <th>science</th>\n",
       "      <td>0.035353</td>\n",
       "      <td>-0.064548</td>\n",
       "    </tr>\n",
       "    <tr>\n",
       "      <th>statistics</th>\n",
       "      <td>0.038169</td>\n",
       "      <td>0.101363</td>\n",
       "    </tr>\n",
       "    <tr>\n",
       "      <th>super</th>\n",
       "      <td>0.672310</td>\n",
       "      <td>0.424306</td>\n",
       "    </tr>\n",
       "    <tr>\n",
       "      <th>watch</th>\n",
       "      <td>0.028861</td>\n",
       "      <td>-0.215557</td>\n",
       "    </tr>\n",
       "  </tbody>\n",
       "</table>\n",
       "</div>"
      ],
      "text/plain": [
       "            component_1  component_2\n",
       "cool           0.280004     0.365270\n",
       "data           0.035353    -0.064548\n",
       "football       0.033417    -0.298349\n",
       "fun            0.223993    -0.168056\n",
       "great          0.178307    -0.478428\n",
       "learning       0.338085    -0.366379\n",
       "like           0.004555    -0.082792\n",
       "machine        0.338085    -0.366379\n",
       "python         0.391281     0.001036\n",
       "science        0.035353    -0.064548\n",
       "statistics     0.038169     0.101363\n",
       "super          0.672310     0.424306\n",
       "watch          0.028861    -0.215557"
      ]
     },
     "execution_count": 21,
     "metadata": {},
     "output_type": "execute_result"
    }
   ],
   "source": [
    "UT = pd.DataFrame(lsa.components_,index = [\"component_1\",\"component_2\"],columns = vectorizer.get_feature_names_out())\n",
    "U = UT.T\n",
    "U"
   ]
  },
  {
   "cell_type": "code",
   "execution_count": 22,
   "id": "50e492fc",
   "metadata": {},
   "outputs": [
    {
     "data": {
      "text/html": [
       "<div>\n",
       "<style scoped>\n",
       "    .dataframe tbody tr th:only-of-type {\n",
       "        vertical-align: middle;\n",
       "    }\n",
       "\n",
       "    .dataframe tbody tr th {\n",
       "        vertical-align: top;\n",
       "    }\n",
       "\n",
       "    .dataframe thead th {\n",
       "        text-align: right;\n",
       "    }\n",
       "</style>\n",
       "<table border=\"1\" class=\"dataframe\">\n",
       "  <thead>\n",
       "    <tr style=\"text-align: right;\">\n",
       "      <th></th>\n",
       "      <th>component_1</th>\n",
       "      <th>component_2</th>\n",
       "    </tr>\n",
       "  </thead>\n",
       "  <tbody>\n",
       "    <tr>\n",
       "      <th>Machine learning is super fun</th>\n",
       "      <td>0.957024</td>\n",
       "      <td>-0.290007</td>\n",
       "    </tr>\n",
       "    <tr>\n",
       "      <th>Python is super, super cool</th>\n",
       "      <td>0.856484</td>\n",
       "      <td>0.516174</td>\n",
       "    </tr>\n",
       "    <tr>\n",
       "      <th>Statistics is cool, too</th>\n",
       "      <td>0.563355</td>\n",
       "      <td>0.826215</td>\n",
       "    </tr>\n",
       "    <tr>\n",
       "      <th>Data science is fun</th>\n",
       "      <td>0.704171</td>\n",
       "      <td>-0.710030</td>\n",
       "    </tr>\n",
       "    <tr>\n",
       "      <th>Python is great for machine learning</th>\n",
       "      <td>0.717284</td>\n",
       "      <td>-0.696781</td>\n",
       "    </tr>\n",
       "    <tr>\n",
       "      <th>I like football</th>\n",
       "      <td>0.099136</td>\n",
       "      <td>-0.995074</td>\n",
       "    </tr>\n",
       "    <tr>\n",
       "      <th>Football is great to watch</th>\n",
       "      <td>0.235618</td>\n",
       "      <td>-0.971846</td>\n",
       "    </tr>\n",
       "  </tbody>\n",
       "</table>\n",
       "</div>"
      ],
      "text/plain": [
       "                                      component_1  component_2\n",
       "Machine learning is super fun            0.957024    -0.290007\n",
       "Python is super, super cool              0.856484     0.516174\n",
       "Statistics is cool, too                  0.563355     0.826215\n",
       "Data science is fun                      0.704171    -0.710030\n",
       "Python is great for machine learning     0.717284    -0.696781\n",
       "I like football                          0.099136    -0.995074\n",
       "Football is great to watch               0.235618    -0.971846"
      ]
     },
     "execution_count": 22,
     "metadata": {},
     "output_type": "execute_result"
    }
   ],
   "source": [
    "V = pd.DataFrame(dtm_lsa, index = example, columns = [\"component_1\",\"component_2\"])\n",
    "V"
   ]
  },
  {
   "cell_type": "markdown",
   "id": "80760510",
   "metadata": {},
   "source": [
    "现在测试query，将query构造为pseudo document，使用\n",
    "$$\n",
    "query = q^T U_2 S_2\n",
    "$$"
   ]
  },
  {
   "cell_type": "markdown",
   "id": "930dceaa-4213-4521-94f4-13344087c860",
   "metadata": {},
   "source": [
    "我们现在拿到一个字符串，做为q，将其转换为query"
   ]
  },
  {
   "cell_type": "code",
   "execution_count": 23,
   "id": "9b9ba48f-c1cd-4849-aa75-0ddd83f4e0ff",
   "metadata": {},
   "outputs": [
    {
     "data": {
      "text/plain": [
       "array([[2.88718938, 0.        ],\n",
       "       [0.        , 2.14559669]])"
      ]
     },
     "execution_count": 23,
     "metadata": {},
     "output_type": "execute_result"
    }
   ],
   "source": [
    "S = np.diag(lsa.singular_values_)\n",
    "S"
   ]
  },
  {
   "cell_type": "code",
   "execution_count": 24,
   "id": "8539ea6e-6478-45e1-8ce6-c71900b73615",
   "metadata": {},
   "outputs": [],
   "source": [
    "# 转换为pseudo doc\n",
    "q = vectorizer.transform([\"fun great\"])"
   ]
  },
  {
   "cell_type": "code",
   "execution_count": 25,
   "id": "8e164ad3-c8ff-451c-bc21-44eb83e7219f",
   "metadata": {},
   "outputs": [
    {
     "data": {
      "text/plain": [
       "array([[ 1.16151543, -1.38709204]])"
      ]
     },
     "execution_count": 25,
     "metadata": {},
     "output_type": "execute_result"
    }
   ],
   "source": [
    "# 将doc转换到latent space\n",
    "q@U@S"
   ]
  },
  {
   "cell_type": "markdown",
   "id": "f399fd9e",
   "metadata": {},
   "source": [
    "测试LSI.py中的代码"
   ]
  },
  {
   "cell_type": "code",
   "execution_count": 26,
   "id": "0d4f66cf-e3b7-4907-ab21-2d95fb18d37e",
   "metadata": {},
   "outputs": [
    {
     "data": {
      "text/html": [
       "<div>\n",
       "<style scoped>\n",
       "    .dataframe tbody tr th:only-of-type {\n",
       "        vertical-align: middle;\n",
       "    }\n",
       "\n",
       "    .dataframe tbody tr th {\n",
       "        vertical-align: top;\n",
       "    }\n",
       "\n",
       "    .dataframe thead th {\n",
       "        text-align: right;\n",
       "    }\n",
       "</style>\n",
       "<table border=\"1\" class=\"dataframe\">\n",
       "  <thead>\n",
       "    <tr style=\"text-align: right;\">\n",
       "      <th></th>\n",
       "      <th>component_1</th>\n",
       "      <th>component_2</th>\n",
       "    </tr>\n",
       "  </thead>\n",
       "  <tbody>\n",
       "    <tr>\n",
       "      <th>cool</th>\n",
       "      <td>0.280004</td>\n",
       "      <td>0.365270</td>\n",
       "    </tr>\n",
       "    <tr>\n",
       "      <th>data</th>\n",
       "      <td>0.035353</td>\n",
       "      <td>-0.064548</td>\n",
       "    </tr>\n",
       "    <tr>\n",
       "      <th>football</th>\n",
       "      <td>0.033417</td>\n",
       "      <td>-0.298349</td>\n",
       "    </tr>\n",
       "    <tr>\n",
       "      <th>fun</th>\n",
       "      <td>0.223993</td>\n",
       "      <td>-0.168056</td>\n",
       "    </tr>\n",
       "    <tr>\n",
       "      <th>great</th>\n",
       "      <td>0.178307</td>\n",
       "      <td>-0.478428</td>\n",
       "    </tr>\n",
       "    <tr>\n",
       "      <th>learning</th>\n",
       "      <td>0.338085</td>\n",
       "      <td>-0.366379</td>\n",
       "    </tr>\n",
       "    <tr>\n",
       "      <th>like</th>\n",
       "      <td>0.004555</td>\n",
       "      <td>-0.082792</td>\n",
       "    </tr>\n",
       "    <tr>\n",
       "      <th>machine</th>\n",
       "      <td>0.338085</td>\n",
       "      <td>-0.366379</td>\n",
       "    </tr>\n",
       "    <tr>\n",
       "      <th>python</th>\n",
       "      <td>0.391281</td>\n",
       "      <td>0.001036</td>\n",
       "    </tr>\n",
       "    <tr>\n",
       "      <th>science</th>\n",
       "      <td>0.035353</td>\n",
       "      <td>-0.064548</td>\n",
       "    </tr>\n",
       "    <tr>\n",
       "      <th>statistics</th>\n",
       "      <td>0.038169</td>\n",
       "      <td>0.101363</td>\n",
       "    </tr>\n",
       "    <tr>\n",
       "      <th>super</th>\n",
       "      <td>0.672310</td>\n",
       "      <td>0.424306</td>\n",
       "    </tr>\n",
       "    <tr>\n",
       "      <th>watch</th>\n",
       "      <td>0.028861</td>\n",
       "      <td>-0.215557</td>\n",
       "    </tr>\n",
       "  </tbody>\n",
       "</table>\n",
       "</div>"
      ],
      "text/plain": [
       "            component_1  component_2\n",
       "cool           0.280004     0.365270\n",
       "data           0.035353    -0.064548\n",
       "football       0.033417    -0.298349\n",
       "fun            0.223993    -0.168056\n",
       "great          0.178307    -0.478428\n",
       "learning       0.338085    -0.366379\n",
       "like           0.004555    -0.082792\n",
       "machine        0.338085    -0.366379\n",
       "python         0.391281     0.001036\n",
       "science        0.035353    -0.064548\n",
       "statistics     0.038169     0.101363\n",
       "super          0.672310     0.424306\n",
       "watch          0.028861    -0.215557"
      ]
     },
     "execution_count": 26,
     "metadata": {},
     "output_type": "execute_result"
    }
   ],
   "source": [
    "from Common.LSI import SKLearnLSA\n",
    "docs = [\"Machine learning is super fun\",\n",
    "\"Python is super, super cool\",\n",
    "\"Statistics is cool, too\",\n",
    "\"Data science is fun\",\n",
    "\"Python is great for machine learning\",\n",
    "\"I like football\",\n",
    "\"Football is great to watch\"]\n",
    "\n",
    "model = SKLearnLSA()\n",
    "model.BuildModel(docs,2)\n",
    "model.U"
   ]
  },
  {
   "cell_type": "code",
   "execution_count": 27,
   "id": "59e5ab89",
   "metadata": {},
   "outputs": [
    {
     "data": {
      "text/html": [
       "<div>\n",
       "<style scoped>\n",
       "    .dataframe tbody tr th:only-of-type {\n",
       "        vertical-align: middle;\n",
       "    }\n",
       "\n",
       "    .dataframe tbody tr th {\n",
       "        vertical-align: top;\n",
       "    }\n",
       "\n",
       "    .dataframe thead th {\n",
       "        text-align: right;\n",
       "    }\n",
       "</style>\n",
       "<table border=\"1\" class=\"dataframe\">\n",
       "  <thead>\n",
       "    <tr style=\"text-align: right;\">\n",
       "      <th></th>\n",
       "      <th>component_1</th>\n",
       "      <th>component_2</th>\n",
       "    </tr>\n",
       "  </thead>\n",
       "  <tbody>\n",
       "    <tr>\n",
       "      <th>Machine learning is super fun</th>\n",
       "      <td>0.957024</td>\n",
       "      <td>-0.290007</td>\n",
       "    </tr>\n",
       "    <tr>\n",
       "      <th>Python is super, super cool</th>\n",
       "      <td>0.856484</td>\n",
       "      <td>0.516174</td>\n",
       "    </tr>\n",
       "    <tr>\n",
       "      <th>Statistics is cool, too</th>\n",
       "      <td>0.563355</td>\n",
       "      <td>0.826215</td>\n",
       "    </tr>\n",
       "    <tr>\n",
       "      <th>Data science is fun</th>\n",
       "      <td>0.704171</td>\n",
       "      <td>-0.710030</td>\n",
       "    </tr>\n",
       "    <tr>\n",
       "      <th>Python is great for machine learning</th>\n",
       "      <td>0.717284</td>\n",
       "      <td>-0.696781</td>\n",
       "    </tr>\n",
       "    <tr>\n",
       "      <th>I like football</th>\n",
       "      <td>0.099136</td>\n",
       "      <td>-0.995074</td>\n",
       "    </tr>\n",
       "    <tr>\n",
       "      <th>Football is great to watch</th>\n",
       "      <td>0.235618</td>\n",
       "      <td>-0.971846</td>\n",
       "    </tr>\n",
       "  </tbody>\n",
       "</table>\n",
       "</div>"
      ],
      "text/plain": [
       "                                      component_1  component_2\n",
       "Machine learning is super fun            0.957024    -0.290007\n",
       "Python is super, super cool              0.856484     0.516174\n",
       "Statistics is cool, too                  0.563355     0.826215\n",
       "Data science is fun                      0.704171    -0.710030\n",
       "Python is great for machine learning     0.717284    -0.696781\n",
       "I like football                          0.099136    -0.995074\n",
       "Football is great to watch               0.235618    -0.971846"
      ]
     },
     "execution_count": 27,
     "metadata": {},
     "output_type": "execute_result"
    }
   ],
   "source": [
    "model.V"
   ]
  },
  {
   "cell_type": "code",
   "execution_count": 28,
   "id": "2e7961fe",
   "metadata": {},
   "outputs": [
    {
     "data": {
      "text/plain": [
       "array([[2.88718938, 0.        ],\n",
       "       [0.        , 2.14559669]])"
      ]
     },
     "execution_count": 28,
     "metadata": {},
     "output_type": "execute_result"
    }
   ],
   "source": [
    "model.S"
   ]
  },
  {
   "cell_type": "code",
   "execution_count": 29,
   "id": "9aaa5d4f",
   "metadata": {},
   "outputs": [
    {
     "data": {
      "text/plain": [
       "array([[ 1.16151543, -1.38709204]])"
      ]
     },
     "execution_count": 29,
     "metadata": {},
     "output_type": "execute_result"
    }
   ],
   "source": [
    "qstrlist = [\"fun great\"]\n",
    "model.Query2LatentSpace(qstrlist)"
   ]
  },
  {
   "cell_type": "code",
   "execution_count": null,
   "id": "e78936e0",
   "metadata": {},
   "outputs": [],
   "source": []
  }
 ],
 "metadata": {
  "kernelspec": {
   "display_name": "tensorflow_gpu",
   "language": "python",
   "name": "tfgpu"
  },
  "language_info": {
   "codemirror_mode": {
    "name": "ipython",
    "version": 3
   },
   "file_extension": ".py",
   "mimetype": "text/x-python",
   "name": "python",
   "nbconvert_exporter": "python",
   "pygments_lexer": "ipython3",
   "version": "3.8.13"
  }
 },
 "nbformat": 4,
 "nbformat_minor": 5
}
