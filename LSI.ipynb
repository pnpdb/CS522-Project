{
 "cells": [
  {
   "cell_type": "markdown",
   "id": "c02d7dc3-5acf-46ff-8e37-170327cbe2f5",
   "metadata": {},
   "source": [
    "# LSI text preprocessing example"
   ]
  },
  {
   "cell_type": "code",
   "execution_count": 1,
   "id": "6a232b3b-0e37-4d15-9b5a-6e8f33a28b85",
   "metadata": {},
   "outputs": [],
   "source": [
    "from gensim.test.utils import common_dictionary, common_corpus\n",
    "from gensim.models import LsiModel\n",
    "from Common.DataCenter import data_center"
   ]
  },
  {
   "cell_type": "markdown",
   "id": "77c4b8a1-5204-46d4-897d-ddc4015b12d8",
   "metadata": {},
   "source": [
    "举例： 如何构造corpus"
   ]
  },
  {
   "cell_type": "code",
   "execution_count": 4,
   "id": "5a801099-b34c-451e-ab46-ce0297fa9b60",
   "metadata": {},
   "outputs": [],
   "source": [
    "from collections import defaultdict\n",
    "from gensim import corpora\n",
    "\n",
    "documents = [\n",
    "    \"Human machine interface for lab abc computer applications\",\n",
    "    \"A survey of user opinion of computer system response time\",\n",
    "    \"The EPS user interface management system\",\n",
    "    \"System and human system engineering testing of EPS\",\n",
    "    \"Relation of user perceived response time to error measurement\",\n",
    "    \"The generation of random binary unordered trees\",\n",
    "    \"The intersection graph of paths in trees\",\n",
    "    \"Graph minors IV Widths of trees and well quasi ordering\",\n",
    "    \"Graph minors A survey\",\n",
    "]\n",
    "# 将文档中的所有单词转换为小写，并按空格分割\n",
    "# remove common words and tokenize\n",
    "stoplist = set('for a of the and to in'.split())\n",
    "texts = [\n",
    "    [word for word in document.lower().split() if word not in stoplist]\n",
    "    for document in documents\n",
    "]\n",
    "# 这里删除罕见词，将只出现过1次的词删掉\n",
    "# remove words that appear only once\n",
    "frequency = defaultdict(int)\n",
    "for text in texts:\n",
    "    for token in text:\n",
    "        frequency[token] += 1\n",
    "\n",
    "texts = [\n",
    "    [token for token in text if frequency[token] > 1]\n",
    "    for text in texts\n",
    "]\n",
    "# 将文档库的所有单词存入字典，内部自动赋予ID\n",
    "dictionary = corpora.Dictionary(texts)\n",
    "# 重新将文档库进行doc2bow，每篇文章由单词数组，转换为了[(id1, number),(id2, number), ... ]的形式，每个独一无二的单词对应一个id\n",
    "corpus = [dictionary.doc2bow(text) for text in texts]"
   ]
  },
  {
   "cell_type": "markdown",
   "id": "28c2d419-d781-48ec-b8e6-763b1e9795a6",
   "metadata": {},
   "source": [
    "doc2bow可以将文档转换为内部定义的数字token"
   ]
  },
  {
   "cell_type": "code",
   "execution_count": null,
   "id": "1bcf383a-f321-4fd6-8b77-705dc111f9e5",
   "metadata": {},
   "outputs": [],
   "source": [
    "dictionary.doc2bow(['survey', 'graph', 'graph'])"
   ]
  },
  {
   "cell_type": "markdown",
   "id": "1cbcebe2-5be9-4339-a155-01d35f774669",
   "metadata": {},
   "source": [
    "总结一下，我们的文档库是用列表的形式表示，列表的一个元素是一个字符串。我们手工将字符串转换成小写以后，通过空格进行分割，这样每个文档就对应了个字符串的数组，每个数组元素就是一个单词。然后通过Dictionary，将这个二级数组转换为dictionary，这里的dictionary将所有单词存起来，每个单词指定了一个索引。  \n",
    "接下来对于文档库的每一个文档，用doc2bow函数，转换为[(id1, number), (id2, number), ...]的形式。  \n",
    "现在使用LsiModel"
   ]
  },
  {
   "cell_type": "code",
   "execution_count": null,
   "id": "016ccf60-5f33-4bda-a7b8-8eeeff71e501",
   "metadata": {},
   "outputs": [],
   "source": [
    "LsiModel(corpus)"
   ]
  },
  {
   "cell_type": "code",
   "execution_count": 2,
   "id": "adbd0cc4-93a8-401b-95e5-f873cbd3b592",
   "metadata": {},
   "outputs": [],
   "source": [
    "model = LsiModel(common_corpus, id2word=common_dictionary)"
   ]
  },
  {
   "cell_type": "code",
   "execution_count": 3,
   "id": "258427fa-ae49-4833-88c7-5b9257c4aefd",
   "metadata": {},
   "outputs": [],
   "source": [
    "vectorized_corpus = model[common_corpus]"
   ]
  },
  {
   "cell_type": "code",
   "execution_count": 16,
   "id": "ed1efbb9-776d-4aa7-9d79-f2d60de9ea87",
   "metadata": {},
   "outputs": [
    {
     "data": {
      "text/plain": [
       "[[(0, 1), (1, 1), (2, 1)],\n",
       " [(0, 1), (3, 1), (4, 1), (5, 1), (6, 1), (7, 1)],\n",
       " [(2, 1), (5, 1), (7, 1), (8, 1)],\n",
       " [(1, 1), (5, 2), (8, 1)],\n",
       " [(3, 1), (6, 1), (7, 1)],\n",
       " [(9, 1)],\n",
       " [(9, 1), (10, 1)],\n",
       " [(9, 1), (10, 1), (11, 1)],\n",
       " [(4, 1), (10, 1), (11, 1)]]"
      ]
     },
     "execution_count": 16,
     "metadata": {},
     "output_type": "execute_result"
    }
   ],
   "source": []
  },
  {
   "cell_type": "code",
   "execution_count": null,
   "id": "feec36d3-ef00-4e9b-8fcf-8743699d1d7b",
   "metadata": {},
   "outputs": [],
   "source": []
  }
 ],
 "metadata": {
  "kernelspec": {
   "display_name": "tensorflow_gpu",
   "language": "python",
   "name": "tensorflow_gpu"
  },
  "language_info": {
   "codemirror_mode": {
    "name": "ipython",
    "version": 3
   },
   "file_extension": ".py",
   "mimetype": "text/x-python",
   "name": "python",
   "nbconvert_exporter": "python",
   "pygments_lexer": "ipython3",
   "version": "3.9.12"
  }
 },
 "nbformat": 4,
 "nbformat_minor": 5
}
