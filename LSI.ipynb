{
 "cells": [
  {
   "cell_type": "markdown",
   "id": "c02d7dc3-5acf-46ff-8e37-170327cbe2f5",
   "metadata": {},
   "source": [
    "# LSI text preprocessing example"
   ]
  },
  {
   "cell_type": "code",
   "execution_count": 2,
   "id": "6a232b3b-0e37-4d15-9b5a-6e8f33a28b85",
   "metadata": {},
   "outputs": [],
   "source": [
    "from gensim.test.utils import common_dictionary, common_corpus\n",
    "from gensim.models import LsiModel\n",
    "from Common.DataCenter import data_center"
   ]
  },
  {
   "cell_type": "code",
   "execution_count": 5,
   "id": "adbd0cc4-93a8-401b-95e5-f873cbd3b592",
   "metadata": {},
   "outputs": [],
   "source": [
    "model = LsiModel(common_corpus, id2word=common_dictionary)"
   ]
  },
  {
   "cell_type": "code",
   "execution_count": 7,
   "id": "258427fa-ae49-4833-88c7-5b9257c4aefd",
   "metadata": {},
   "outputs": [],
   "source": [
    "vectorized_corpus = model[common_corpus]"
   ]
  },
  {
   "cell_type": "code",
   "execution_count": 9,
   "id": "5a801099-b34c-451e-ab46-ce0297fa9b60",
   "metadata": {},
   "outputs": [],
   "source": [
    "from collections import defaultdict\n",
    "from gensim import corpora\n",
    "\n",
    "documents = [\n",
    "    \"Human machine interface for lab abc computer applications\",\n",
    "    \"A survey of user opinion of computer system response time\",\n",
    "    \"The EPS user interface management system\",\n",
    "    \"System and human system engineering testing of EPS\",\n",
    "    \"Relation of user perceived response time to error measurement\",\n",
    "    \"The generation of random binary unordered trees\",\n",
    "    \"The intersection graph of paths in trees\",\n",
    "    \"Graph minors IV Widths of trees and well quasi ordering\",\n",
    "    \"Graph minors A survey\",\n",
    "]\n",
    "\n",
    "# remove common words and tokenize\n",
    "stoplist = set('for a of the and to in'.split())\n",
    "texts = [\n",
    "    [word for word in document.lower().split() if word not in stoplist]\n",
    "    for document in documents\n",
    "]\n",
    "\n",
    "# remove words that appear only once\n",
    "frequency = defaultdict(int)\n",
    "for text in texts:\n",
    "    for token in text:\n",
    "        frequency[token] += 1\n",
    "\n",
    "texts = [\n",
    "    [token for token in text if frequency[token] > 1]\n",
    "    for text in texts\n",
    "]\n",
    "\n",
    "dictionary = corpora.Dictionary(texts)\n",
    "corpus = [dictionary.doc2bow(text) for text in texts]"
   ]
  },
  {
   "cell_type": "code",
   "execution_count": null,
   "id": "2fd5608e-a2a1-473d-89b3-3c9304160b29",
   "metadata": {},
   "outputs": [],
   "source": []
  }
 ],
 "metadata": {
  "kernelspec": {
   "display_name": "tensorflow_gpu",
   "language": "python",
   "name": "tfgpu"
  },
  "language_info": {
   "codemirror_mode": {
    "name": "ipython",
    "version": 3
   },
   "file_extension": ".py",
   "mimetype": "text/x-python",
   "name": "python",
   "nbconvert_exporter": "python",
   "pygments_lexer": "ipython3",
   "version": "3.8.13"
  }
 },
 "nbformat": 4,
 "nbformat_minor": 5
}
