{
  "cells": [
    {
      "cell_type": "markdown",
      "source": "# SVM - Climate Sentiment Multiclass Classification\n## CS522 Project",
      "metadata": {
        "pycharm": {
          "metadata": false
        }
      }
    },
    {
      "cell_type": "markdown",
      "source": "### Dataset: \nhttps://www.kaggle.com/code/luiskalckstein/climate-sentiment-multiclass-classification",
      "metadata": {
        "pycharm": {
          "metadata": false
        }
      }
    },
    {
      "cell_type": "markdown",
      "source": "### Imports",
      "metadata": {
        "pycharm": {
          "metadata": false
        }
      }
    },
    {
      "cell_type": "code",
      "execution_count": null,
      "outputs": [],
      "source": "from sklearn.feature_extraction.text import TfidfVectorizer\nfrom sklearn.preprocessing import MultiLabelBinarizer\nfrom sklearn.multiclass import OneVsRestClassifier\nfrom sklearn.metrics import precision_score, recall_score, f1_score, confusion_matrix\nfrom sklearn.svm import LinearSVC\nfrom Common.DataCenter import data_center\n%matplotlib inline\n",
      "metadata": {
        "pycharm": {
          "metadata": false,
          "name": "#%%\n"
        }
      }
    },
    {
      "cell_type": "markdown",
      "source": "### Text preprocessing",
      "metadata": {
        "pycharm": {
          "metadata": false
        }
      }
    },
    {
      "cell_type": "code",
      "execution_count": null,
      "outputs": [],
      "source": "def text_preprocessing(X_train, X_test):\n    # Convert texts to vectors\n    vectorizer  \u003d TfidfVectorizer()\n    X_train_vec \u003d vectorizer.fit_transform(X_train)\n    X_test_vec  \u003d vectorizer.transform(X_test)\n    return X_train_vec, X_test_vec\n",
      "metadata": {
        "pycharm": {
          "metadata": false,
          "name": "#%%\n"
        }
      }
    },
    {
      "cell_type": "markdown",
      "source": "### One-hot encoding, convert the labels to vectors (4 x 1) each",
      "metadata": {
        "pycharm": {
          "metadata": false
        }
      }
    },
    {
      "cell_type": "code",
      "execution_count": null,
      "outputs": [],
      "source": "def one_hot_encoding(y_train, y_test):\n    mlb \u003d MultiLabelBinarizer()\n    y_train_vec  \u003d mlb.fit_transform(map(str, y_train))\n    y_test_vec   \u003d mlb.transform(map(str, y_test))\n    return y_train_vec, y_test_vec\n",
      "metadata": {
        "pycharm": {
          "metadata": false,
          "name": "#%%\n"
        }
      }
    },
    {
      "cell_type": "markdown",
      "source": "### Run SVM and evaluate the results",
      "metadata": {
        "pycharm": {
          "metadata": false
        }
      }
    },
    {
      "cell_type": "code",
      "execution_count": null,
      "outputs": [],
      "source": "def evaluate_SVM(X_train_vec, y_train_vec, X_test_vec, y_test_vec):\n    # Run SVM - fit and predict\n    SVM \u003d OneVsRestClassifier(LinearSVC(), n_jobs\u003d-1)\n    SVM.fit(X_train_vec, y_train_vec)\n    prediction \u003d SVM.predict(X_test_vec)\n\n    # Evaluate the results\n    macro_f1 \u003d f1_score(y_test_vec, prediction, average\u003d\u0027macro\u0027)\n    weighted_f1 \u003d f1_score(y_test_vec, prediction, average\u003d\u0027weighted\u0027)\n    macro_precision \u003d precision_score(y_test_vec, prediction, average\u003d\u0027macro\u0027)\n    macro_recall \u003d recall_score(y_test_vec, prediction, average\u003d\u0027macro\u0027)\n\n    return macro_f1, weighted_f1, macro_precision, macro_recall\n",
      "metadata": {
        "pycharm": {
          "metadata": false,
          "name": "#%%\n"
        }
      }
    },
    {
      "cell_type": "markdown",
      "source": "### Do an experiment",
      "metadata": {
        "pycharm": {
          "metadata": false
        }
      }
    },
    {
      "cell_type": "code",
      "execution_count": null,
      "outputs": [],
      "source": "def do_experiment(X_train, y_train, X_test, y_test):\n    # Convert texts to vectors\n    X_train_vec, X_test_vec \u003d text_preprocessing(X_train, X_test)\n    y_train_vec, y_test_vec \u003d one_hot_encoding(y_train, y_test)\n\n    # Run SVM and evaluate the results\n    macro_f1, weighted_f1, macro_precision, macro_recall \u003d \\\n        evaluate_SVM(X_train_vec, y_train_vec, X_test_vec, y_test_vec)\n\n    # Show the indicators\n    print(\" macro_f1: %.4f , weighted_f1: %.4f, macro_precision: %.4f, macro_recall: %.4f\" %\n          (macro_f1, weighted_f1, macro_precision, macro_recall))\n",
      "metadata": {
        "pycharm": {
          "metadata": false,
          "name": "#%%\n"
        }
      }
    },
    {
      "cell_type": "markdown",
      "source": "### Main entry",
      "metadata": {
        "pycharm": {
          "metadata": false
        }
      }
    },
    {
      "cell_type": "markdown",
      "source": "**Load the database and split it into training set, test set, noisy set, validation set**",
      "metadata": {
        "pycharm": {
          "metadata": false
        }
      }
    },
    {
      "cell_type": "code",
      "execution_count": null,
      "outputs": [],
      "source": "dc \u003d data_center(\"twitter_sentiment_data.csv\", test_size\u003d8000, noisy_size\u003d8000, validation_size\u003d5000)\n\nprint(\"####################################################\")\nprint(\"Total data size: \",       dc.get_len())\nprint(\"Total train data size: \", dc.get_train_len())\nprint(\"Total test data size: \",  dc.get_test_len())",
      "metadata": {
        "pycharm": {
          "metadata": false,
          "name": "#%%\n"
        }
      }
    },
    {
      "cell_type": "markdown",
      "source": "**Get the test set for evaluation**",
      "metadata": {
        "pycharm": {
          "metadata": false
        }
      }
    },
    {
      "cell_type": "code",
      "execution_count": null,
      "outputs": [],
      "source": "X_test, y_test \u003d dc.get_test()\n",
      "metadata": {
        "pycharm": {
          "metadata": false,
          "name": "#%%\n"
        }
      }
    },
    {
      "cell_type": "markdown",
      "source": "**Run experiments with different training set, and use the same test set.**",
      "metadata": {
        "pycharm": {
          "metadata": false
        }
      }
    },
    {
      "cell_type": "code",
      "execution_count": null,
      "outputs": [],
      "source": "print(\"-----------------------------------------------\")\nfor size in [2000, 2500, 4000, 5000, 7500, 10000]:\n    # Get training set without noisy data\n    X_train, y_train \u003d dc.get_train(size)\n    print(\"Training set size: %d samples (%.1f%%): \" % (len(X_train), len(y_train)/dc.get_train_len()*100))\n\n    # Do an experiment\n    do_experiment(X_train, y_train, X_test, y_test)\n\nprint(\"-----------------------------------------------\")\nfor size in [(2000, 500), (4000, 1000), (7500, 2500)]:\n    # Get noisy training set\n    X_train, y_train \u003d dc.get_train_with_noisy(size[0], size[1])\n    print(\"Noisy training set size: %d samples (%d original, %d noisy)\" % (len(y_train), size[0], size[1]))\n\n    # Do an experiment\n    do_experiment(X_train, y_train, X_test, y_test)",
      "metadata": {
        "pycharm": {
          "metadata": false,
          "name": "#%%\n"
        }
      }
    },
    {
      "cell_type": "code",
      "execution_count": null,
      "outputs": [],
      "source": "",
      "metadata": {
        "pycharm": {
          "metadata": false,
          "name": "#%%\n"
        }
      }
    }
  ],
  "metadata": {
    "kernelspec": {
      "display_name": "Python 3",
      "language": "python",
      "name": "python3"
    },
    "language_info": {
      "codemirror_mode": {
        "name": "ipython",
        "version": 3
      },
      "file_extension": ".py",
      "mimetype": "text/x-python",
      "name": "python",
      "nbconvert_exporter": "python",
      "pygments_lexer": "ipython3",
      "version": "3.7.1"
    },
    "stem_cell": {
      "cell_type": "raw",
      "source": "",
      "metadata": {
        "pycharm": {
          "metadata": false
        }
      }
    }
  },
  "nbformat": 4,
  "nbformat_minor": 5
}