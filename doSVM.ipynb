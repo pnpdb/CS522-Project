{
  "cells": [
    {
      "cell_type": "markdown",
      "metadata": {
        "pycharm": {
          "metadata": false
        }
      },
      "source": [
        "# SVM - Climate Sentiment Multiclass Classification\n",
        "## CS522 Project"
      ]
    },
    {
      "cell_type": "markdown",
      "metadata": {
        "pycharm": {
          "metadata": false
        }
      },
      "source": [
        "### Dataset: \n",
        "https://www.kaggle.com/code/luiskalckstein/climate-sentiment-multiclass-classification"
      ]
    },
    {
      "cell_type": "markdown",
      "metadata": {
        "pycharm": {
          "metadata": false
        }
      },
      "source": [
        "### Imports"
      ]
    },
    {
      "cell_type": "code",
      "execution_count": 1,
      "metadata": {
        "pycharm": {
          "metadata": false,
          "name": "#%%\n"
        }
      },
      "outputs": [],
      "source": [
        "from sklearn.multiclass import OneVsRestClassifier\n",
        "from sklearn.svm import LinearSVC\n",
        "%matplotlib inline\n",
        "\n",
        "# Our base common modules\n",
        "from Common.DataCenter import data_center\n",
        "from Common.preprocessor import text_preprocessing_tfidf, one_hot_encoding\n",
        "from Common.UtilFuncs import print_evaluation, Evaluator, Lab\n",
        "\n",
        "# Denoising Methodes\n",
        "import Common.IsolationForestMethod as IsolationForestMethod\n",
        "import Common.ConfidentLearningMethod as ConfidentLearningMethod\n",
        "import Common.LocalOutlierFactorMethod as LocalOutlierFactorMethod\n",
        "\n"
      ]
    },
    {
      "cell_type": "markdown",
      "metadata": {
        "pycharm": {
          "metadata": false
        },
        "tags": []
      },
      "source": [
        "### Run SVM"
      ]
    },
    {
      "cell_type": "code",
      "execution_count": 2,
      "metadata": {
        "pycharm": {
          "metadata": false,
          "name": "#%%\n"
        }
      },
      "outputs": [],
      "source": [
        "# parameter:  vectorised X and encoded y of training set and test set\n",
        "def run_SVM(X_train_vec, y_train_vec, X_test_vec, y_test_vec):\n",
        "    # Run SVM - fit and predict\n",
        "    SVM             \u003d OneVsRestClassifier(LinearSVC(dual\u003dFalse, class_weight\u003d\u0027balanced\u0027), n_jobs\u003d-1)\n",
        "    SVM.fit(X_train_vec, y_train_vec)\n",
        "    y_pred          \u003d SVM.predict(X_test_vec)\n",
        "    return  y_pred\n"
      ]
    },
    {
      "cell_type": "markdown",
      "metadata": {
        "pycharm": {
          "metadata": false
        }
      },
      "source": [
        "\n",
        "### Do an experiment"
      ]
    },
    {
      "cell_type": "code",
      "execution_count": 3,
      "metadata": {
        "pycharm": {
          "metadata": false,
          "name": "#%%\n"
        }
      },
      "outputs": [],
      "source": [
        "# do an experiment without denoising\n",
        "# Parameter: original X,y of training set and test set\n",
        "# Return evaluation info\n",
        "def do_experiment(train_df, test_df):\n",
        "    X_train, y_train \u003d data_center.Xy(train_df)\n",
        "    X_test, y_test   \u003d data_center.Xy(test_df)\n",
        "    \n",
        "    # Convert texts to vectors\n",
        "    X_train_vec, X_test_vec \u003d text_preprocessing_tfidf(X_train, X_test)\n",
        "    y_train_vec, y_test_vec \u003d one_hot_encoding(y_train, y_test)\n",
        "\n",
        "    # Run SVM and evaluate the results\n",
        "    y_pred \u003d run_SVM(X_train_vec, y_train_vec, X_test_vec, y_test_vec)\n",
        "\n",
        "    # Print the evaluation\n",
        "    print_evaluation(y_test_vec, y_pred, labels\u003d[0,1,2,3])\n",
        "    evaluateDF \u003d Evaluator.do_evaluate(y_test_vec, y_pred)\n",
        "    return evaluateDF\n"
      ]
    },
    {
      "cell_type": "markdown",
      "metadata": {
        "pycharm": {
          "metadata": false
        }
      },
      "source": [
        "### Main entry\n",
        "**The settings of the noise sources.**"
      ]
    },
    {
      "cell_type": "code",
      "execution_count": 4,
      "metadata": {
        "pycharm": {
          "metadata": false,
          "name": "#%%\n"
        }
      },
      "outputs": [],
      "source": [
        "# Each item: source -\u003e (size, distribution)\n",
        "noisy_set_sizes \u003d {\n",
        "    \u0027mislabeled\u0027 : (8600, None),                   # max size: 15000\n",
        "    \u0027irrelevant\u0027 : (8600, [0.25,0.25,0.25,0.25]),  # max size: 34259\n",
        "    \u0027translated\u0027 : (8600, \"reserve_labels\"),       # max size: 5000\n",
        "}\n"
      ]
    },
    {
      "cell_type": "markdown",
      "metadata": {
        "pycharm": {
          "metadata": false
        }
      },
      "source": [
        "**Choose a experiment without denoising**"
      ]
    },
    {
      "cell_type": "code",
      "execution_count": 5,
      "metadata": {
        "pycharm": {
          "metadata": false,
          "name": "#%%\n"
        }
      },
      "outputs": [],
      "source": [
        "# Each item: name -\u003e (funcion, whether choose) note:only the first active one will be used\n",
        "experiment_without_denoising \u003d {\n",
        "    \u0027SVM without denoising\u0027 : (do_experiment, 1),\n",
        "}\n"
      ]
    },
    {
      "cell_type": "markdown",
      "metadata": {
        "pycharm": {
          "metadata": false
        }
      },
      "source": [
        "**Choose a experiment with denoising**"
      ]
    },
    {
      "cell_type": "code",
      "execution_count": 6,
      "metadata": {
        "pycharm": {
          "metadata": false,
          "name": "#%%\n"
        }
      },
      "outputs": [],
      "source": [
        "# Each item: name -\u003e (funcion, whether choose) note:only the first active one will be used\n",
        "experiment_with_denoising \u003d {\n",
        "    \u0027Confident Learning\u0027 : (ConfidentLearningMethod.do_experiment_with_denoising_for_SVM,   0),\n",
        "    \u0027Isolation Forest\u0027   : (IsolationForestMethod.do_experiment_with_denoising_for_SVM,     0),\n",
        "    \u0027LocalOutlierFactor\u0027 : (LocalOutlierFactorMethod.do_experiment_with_denoising_for_SVM,  1),\n",
        "}\n"
      ]
    },
    {
      "cell_type": "markdown",
      "metadata": {
        "pycharm": {
          "metadata": false
        }
      },
      "source": [
        "**The training set of each experiment**"
      ]
    },
    {
      "cell_type": "code",
      "execution_count": 7,
      "metadata": {
        "pycharm": {
          "metadata": false,
          "name": "#%%\n"
        }
      },
      "outputs": [],
      "source": [
        "origin_train_set_sizes \u003d [2000, 4000, 5000, 8000, 10000, 15000, 20000]\n",
        "noisy_train_set_sizes  \u003d [(4000, 1000), (8000, 2000), (15000, 5000)]\n"
      ]
    },
    {
      "cell_type": "markdown",
      "metadata": {
        "pycharm": {
          "metadata": false
        }
      },
      "source": "**Initialize the lab, which will run a serial of experiments.\u003cbr\u003e\nSplit the database into training set, test set, noisy set, validation set.**"
    },
    {
      "cell_type": "code",
      "execution_count": 8,
      "metadata": {
        "pycharm": {
          "metadata": false,
          "name": "#%%\n"
        }
      },
      "outputs": [],
      "source": [
        "lab \u003d Lab(\"twitter_sentiment_data_clean.csv\", noisy_sources \u003d noisy_set_sizes, total_train_size \u003d 20000, total_test_size \u003d 4000)\n"
      ]
    },
    {
      "cell_type": "markdown",
      "metadata": {
        "pycharm": {
          "metadata": false
        }
      },
      "source": "**Review the summary of the whole data**"
    },
    {
      "cell_type": "code",
      "execution_count": 9,
      "metadata": {
        "pycharm": {
          "metadata": false,
          "name": "#%%\n"
        }
      },
      "outputs": [
        {
          "name": "stdout",
          "output_type": "stream",
          "text": [
            "###################################### Data Summary #############################################\n",
            "  Original set size: 40908\n",
            "      sentiments (\u0027Anti\u0027, \u0027Neutral\u0027, \u0027Pro\u0027, \u0027News\u0027): 9.4%, 18.3%, 50.2%, 22.1%\n",
            "  Training set size: 20000\n",
            "  Test set size: 4000\n",
            "  Noisy set size: 25800\n",
            "  Validation set size: 1000\n",
            "      noise sources (\u0027mislabeled\u0027, \u0027irrelevant\u0027, \u0027translated\u0027): 33.3%, 33.3%, 33.3%\n",
            "##################################################################################################\n"
          ]
        }
      ],
      "source": [
        "lab.dc.print_summary()\n"
      ]
    },
    {
      "cell_type": "markdown",
      "metadata": {
        "pycharm": {
          "metadata": false
        }
      },
      "source": [
        "**To see the data features via a demo**"
      ]
    },
    {
      "cell_type": "code",
      "execution_count": 10,
      "metadata": {
        "pycharm": {
          "metadata": false,
          "name": "#%%\n"
        }
      },
      "outputs": [
        {
          "data": {
            "text/html": [
              "\u003cdiv\u003e\n",
              "\u003cstyle scoped\u003e\n",
              "    .dataframe tbody tr th:only-of-type {\n",
              "        vertical-align: middle;\n",
              "    }\n",
              "\n",
              "    .dataframe tbody tr th {\n",
              "        vertical-align: top;\n",
              "    }\n",
              "\n",
              "    .dataframe thead th {\n",
              "        text-align: right;\n",
              "    }\n",
              "\u003c/style\u003e\n",
              "\u003ctable border\u003d\"1\" class\u003d\"dataframe\"\u003e\n",
              "  \u003cthead\u003e\n",
              "    \u003ctr style\u003d\"text-align: right;\"\u003e\n",
              "      \u003cth\u003e\u003c/th\u003e\n",
              "      \u003cth\u003enoise\u003c/th\u003e\n",
              "      \u003cth\u003enoise_text\u003c/th\u003e\n",
              "      \u003cth\u003esentiment\u003c/th\u003e\n",
              "      \u003cth\u003eorigin(sentiment)\u003c/th\u003e\n",
              "      \u003cth\u003etweetid...\u003c/th\u003e\n",
              "      \u003cth\u003emessage...\u003c/th\u003e\n",
              "    \u003c/tr\u003e\n",
              "  \u003c/thead\u003e\n",
              "  \u003ctbody\u003e\n",
              "    \u003ctr\u003e\n",
              "      \u003cth\u003e0\u003c/th\u003e\n",
              "      \u003ctd\u003e1\u003c/td\u003e\n",
              "      \u003ctd\u003emislabeled\u003c/td\u003e\n",
              "      \u003ctd\u003e3\u003c/td\u003e\n",
              "      \u003ctd\u003e2\u003c/td\u003e\n",
              "      \u003ctd\u003e8108306943\u003c/td\u003e\n",
              "      \u003ctd\u003eRegional/Global seabird stress\u003c/td\u003e\n",
              "    \u003c/tr\u003e\n",
              "    \u003ctr\u003e\n",
              "      \u003cth\u003e1\u003c/th\u003e\n",
              "      \u003ctd\u003e0\u003c/td\u003e\n",
              "      \u003ctd\u003enone\u003c/td\u003e\n",
              "      \u003ctd\u003e2\u003c/td\u003e\n",
              "      \u003ctd\u003e-\u003c/td\u003e\n",
              "      \u003ctd\u003e9536174384\u003c/td\u003e\n",
              "      \u003ctd\u003eI have to write an essay over\u003c/td\u003e\n",
              "    \u003c/tr\u003e\n",
              "    \u003ctr\u003e\n",
              "      \u003cth\u003e2\u003c/th\u003e\n",
              "      \u003ctd\u003e1\u003c/td\u003e\n",
              "      \u003ctd\u003emislabeled\u003c/td\u003e\n",
              "      \u003ctd\u003e1\u003c/td\u003e\n",
              "      \u003ctd\u003e3\u003c/td\u003e\n",
              "      \u003ctd\u003e8645926535\u003c/td\u003e\n",
              "      \u003ctd\u003eBarack Obama warns climate cha\u003c/td\u003e\n",
              "    \u003c/tr\u003e\n",
              "    \u003ctr\u003e\n",
              "      \u003cth\u003e3\u003c/th\u003e\n",
              "      \u003ctd\u003e0\u003c/td\u003e\n",
              "      \u003ctd\u003enone\u003c/td\u003e\n",
              "      \u003ctd\u003e2\u003c/td\u003e\n",
              "      \u003ctd\u003e-\u003c/td\u003e\n",
              "      \u003ctd\u003e8199736905\u003c/td\u003e\n",
              "      \u003ctd\u003eRT @mitskileaks: want to speci\u003c/td\u003e\n",
              "    \u003c/tr\u003e\n",
              "    \u003ctr\u003e\n",
              "      \u003cth\u003e4\u003c/th\u003e\n",
              "      \u003ctd\u003e0\u003c/td\u003e\n",
              "      \u003ctd\u003enone\u003c/td\u003e\n",
              "      \u003ctd\u003e2\u003c/td\u003e\n",
              "      \u003ctd\u003e-\u003c/td\u003e\n",
              "      \u003ctd\u003e8438476460\u003c/td\u003e\n",
              "      \u003ctd\u003e.@RepBrianFitz Thank you for a\u003c/td\u003e\n",
              "    \u003c/tr\u003e\n",
              "    \u003ctr\u003e\n",
              "      \u003cth\u003e5\u003c/th\u003e\n",
              "      \u003ctd\u003e0\u003c/td\u003e\n",
              "      \u003ctd\u003enone\u003c/td\u003e\n",
              "      \u003ctd\u003e2\u003c/td\u003e\n",
              "      \u003ctd\u003e-\u003c/td\u003e\n",
              "      \u003ctd\u003e8182648187\u003c/td\u003e\n",
              "      \u003ctd\u003eRT @billmckibben: Reading clim\u003c/td\u003e\n",
              "    \u003c/tr\u003e\n",
              "    \u003ctr\u003e\n",
              "      \u003cth\u003e6\u003c/th\u003e\n",
              "      \u003ctd\u003e0\u003c/td\u003e\n",
              "      \u003ctd\u003enone\u003c/td\u003e\n",
              "      \u003ctd\u003e2\u003c/td\u003e\n",
              "      \u003ctd\u003e-\u003c/td\u003e\n",
              "      \u003ctd\u003e9556340417\u003c/td\u003e\n",
              "      \u003ctd\u003eRT @LanreShaper: \u0027Africa contr\u003c/td\u003e\n",
              "    \u003c/tr\u003e\n",
              "    \u003ctr\u003e\n",
              "      \u003cth\u003e7\u003c/th\u003e\n",
              "      \u003ctd\u003e1\u003c/td\u003e\n",
              "      \u003ctd\u003emislabeled\u003c/td\u003e\n",
              "      \u003ctd\u003e3\u003c/td\u003e\n",
              "      \u003ctd\u003e1\u003c/td\u003e\n",
              "      \u003ctd\u003e9587601354\u003c/td\u003e\n",
              "      \u003ctd\u003eKeilmuan itu politik. Hawong N\u003c/td\u003e\n",
              "    \u003c/tr\u003e\n",
              "    \u003ctr\u003e\n",
              "      \u003cth\u003e8\u003c/th\u003e\n",
              "      \u003ctd\u003e0\u003c/td\u003e\n",
              "      \u003ctd\u003enone\u003c/td\u003e\n",
              "      \u003ctd\u003e2\u003c/td\u003e\n",
              "      \u003ctd\u003e-\u003c/td\u003e\n",
              "      \u003ctd\u003e8401717188\u003c/td\u003e\n",
              "      \u003ctd\u003eRT @WRIClimate: @CNBC He shoul\u003c/td\u003e\n",
              "    \u003c/tr\u003e\n",
              "    \u003ctr\u003e\n",
              "      \u003cth\u003e9\u003c/th\u003e\n",
              "      \u003ctd\u003e0\u003c/td\u003e\n",
              "      \u003ctd\u003enone\u003c/td\u003e\n",
              "      \u003ctd\u003e0\u003c/td\u003e\n",
              "      \u003ctd\u003e-\u003c/td\u003e\n",
              "      \u003ctd\u003e8254569694\u003c/td\u003e\n",
              "      \u003ctd\u003e@magslol global warming is a C\u003c/td\u003e\n",
              "    \u003c/tr\u003e\n",
              "    \u003ctr\u003e\n",
              "      \u003cth\u003e10\u003c/th\u003e\n",
              "      \u003ctd\u003e2\u003c/td\u003e\n",
              "      \u003ctd\u003eirrelevant\u003c/td\u003e\n",
              "      \u003ctd\u003e3\u003c/td\u003e\n",
              "      \u003ctd\u003e-\u003c/td\u003e\n",
              "      \u003ctd\u003e-\u003c/td\u003e\n",
              "      \u003ctd\u003e@chetan_bhagat And morons like\u003c/td\u003e\n",
              "    \u003c/tr\u003e\n",
              "    \u003ctr\u003e\n",
              "      \u003cth\u003e11\u003c/th\u003e\n",
              "      \u003ctd\u003e0\u003c/td\u003e\n",
              "      \u003ctd\u003enone\u003c/td\u003e\n",
              "      \u003ctd\u003e3\u003c/td\u003e\n",
              "      \u003ctd\u003e-\u003c/td\u003e\n",
              "      \u003ctd\u003e8278157032\u003c/td\u003e\n",
              "      \u003ctd\u003eA climate change economist sou\u003c/td\u003e\n",
              "    \u003c/tr\u003e\n",
              "    \u003ctr\u003e\n",
              "      \u003cth\u003e12\u003c/th\u003e\n",
              "      \u003ctd\u003e0\u003c/td\u003e\n",
              "      \u003ctd\u003enone\u003c/td\u003e\n",
              "      \u003ctd\u003e3\u003c/td\u003e\n",
              "      \u003ctd\u003e-\u003c/td\u003e\n",
              "      \u003ctd\u003e7328403750\u003c/td\u003e\n",
              "      \u003ctd\u003eRT @tveitdal: Climate change:\u003c/td\u003e\n",
              "    \u003c/tr\u003e\n",
              "    \u003ctr\u003e\n",
              "      \u003cth\u003e13\u003c/th\u003e\n",
              "      \u003ctd\u003e0\u003c/td\u003e\n",
              "      \u003ctd\u003enone\u003c/td\u003e\n",
              "      \u003ctd\u003e2\u003c/td\u003e\n",
              "      \u003ctd\u003e-\u003c/td\u003e\n",
              "      \u003ctd\u003e8496410900\u003c/td\u003e\n",
              "      \u003ctd\u003eNow is the time to prepare for\u003c/td\u003e\n",
              "    \u003c/tr\u003e\n",
              "    \u003ctr\u003e\n",
              "      \u003cth\u003e14\u003c/th\u003e\n",
              "      \u003ctd\u003e0\u003c/td\u003e\n",
              "      \u003ctd\u003enone\u003c/td\u003e\n",
              "      \u003ctd\u003e2\u003c/td\u003e\n",
              "      \u003ctd\u003e-\u003c/td\u003e\n",
              "      \u003ctd\u003e7597927163\u003c/td\u003e\n",
              "      \u003ctd\u003eGOP: Stop Denying Climate Chan\u003c/td\u003e\n",
              "    \u003c/tr\u003e\n",
              "  \u003c/tbody\u003e\n",
              "\u003c/table\u003e\n",
              "\u003c/div\u003e"
            ],
            "text/plain": [
              "    noise  noise_text  sentiment origin(sentiment)  tweetid...  \\\n",
              "0       1  mislabeled          3                 2  8108306943   \n",
              "1       0        none          2                 -  9536174384   \n",
              "2       1  mislabeled          1                 3  8645926535   \n",
              "3       0        none          2                 -  8199736905   \n",
              "4       0        none          2                 -  8438476460   \n",
              "5       0        none          2                 -  8182648187   \n",
              "6       0        none          2                 -  9556340417   \n",
              "7       1  mislabeled          3                 1  9587601354   \n",
              "8       0        none          2                 -  8401717188   \n",
              "9       0        none          0                 -  8254569694   \n",
              "10      2  irrelevant          3                 -           -   \n",
              "11      0        none          3                 -  8278157032   \n",
              "12      0        none          3                 -  7328403750   \n",
              "13      0        none          2                 -  8496410900   \n",
              "14      0        none          2                 -  7597927163   \n",
              "\n",
              "                        message...  \n",
              "0   Regional/Global seabird stress  \n",
              "1   I have to write an essay over   \n",
              "2   Barack Obama warns climate cha  \n",
              "3   RT @mitskileaks: want to speci  \n",
              "4   .@RepBrianFitz Thank you for a  \n",
              "5   RT @billmckibben: Reading clim  \n",
              "6   RT @LanreShaper: \u0027Africa contr  \n",
              "7   Keilmuan itu politik. Hawong N  \n",
              "8   RT @WRIClimate: @CNBC He shoul  \n",
              "9   @magslol global warming is a C  \n",
              "10  @chetan_bhagat And morons like  \n",
              "11  A climate change economist sou  \n",
              "12  RT @tveitdal: Climate change:   \n",
              "13  Now is the time to prepare for  \n",
              "14  GOP: Stop Denying Climate Chan  "
            ]
          },
          "metadata": {},
          "output_type": "display_data"
        }
      ],
      "source": [
        "train_df \u003d lab.dc.get_train_with_noisy_df(15000,5000)\n",
        "data_center.print_data(train_df.head(15))\n"
      ]
    },
    {
      "cell_type": "markdown",
      "metadata": {
        "pycharm": {
          "metadata": false
        }
      },
      "source": [
        "**Calculate the filename for save the lab**"
      ]
    },
    {
      "cell_type": "code",
      "execution_count": 11,
      "metadata": {
        "pycharm": {
          "metadata": false,
          "name": "#%%\n"
        }
      },
      "outputs": [],
      "source": "lab_filename \u003d Lab.get_active_experiment_name(experiment_with_denoising)\nif lab_filename is None:\n    lab_filename  \u003d Lab.get_active_experiment_name(experiment_without_denoising)\nif lab_filename is None:\n    print(\"Nothing to do.\")\n    exit(0)\nlab_filename \u003d \"saving/\" + lab_filename + str(noisy_train_set_sizes) + \".pk\"\n    "
    },
    {
      "cell_type": "markdown",
      "metadata": {
        "pycharm": {
          "metadata": false
        }
      },
      "source": [
        "# Run new experiments (or just review the evaluations saved by previous experiments)"
      ]
    },
    {
      "cell_type": "code",
      "execution_count": 12,
      "metadata": {
        "pycharm": {
          "metadata": false,
          "name": "#%%\n"
        }
      },
      "outputs": [
        {
          "name": "stdout",
          "output_type": "stream",
          "text": [
            "-------------- No noisy training sets ----------\n",
            "* 1\u003e Training set size: 2000 samples\n",
            "  Sentiments (\u0027Anti\u0027, \u0027Neutral\u0027, \u0027Pro\u0027, \u0027News\u0027): 9.4%, 18.3%, 50.2%, 22.1%\n",
            "    f1 of classes: [0.349, 0.315, 0.711, 0.678]\n",
            "    micro_f1: 0.626 , macro_f1: 0.513 , weighted_f1: 0.597, macro_precision: 0.592, macro_recall: 0.504\n",
            "* 2\u003e Training set size: 4000 samples\n",
            "  Sentiments (\u0027Anti\u0027, \u0027Neutral\u0027, \u0027Pro\u0027, \u0027News\u0027): 9.4%, 18.3%, 50.2%, 22.1%\n",
            "    f1 of classes: [0.442, 0.371, 0.741, 0.695]\n",
            "    micro_f1: 0.657 , macro_f1: 0.562 , weighted_f1: 0.635, macro_precision: 0.623, macro_recall: 0.554\n",
            "* 3\u003e Training set size: 5000 samples\n",
            "  Sentiments (\u0027Anti\u0027, \u0027Neutral\u0027, \u0027Pro\u0027, \u0027News\u0027): 9.4%, 18.3%, 50.2%, 22.1%\n",
            "    f1 of classes: [0.466, 0.4, 0.746, 0.709]\n",
            "    micro_f1: 0.668 , macro_f1: 0.580 , weighted_f1: 0.648, macro_precision: 0.636, macro_recall: 0.570\n",
            "* 4\u003e Training set size: 8000 samples\n",
            "  Sentiments (\u0027Anti\u0027, \u0027Neutral\u0027, \u0027Pro\u0027, \u0027News\u0027): 9.4%, 18.3%, 50.2%, 22.1%\n",
            "    f1 of classes: [0.521, 0.42, 0.758, 0.719]\n",
            "    micro_f1: 0.682 , macro_f1: 0.604 , weighted_f1: 0.665, macro_precision: 0.648, macro_recall: 0.598\n",
            "* 5\u003e Training set size: 10000 samples\n",
            "  Sentiments (\u0027Anti\u0027, \u0027Neutral\u0027, \u0027Pro\u0027, \u0027News\u0027): 9.4%, 18.3%, 50.2%, 22.1%\n",
            "    f1 of classes: [0.534, 0.431, 0.765, 0.727]\n",
            "    micro_f1: 0.689 , macro_f1: 0.614 , weighted_f1: 0.674, macro_precision: 0.645, macro_recall: 0.613\n",
            "* 6\u003e Training set size: 15000 samples\n",
            "  Sentiments (\u0027Anti\u0027, \u0027Neutral\u0027, \u0027Pro\u0027, \u0027News\u0027): 9.4%, 18.3%, 50.2%, 22.1%\n",
            "    f1 of classes: [0.567, 0.452, 0.774, 0.74]\n",
            "    micro_f1: 0.702 , macro_f1: 0.633 , weighted_f1: 0.688, macro_precision: 0.657, macro_recall: 0.637\n",
            "* 7\u003e Training set size: 20000 samples\n",
            "  Sentiments (\u0027Anti\u0027, \u0027Neutral\u0027, \u0027Pro\u0027, \u0027News\u0027): 9.4%, 18.3%, 50.2%, 22.1%\n",
            "    f1 of classes: [0.599, 0.483, 0.788, 0.746]\n",
            "    micro_f1: 0.716 , macro_f1: 0.654 , weighted_f1: 0.705, macro_precision: 0.668, macro_recall: 0.660\n",
            "-------------- Noisy training sets -------------\n",
            "* 8\u003e Noisy training set size: 5000 samples (4000 original, 1000 noisy)\n",
            "  Sentiments (\u0027Anti\u0027, \u0027Neutral\u0027, \u0027Pro\u0027, \u0027News\u0027): 11.7%, 19.5%, 46.3%, 22.6%\n",
            "  Noise sources (\u0027mislabeled\u0027, \u0027irrelevant\u0027, \u0027translated\u0027): 33.3%, 33.3%, 33.3%\n",
            "  Before de-noising:\n",
            "    f1 of classes: [0.432, 0.378, 0.718, 0.685]\n",
            "    micro_f1: 0.635 , macro_f1: 0.553 , weighted_f1: 0.622, macro_precision: 0.597, macro_recall: 0.532\n",
            "  After de-noising:\n",
            "    f1 of classes: [0.447, 0.405, 0.729, 0.665]\n",
            "    micro_f1: 0.640 , macro_f1: 0.561 , weighted_f1: 0.629, macro_precision: 0.583, macro_recall: 0.556\n",
            "* 9\u003e Noisy training set size: 10000 samples (8000 original, 2000 noisy)\n",
            "  Sentiments (\u0027Anti\u0027, \u0027Neutral\u0027, \u0027Pro\u0027, \u0027News\u0027): 11.8%, 19.4%, 46.2%, 22.6%\n",
            "  Noise sources (\u0027mislabeled\u0027, \u0027irrelevant\u0027, \u0027translated\u0027): 33.3%, 33.3%, 33.3%\n",
            "  Before de-noising:\n",
            "    f1 of classes: [0.492, 0.433, 0.737, 0.71]\n",
            "    micro_f1: 0.662 , macro_f1: 0.593 , weighted_f1: 0.652, macro_precision: 0.625, macro_recall: 0.575\n",
            "  After de-noising:\n",
            "    f1 of classes: [0.491, 0.452, 0.751, 0.693]\n",
            "    micro_f1: 0.667 , macro_f1: 0.597 , weighted_f1: 0.659, macro_precision: 0.613, macro_recall: 0.590\n",
            "*10\u003e Noisy training set size: 20000 samples (15000 original, 5000 noisy)\n",
            "  Sentiments (\u0027Anti\u0027, \u0027Neutral\u0027, \u0027Pro\u0027, \u0027News\u0027): 12.4%, 19.6%, 45.0%, 22.9%\n",
            "  Noise sources (\u0027mislabeled\u0027, \u0027irrelevant\u0027, \u0027translated\u0027): 33.3%, 33.3%, 33.3%\n",
            "  Before de-noising:\n",
            "    f1 of classes: [0.53, 0.484, 0.751, 0.728]\n",
            "    micro_f1: 0.681 , macro_f1: 0.623 , weighted_f1: 0.676, macro_precision: 0.641, macro_recall: 0.612\n",
            "  After de-noising:\n",
            "    f1 of classes: [0.532, 0.491, 0.762, 0.725]\n",
            "    micro_f1: 0.687 , macro_f1: 0.627 , weighted_f1: 0.683, macro_precision: 0.632, macro_recall: 0.627\n"
          ]
        }
      ],
      "source": [
        "RUN \u003d 1\n",
        "if RUN:     # Run new experiments\n",
        "    # Set the function to classify data without denoising\n",
        "    lab.set_experiment_no_denoising(experiment_without_denoising)\n",
        "\n",
        "    # Set the function to classify data with denoising\n",
        "    lab.set_experiment_with_denoising(experiment_with_denoising)\n",
        "\n",
        "    print(\"-------------- No noisy training sets ----------\")\n",
        "    lab.do_batch_experiments(origin_train_set_sizes)\n",
        "\n",
        "    print(\"-------------- Noisy training sets -------------\")\n",
        "    lab.do_batch_experiments(noisy_train_set_sizes)\n",
        "\n",
        "    # Save the evaluations of lab\n",
        "    lab.save(lab_filename)\n",
        "\n",
        "else:       # Load evaluations saved by previous experiments\n",
        "    lab \u003d Lab.load(lab_filename)\n"
      ]
    },
    {
      "cell_type": "markdown",
      "metadata": {
        "pycharm": {
          "metadata": false
        }
      },
      "source": [
        "# Show evaluations"
      ]
    },
    {
      "cell_type": "code",
      "execution_count": 13,
      "metadata": {
        "pycharm": {
          "metadata": false,
          "name": "#%%\n"
        }
      },
      "outputs": [
        {
          "data": {
            "text/html": [
              "\u003cdiv\u003e\n",
              "\u003cstyle scoped\u003e\n",
              "    .dataframe tbody tr th:only-of-type {\n",
              "        vertical-align: middle;\n",
              "    }\n",
              "\n",
              "    .dataframe tbody tr th {\n",
              "        vertical-align: top;\n",
              "    }\n",
              "\n",
              "    .dataframe thead th {\n",
              "        text-align: right;\n",
              "    }\n",
              "\u003c/style\u003e\n",
              "\u003ctable border\u003d\"1\" class\u003d\"dataframe\"\u003e\n",
              "  \u003cthead\u003e\n",
              "    \u003ctr style\u003d\"text-align: right;\"\u003e\n",
              "      \u003cth\u003e\u003c/th\u003e\n",
              "      \u003cth\u003eOrigin\u003c/th\u003e\n",
              "      \u003cth\u003eNoise\u003c/th\u003e\n",
              "      \u003cth\u003eDenoised\u003c/th\u003e\n",
              "      \u003cth\u003eMicro F1\u003c/th\u003e\n",
              "      \u003cth\u003eMacro F1\u003c/th\u003e\n",
              "      \u003cth\u003eWeighted F1\u003c/th\u003e\n",
              "      \u003cth\u003eMacro Precision\u003c/th\u003e\n",
              "      \u003cth\u003eMacro Recall\u003c/th\u003e\n",
              "      \u003cth\u003eF1 of classes\u003c/th\u003e\n",
              "      \u003cth\u003eSentiments distribution\u003c/th\u003e\n",
              "      \u003cth\u003eNoise sources distribution\u003c/th\u003e\n",
              "    \u003c/tr\u003e\n",
              "    \u003ctr\u003e\n",
              "      \u003cth\u003eExperiment\u003c/th\u003e\n",
              "      \u003cth\u003e\u003c/th\u003e\n",
              "      \u003cth\u003e\u003c/th\u003e\n",
              "      \u003cth\u003e\u003c/th\u003e\n",
              "      \u003cth\u003e\u003c/th\u003e\n",
              "      \u003cth\u003e\u003c/th\u003e\n",
              "      \u003cth\u003e\u003c/th\u003e\n",
              "      \u003cth\u003e\u003c/th\u003e\n",
              "      \u003cth\u003e\u003c/th\u003e\n",
              "      \u003cth\u003e\u003c/th\u003e\n",
              "      \u003cth\u003e\u003c/th\u003e\n",
              "      \u003cth\u003e\u003c/th\u003e\n",
              "    \u003c/tr\u003e\n",
              "  \u003c/thead\u003e\n",
              "  \u003ctbody\u003e\n",
              "    \u003ctr\u003e\n",
              "      \u003cth\u003e1\u003c/th\u003e\n",
              "      \u003ctd\u003e2000\u003c/td\u003e\n",
              "      \u003ctd\u003e0\u003c/td\u003e\n",
              "      \u003ctd\u003e-\u003c/td\u003e\n",
              "      \u003ctd\u003e0.625651\u003c/td\u003e\n",
              "      \u003ctd\u003e0.513415\u003c/td\u003e\n",
              "      \u003ctd\u003e0.597445\u003c/td\u003e\n",
              "      \u003ctd\u003e0.591622\u003c/td\u003e\n",
              "      \u003ctd\u003e0.503592\u003c/td\u003e\n",
              "      \u003ctd\u003e[0.349, 0.315, 0.711, 0.678]\u003c/td\u003e\n",
              "      \u003ctd\u003e[9.4%, 18.3%, 50.2%, 22.1%]\u003c/td\u003e\n",
              "      \u003ctd\u003e-\u003c/td\u003e\n",
              "    \u003c/tr\u003e\n",
              "    \u003ctr\u003e\n",
              "      \u003cth\u003e2\u003c/th\u003e\n",
              "      \u003ctd\u003e4000\u003c/td\u003e\n",
              "      \u003ctd\u003e0\u003c/td\u003e\n",
              "      \u003ctd\u003e-\u003c/td\u003e\n",
              "      \u003ctd\u003e0.657229\u003c/td\u003e\n",
              "      \u003ctd\u003e0.562267\u003c/td\u003e\n",
              "      \u003ctd\u003e0.634902\u003c/td\u003e\n",
              "      \u003ctd\u003e0.623003\u003c/td\u003e\n",
              "      \u003ctd\u003e0.553626\u003c/td\u003e\n",
              "      \u003ctd\u003e[0.442, 0.371, 0.741, 0.695]\u003c/td\u003e\n",
              "      \u003ctd\u003e[9.4%, 18.3%, 50.2%, 22.1%]\u003c/td\u003e\n",
              "      \u003ctd\u003e-\u003c/td\u003e\n",
              "    \u003c/tr\u003e\n",
              "    \u003ctr\u003e\n",
              "      \u003cth\u003e3\u003c/th\u003e\n",
              "      \u003ctd\u003e5000\u003c/td\u003e\n",
              "      \u003ctd\u003e0\u003c/td\u003e\n",
              "      \u003ctd\u003e-\u003c/td\u003e\n",
              "      \u003ctd\u003e0.667753\u003c/td\u003e\n",
              "      \u003ctd\u003e0.580286\u003c/td\u003e\n",
              "      \u003ctd\u003e0.648046\u003c/td\u003e\n",
              "      \u003ctd\u003e0.636269\u003c/td\u003e\n",
              "      \u003ctd\u003e0.569531\u003c/td\u003e\n",
              "      \u003ctd\u003e[0.466, 0.4, 0.746, 0.709]\u003c/td\u003e\n",
              "      \u003ctd\u003e[9.4%, 18.3%, 50.2%, 22.1%]\u003c/td\u003e\n",
              "      \u003ctd\u003e-\u003c/td\u003e\n",
              "    \u003c/tr\u003e\n",
              "    \u003ctr\u003e\n",
              "      \u003cth\u003e4\u003c/th\u003e\n",
              "      \u003ctd\u003e8000\u003c/td\u003e\n",
              "      \u003ctd\u003e0\u003c/td\u003e\n",
              "      \u003ctd\u003e-\u003c/td\u003e\n",
              "      \u003ctd\u003e0.682283\u003c/td\u003e\n",
              "      \u003ctd\u003e0.604498\u003c/td\u003e\n",
              "      \u003ctd\u003e0.665412\u003c/td\u003e\n",
              "      \u003ctd\u003e0.647677\u003c/td\u003e\n",
              "      \u003ctd\u003e0.597741\u003c/td\u003e\n",
              "      \u003ctd\u003e[0.521, 0.42, 0.758, 0.719]\u003c/td\u003e\n",
              "      \u003ctd\u003e[9.4%, 18.3%, 50.2%, 22.1%]\u003c/td\u003e\n",
              "      \u003ctd\u003e-\u003c/td\u003e\n",
              "    \u003c/tr\u003e\n",
              "    \u003ctr\u003e\n",
              "      \u003cth\u003e5\u003c/th\u003e\n",
              "      \u003ctd\u003e10000\u003c/td\u003e\n",
              "      \u003ctd\u003e0\u003c/td\u003e\n",
              "      \u003ctd\u003e-\u003c/td\u003e\n",
              "      \u003ctd\u003e0.689442\u003c/td\u003e\n",
              "      \u003ctd\u003e0.614399\u003c/td\u003e\n",
              "      \u003ctd\u003e0.673934\u003c/td\u003e\n",
              "      \u003ctd\u003e0.645478\u003c/td\u003e\n",
              "      \u003ctd\u003e0.613033\u003c/td\u003e\n",
              "      \u003ctd\u003e[0.534, 0.431, 0.765, 0.727]\u003c/td\u003e\n",
              "      \u003ctd\u003e[9.4%, 18.3%, 50.2%, 22.1%]\u003c/td\u003e\n",
              "      \u003ctd\u003e-\u003c/td\u003e\n",
              "    \u003c/tr\u003e\n",
              "    \u003ctr\u003e\n",
              "      \u003cth\u003e6\u003c/th\u003e\n",
              "      \u003ctd\u003e15000\u003c/td\u003e\n",
              "      \u003ctd\u003e0\u003c/td\u003e\n",
              "      \u003ctd\u003e-\u003c/td\u003e\n",
              "      \u003ctd\u003e0.701889\u003c/td\u003e\n",
              "      \u003ctd\u003e0.633075\u003c/td\u003e\n",
              "      \u003ctd\u003e0.687961\u003c/td\u003e\n",
              "      \u003ctd\u003e0.657390\u003c/td\u003e\n",
              "      \u003ctd\u003e0.636509\u003c/td\u003e\n",
              "      \u003ctd\u003e[0.567, 0.452, 0.774, 0.74]\u003c/td\u003e\n",
              "      \u003ctd\u003e[9.4%, 18.3%, 50.2%, 22.1%]\u003c/td\u003e\n",
              "      \u003ctd\u003e-\u003c/td\u003e\n",
              "    \u003c/tr\u003e\n",
              "    \u003ctr\u003e\n",
              "      \u003cth\u003e7\u003c/th\u003e\n",
              "      \u003ctd\u003e20000\u003c/td\u003e\n",
              "      \u003ctd\u003e0\u003c/td\u003e\n",
              "      \u003ctd\u003e-\u003c/td\u003e\n",
              "      \u003ctd\u003e0.716268\u003c/td\u003e\n",
              "      \u003ctd\u003e0.654099\u003c/td\u003e\n",
              "      \u003ctd\u003e0.705114\u003c/td\u003e\n",
              "      \u003ctd\u003e0.668449\u003c/td\u003e\n",
              "      \u003ctd\u003e0.660337\u003c/td\u003e\n",
              "      \u003ctd\u003e[0.599, 0.483, 0.788, 0.746]\u003c/td\u003e\n",
              "      \u003ctd\u003e[9.4%, 18.3%, 50.2%, 22.1%]\u003c/td\u003e\n",
              "      \u003ctd\u003e-\u003c/td\u003e\n",
              "    \u003c/tr\u003e\n",
              "    \u003ctr\u003e\n",
              "      \u003cth\u003e8\u003c/th\u003e\n",
              "      \u003ctd\u003e4000\u003c/td\u003e\n",
              "      \u003ctd\u003e1000\u003c/td\u003e\n",
              "      \u003ctd\u003eN\u003c/td\u003e\n",
              "      \u003ctd\u003e0.635449\u003c/td\u003e\n",
              "      \u003ctd\u003e0.553179\u003c/td\u003e\n",
              "      \u003ctd\u003e0.621547\u003c/td\u003e\n",
              "      \u003ctd\u003e0.597319\u003c/td\u003e\n",
              "      \u003ctd\u003e0.531767\u003c/td\u003e\n",
              "      \u003ctd\u003e[0.432, 0.378, 0.718, 0.685]\u003c/td\u003e\n",
              "      \u003ctd\u003e[11.7%, 19.5%, 46.3%, 22.6%]\u003c/td\u003e\n",
              "      \u003ctd\u003e[34.0%, 32.6%, 33.4%]\u003c/td\u003e\n",
              "    \u003c/tr\u003e\n",
              "    \u003ctr\u003e\n",
              "      \u003cth\u003e9\u003c/th\u003e\n",
              "      \u003ctd\u003e8000\u003c/td\u003e\n",
              "      \u003ctd\u003e2000\u003c/td\u003e\n",
              "      \u003ctd\u003eN\u003c/td\u003e\n",
              "      \u003ctd\u003e0.661885\u003c/td\u003e\n",
              "      \u003ctd\u003e0.592878\u003c/td\u003e\n",
              "      \u003ctd\u003e0.652298\u003c/td\u003e\n",
              "      \u003ctd\u003e0.625172\u003c/td\u003e\n",
              "      \u003ctd\u003e0.574682\u003c/td\u003e\n",
              "      \u003ctd\u003e[0.492, 0.433, 0.737, 0.71]\u003c/td\u003e\n",
              "      \u003ctd\u003e[11.8%, 19.4%, 46.2%, 22.6%]\u003c/td\u003e\n",
              "      \u003ctd\u003e[33.8%, 33.1%, 33.1%]\u003c/td\u003e\n",
              "    \u003c/tr\u003e\n",
              "    \u003ctr\u003e\n",
              "      \u003cth\u003e10\u003c/th\u003e\n",
              "      \u003ctd\u003e15000\u003c/td\u003e\n",
              "      \u003ctd\u003e5000\u003c/td\u003e\n",
              "      \u003ctd\u003eN\u003c/td\u003e\n",
              "      \u003ctd\u003e0.681279\u003c/td\u003e\n",
              "      \u003ctd\u003e0.623231\u003c/td\u003e\n",
              "      \u003ctd\u003e0.676213\u003c/td\u003e\n",
              "      \u003ctd\u003e0.640573\u003c/td\u003e\n",
              "      \u003ctd\u003e0.612046\u003c/td\u003e\n",
              "      \u003ctd\u003e[0.53, 0.484, 0.751, 0.728]\u003c/td\u003e\n",
              "      \u003ctd\u003e[12.4%, 19.6%, 45.0%, 22.9%]\u003c/td\u003e\n",
              "      \u003ctd\u003e[32.8%, 33.3%, 33.8%]\u003c/td\u003e\n",
              "    \u003c/tr\u003e\n",
              "    \u003ctr\u003e\n",
              "      \u003cth\u003e11\u003c/th\u003e\n",
              "      \u003ctd\u003e4000\u003c/td\u003e\n",
              "      \u003ctd\u003e1000\u003c/td\u003e\n",
              "      \u003ctd\u003eY\u003c/td\u003e\n",
              "      \u003ctd\u003e0.640500\u003c/td\u003e\n",
              "      \u003ctd\u003e0.561428\u003c/td\u003e\n",
              "      \u003ctd\u003e0.629057\u003c/td\u003e\n",
              "      \u003ctd\u003e0.582681\u003c/td\u003e\n",
              "      \u003ctd\u003e0.555634\u003c/td\u003e\n",
              "      \u003ctd\u003e[0.447, 0.405, 0.729, 0.665]\u003c/td\u003e\n",
              "      \u003ctd\u003e[11.7%, 19.5%, 46.3%, 22.6%]\u003c/td\u003e\n",
              "      \u003ctd\u003e[34.0%, 32.6%, 33.4%]\u003c/td\u003e\n",
              "    \u003c/tr\u003e\n",
              "    \u003ctr\u003e\n",
              "      \u003cth\u003e12\u003c/th\u003e\n",
              "      \u003ctd\u003e8000\u003c/td\u003e\n",
              "      \u003ctd\u003e2000\u003c/td\u003e\n",
              "      \u003ctd\u003eY\u003c/td\u003e\n",
              "      \u003ctd\u003e0.667500\u003c/td\u003e\n",
              "      \u003ctd\u003e0.596667\u003c/td\u003e\n",
              "      \u003ctd\u003e0.659018\u003c/td\u003e\n",
              "      \u003ctd\u003e0.612917\u003c/td\u003e\n",
              "      \u003ctd\u003e0.590253\u003c/td\u003e\n",
              "      \u003ctd\u003e[0.491, 0.452, 0.751, 0.693]\u003c/td\u003e\n",
              "      \u003ctd\u003e[11.8%, 19.4%, 46.2%, 22.6%]\u003c/td\u003e\n",
              "      \u003ctd\u003e[33.8%, 33.1%, 33.1%]\u003c/td\u003e\n",
              "    \u003c/tr\u003e\n",
              "    \u003ctr\u003e\n",
              "      \u003cth\u003e13\u003c/th\u003e\n",
              "      \u003ctd\u003e15000\u003c/td\u003e\n",
              "      \u003ctd\u003e5000\u003c/td\u003e\n",
              "      \u003ctd\u003eY\u003c/td\u003e\n",
              "      \u003ctd\u003e0.687250\u003c/td\u003e\n",
              "      \u003ctd\u003e0.627348\u003c/td\u003e\n",
              "      \u003ctd\u003e0.682510\u003c/td\u003e\n",
              "      \u003ctd\u003e0.632421\u003c/td\u003e\n",
              "      \u003ctd\u003e0.626893\u003c/td\u003e\n",
              "      \u003ctd\u003e[0.532, 0.491, 0.762, 0.725]\u003c/td\u003e\n",
              "      \u003ctd\u003e[12.4%, 19.6%, 45.0%, 22.9%]\u003c/td\u003e\n",
              "      \u003ctd\u003e[32.8%, 33.3%, 33.8%]\u003c/td\u003e\n",
              "    \u003c/tr\u003e\n",
              "  \u003c/tbody\u003e\n",
              "\u003c/table\u003e\n",
              "\u003c/div\u003e"
            ],
            "text/plain": [
              "            Origin  Noise Denoised  Micro F1  Macro F1  Weighted F1  \\\n",
              "Experiment                                                            \n",
              "1             2000      0        -  0.625651  0.513415     0.597445   \n",
              "2             4000      0        -  0.657229  0.562267     0.634902   \n",
              "3             5000      0        -  0.667753  0.580286     0.648046   \n",
              "4             8000      0        -  0.682283  0.604498     0.665412   \n",
              "5            10000      0        -  0.689442  0.614399     0.673934   \n",
              "6            15000      0        -  0.701889  0.633075     0.687961   \n",
              "7            20000      0        -  0.716268  0.654099     0.705114   \n",
              "8             4000   1000        N  0.635449  0.553179     0.621547   \n",
              "9             8000   2000        N  0.661885  0.592878     0.652298   \n",
              "10           15000   5000        N  0.681279  0.623231     0.676213   \n",
              "11            4000   1000        Y  0.640500  0.561428     0.629057   \n",
              "12            8000   2000        Y  0.667500  0.596667     0.659018   \n",
              "13           15000   5000        Y  0.687250  0.627348     0.682510   \n",
              "\n",
              "            Macro Precision  Macro Recall                 F1 of classes  \\\n",
              "Experiment                                                                \n",
              "1                  0.591622      0.503592  [0.349, 0.315, 0.711, 0.678]   \n",
              "2                  0.623003      0.553626  [0.442, 0.371, 0.741, 0.695]   \n",
              "3                  0.636269      0.569531    [0.466, 0.4, 0.746, 0.709]   \n",
              "4                  0.647677      0.597741   [0.521, 0.42, 0.758, 0.719]   \n",
              "5                  0.645478      0.613033  [0.534, 0.431, 0.765, 0.727]   \n",
              "6                  0.657390      0.636509   [0.567, 0.452, 0.774, 0.74]   \n",
              "7                  0.668449      0.660337  [0.599, 0.483, 0.788, 0.746]   \n",
              "8                  0.597319      0.531767  [0.432, 0.378, 0.718, 0.685]   \n",
              "9                  0.625172      0.574682   [0.492, 0.433, 0.737, 0.71]   \n",
              "10                 0.640573      0.612046   [0.53, 0.484, 0.751, 0.728]   \n",
              "11                 0.582681      0.555634  [0.447, 0.405, 0.729, 0.665]   \n",
              "12                 0.612917      0.590253  [0.491, 0.452, 0.751, 0.693]   \n",
              "13                 0.632421      0.626893  [0.532, 0.491, 0.762, 0.725]   \n",
              "\n",
              "                 Sentiments distribution Noise sources distribution  \n",
              "Experiment                                                           \n",
              "1            [9.4%, 18.3%, 50.2%, 22.1%]                          -  \n",
              "2            [9.4%, 18.3%, 50.2%, 22.1%]                          -  \n",
              "3            [9.4%, 18.3%, 50.2%, 22.1%]                          -  \n",
              "4            [9.4%, 18.3%, 50.2%, 22.1%]                          -  \n",
              "5            [9.4%, 18.3%, 50.2%, 22.1%]                          -  \n",
              "6            [9.4%, 18.3%, 50.2%, 22.1%]                          -  \n",
              "7            [9.4%, 18.3%, 50.2%, 22.1%]                          -  \n",
              "8           [11.7%, 19.5%, 46.3%, 22.6%]      [34.0%, 32.6%, 33.4%]  \n",
              "9           [11.8%, 19.4%, 46.2%, 22.6%]      [33.8%, 33.1%, 33.1%]  \n",
              "10          [12.4%, 19.6%, 45.0%, 22.9%]      [32.8%, 33.3%, 33.8%]  \n",
              "11          [11.7%, 19.5%, 46.3%, 22.6%]      [34.0%, 32.6%, 33.4%]  \n",
              "12          [11.8%, 19.4%, 46.2%, 22.6%]      [33.8%, 33.1%, 33.1%]  \n",
              "13          [12.4%, 19.6%, 45.0%, 22.9%]      [32.8%, 33.3%, 33.8%]  "
            ]
          },
          "metadata": {},
          "output_type": "display_data"
        },
        {
          "data": {
            "image/png": "[encoded data removed]",
            "text/plain": [
              "\u003cFigure size 432x288 with 1 Axes\u003e"
            ]
          },
          "metadata": {
            "needs_background": "light"
          },
          "output_type": "display_data"
        }
      ],
      "source": [
        "# In a form\n",
        "lab.print()\n",
        "\n",
        "# In a plot\n",
        "lab.plot()\n"
      ]
    }
  ],
  "metadata": {
    "kernelspec": {
      "display_name": "Python 3",
      "language": "python",
      "name": "python3"
    },
    "language_info": {
      "codemirror_mode": {
        "name": "ipython",
        "version": 3
      },
      "file_extension": ".py",
      "mimetype": "text/x-python",
      "name": "python",
      "nbconvert_exporter": "python",
      "pygments_lexer": "ipython3",
      "version": "3.7.1"
    },
    "stem_cell": {
      "cell_type": "raw",
      "metadata": {
        "pycharm": {
          "metadata": false
        }
      },
      "source": ""
    }
  },
  "nbformat": 4,
  "nbformat_minor": 5
}