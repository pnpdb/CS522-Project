{
 "cells": [
  {
   "cell_type": "markdown",
   "metadata": {
    "pycharm": {
     "metadata": false
    }
   },
   "source": [
    "# SVM - Climate Sentiment Multiclass Classification\n",
    "## CS522 Project"
   ]
  },
  {
   "cell_type": "markdown",
   "metadata": {
    "pycharm": {
     "metadata": false
    }
   },
   "source": [
    "### Dataset: \n",
    "https://www.kaggle.com/code/luiskalckstein/climate-sentiment-multiclass-classification"
   ]
  },
  {
   "cell_type": "markdown",
   "metadata": {
    "pycharm": {
     "metadata": false
    }
   },
   "source": [
    "### Imports"
   ]
  },
  {
   "cell_type": "code",
   "execution_count": 1,
   "metadata": {
    "pycharm": {
     "metadata": false,
     "name": "#%%\n"
    }
   },
   "outputs": [],
   "source": [
    "import numpy as np\n",
    "from sklearn.feature_extraction.text import TfidfVectorizer\n",
    "from sklearn.preprocessing import MultiLabelBinarizer\n",
    "from sklearn.multiclass import OneVsRestClassifier\n",
    "from sklearn.svm import LinearSVC\n",
    "from sklearn.calibration import CalibratedClassifierCV\n",
    "from cleanlab.classification import LearningWithNoisyLabels\n",
    "from sklearn.ensemble import IsolationForest\n",
    "from Common.DataCenter import data_center\n",
    "from Common.preprocessor import normalize_preprocessing\n",
    "from Common.UtilFuncs import print_evaluation, Evaluator, Lab\n",
    "\n",
    "%matplotlib inline\n",
    "\n",
    "Ev  = Evaluator()\n"
   ]
  },
  {
   "cell_type": "markdown",
   "metadata": {
    "pycharm": {
     "metadata": false
    },
    "tags": []
   },
   "source": [
    "### Text preprocessing"
   ]
  },
  {
   "cell_type": "code",
   "execution_count": 2,
   "metadata": {
    "pycharm": {
     "metadata": false,
     "name": "#%%\n"
    }
   },
   "outputs": [],
   "source": [
    "# parameter: original X of training set and test set\n",
    "# return:  vectorised X of training set and test set\n",
    "def text_preprocessing(X_train, X_test):\n",
    "    # preprocessing with traditional NLP methodology\n",
    "    X_train_normalized = normalize_preprocessing(X_train)\n",
    "    X_test_normalized  = normalize_preprocessing(X_test)\n",
    "    \n",
    "    # vectorization\n",
    "    # Convert texts to vectors by TFIDF\n",
    "    vectorizer = TfidfVectorizer(ngram_range=(1,2))\n",
    "    X_train_vec  = vectorizer.fit_transform(X_train_normalized)\n",
    "    X_test_vec   = vectorizer.transform(X_test_normalized)\n",
    "      \n",
    "    return X_train_vec, X_test_vec"
   ]
  },
  {
   "cell_type": "markdown",
   "metadata": {
    "pycharm": {
     "metadata": false
    }
   },
   "source": [
    "### One-hot encoding, convert the labels to vectors (4 x 1) each"
   ]
  },
  {
   "cell_type": "code",
   "execution_count": 3,
   "metadata": {
    "pycharm": {
     "metadata": false,
     "name": "#%%\n"
    }
   },
   "outputs": [],
   "source": [
    "# parameter: original y of training set, original y of test set\n",
    "# return:  encoded y of training set and test set\n",
    "def one_hot_encoding(y_train, y_test):\n",
    "    mlb          = MultiLabelBinarizer()\n",
    "    y_train_vec  = mlb.fit_transform(map(str, y_train))\n",
    "    y_test_vec   = mlb.transform(map(str, y_test))\n",
    "    return y_train_vec, y_test_vec\n"
   ]
  },
  {
   "cell_type": "markdown",
   "metadata": {
    "pycharm": {
     "metadata": false
    },
    "tags": []
   },
   "source": [
    "### Run SVM"
   ]
  },
  {
   "cell_type": "code",
   "execution_count": 4,
   "metadata": {
    "pycharm": {
     "metadata": false,
     "name": "#%%\n"
    }
   },
   "outputs": [],
   "source": [
    "# parameter:  vectorised X and encoded y of training set and test set\n",
    "def run_SVM(X_train_vec, y_train_vec, X_test_vec, y_test_vec):\n",
    "    # Run SVM - fit and predict\n",
    "    SVM             = OneVsRestClassifier(LinearSVC(dual=False, class_weight='balanced'), n_jobs=-1)\n",
    "    SVM.fit(X_train_vec, y_train_vec)\n",
    "    y_pred          = SVM.predict(X_test_vec)\n",
    "    return  y_pred\n"
   ]
  },
  {
   "cell_type": "markdown",
   "metadata": {
    "pycharm": {
     "metadata": false
    }
   },
   "source": [
    "### Do an experiment"
   ]
  },
  {
   "cell_type": "code",
   "execution_count": 5,
   "metadata": {
    "pycharm": {
     "metadata": false,
     "name": "#%%\n"
    }
   },
   "outputs": [],
   "source": [
    "# do an experiment without denoising\n",
    "# Parameter: original X,y of training set and test set\n",
    "# Return evaluation info\n",
    "def do_experiment(train_df, test_df):\n",
    "    X_train, y_train = data_center.Xy(train_df)\n",
    "    X_test, y_test   = data_center.Xy(test_df)\n",
    "    \n",
    "    # Convert texts to vectors\n",
    "    X_train_vec, X_test_vec = text_preprocessing(X_train, X_test)\n",
    "    y_train_vec, y_test_vec = one_hot_encoding(y_train, y_test)\n",
    "\n",
    "    # Run SVM and evaluate the results\n",
    "    y_pred = run_SVM(X_train_vec, y_train_vec, X_test_vec, y_test_vec)\n",
    "\n",
    "    # Print the evaluation\n",
    "    print_evaluation(y_test_vec, y_pred, labels=[0,1,2,3])\n",
    "    evaluateDF = Ev.evaluate(y_test_vec, y_pred)\n",
    "    return evaluateDF\n",
    "\n",
    "# do an experiment denoised by ConfidentLearning\n",
    "# Parameter: training set and test set\n",
    "# Return evaluation info, denoising info\n",
    "def do_experiment_denoised_by_ConfidentLearning(train_df, test_df):\n",
    "    X_train, y_train = data_center.Xy(train_df)\n",
    "    X_test, y_test   = data_center.Xy(test_df)\n",
    "    \n",
    "    # Convert texts to vectors\n",
    "    X_train_vec, X_test_vec = text_preprocessing(X_train, X_test)\n",
    "    y_train_vec, y_test_vec = one_hot_encoding(y_train, y_test)\n",
    "\n",
    "    # LearningWithNoisyLabels require the classifier has the entry predict_proba()\n",
    "    # So, use CalibratedClassifierCV to wrap LinearSVC\n",
    "    SVM = CalibratedClassifierCV(LinearSVC(dual=False, class_weight='balanced'))\n",
    "    rp = LearningWithNoisyLabels(clf=SVM, seed=522)\n",
    "    rp.fit(X_train_vec, np.array(y_train))\n",
    "    y_pred = rp.predict(X_test_vec)\n",
    "\n",
    "    # Print the evaluation\n",
    "    # One hot encoding for print_evaluation()\n",
    "    _, y_pred = one_hot_encoding(y_train, y_pred)\n",
    "    print_evaluation(y_test_vec, y_pred, labels=[0,1,2,3])\n",
    "\n",
    "    evaluateDF = Ev.evaluate(y_test_vec, y_pred)\n",
    "    return evaluateDF, None\n",
    "\n",
    "# do an experiment denoised by IsolationForest\n",
    "# Parameter: training set and test set\n",
    "# Return evaluation info, denoising info\n",
    "def do_experiment_denoised_by_IsolationForest(train_df, test_df):\n",
    "    X_train, y_train = data_center.Xy(train_df)\n",
    "    X_test, y_test   = data_center.Xy(test_df)\n",
    "\n",
    "    # Convert texts to vectors\n",
    "    X_train_vec, X_test_vec = text_preprocessing(X_train, X_test)\n",
    "    y_train_vec, y_test_vec = one_hot_encoding(y_train, y_test)\n",
    "\n",
    "    X = X_train_vec\n",
    "\n",
    "    # IsolationForest\n",
    "    # n_estimators is the number of trees, try bigger values\n",
    "    iforest = IsolationForest(n_estimators=20000, max_samples='auto',\n",
    "                              contamination=0.1, max_features=3,\n",
    "                              bootstrap=False, n_jobs=-1, random_state=1)\n",
    "\n",
    "    df = train_df.copy()\n",
    "    df['label'] = iforest.fit_predict(X)\n",
    "\n",
    "    # give the anomaly score\n",
    "    df['scores'] = iforest.decision_function(X)\n",
    "    df.sort_values(by=\"scores\", inplace=True, ascending=True)\n",
    "\n",
    "    denoisedDF = df[df.label!=-1]\n",
    "    X_train, y_train = data_center.Xy(denoisedDF)\n",
    "\n",
    "    # Convert texts to vectors\n",
    "    X_train_vec, X_test_vec = text_preprocessing(X_train, X_test)\n",
    "    y_train_vec, y_test_vec = one_hot_encoding(y_train, y_test)\n",
    "\n",
    "    # Run SVM and evaluate the results\n",
    "    y_pred = run_SVM(X_train_vec, y_train_vec, X_test_vec, y_test_vec)\n",
    "\n",
    "    print_evaluation(y_test_vec, y_pred, labels=[0,1,2,3])\n",
    "    evaluateDF = Ev.evaluate(y_test_vec, y_pred)\n",
    "\n",
    "    return evaluateDF, denoisedDF\n"
   ]
  },
  {
   "cell_type": "markdown",
   "metadata": {
    "pycharm": {
     "metadata": false
    }
   },
   "source": [
    "### Main entry\n",
    "**The settings of the noise sources.**"
   ]
  },
  {
   "cell_type": "code",
   "execution_count": 6,
   "metadata": {
    "pycharm": {
     "metadata": false,
     "name": "#%%\n"
    }
   },
   "outputs": [],
   "source": [
    "# Each item: source -> (size, distribution)\n",
    "noisy_set_sizes = {\n",
    "    'mislabeled' : (8600, None),                   # max size: 15000\n",
    "    'irrelevant' : (8600, [0.25,0.25,0.25,0.25]),  # max size: 34259\n",
    "    'translated' : (8600, \"reserve_labels\"),       # max size: 5000\n",
    "}\n"
   ]
  },
  {
   "cell_type": "markdown",
   "metadata": {
    "pycharm": {
     "metadata": false
    }
   },
   "source": [
    "**Choose a experiment without denoising**"
   ]
  },
  {
   "cell_type": "code",
   "execution_count": 7,
   "metadata": {
    "pycharm": {
     "metadata": false,
     "name": "#%%\n"
    }
   },
   "outputs": [],
   "source": [
    "# Each item: name -> (funcion, whether choose) note:only the first active one will be used\n",
    "experiment_without_denoising = {\n",
    "    'SVM' : (do_experiment, 1),\n",
    "}\n"
   ]
  },
  {
   "cell_type": "markdown",
   "metadata": {
    "pycharm": {
     "metadata": false
    }
   },
   "source": [
    "**Choose a experiment with denoising**"
   ]
  },
  {
   "cell_type": "code",
   "execution_count": 8,
   "metadata": {
    "pycharm": {
     "metadata": false,
     "name": "#%%\n"
    }
   },
   "outputs": [],
   "source": [
    "# Each item: name -> (funcion, whether choose) note:only the first active one will be used\n",
    "experiment_with_denoising = {\n",
    "    'Confident Learning' : (do_experiment_denoised_by_ConfidentLearning, 1),\n",
    "    'Isolation Forest'   : (do_experiment_denoised_by_IsolationForest,   0),\n",
    "}\n"
   ]
  },
  {
   "cell_type": "markdown",
   "metadata": {
    "pycharm": {
     "metadata": false
    }
   },
   "source": [
    "**The training set of each experiment**"
   ]
  },
  {
   "cell_type": "code",
   "execution_count": 9,
   "metadata": {
    "pycharm": {
     "metadata": false,
     "name": "#%%\n"
    }
   },
   "outputs": [],
   "source": [
    "origin_train_set_sizes = [2000, 4000, 5000, 8000, 10000, 15000, 20000]\n",
    "noisy_train_set_sizes  = [(4000, 1000), (8000, 2000), (15000, 5000)]\n"
   ]
  },
  {
   "cell_type": "markdown",
   "metadata": {
    "pycharm": {
     "metadata": false
    }
   },
   "source": [
    "**Initialize the lab, which will run a serial of experiments**"
   ]
  },
  {
   "cell_type": "code",
   "execution_count": 10,
   "metadata": {
    "pycharm": {
     "metadata": false,
     "name": "#%%\n"
    }
   },
   "outputs": [],
   "source": [
    "lab = Lab(\"twitter_sentiment_data_clean.csv\", noisy_sources = noisy_set_sizes, total_train_size = 20000, total_test_size = 4000)\n"
   ]
  },
  {
   "cell_type": "markdown",
   "metadata": {
    "pycharm": {
     "metadata": false
    }
   },
   "source": [
    "**The database and split it into training set, test set, noisy set, validation set.<br>\n",
    "Review the summary of the whole data**"
   ]
  },
  {
   "cell_type": "code",
   "execution_count": 11,
   "metadata": {
    "pycharm": {
     "metadata": false,
     "name": "#%%\n"
    }
   },
   "outputs": [
    {
     "name": "stdout",
     "output_type": "stream",
     "text": [
      "###################################### Data Summary #############################################\n",
      "  Original set size: 40908\n",
      "      sentiments ('Anti', 'Neutral', 'Pro', 'News'): 9.4%, 18.3%, 50.2%, 22.1%\n",
      "  Training set size: 20000\n",
      "  Test set size: 4000\n",
      "  Noisy set size: 25800\n",
      "  Validation set size: 1000\n",
      "      noise sources ('mislabeled', 'irrelevant', 'translated'): 33.3%, 33.3%, 33.3%\n",
      "##################################################################################################\n"
     ]
    }
   ],
   "source": [
    "lab.dc.print_summary()\n"
   ]
  },
  {
   "cell_type": "markdown",
   "metadata": {
    "pycharm": {
     "metadata": false
    }
   },
   "source": [
    "**To see the data features via a demo**"
   ]
  },
  {
   "cell_type": "code",
   "execution_count": 12,
   "metadata": {
    "pycharm": {
     "metadata": false,
     "name": "#%%\n"
    }
   },
   "outputs": [
    {
     "data": {
      "text/html": [
       "<div>\n",
       "<style scoped>\n",
       "    .dataframe tbody tr th:only-of-type {\n",
       "        vertical-align: middle;\n",
       "    }\n",
       "\n",
       "    .dataframe tbody tr th {\n",
       "        vertical-align: top;\n",
       "    }\n",
       "\n",
       "    .dataframe thead th {\n",
       "        text-align: right;\n",
       "    }\n",
       "</style>\n",
       "<table border=\"1\" class=\"dataframe\">\n",
       "  <thead>\n",
       "    <tr style=\"text-align: right;\">\n",
       "      <th></th>\n",
       "      <th>noise</th>\n",
       "      <th>noise_text</th>\n",
       "      <th>sentiment</th>\n",
       "      <th>origin(sentiment)</th>\n",
       "      <th>tweetid...</th>\n",
       "      <th>message...</th>\n",
       "    </tr>\n",
       "  </thead>\n",
       "  <tbody>\n",
       "    <tr>\n",
       "      <th>0</th>\n",
       "      <td>1</td>\n",
       "      <td>mislabeled</td>\n",
       "      <td>3</td>\n",
       "      <td>2</td>\n",
       "      <td>8108306943</td>\n",
       "      <td>Regional/Global seabird stress</td>\n",
       "    </tr>\n",
       "    <tr>\n",
       "      <th>1</th>\n",
       "      <td>0</td>\n",
       "      <td>none</td>\n",
       "      <td>2</td>\n",
       "      <td>-</td>\n",
       "      <td>9536174384</td>\n",
       "      <td>I have to write an essay over</td>\n",
       "    </tr>\n",
       "    <tr>\n",
       "      <th>2</th>\n",
       "      <td>1</td>\n",
       "      <td>mislabeled</td>\n",
       "      <td>1</td>\n",
       "      <td>3</td>\n",
       "      <td>8645926535</td>\n",
       "      <td>Barack Obama warns climate cha</td>\n",
       "    </tr>\n",
       "    <tr>\n",
       "      <th>3</th>\n",
       "      <td>0</td>\n",
       "      <td>none</td>\n",
       "      <td>2</td>\n",
       "      <td>-</td>\n",
       "      <td>8199736905</td>\n",
       "      <td>RT @mitskileaks: want to speci</td>\n",
       "    </tr>\n",
       "    <tr>\n",
       "      <th>4</th>\n",
       "      <td>0</td>\n",
       "      <td>none</td>\n",
       "      <td>2</td>\n",
       "      <td>-</td>\n",
       "      <td>8438476460</td>\n",
       "      <td>.@RepBrianFitz Thank you for a</td>\n",
       "    </tr>\n",
       "    <tr>\n",
       "      <th>5</th>\n",
       "      <td>0</td>\n",
       "      <td>none</td>\n",
       "      <td>2</td>\n",
       "      <td>-</td>\n",
       "      <td>8182648187</td>\n",
       "      <td>RT @billmckibben: Reading clim</td>\n",
       "    </tr>\n",
       "    <tr>\n",
       "      <th>6</th>\n",
       "      <td>0</td>\n",
       "      <td>none</td>\n",
       "      <td>2</td>\n",
       "      <td>-</td>\n",
       "      <td>9556340417</td>\n",
       "      <td>RT @LanreShaper: 'Africa contr</td>\n",
       "    </tr>\n",
       "    <tr>\n",
       "      <th>7</th>\n",
       "      <td>1</td>\n",
       "      <td>mislabeled</td>\n",
       "      <td>3</td>\n",
       "      <td>1</td>\n",
       "      <td>9587601354</td>\n",
       "      <td>Keilmuan itu politik. Hawong N</td>\n",
       "    </tr>\n",
       "    <tr>\n",
       "      <th>8</th>\n",
       "      <td>0</td>\n",
       "      <td>none</td>\n",
       "      <td>2</td>\n",
       "      <td>-</td>\n",
       "      <td>8401717188</td>\n",
       "      <td>RT @WRIClimate: @CNBC He shoul</td>\n",
       "    </tr>\n",
       "    <tr>\n",
       "      <th>9</th>\n",
       "      <td>0</td>\n",
       "      <td>none</td>\n",
       "      <td>0</td>\n",
       "      <td>-</td>\n",
       "      <td>8254569694</td>\n",
       "      <td>@magslol global warming is a C</td>\n",
       "    </tr>\n",
       "    <tr>\n",
       "      <th>10</th>\n",
       "      <td>2</td>\n",
       "      <td>irrelevant</td>\n",
       "      <td>3</td>\n",
       "      <td>-</td>\n",
       "      <td>-</td>\n",
       "      <td>@chetan_bhagat And morons like</td>\n",
       "    </tr>\n",
       "    <tr>\n",
       "      <th>11</th>\n",
       "      <td>0</td>\n",
       "      <td>none</td>\n",
       "      <td>3</td>\n",
       "      <td>-</td>\n",
       "      <td>8278157032</td>\n",
       "      <td>A climate change economist sou</td>\n",
       "    </tr>\n",
       "    <tr>\n",
       "      <th>12</th>\n",
       "      <td>0</td>\n",
       "      <td>none</td>\n",
       "      <td>3</td>\n",
       "      <td>-</td>\n",
       "      <td>7328403750</td>\n",
       "      <td>RT @tveitdal: Climate change:</td>\n",
       "    </tr>\n",
       "    <tr>\n",
       "      <th>13</th>\n",
       "      <td>0</td>\n",
       "      <td>none</td>\n",
       "      <td>2</td>\n",
       "      <td>-</td>\n",
       "      <td>8496410900</td>\n",
       "      <td>Now is the time to prepare for</td>\n",
       "    </tr>\n",
       "    <tr>\n",
       "      <th>14</th>\n",
       "      <td>0</td>\n",
       "      <td>none</td>\n",
       "      <td>2</td>\n",
       "      <td>-</td>\n",
       "      <td>7597927163</td>\n",
       "      <td>GOP: Stop Denying Climate Chan</td>\n",
       "    </tr>\n",
       "  </tbody>\n",
       "</table>\n",
       "</div>"
      ],
      "text/plain": [
       "    noise  noise_text  sentiment origin(sentiment)  tweetid...  \\\n",
       "0       1  mislabeled          3                 2  8108306943   \n",
       "1       0        none          2                 -  9536174384   \n",
       "2       1  mislabeled          1                 3  8645926535   \n",
       "3       0        none          2                 -  8199736905   \n",
       "4       0        none          2                 -  8438476460   \n",
       "5       0        none          2                 -  8182648187   \n",
       "6       0        none          2                 -  9556340417   \n",
       "7       1  mislabeled          3                 1  9587601354   \n",
       "8       0        none          2                 -  8401717188   \n",
       "9       0        none          0                 -  8254569694   \n",
       "10      2  irrelevant          3                 -           -   \n",
       "11      0        none          3                 -  8278157032   \n",
       "12      0        none          3                 -  7328403750   \n",
       "13      0        none          2                 -  8496410900   \n",
       "14      0        none          2                 -  7597927163   \n",
       "\n",
       "                        message...  \n",
       "0   Regional/Global seabird stress  \n",
       "1   I have to write an essay over   \n",
       "2   Barack Obama warns climate cha  \n",
       "3   RT @mitskileaks: want to speci  \n",
       "4   .@RepBrianFitz Thank you for a  \n",
       "5   RT @billmckibben: Reading clim  \n",
       "6   RT @LanreShaper: 'Africa contr  \n",
       "7   Keilmuan itu politik. Hawong N  \n",
       "8   RT @WRIClimate: @CNBC He shoul  \n",
       "9   @magslol global warming is a C  \n",
       "10  @chetan_bhagat And morons like  \n",
       "11  A climate change economist sou  \n",
       "12  RT @tveitdal: Climate change:   \n",
       "13  Now is the time to prepare for  \n",
       "14  GOP: Stop Denying Climate Chan  "
      ]
     },
     "metadata": {},
     "output_type": "display_data"
    }
   ],
   "source": [
    "train_df = lab.dc.get_train_with_noisy_df(15000,5000)\n",
    "data_center.print_data(train_df.head(15))\n"
   ]
  },
  {
   "cell_type": "markdown",
   "metadata": {
    "pycharm": {
     "metadata": false
    }
   },
   "source": [
    "# Run new experiments (or just review the evaluations saved by previous experiments)"
   ]
  },
  {
   "cell_type": "code",
   "execution_count": 13,
   "metadata": {
    "pycharm": {
     "metadata": false,
     "name": "#%%\n"
    }
   },
   "outputs": [
    {
     "name": "stdout",
     "output_type": "stream",
     "text": [
      "-------------- No noisy training sets ----------\n",
      "* 1> Training set size: 2000 samples\n",
      "  Sentiments ('Anti', 'Neutral', 'Pro', 'News'): 9.4%, 18.3%, 50.2%, 22.1%\n",
      "    f1 of classes: [0.349, 0.315, 0.711, 0.678]\n",
      "    micro_f1: 0.626 , macro_f1: 0.513 , weighted_f1: 0.597, macro_precision: 0.592, macro_recall: 0.504\n",
      "* 2> Training set size: 4000 samples\n",
      "  Sentiments ('Anti', 'Neutral', 'Pro', 'News'): 9.4%, 18.3%, 50.2%, 22.1%\n",
      "    f1 of classes: [0.442, 0.371, 0.741, 0.695]\n",
      "    micro_f1: 0.657 , macro_f1: 0.562 , weighted_f1: 0.635, macro_precision: 0.623, macro_recall: 0.554\n",
      "* 3> Training set size: 5000 samples\n",
      "  Sentiments ('Anti', 'Neutral', 'Pro', 'News'): 9.4%, 18.3%, 50.2%, 22.1%\n",
      "    f1 of classes: [0.466, 0.4, 0.746, 0.709]\n",
      "    micro_f1: 0.668 , macro_f1: 0.580 , weighted_f1: 0.648, macro_precision: 0.636, macro_recall: 0.570\n",
      "* 4> Training set size: 8000 samples\n",
      "  Sentiments ('Anti', 'Neutral', 'Pro', 'News'): 9.4%, 18.3%, 50.2%, 22.1%\n",
      "    f1 of classes: [0.521, 0.42, 0.758, 0.719]\n",
      "    micro_f1: 0.682 , macro_f1: 0.604 , weighted_f1: 0.665, macro_precision: 0.648, macro_recall: 0.598\n",
      "* 5> Training set size: 10000 samples\n",
      "  Sentiments ('Anti', 'Neutral', 'Pro', 'News'): 9.4%, 18.3%, 50.2%, 22.1%\n",
      "    f1 of classes: [0.534, 0.431, 0.765, 0.727]\n",
      "    micro_f1: 0.689 , macro_f1: 0.614 , weighted_f1: 0.674, macro_precision: 0.645, macro_recall: 0.613\n",
      "* 6> Training set size: 15000 samples\n",
      "  Sentiments ('Anti', 'Neutral', 'Pro', 'News'): 9.4%, 18.3%, 50.2%, 22.1%\n",
      "    f1 of classes: [0.567, 0.452, 0.774, 0.74]\n",
      "    micro_f1: 0.702 , macro_f1: 0.633 , weighted_f1: 0.688, macro_precision: 0.657, macro_recall: 0.637\n",
      "* 7> Training set size: 20000 samples\n",
      "  Sentiments ('Anti', 'Neutral', 'Pro', 'News'): 9.4%, 18.3%, 50.2%, 22.1%\n",
      "    f1 of classes: [0.599, 0.483, 0.788, 0.746]\n",
      "    micro_f1: 0.716 , macro_f1: 0.654 , weighted_f1: 0.705, macro_precision: 0.668, macro_recall: 0.660\n",
      "-------------- Noisy training sets -------------\n",
      "* 8> Noisy training set size: 5000 samples (4000 original, 1000 noisy)\n",
      "  Sentiments ('Anti', 'Neutral', 'Pro', 'News'): 11.7%, 19.5%, 46.3%, 22.5%\n",
      "  Noise sources ('mislabeled', 'irrelevant', 'translated'): 33.3%, 33.3%, 33.3%\n",
      "  Before de-noising:\n",
      "    f1 of classes: [0.447, 0.38, 0.718, 0.68]\n",
      "    micro_f1: 0.635 , macro_f1: 0.556 , weighted_f1: 0.622, macro_precision: 0.601, macro_recall: 0.534\n",
      "  After de-noising:\n",
      "    f1 of classes: [0.422, 0.412, 0.707, 0.666]\n",
      "    micro_f1: 0.626 , macro_f1: 0.552 , weighted_f1: 0.617, macro_precision: 0.565, macro_recall: 0.557\n",
      "* 9> Noisy training set size: 10000 samples (8000 original, 2000 noisy)\n",
      "  Sentiments ('Anti', 'Neutral', 'Pro', 'News'): 11.9%, 19.4%, 46.1%, 22.7%\n",
      "  Noise sources ('mislabeled', 'irrelevant', 'translated'): 33.3%, 33.3%, 33.3%\n",
      "  Before de-noising:\n",
      "    f1 of classes: [0.492, 0.43, 0.735, 0.711]\n",
      "    micro_f1: 0.660 , macro_f1: 0.592 , weighted_f1: 0.651, macro_precision: 0.624, macro_recall: 0.573\n",
      "  After de-noising:\n",
      "    f1 of classes: [0.482, 0.422, 0.739, 0.694]\n",
      "    micro_f1: 0.655 , macro_f1: 0.584 , weighted_f1: 0.647, macro_precision: 0.597, macro_recall: 0.585\n",
      "*10> Noisy training set size: 20000 samples (15000 original, 5000 noisy)\n",
      "  Sentiments ('Anti', 'Neutral', 'Pro', 'News'): 12.3%, 19.6%, 45.0%, 23.0%\n",
      "  Noise sources ('mislabeled', 'irrelevant', 'translated'): 33.3%, 33.3%, 33.3%\n",
      "  Before de-noising:\n",
      "    f1 of classes: [0.538, 0.492, 0.751, 0.729]\n",
      "    micro_f1: 0.684 , macro_f1: 0.627 , weighted_f1: 0.679, macro_precision: 0.647, macro_recall: 0.614\n",
      "  After de-noising:\n",
      "    f1 of classes: [0.536, 0.477, 0.758, 0.717]\n",
      "    micro_f1: 0.682 , macro_f1: 0.622 , weighted_f1: 0.677, macro_precision: 0.635, macro_recall: 0.617\n"
     ]
    },
    {
     "data": {
      "text/html": [
       "<div>\n",
       "<style scoped>\n",
       "    .dataframe tbody tr th:only-of-type {\n",
       "        vertical-align: middle;\n",
       "    }\n",
       "\n",
       "    .dataframe tbody tr th {\n",
       "        vertical-align: top;\n",
       "    }\n",
       "\n",
       "    .dataframe thead th {\n",
       "        text-align: right;\n",
       "    }\n",
       "</style>\n",
       "<table border=\"1\" class=\"dataframe\">\n",
       "  <thead>\n",
       "    <tr style=\"text-align: right;\">\n",
       "      <th></th>\n",
       "      <th>Origin</th>\n",
       "      <th>Noise</th>\n",
       "      <th>Denoised</th>\n",
       "      <th>Micro F1</th>\n",
       "      <th>Macro F1</th>\n",
       "      <th>Weighted F1</th>\n",
       "      <th>Macro Precision</th>\n",
       "      <th>Macro Recall</th>\n",
       "      <th>F1 of classes</th>\n",
       "      <th>Sentiments distribution</th>\n",
       "      <th>Noise sources distribution</th>\n",
       "    </tr>\n",
       "    <tr>\n",
       "      <th>Experiment</th>\n",
       "      <th></th>\n",
       "      <th></th>\n",
       "      <th></th>\n",
       "      <th></th>\n",
       "      <th></th>\n",
       "      <th></th>\n",
       "      <th></th>\n",
       "      <th></th>\n",
       "      <th></th>\n",
       "      <th></th>\n",
       "      <th></th>\n",
       "    </tr>\n",
       "  </thead>\n",
       "  <tbody>\n",
       "    <tr>\n",
       "      <th>1</th>\n",
       "      <td>2000</td>\n",
       "      <td>0</td>\n",
       "      <td>-</td>\n",
       "      <td>0.625651</td>\n",
       "      <td>0.513415</td>\n",
       "      <td>0.597445</td>\n",
       "      <td>0.591622</td>\n",
       "      <td>0.503592</td>\n",
       "      <td>[0.349, 0.315, 0.711, 0.678]</td>\n",
       "      <td>[9.4%, 18.3%, 50.2%, 22.1%]</td>\n",
       "      <td>-</td>\n",
       "    </tr>\n",
       "    <tr>\n",
       "      <th>2</th>\n",
       "      <td>4000</td>\n",
       "      <td>0</td>\n",
       "      <td>-</td>\n",
       "      <td>0.657229</td>\n",
       "      <td>0.562267</td>\n",
       "      <td>0.634902</td>\n",
       "      <td>0.623003</td>\n",
       "      <td>0.553626</td>\n",
       "      <td>[0.442, 0.371, 0.741, 0.695]</td>\n",
       "      <td>[9.4%, 18.3%, 50.2%, 22.1%]</td>\n",
       "      <td>-</td>\n",
       "    </tr>\n",
       "    <tr>\n",
       "      <th>3</th>\n",
       "      <td>5000</td>\n",
       "      <td>0</td>\n",
       "      <td>-</td>\n",
       "      <td>0.667753</td>\n",
       "      <td>0.580286</td>\n",
       "      <td>0.648046</td>\n",
       "      <td>0.636269</td>\n",
       "      <td>0.569531</td>\n",
       "      <td>[0.466, 0.4, 0.746, 0.709]</td>\n",
       "      <td>[9.4%, 18.3%, 50.2%, 22.1%]</td>\n",
       "      <td>-</td>\n",
       "    </tr>\n",
       "    <tr>\n",
       "      <th>4</th>\n",
       "      <td>8000</td>\n",
       "      <td>0</td>\n",
       "      <td>-</td>\n",
       "      <td>0.682283</td>\n",
       "      <td>0.604498</td>\n",
       "      <td>0.665412</td>\n",
       "      <td>0.647677</td>\n",
       "      <td>0.597741</td>\n",
       "      <td>[0.521, 0.42, 0.758, 0.719]</td>\n",
       "      <td>[9.4%, 18.3%, 50.2%, 22.1%]</td>\n",
       "      <td>-</td>\n",
       "    </tr>\n",
       "    <tr>\n",
       "      <th>5</th>\n",
       "      <td>10000</td>\n",
       "      <td>0</td>\n",
       "      <td>-</td>\n",
       "      <td>0.689442</td>\n",
       "      <td>0.614399</td>\n",
       "      <td>0.673934</td>\n",
       "      <td>0.645478</td>\n",
       "      <td>0.613033</td>\n",
       "      <td>[0.534, 0.431, 0.765, 0.727]</td>\n",
       "      <td>[9.4%, 18.3%, 50.2%, 22.1%]</td>\n",
       "      <td>-</td>\n",
       "    </tr>\n",
       "    <tr>\n",
       "      <th>6</th>\n",
       "      <td>15000</td>\n",
       "      <td>0</td>\n",
       "      <td>-</td>\n",
       "      <td>0.701889</td>\n",
       "      <td>0.633075</td>\n",
       "      <td>0.687961</td>\n",
       "      <td>0.657390</td>\n",
       "      <td>0.636509</td>\n",
       "      <td>[0.567, 0.452, 0.774, 0.74]</td>\n",
       "      <td>[9.4%, 18.3%, 50.2%, 22.1%]</td>\n",
       "      <td>-</td>\n",
       "    </tr>\n",
       "    <tr>\n",
       "      <th>7</th>\n",
       "      <td>20000</td>\n",
       "      <td>0</td>\n",
       "      <td>-</td>\n",
       "      <td>0.716268</td>\n",
       "      <td>0.654099</td>\n",
       "      <td>0.705114</td>\n",
       "      <td>0.668449</td>\n",
       "      <td>0.660337</td>\n",
       "      <td>[0.599, 0.483, 0.788, 0.746]</td>\n",
       "      <td>[9.4%, 18.3%, 50.2%, 22.1%]</td>\n",
       "      <td>-</td>\n",
       "    </tr>\n",
       "    <tr>\n",
       "      <th>8</th>\n",
       "      <td>4000</td>\n",
       "      <td>1000</td>\n",
       "      <td>N</td>\n",
       "      <td>0.635495</td>\n",
       "      <td>0.556228</td>\n",
       "      <td>0.622276</td>\n",
       "      <td>0.601041</td>\n",
       "      <td>0.534054</td>\n",
       "      <td>[0.447, 0.38, 0.718, 0.68]</td>\n",
       "      <td>[11.7%, 19.5%, 46.3%, 22.5%]</td>\n",
       "      <td>[34.0%, 32.6%, 33.4%]</td>\n",
       "    </tr>\n",
       "    <tr>\n",
       "      <th>9</th>\n",
       "      <td>8000</td>\n",
       "      <td>2000</td>\n",
       "      <td>N</td>\n",
       "      <td>0.660174</td>\n",
       "      <td>0.591663</td>\n",
       "      <td>0.650707</td>\n",
       "      <td>0.623584</td>\n",
       "      <td>0.573311</td>\n",
       "      <td>[0.492, 0.43, 0.735, 0.711]</td>\n",
       "      <td>[11.9%, 19.4%, 46.1%, 22.7%]</td>\n",
       "      <td>[33.8%, 33.1%, 33.1%]</td>\n",
       "    </tr>\n",
       "    <tr>\n",
       "      <th>10</th>\n",
       "      <td>15000</td>\n",
       "      <td>5000</td>\n",
       "      <td>N</td>\n",
       "      <td>0.683761</td>\n",
       "      <td>0.627472</td>\n",
       "      <td>0.678764</td>\n",
       "      <td>0.646634</td>\n",
       "      <td>0.614448</td>\n",
       "      <td>[0.538, 0.492, 0.751, 0.729]</td>\n",
       "      <td>[12.3%, 19.6%, 45.0%, 23.0%]</td>\n",
       "      <td>[32.8%, 33.3%, 33.8%]</td>\n",
       "    </tr>\n",
       "    <tr>\n",
       "      <th>11</th>\n",
       "      <td>4000</td>\n",
       "      <td>1000</td>\n",
       "      <td>Y</td>\n",
       "      <td>0.626000</td>\n",
       "      <td>0.551730</td>\n",
       "      <td>0.617238</td>\n",
       "      <td>0.565280</td>\n",
       "      <td>0.557024</td>\n",
       "      <td>[0.422, 0.412, 0.707, 0.666]</td>\n",
       "      <td>[11.7%, 19.5%, 46.3%, 22.5%]</td>\n",
       "      <td>[34.0%, 32.6%, 33.4%]</td>\n",
       "    </tr>\n",
       "    <tr>\n",
       "      <th>12</th>\n",
       "      <td>8000</td>\n",
       "      <td>2000</td>\n",
       "      <td>Y</td>\n",
       "      <td>0.655000</td>\n",
       "      <td>0.584066</td>\n",
       "      <td>0.646692</td>\n",
       "      <td>0.596768</td>\n",
       "      <td>0.584779</td>\n",
       "      <td>[0.482, 0.422, 0.739, 0.694]</td>\n",
       "      <td>[11.9%, 19.4%, 46.1%, 22.7%]</td>\n",
       "      <td>[33.8%, 33.1%, 33.1%]</td>\n",
       "    </tr>\n",
       "    <tr>\n",
       "      <th>13</th>\n",
       "      <td>15000</td>\n",
       "      <td>5000</td>\n",
       "      <td>Y</td>\n",
       "      <td>0.682250</td>\n",
       "      <td>0.622097</td>\n",
       "      <td>0.676689</td>\n",
       "      <td>0.635473</td>\n",
       "      <td>0.617174</td>\n",
       "      <td>[0.536, 0.477, 0.758, 0.717]</td>\n",
       "      <td>[12.3%, 19.6%, 45.0%, 23.0%]</td>\n",
       "      <td>[32.8%, 33.3%, 33.8%]</td>\n",
       "    </tr>\n",
       "  </tbody>\n",
       "</table>\n",
       "</div>"
      ],
      "text/plain": [
       "            Origin  Noise Denoised  Micro F1  Macro F1  Weighted F1  \\\n",
       "Experiment                                                            \n",
       "1             2000      0        -  0.625651  0.513415     0.597445   \n",
       "2             4000      0        -  0.657229  0.562267     0.634902   \n",
       "3             5000      0        -  0.667753  0.580286     0.648046   \n",
       "4             8000      0        -  0.682283  0.604498     0.665412   \n",
       "5            10000      0        -  0.689442  0.614399     0.673934   \n",
       "6            15000      0        -  0.701889  0.633075     0.687961   \n",
       "7            20000      0        -  0.716268  0.654099     0.705114   \n",
       "8             4000   1000        N  0.635495  0.556228     0.622276   \n",
       "9             8000   2000        N  0.660174  0.591663     0.650707   \n",
       "10           15000   5000        N  0.683761  0.627472     0.678764   \n",
       "11            4000   1000        Y  0.626000  0.551730     0.617238   \n",
       "12            8000   2000        Y  0.655000  0.584066     0.646692   \n",
       "13           15000   5000        Y  0.682250  0.622097     0.676689   \n",
       "\n",
       "            Macro Precision  Macro Recall                 F1 of classes  \\\n",
       "Experiment                                                                \n",
       "1                  0.591622      0.503592  [0.349, 0.315, 0.711, 0.678]   \n",
       "2                  0.623003      0.553626  [0.442, 0.371, 0.741, 0.695]   \n",
       "3                  0.636269      0.569531    [0.466, 0.4, 0.746, 0.709]   \n",
       "4                  0.647677      0.597741   [0.521, 0.42, 0.758, 0.719]   \n",
       "5                  0.645478      0.613033  [0.534, 0.431, 0.765, 0.727]   \n",
       "6                  0.657390      0.636509   [0.567, 0.452, 0.774, 0.74]   \n",
       "7                  0.668449      0.660337  [0.599, 0.483, 0.788, 0.746]   \n",
       "8                  0.601041      0.534054    [0.447, 0.38, 0.718, 0.68]   \n",
       "9                  0.623584      0.573311   [0.492, 0.43, 0.735, 0.711]   \n",
       "10                 0.646634      0.614448  [0.538, 0.492, 0.751, 0.729]   \n",
       "11                 0.565280      0.557024  [0.422, 0.412, 0.707, 0.666]   \n",
       "12                 0.596768      0.584779  [0.482, 0.422, 0.739, 0.694]   \n",
       "13                 0.635473      0.617174  [0.536, 0.477, 0.758, 0.717]   \n",
       "\n",
       "                 Sentiments distribution Noise sources distribution  \n",
       "Experiment                                                           \n",
       "1            [9.4%, 18.3%, 50.2%, 22.1%]                          -  \n",
       "2            [9.4%, 18.3%, 50.2%, 22.1%]                          -  \n",
       "3            [9.4%, 18.3%, 50.2%, 22.1%]                          -  \n",
       "4            [9.4%, 18.3%, 50.2%, 22.1%]                          -  \n",
       "5            [9.4%, 18.3%, 50.2%, 22.1%]                          -  \n",
       "6            [9.4%, 18.3%, 50.2%, 22.1%]                          -  \n",
       "7            [9.4%, 18.3%, 50.2%, 22.1%]                          -  \n",
       "8           [11.7%, 19.5%, 46.3%, 22.5%]      [34.0%, 32.6%, 33.4%]  \n",
       "9           [11.9%, 19.4%, 46.1%, 22.7%]      [33.8%, 33.1%, 33.1%]  \n",
       "10          [12.3%, 19.6%, 45.0%, 23.0%]      [32.8%, 33.3%, 33.8%]  \n",
       "11          [11.7%, 19.5%, 46.3%, 22.5%]      [34.0%, 32.6%, 33.4%]  \n",
       "12          [11.9%, 19.4%, 46.1%, 22.7%]      [33.8%, 33.1%, 33.1%]  \n",
       "13          [12.3%, 19.6%, 45.0%, 23.0%]      [32.8%, 33.3%, 33.8%]  "
      ]
     },
     "metadata": {},
     "output_type": "display_data"
    },
    {
     "data": {
      "image/png": "[encoded data removed]",
      "text/plain": [
       "<Figure size 432x288 with 1 Axes>"
      ]
     },
     "metadata": {
      "needs_background": "light"
     },
     "output_type": "display_data"
    }
   ],
   "source": [
    "RUN = 1\n",
    "if RUN:\n",
    "    # Run new experiments\n",
    "    # Set the function to classify data without denoising\n",
    "    lab.set_experiment_no_denoising(experiment_without_denoising)\n",
    "\n",
    "    # Set the function to classify data with denoising\n",
    "    lab.set_experiment_with_denoising(experiment_with_denoising)\n",
    "\n",
    "    print(\"-------------- No noisy training sets ----------\")\n",
    "    lab.do_batch_experiments(origin_train_set_sizes)\n",
    "\n",
    "    print(\"-------------- Noisy training sets -------------\")\n",
    "    lab.do_batch_experiments(noisy_train_set_sizes)\n",
    "\n",
    "    # Save the results\n",
    "    lab.save(\"lab.pk\")\n",
    "\n",
    "    # Show evaluations in a form\n",
    "    lab.print()\n",
    "\n",
    "    # Plot the evaluations\n",
    "    lab.plot()\n",
    "else:\n",
    "    # Read evaluations saved by previous experiments\n",
    "    lab = Lab.load(\"lab.pk\")\n",
    "\n",
    "    # Show evaluations in a form\n",
    "    lab.print()\n",
    "    \n",
    "    # Plot the evaluations\n",
    "    lab.plot()\n"
   ]
  }
 ],
 "metadata": {
  "kernelspec": {
   "display_name": "Python 3",
   "language": "python",
   "name": "python3"
  },
  "language_info": {
   "codemirror_mode": {
    "name": "ipython",
    "version": 3
   },
   "file_extension": ".py",
   "mimetype": "text/x-python",
   "name": "python",
   "nbconvert_exporter": "python",
   "pygments_lexer": "ipython3",
   "version": "3.7.1"
  },
  "stem_cell": {
   "cell_type": "raw",
   "metadata": {
    "pycharm": {
     "metadata": false
    }
   },
   "source": ""
  }
 },
 "nbformat": 4,
 "nbformat_minor": 5
}
