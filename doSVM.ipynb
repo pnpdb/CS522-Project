{
 "cells": [
  {
   "cell_type": "markdown",
   "metadata": {
    "pycharm": {
     "metadata": false
    }
   },
   "source": [
    "# SVM - Climate Sentiment Multiclass Classification\n",
    "## CS522 Project"
   ]
  },
  {
   "cell_type": "markdown",
   "metadata": {
    "pycharm": {
     "metadata": false
    }
   },
   "source": [
    "### Dataset: \n",
    "https://www.kaggle.com/code/luiskalckstein/climate-sentiment-multiclass-classification"
   ]
  },
  {
   "cell_type": "markdown",
   "metadata": {
    "pycharm": {
     "metadata": false
    }
   },
   "source": [
    "### Imports"
   ]
  },
  {
   "cell_type": "code",
   "execution_count": 1,
   "metadata": {
    "pycharm": {
     "metadata": false,
     "name": "#%%\n"
    }
   },
   "outputs": [],
   "source": [
    "import numpy as np\n",
    "from sklearn.feature_extraction.text import TfidfVectorizer\n",
    "from sklearn.preprocessing import MultiLabelBinarizer\n",
    "from sklearn.multiclass import OneVsRestClassifier\n",
    "from sklearn.svm import LinearSVC\n",
    "from sklearn.calibration import CalibratedClassifierCV\n",
    "from cleanlab.classification import LearningWithNoisyLabels\n",
    "from sklearn.ensemble import IsolationForest\n",
    "from Common.DataCenter import data_center\n",
    "from Common.preprocessor import normalize_preprocessing\n",
    "from Common.UtilFuncs import print_evaluation, Evaluator\n",
    "\n",
    "%matplotlib inline\n",
    "\n",
    "Ev  = Evaluator()\n"
   ]
  },
  {
   "cell_type": "markdown",
   "metadata": {
    "pycharm": {
     "metadata": false
    },
    "tags": []
   },
   "source": [
    "### Text preprocessing"
   ]
  },
  {
   "cell_type": "code",
   "execution_count": 2,
   "metadata": {
    "pycharm": {
     "metadata": false,
     "name": "#%%\n"
    }
   },
   "outputs": [],
   "source": [
    "# parameter: original X of training set and test set\n",
    "# return:  vectorised X of training set and test set\n",
    "def text_preprocessing(X_train, X_test):\n",
    "    # preprocessing with traditional NLP methodology\n",
    "    X_train_normalized = normalize_preprocessing(X_train)\n",
    "    X_test_normalized  = normalize_preprocessing(X_test)\n",
    "    \n",
    "    # vectorization\n",
    "    # Convert texts to vectors by TFIDF\n",
    "    vectorizer = TfidfVectorizer(ngram_range=(1,2))\n",
    "    X_train_vec  = vectorizer.fit_transform(X_train_normalized)\n",
    "    X_test_vec   = vectorizer.transform(X_test_normalized)\n",
    "      \n",
    "    return X_train_vec, X_test_vec"
   ]
  },
  {
   "cell_type": "markdown",
   "metadata": {
    "pycharm": {
     "metadata": false
    }
   },
   "source": [
    "### One-hot encoding, convert the labels to vectors (4 x 1) each"
   ]
  },
  {
   "cell_type": "code",
   "execution_count": 3,
   "metadata": {
    "pycharm": {
     "metadata": false,
     "name": "#%%\n"
    }
   },
   "outputs": [],
   "source": [
    "# parameter: original y of training set, original y of test set\n",
    "# return:  encoded y of training set and test set\n",
    "def one_hot_encoding(y_train, y_test):\n",
    "    mlb          = MultiLabelBinarizer()\n",
    "    y_train_vec  = mlb.fit_transform(map(str, y_train))\n",
    "    y_test_vec   = mlb.transform(map(str, y_test))\n",
    "    return y_train_vec, y_test_vec\n"
   ]
  },
  {
   "cell_type": "markdown",
   "metadata": {
    "pycharm": {
     "metadata": false
    },
    "tags": []
   },
   "source": [
    "### Run SVM"
   ]
  },
  {
   "cell_type": "code",
   "execution_count": 4,
   "metadata": {
    "pycharm": {
     "metadata": false,
     "name": "#%%\n"
    }
   },
   "outputs": [],
   "source": [
    "# parameter:  vectorised X and encoded y of training set and test set\n",
    "def run_SVM(X_train_vec, y_train_vec, X_test_vec, y_test_vec):\n",
    "    # Run SVM - fit and predict\n",
    "    SVM             = OneVsRestClassifier(LinearSVC(dual=False, class_weight='balanced'), n_jobs=-1)\n",
    "    SVM.fit(X_train_vec, y_train_vec)\n",
    "    y_pred          = SVM.predict(X_test_vec)\n",
    "    return  y_pred\n"
   ]
  },
  {
   "cell_type": "markdown",
   "metadata": {
    "pycharm": {
     "metadata": false
    }
   },
   "source": [
    "### Do an experiment"
   ]
  },
  {
   "cell_type": "code",
   "execution_count": 5,
   "metadata": {
    "pycharm": {
     "metadata": false,
     "name": "#%%\n"
    }
   },
   "outputs": [],
   "source": [
    "# do an experiment without denoising\n",
    "# Parameter: original X,y of training set and test set\n",
    "# Return evaluation info\n",
    "def do_experiment(train_df, test_df):\n",
    "    X_train, y_train = data_center.Xy(train_df)\n",
    "    X_test, y_test   = data_center.Xy(test_df)\n",
    "    \n",
    "    # Convert texts to vectors\n",
    "    X_train_vec, X_test_vec = text_preprocessing(X_train, X_test)\n",
    "    y_train_vec, y_test_vec = one_hot_encoding(y_train, y_test)\n",
    "\n",
    "    # Run SVM and evaluate the results\n",
    "    y_pred = run_SVM(X_train_vec, y_train_vec, X_test_vec, y_test_vec)\n",
    "\n",
    "    # Print the evaluation\n",
    "    print_evaluation(y_test_vec, y_pred, labels=[0,1,2,3])\n",
    "    evaluateDF = Ev.evaluate(y_test_vec, y_pred)\n",
    "    return evaluateDF\n",
    "\n",
    "# do an experiment denoised by ConfidentLearning\n",
    "# Parameter: training set and test set\n",
    "# Return evaluation info, denoising info\n",
    "def do_experiment_denoised_by_ConfidentLearning(train_df, test_df):\n",
    "    X_train, y_train = data_center.Xy(train_df)\n",
    "    X_test, y_test   = data_center.Xy(test_df)\n",
    "    \n",
    "    # Convert texts to vectors\n",
    "    X_train_vec, X_test_vec = text_preprocessing(X_train, X_test)\n",
    "    y_train_vec, y_test_vec = one_hot_encoding(y_train, y_test)\n",
    "\n",
    "    # LearningWithNoisyLabels require the classifier has the entry predict_proba()\n",
    "    # So, use CalibratedClassifierCV to wrap LinearSVC\n",
    "    SVM = CalibratedClassifierCV(LinearSVC(dual=False, class_weight='balanced'))\n",
    "    rp = LearningWithNoisyLabels(clf=SVM, seed=522)\n",
    "    rp.fit(X_train_vec, np.array(y_train))\n",
    "    y_pred = rp.predict(X_test_vec)\n",
    "\n",
    "    # Print the evaluation\n",
    "    # One hot encoding for print_evaluation()\n",
    "    _, y_pred = one_hot_encoding(y_train, y_pred)\n",
    "    print_evaluation(y_test_vec, y_pred, labels=[0,1,2,3])\n",
    "\n",
    "    evaluateDF = Ev.evaluate(y_test_vec, y_pred)\n",
    "    return evaluateDF, None\n",
    "\n",
    "# do an experiment denoised by IsolationForest\n",
    "# Parameter: training set and test set\n",
    "# Return evaluation info, denoising info\n",
    "def do_experiment_denoised_by_IsolationForest(train_df, test_df):\n",
    "    X_train, y_train = data_center.Xy(train_df)\n",
    "    X_test, y_test   = data_center.Xy(test_df)\n",
    "\n",
    "    # Convert texts to vectors\n",
    "    X_train_vec, X_test_vec = text_preprocessing(X_train, X_test)\n",
    "    y_train_vec, y_test_vec = one_hot_encoding(y_train, y_test)\n",
    "\n",
    "    X = X_train_vec\n",
    "\n",
    "    # IsolationForest\n",
    "    # n_estimators is the number of trees, try bigger values\n",
    "    iforest = IsolationForest(n_estimators=20000, max_samples='auto',\n",
    "                              contamination=0.1, max_features=3,\n",
    "                              bootstrap=False, n_jobs=-1, random_state=1)\n",
    "\n",
    "    df = train_df.copy()\n",
    "    df['label'] = iforest.fit_predict(X)\n",
    "\n",
    "    # give the anomaly score\n",
    "    df['scores'] = iforest.decision_function(X)\n",
    "    df.sort_values(by=\"scores\", inplace=True, ascending=True)\n",
    "\n",
    "    denoisedDF = df[df.label!=-1]\n",
    "    X_train, y_train = data_center.Xy(denoisedDF)\n",
    "\n",
    "    # Convert texts to vectors\n",
    "    X_train_vec, X_test_vec = text_preprocessing(X_train, X_test)\n",
    "    y_train_vec, y_test_vec = one_hot_encoding(y_train, y_test)\n",
    "\n",
    "    # Run SVM and evaluate the results\n",
    "    y_pred = run_SVM(X_train_vec, y_train_vec, X_test_vec, y_test_vec)\n",
    "\n",
    "    print_evaluation(y_test_vec, y_pred, labels=[0,1,2,3])\n",
    "    evaluateDF = Ev.evaluate(y_test_vec, y_pred)\n",
    "\n",
    "    return evaluateDF, denoisedDF\n"
   ]
  },
  {
   "cell_type": "markdown",
   "metadata": {
    "pycharm": {
     "metadata": false
    }
   },
   "source": [
    "### Main entry\n",
    "**The settings of the noise sources.**"
   ]
  },
  {
   "cell_type": "code",
   "execution_count": 6,
   "metadata": {
    "pycharm": {
     "metadata": false,
     "name": "#%%\n"
    }
   },
   "outputs": [],
   "source": [
    "# Each item: source -> (size, distribution)\n",
    "noisy_set_sizes = {\n",
    "    'mislabeled' : (8000, None),                   # max size: 15000\n",
    "    'irrelevant' : (2000, [0.25,0.25,0.25,0.25]),  # max size: 34259\n",
    "    'translated' : (2000, \"reserve_labels\"),       # max size: 5000\n",
    "}\n"
   ]
  },
  {
   "cell_type": "markdown",
   "metadata": {
    "pycharm": {
     "metadata": false
    }
   },
   "source": [
    "**Choose a denoising method**"
   ]
  },
  {
   "cell_type": "code",
   "execution_count": 7,
   "metadata": {
    "pycharm": {
     "metadata": false,
     "name": "#%%\n"
    }
   },
   "outputs": [],
   "source": [
    "# Each item: name -> (funcion, whether choose)\n",
    "# note:only the first active one will be used. use 1 to active one\n",
    "denoising_method = {\n",
    "    'Confident Learning' : (do_experiment_denoised_by_ConfidentLearning, 0),\n",
    "    'Isolation Forest'   : (do_experiment_denoised_by_IsolationForest,   1),\n",
    "}\n"
   ]
  },
  {
   "cell_type": "markdown",
   "metadata": {
    "pycharm": {
     "metadata": false
    }
   },
   "source": [
    "**Load the database and split it into training set, test set, noisy set, validation set**"
   ]
  },
  {
   "cell_type": "code",
   "execution_count": 8,
   "metadata": {
    "pycharm": {
     "metadata": false,
     "name": "#%%\n"
    }
   },
   "outputs": [],
   "source": [
    "# dc = data_center(\"twitter_sentiment_data_clean.csv\", train_size = 20000, test_size = 4000, validation_size = 1000,\n",
    "#                  noisy_size = noisy_set_sizes['mislabeled'][0] if 'mislabeled' in noisy_set_sizes.keys() else 0)\n",
    "\n",
    "# Load the database and split it into training set, test set, noisy set, validation set\n",
    "# Using noisy_set_sizes directly\n",
    "dc = data_center(\"twitter_sentiment_data_clean.csv\", train_size = 20000, test_size = 4000, validation_size = 1000,\n",
    "                 noisy_size = noisy_set_sizes)\n"
   ]
  },
  {
   "cell_type": "markdown",
   "metadata": {
    "pycharm": {
     "metadata": false
    }
   },
   "source": [
    "**Show the summary of the whole data**"
   ]
  },
  {
   "cell_type": "code",
   "execution_count": 9,
   "metadata": {
    "pycharm": {
     "metadata": false,
     "name": "#%%\n"
    }
   },
   "outputs": [
    {
     "name": "stdout",
     "output_type": "stream",
     "text": [
      "###################################### Data Summary #############################################\n",
      "  Original set size: 40908\n",
      "      sentiments ('Anti', 'Neutral', 'Pro', 'News'): 9.4%, 18.3%, 50.2%, 22.1%\n",
      "  Training set size: 20000\n",
      "  Test set size: 4000\n",
      "  Noisy set size: 12000\n",
      "  Validation set size: 1000\n",
      "      noise sources ('mislabeled', 'irrelevant', 'translated'): 66.7%, 16.7%, 16.7%\n",
      "##################################################################################################\n"
     ]
    }
   ],
   "source": [
    "dc.print_summary()\n"
   ]
  },
  {
   "cell_type": "markdown",
   "metadata": {
    "pycharm": {
     "metadata": false
    }
   },
   "source": [
    "**To see the data features via a demo**"
   ]
  },
  {
   "cell_type": "code",
   "execution_count": 10,
   "metadata": {
    "pycharm": {
     "metadata": false,
     "name": "#%%\n"
    }
   },
   "outputs": [
    {
     "data": {
      "text/html": [
       "<div>\n",
       "<style scoped>\n",
       "    .dataframe tbody tr th:only-of-type {\n",
       "        vertical-align: middle;\n",
       "    }\n",
       "\n",
       "    .dataframe tbody tr th {\n",
       "        vertical-align: top;\n",
       "    }\n",
       "\n",
       "    .dataframe thead th {\n",
       "        text-align: right;\n",
       "    }\n",
       "</style>\n",
       "<table border=\"1\" class=\"dataframe\">\n",
       "  <thead>\n",
       "    <tr style=\"text-align: right;\">\n",
       "      <th></th>\n",
       "      <th>noise</th>\n",
       "      <th>noise_text</th>\n",
       "      <th>sentiment</th>\n",
       "      <th>origin(sentiment)</th>\n",
       "      <th>tweetid(partial)</th>\n",
       "      <th>message(partial)</th>\n",
       "    </tr>\n",
       "  </thead>\n",
       "  <tbody>\n",
       "    <tr>\n",
       "      <th>0</th>\n",
       "      <td>1</td>\n",
       "      <td>mislabeled</td>\n",
       "      <td>3</td>\n",
       "      <td>2</td>\n",
       "      <td>794664</td>\n",
       "      <td>RT @ChelseaClinton: Thank you</td>\n",
       "    </tr>\n",
       "    <tr>\n",
       "      <th>1</th>\n",
       "      <td>0</td>\n",
       "      <td>none</td>\n",
       "      <td>3</td>\n",
       "      <td>-1</td>\n",
       "      <td>605804</td>\n",
       "      <td>Obama to follow Al Gore into c</td>\n",
       "    </tr>\n",
       "    <tr>\n",
       "      <th>2</th>\n",
       "      <td>2</td>\n",
       "      <td>irrelevant</td>\n",
       "      <td>1</td>\n",
       "      <td>-1</td>\n",
       "      <td>-1</td>\n",
       "      <td>This is a CGI animated film ba</td>\n",
       "    </tr>\n",
       "    <tr>\n",
       "      <th>3</th>\n",
       "      <td>0</td>\n",
       "      <td>none</td>\n",
       "      <td>2</td>\n",
       "      <td>-1</td>\n",
       "      <td>951653</td>\n",
       "      <td>umm ??? so itâ€™s basically su</td>\n",
       "    </tr>\n",
       "    <tr>\n",
       "      <th>4</th>\n",
       "      <td>1</td>\n",
       "      <td>mislabeled</td>\n",
       "      <td>0</td>\n",
       "      <td>2</td>\n",
       "      <td>848920</td>\n",
       "      <td>RT @Colorlines: POC who live t</td>\n",
       "    </tr>\n",
       "    <tr>\n",
       "      <th>5</th>\n",
       "      <td>1</td>\n",
       "      <td>mislabeled</td>\n",
       "      <td>1</td>\n",
       "      <td>3</td>\n",
       "      <td>798878</td>\n",
       "      <td>RT @ReutersLive: LIVE: U.S. Se</td>\n",
       "    </tr>\n",
       "    <tr>\n",
       "      <th>6</th>\n",
       "      <td>0</td>\n",
       "      <td>none</td>\n",
       "      <td>1</td>\n",
       "      <td>-1</td>\n",
       "      <td>840241</td>\n",
       "      <td>@bradcarlson_ not denying clim</td>\n",
       "    </tr>\n",
       "    <tr>\n",
       "      <th>7</th>\n",
       "      <td>0</td>\n",
       "      <td>none</td>\n",
       "      <td>2</td>\n",
       "      <td>-1</td>\n",
       "      <td>796429</td>\n",
       "      <td>RT @emmaroller: A climate chan</td>\n",
       "    </tr>\n",
       "    <tr>\n",
       "      <th>8</th>\n",
       "      <td>0</td>\n",
       "      <td>none</td>\n",
       "      <td>1</td>\n",
       "      <td>-1</td>\n",
       "      <td>793214</td>\n",
       "      <td>@michellemalkin Trump wins ele</td>\n",
       "    </tr>\n",
       "    <tr>\n",
       "      <th>9</th>\n",
       "      <td>0</td>\n",
       "      <td>none</td>\n",
       "      <td>3</td>\n",
       "      <td>-1</td>\n",
       "      <td>793175</td>\n",
       "      <td>Satellites help scientists see</td>\n",
       "    </tr>\n",
       "    <tr>\n",
       "      <th>10</th>\n",
       "      <td>0</td>\n",
       "      <td>none</td>\n",
       "      <td>2</td>\n",
       "      <td>-1</td>\n",
       "      <td>819688</td>\n",
       "      <td>RT @Scientists4EU: Meh, why be</td>\n",
       "    </tr>\n",
       "    <tr>\n",
       "      <th>11</th>\n",
       "      <td>2</td>\n",
       "      <td>irrelevant</td>\n",
       "      <td>3</td>\n",
       "      <td>-1</td>\n",
       "      <td>-1</td>\n",
       "      <td>@HalifaxReTales If you are goi</td>\n",
       "    </tr>\n",
       "    <tr>\n",
       "      <th>12</th>\n",
       "      <td>1</td>\n",
       "      <td>mislabeled</td>\n",
       "      <td>2</td>\n",
       "      <td>3</td>\n",
       "      <td>829376</td>\n",
       "      <td>RT @DoNotForget911: Federal sc</td>\n",
       "    </tr>\n",
       "    <tr>\n",
       "      <th>13</th>\n",
       "      <td>2</td>\n",
       "      <td>irrelevant</td>\n",
       "      <td>0</td>\n",
       "      <td>-1</td>\n",
       "      <td>-1</td>\n",
       "      <td>these chips are good, and bad,</td>\n",
       "    </tr>\n",
       "    <tr>\n",
       "      <th>14</th>\n",
       "      <td>2</td>\n",
       "      <td>irrelevant</td>\n",
       "      <td>3</td>\n",
       "      <td>-1</td>\n",
       "      <td>-1</td>\n",
       "      <td>When I think #football, I thin</td>\n",
       "    </tr>\n",
       "  </tbody>\n",
       "</table>\n",
       "</div>"
      ],
      "text/plain": [
       "    noise  noise_text  sentiment  origin(sentiment)  tweetid(partial)  \\\n",
       "0       1  mislabeled          3                  2            794664   \n",
       "1       0        none          3                 -1            605804   \n",
       "2       2  irrelevant          1                 -1                -1   \n",
       "3       0        none          2                 -1            951653   \n",
       "4       1  mislabeled          0                  2            848920   \n",
       "5       1  mislabeled          1                  3            798878   \n",
       "6       0        none          1                 -1            840241   \n",
       "7       0        none          2                 -1            796429   \n",
       "8       0        none          1                 -1            793214   \n",
       "9       0        none          3                 -1            793175   \n",
       "10      0        none          2                 -1            819688   \n",
       "11      2  irrelevant          3                 -1                -1   \n",
       "12      1  mislabeled          2                  3            829376   \n",
       "13      2  irrelevant          0                 -1                -1   \n",
       "14      2  irrelevant          3                 -1                -1   \n",
       "\n",
       "                  message(partial)  \n",
       "0   RT @ChelseaClinton: Thank you   \n",
       "1   Obama to follow Al Gore into c  \n",
       "2   This is a CGI animated film ba  \n",
       "3   umm ??? so itâ€™s basically su  \n",
       "4   RT @Colorlines: POC who live t  \n",
       "5   RT @ReutersLive: LIVE: U.S. Se  \n",
       "6   @bradcarlson_ not denying clim  \n",
       "7   RT @emmaroller: A climate chan  \n",
       "8   @michellemalkin Trump wins ele  \n",
       "9   Satellites help scientists see  \n",
       "10  RT @Scientists4EU: Meh, why be  \n",
       "11  @HalifaxReTales If you are goi  \n",
       "12  RT @DoNotForget911: Federal sc  \n",
       "13  these chips are good, and bad,  \n",
       "14  When I think #football, I thin  "
      ]
     },
     "metadata": {},
     "output_type": "display_data"
    }
   ],
   "source": [
    "train_df = dc.get_train_with_noisy_df(1000,1000)\n",
    "data_center.print_data(train_df.head(15))\n"
   ]
  },
  {
   "cell_type": "markdown",
   "metadata": {
    "pycharm": {
     "metadata": false
    }
   },
   "source": [
    "**Get the test set for evaluation.**"
   ]
  },
  {
   "cell_type": "code",
   "execution_count": 11,
   "metadata": {
    "pycharm": {
     "metadata": false,
     "name": "#%%\n"
    }
   },
   "outputs": [],
   "source": [
    "test_df = dc.get_test_df()\n"
   ]
  },
  {
   "cell_type": "markdown",
   "metadata": {
    "pycharm": {
     "metadata": false
    }
   },
   "source": [
    "**Set distributions of training set.**"
   ]
  },
  {
   "cell_type": "code",
   "execution_count": 12,
   "metadata": {
    "pycharm": {
     "metadata": false,
     "name": "#%%\n"
    }
   },
   "outputs": [],
   "source": [
    "# distribution of training set\n",
    "# None represent it is same as the whole original data\n",
    "train_distribution = None\n"
   ]
  },
  {
   "cell_type": "markdown",
   "metadata": {
    "pycharm": {
     "metadata": false
    }
   },
   "source": [
    "**Run experiments with different training sets, and use the same test set.**\n",
    "**Please wait some minutes until the finish message appears.**"
   ]
  },
  {
   "cell_type": "code",
   "execution_count": 13,
   "metadata": {
    "pycharm": {
     "metadata": false,
     "name": "#%%\n"
    }
   },
   "outputs": [
    {
     "name": "stdout",
     "output_type": "stream",
     "text": [
      "-------------- No noisy training sets ----------\n",
      "* 1> Training set size: 2000 samples\n",
      "  Sentiments ('Anti', 'Neutral', 'Pro', 'News'): 9.4%, 18.3%, 50.2%, 22.1%\n",
      "    f1 of classes: [0.349, 0.315, 0.711, 0.678]\n",
      "    micro_f1: 0.626 , macro_f1: 0.513 , weighted_f1: 0.597, macro_precision: 0.592, macro_recall: 0.504\n",
      "* 2> Training set size: 4000 samples\n",
      "  Sentiments ('Anti', 'Neutral', 'Pro', 'News'): 9.4%, 18.3%, 50.2%, 22.1%\n",
      "    f1 of classes: [0.442, 0.371, 0.741, 0.695]\n",
      "    micro_f1: 0.657 , macro_f1: 0.562 , weighted_f1: 0.635, macro_precision: 0.623, macro_recall: 0.554\n",
      "* 3> Training set size: 5000 samples\n",
      "  Sentiments ('Anti', 'Neutral', 'Pro', 'News'): 9.4%, 18.3%, 50.2%, 22.1%\n",
      "    f1 of classes: [0.466, 0.4, 0.746, 0.709]\n",
      "    micro_f1: 0.668 , macro_f1: 0.580 , weighted_f1: 0.648, macro_precision: 0.636, macro_recall: 0.570\n",
      "* 4> Training set size: 8000 samples\n",
      "  Sentiments ('Anti', 'Neutral', 'Pro', 'News'): 9.4%, 18.3%, 50.2%, 22.1%\n",
      "    f1 of classes: [0.521, 0.42, 0.758, 0.719]\n",
      "    micro_f1: 0.682 , macro_f1: 0.604 , weighted_f1: 0.665, macro_precision: 0.648, macro_recall: 0.598\n",
      "* 5> Training set size: 10000 samples\n",
      "  Sentiments ('Anti', 'Neutral', 'Pro', 'News'): 9.4%, 18.3%, 50.2%, 22.1%\n",
      "    f1 of classes: [0.534, 0.431, 0.765, 0.727]\n",
      "    micro_f1: 0.689 , macro_f1: 0.614 , weighted_f1: 0.674, macro_precision: 0.645, macro_recall: 0.613\n",
      "* 6> Training set size: 15000 samples\n",
      "  Sentiments ('Anti', 'Neutral', 'Pro', 'News'): 9.4%, 18.3%, 50.2%, 22.1%\n",
      "    f1 of classes: [0.567, 0.452, 0.774, 0.74]\n",
      "    micro_f1: 0.702 , macro_f1: 0.633 , weighted_f1: 0.688, macro_precision: 0.657, macro_recall: 0.637\n",
      "* 7> Training set size: 20000 samples\n",
      "  Sentiments ('Anti', 'Neutral', 'Pro', 'News'): 9.4%, 18.3%, 50.2%, 22.1%\n",
      "    f1 of classes: [0.599, 0.483, 0.788, 0.746]\n",
      "    micro_f1: 0.716 , macro_f1: 0.654 , weighted_f1: 0.705, macro_precision: 0.668, macro_recall: 0.660\n",
      "-------------- Noisy training sets -------------\n",
      "General noise source distribution ('mislabeled', 'irrelevant', 'translated'): 66.7%, 16.7%, 16.7%\n",
      "* 8> Noisy training set size: 5000 samples (4000 original, 1000 noisy)\n",
      "  Sentiments ('Anti', 'Neutral', 'Pro', 'News'): 13.0%, 20.0%, 44.5%, 22.5%\n",
      "  Noise sources ('mislabeled', 'irrelevant', 'translated'): 66.7%, 16.7%, 16.7%\n",
      "  Before de-noising:\n",
      "    f1 of classes: [0.413, 0.385, 0.707, 0.678]\n",
      "    micro_f1: 0.627 , macro_f1: 0.546 , weighted_f1: 0.614, macro_precision: 0.594, macro_recall: 0.522\n",
      "  After de-noising:\n",
      "    f1 of classes: [0.382, 0.356, 0.706, 0.677]\n",
      "    micro_f1: 0.621 , macro_f1: 0.530 , weighted_f1: 0.605, macro_precision: 0.582, macro_recall: 0.508\n",
      "* 9> Noisy training set size: 10000 samples (8000 original, 2000 noisy)\n",
      "  Sentiments ('Anti', 'Neutral', 'Pro', 'News'): 12.9%, 19.8%, 44.6%, 22.8%\n",
      "  Noise sources ('mislabeled', 'irrelevant', 'translated'): 66.7%, 16.7%, 16.7%\n",
      "  Before de-noising:\n",
      "    f1 of classes: [0.463, 0.404, 0.73, 0.695]\n",
      "    micro_f1: 0.647 , macro_f1: 0.573 , weighted_f1: 0.638, macro_precision: 0.605, macro_recall: 0.556\n",
      "  After de-noising:\n",
      "    f1 of classes: [0.468, 0.392, 0.735, 0.696]\n",
      "    micro_f1: 0.651 , macro_f1: 0.573 , weighted_f1: 0.639, macro_precision: 0.608, macro_recall: 0.557\n",
      "*10> Noisy training set size: 20000 samples (15000 original, 5000 noisy)\n",
      "  Sentiments ('Anti', 'Neutral', 'Pro', 'News'): 13.6%, 19.9%, 43.5%, 22.9%\n",
      "  Noise sources ('mislabeled', 'irrelevant', 'translated'): 66.7%, 16.7%, 16.7%\n",
      "  Before de-noising:\n",
      "    f1 of classes: [0.495, 0.444, 0.737, 0.712]\n",
      "    micro_f1: 0.660 , macro_f1: 0.597 , weighted_f1: 0.655, macro_precision: 0.616, macro_recall: 0.587\n",
      "  After de-noising:\n",
      "    f1 of classes: [0.491, 0.441, 0.738, 0.711]\n",
      "    micro_f1: 0.661 , macro_f1: 0.595 , weighted_f1: 0.654, macro_precision: 0.617, macro_recall: 0.585\n",
      "-------------- Experiments are finished. -------------\n"
     ]
    }
   ],
   "source": [
    "expriment_no    = 1\n",
    "print(\"-------------- No noisy training sets ----------\")\n",
    "for size in [2000, 4000, 5000, 8000, 10000, 15000, 20000]:\n",
    "    # Get a training set without noisy data\n",
    "    train_df = dc.get_train_df(size, train_distribution)\n",
    "    print(\"*%2d> Training set size: %d samples\" % (expriment_no, len(train_df)))\n",
    "    data_center.print_distribution(\"  Sentiments\", train_df['sentiment'])\n",
    "\n",
    "    # Do an experiment\n",
    "    dfResult = do_experiment(train_df, test_df)\n",
    "    Ev.add_evaluation(dfResult, size, 0, \"-\",\n",
    "                      data_center.calc_distribution_str(train_df['sentiment'], 'sentiment', [0,1,2,3]),\n",
    "                      \"-\", expriment_no\n",
    "                     )\n",
    "    expriment_no += 1\n",
    "\n",
    "print(\"-------------- Noisy training sets -------------\")\n",
    "# The noise source distribution of the whole noisy data.\n",
    "dc.print_noise_source_distribution(\"General noise source distribution\")\n",
    "\n",
    "do_experiment_denoise  = None\n",
    "for denoise_name, v in denoising_method.items():\n",
    "    if v[1] == True:\n",
    "        do_experiment_denoise = v[0]\n",
    "        break\n",
    "if do_experiment_denoise is None:\n",
    "    print(\"No denoising function selected.\")\n",
    "\n",
    "lstSizes = [(4000, 1000), (8000, 2000), (15000, 5000)]\n",
    "for size in lstSizes:\n",
    "    # Get a noisy training set\n",
    "    train_df         = dc.get_train_with_noisy_df(size[0], size[1], train_distribution)\n",
    "    X_train, y_train = data_center.Xy(train_df)\n",
    "    X_noisy          = train_df[train_df['noise'] != 0]\n",
    "\n",
    "    print(\"*%2d> Noisy training set size: %d samples (%d original, %d noisy)\"\n",
    "          % (expriment_no, len(train_df), size[0], size[1]))\n",
    "    data_center.print_distribution(\"  Sentiments\", train_df['sentiment'])\n",
    "    dc.print_noise_source_distribution(\"  Noise sources\")\n",
    "\n",
    "    # Do an experiment without de-noising\n",
    "    print(\"  Before de-noising:\")\n",
    "    dfResult = do_experiment(train_df, test_df)\n",
    "    Ev.add_evaluation(dfResult, size[0], size[1], \"N\",\n",
    "                            data_center.calc_distribution_str(train_df['sentiment'], 'sentiment', [0,1,2,3]),\n",
    "                            data_center.calc_distribution_str(X_noisy, 'noise', [1,2,3]),\n",
    "                            expriment_no\n",
    "                            )\n",
    "\n",
    "    # Do an experiment with de-noising\n",
    "    if do_experiment_denoise is None:\n",
    "        continue\n",
    "\n",
    "    print(\"  After de-noising:\")\n",
    "    dfResult, _ = do_experiment_denoise(train_df, test_df)\n",
    "\n",
    "    Ev.add_evaluation(dfResult, size[0], size[1], \"Y\",\n",
    "                            data_center.calc_distribution_str(train_df['sentiment'], 'sentiment', [0,1,2,3]),\n",
    "                            data_center.calc_distribution_str(X_noisy, 'noise', [1,2,3]),\n",
    "                            expriment_no + len(lstSizes)\n",
    "                            )\n",
    "    expriment_no += 1\n",
    "    \n",
    "print(\"-------------- Experiments are finished. -------------\")    \n"
   ]
  },
  {
   "cell_type": "markdown",
   "metadata": {
    "pycharm": {
     "metadata": false
    }
   },
   "source": [
    "**Show evaluations in a form (be sure the experiments have been finished)**"
   ]
  },
  {
   "cell_type": "code",
   "execution_count": 14,
   "metadata": {
    "pycharm": {
     "metadata": false,
     "name": "#%%\n"
    }
   },
   "outputs": [
    {
     "data": {
      "text/html": [
       "<div>\n",
       "<style scoped>\n",
       "    .dataframe tbody tr th:only-of-type {\n",
       "        vertical-align: middle;\n",
       "    }\n",
       "\n",
       "    .dataframe tbody tr th {\n",
       "        vertical-align: top;\n",
       "    }\n",
       "\n",
       "    .dataframe thead th {\n",
       "        text-align: right;\n",
       "    }\n",
       "</style>\n",
       "<table border=\"1\" class=\"dataframe\">\n",
       "  <thead>\n",
       "    <tr style=\"text-align: right;\">\n",
       "      <th></th>\n",
       "      <th>Origin</th>\n",
       "      <th>Noise</th>\n",
       "      <th>Denoised</th>\n",
       "      <th>Micro F1</th>\n",
       "      <th>Macro F1</th>\n",
       "      <th>Weighted F1</th>\n",
       "      <th>Macro Precision</th>\n",
       "      <th>Macro Recall</th>\n",
       "      <th>F1 of classes</th>\n",
       "      <th>Sentiments distribution</th>\n",
       "      <th>Noise sources distribution</th>\n",
       "    </tr>\n",
       "    <tr>\n",
       "      <th>Experiment</th>\n",
       "      <th></th>\n",
       "      <th></th>\n",
       "      <th></th>\n",
       "      <th></th>\n",
       "      <th></th>\n",
       "      <th></th>\n",
       "      <th></th>\n",
       "      <th></th>\n",
       "      <th></th>\n",
       "      <th></th>\n",
       "      <th></th>\n",
       "    </tr>\n",
       "  </thead>\n",
       "  <tbody>\n",
       "    <tr>\n",
       "      <th>1</th>\n",
       "      <td>2000</td>\n",
       "      <td>0</td>\n",
       "      <td>-</td>\n",
       "      <td>0.625651</td>\n",
       "      <td>0.513415</td>\n",
       "      <td>0.597445</td>\n",
       "      <td>0.591622</td>\n",
       "      <td>0.503592</td>\n",
       "      <td>[0.349, 0.315, 0.711, 0.678]</td>\n",
       "      <td>[9.4%, 18.3%, 50.2%, 22.1%]</td>\n",
       "      <td>-</td>\n",
       "    </tr>\n",
       "    <tr>\n",
       "      <th>2</th>\n",
       "      <td>4000</td>\n",
       "      <td>0</td>\n",
       "      <td>-</td>\n",
       "      <td>0.657229</td>\n",
       "      <td>0.562267</td>\n",
       "      <td>0.634902</td>\n",
       "      <td>0.623003</td>\n",
       "      <td>0.553626</td>\n",
       "      <td>[0.442, 0.371, 0.741, 0.695]</td>\n",
       "      <td>[9.4%, 18.3%, 50.2%, 22.1%]</td>\n",
       "      <td>-</td>\n",
       "    </tr>\n",
       "    <tr>\n",
       "      <th>3</th>\n",
       "      <td>5000</td>\n",
       "      <td>0</td>\n",
       "      <td>-</td>\n",
       "      <td>0.667753</td>\n",
       "      <td>0.580286</td>\n",
       "      <td>0.648046</td>\n",
       "      <td>0.636269</td>\n",
       "      <td>0.569531</td>\n",
       "      <td>[0.466, 0.4, 0.746, 0.709]</td>\n",
       "      <td>[9.4%, 18.3%, 50.2%, 22.1%]</td>\n",
       "      <td>-</td>\n",
       "    </tr>\n",
       "    <tr>\n",
       "      <th>4</th>\n",
       "      <td>8000</td>\n",
       "      <td>0</td>\n",
       "      <td>-</td>\n",
       "      <td>0.682283</td>\n",
       "      <td>0.604498</td>\n",
       "      <td>0.665412</td>\n",
       "      <td>0.647677</td>\n",
       "      <td>0.597741</td>\n",
       "      <td>[0.521, 0.42, 0.758, 0.719]</td>\n",
       "      <td>[9.4%, 18.3%, 50.2%, 22.1%]</td>\n",
       "      <td>-</td>\n",
       "    </tr>\n",
       "    <tr>\n",
       "      <th>5</th>\n",
       "      <td>10000</td>\n",
       "      <td>0</td>\n",
       "      <td>-</td>\n",
       "      <td>0.689442</td>\n",
       "      <td>0.614399</td>\n",
       "      <td>0.673934</td>\n",
       "      <td>0.645478</td>\n",
       "      <td>0.613033</td>\n",
       "      <td>[0.534, 0.431, 0.765, 0.727]</td>\n",
       "      <td>[9.4%, 18.3%, 50.2%, 22.1%]</td>\n",
       "      <td>-</td>\n",
       "    </tr>\n",
       "    <tr>\n",
       "      <th>6</th>\n",
       "      <td>15000</td>\n",
       "      <td>0</td>\n",
       "      <td>-</td>\n",
       "      <td>0.701889</td>\n",
       "      <td>0.633075</td>\n",
       "      <td>0.687961</td>\n",
       "      <td>0.657390</td>\n",
       "      <td>0.636509</td>\n",
       "      <td>[0.567, 0.452, 0.774, 0.74]</td>\n",
       "      <td>[9.4%, 18.3%, 50.2%, 22.1%]</td>\n",
       "      <td>-</td>\n",
       "    </tr>\n",
       "    <tr>\n",
       "      <th>7</th>\n",
       "      <td>20000</td>\n",
       "      <td>0</td>\n",
       "      <td>-</td>\n",
       "      <td>0.716268</td>\n",
       "      <td>0.654099</td>\n",
       "      <td>0.705114</td>\n",
       "      <td>0.668449</td>\n",
       "      <td>0.660337</td>\n",
       "      <td>[0.599, 0.483, 0.788, 0.746]</td>\n",
       "      <td>[9.4%, 18.3%, 50.2%, 22.1%]</td>\n",
       "      <td>-</td>\n",
       "    </tr>\n",
       "    <tr>\n",
       "      <th>8</th>\n",
       "      <td>4000</td>\n",
       "      <td>1000</td>\n",
       "      <td>N</td>\n",
       "      <td>0.626698</td>\n",
       "      <td>0.545576</td>\n",
       "      <td>0.613819</td>\n",
       "      <td>0.594035</td>\n",
       "      <td>0.521799</td>\n",
       "      <td>[0.413, 0.385, 0.707, 0.678]</td>\n",
       "      <td>[13.0%, 20.0%, 44.5%, 22.5%]</td>\n",
       "      <td>[67.6%, 15.7%, 16.7%]</td>\n",
       "    </tr>\n",
       "    <tr>\n",
       "      <th>9</th>\n",
       "      <td>8000</td>\n",
       "      <td>2000</td>\n",
       "      <td>N</td>\n",
       "      <td>0.646983</td>\n",
       "      <td>0.573185</td>\n",
       "      <td>0.637710</td>\n",
       "      <td>0.604535</td>\n",
       "      <td>0.556002</td>\n",
       "      <td>[0.463, 0.404, 0.73, 0.695]</td>\n",
       "      <td>[12.9%, 19.8%, 44.6%, 22.8%]</td>\n",
       "      <td>[67.0%, 16.4%, 16.6%]</td>\n",
       "    </tr>\n",
       "    <tr>\n",
       "      <th>10</th>\n",
       "      <td>15000</td>\n",
       "      <td>5000</td>\n",
       "      <td>N</td>\n",
       "      <td>0.660309</td>\n",
       "      <td>0.596955</td>\n",
       "      <td>0.655237</td>\n",
       "      <td>0.615998</td>\n",
       "      <td>0.586810</td>\n",
       "      <td>[0.495, 0.444, 0.737, 0.712]</td>\n",
       "      <td>[13.6%, 19.9%, 43.5%, 22.9%]</td>\n",
       "      <td>[66.6%, 16.4%, 16.9%]</td>\n",
       "    </tr>\n",
       "    <tr>\n",
       "      <th>11</th>\n",
       "      <td>4000</td>\n",
       "      <td>1000</td>\n",
       "      <td>Y</td>\n",
       "      <td>0.621488</td>\n",
       "      <td>0.530100</td>\n",
       "      <td>0.604902</td>\n",
       "      <td>0.581555</td>\n",
       "      <td>0.508118</td>\n",
       "      <td>[0.382, 0.356, 0.706, 0.677]</td>\n",
       "      <td>[13.0%, 20.0%, 44.5%, 22.5%]</td>\n",
       "      <td>[67.6%, 15.7%, 16.7%]</td>\n",
       "    </tr>\n",
       "    <tr>\n",
       "      <th>12</th>\n",
       "      <td>8000</td>\n",
       "      <td>2000</td>\n",
       "      <td>Y</td>\n",
       "      <td>0.650779</td>\n",
       "      <td>0.572638</td>\n",
       "      <td>0.638547</td>\n",
       "      <td>0.608003</td>\n",
       "      <td>0.557353</td>\n",
       "      <td>[0.468, 0.392, 0.735, 0.696]</td>\n",
       "      <td>[12.9%, 19.8%, 44.6%, 22.8%]</td>\n",
       "      <td>[67.0%, 16.4%, 16.6%]</td>\n",
       "    </tr>\n",
       "    <tr>\n",
       "      <th>13</th>\n",
       "      <td>15000</td>\n",
       "      <td>5000</td>\n",
       "      <td>Y</td>\n",
       "      <td>0.660659</td>\n",
       "      <td>0.595012</td>\n",
       "      <td>0.654220</td>\n",
       "      <td>0.617075</td>\n",
       "      <td>0.585460</td>\n",
       "      <td>[0.491, 0.441, 0.738, 0.711]</td>\n",
       "      <td>[13.6%, 19.9%, 43.5%, 22.9%]</td>\n",
       "      <td>[66.6%, 16.4%, 16.9%]</td>\n",
       "    </tr>\n",
       "  </tbody>\n",
       "</table>\n",
       "</div>"
      ],
      "text/plain": [
       "            Origin  Noise Denoised  Micro F1  Macro F1  Weighted F1  \\\n",
       "Experiment                                                            \n",
       "1             2000      0        -  0.625651  0.513415     0.597445   \n",
       "2             4000      0        -  0.657229  0.562267     0.634902   \n",
       "3             5000      0        -  0.667753  0.580286     0.648046   \n",
       "4             8000      0        -  0.682283  0.604498     0.665412   \n",
       "5            10000      0        -  0.689442  0.614399     0.673934   \n",
       "6            15000      0        -  0.701889  0.633075     0.687961   \n",
       "7            20000      0        -  0.716268  0.654099     0.705114   \n",
       "8             4000   1000        N  0.626698  0.545576     0.613819   \n",
       "9             8000   2000        N  0.646983  0.573185     0.637710   \n",
       "10           15000   5000        N  0.660309  0.596955     0.655237   \n",
       "11            4000   1000        Y  0.621488  0.530100     0.604902   \n",
       "12            8000   2000        Y  0.650779  0.572638     0.638547   \n",
       "13           15000   5000        Y  0.660659  0.595012     0.654220   \n",
       "\n",
       "            Macro Precision  Macro Recall                 F1 of classes  \\\n",
       "Experiment                                                                \n",
       "1                  0.591622      0.503592  [0.349, 0.315, 0.711, 0.678]   \n",
       "2                  0.623003      0.553626  [0.442, 0.371, 0.741, 0.695]   \n",
       "3                  0.636269      0.569531    [0.466, 0.4, 0.746, 0.709]   \n",
       "4                  0.647677      0.597741   [0.521, 0.42, 0.758, 0.719]   \n",
       "5                  0.645478      0.613033  [0.534, 0.431, 0.765, 0.727]   \n",
       "6                  0.657390      0.636509   [0.567, 0.452, 0.774, 0.74]   \n",
       "7                  0.668449      0.660337  [0.599, 0.483, 0.788, 0.746]   \n",
       "8                  0.594035      0.521799  [0.413, 0.385, 0.707, 0.678]   \n",
       "9                  0.604535      0.556002   [0.463, 0.404, 0.73, 0.695]   \n",
       "10                 0.615998      0.586810  [0.495, 0.444, 0.737, 0.712]   \n",
       "11                 0.581555      0.508118  [0.382, 0.356, 0.706, 0.677]   \n",
       "12                 0.608003      0.557353  [0.468, 0.392, 0.735, 0.696]   \n",
       "13                 0.617075      0.585460  [0.491, 0.441, 0.738, 0.711]   \n",
       "\n",
       "                 Sentiments distribution Noise sources distribution  \n",
       "Experiment                                                           \n",
       "1            [9.4%, 18.3%, 50.2%, 22.1%]                          -  \n",
       "2            [9.4%, 18.3%, 50.2%, 22.1%]                          -  \n",
       "3            [9.4%, 18.3%, 50.2%, 22.1%]                          -  \n",
       "4            [9.4%, 18.3%, 50.2%, 22.1%]                          -  \n",
       "5            [9.4%, 18.3%, 50.2%, 22.1%]                          -  \n",
       "6            [9.4%, 18.3%, 50.2%, 22.1%]                          -  \n",
       "7            [9.4%, 18.3%, 50.2%, 22.1%]                          -  \n",
       "8           [13.0%, 20.0%, 44.5%, 22.5%]      [67.6%, 15.7%, 16.7%]  \n",
       "9           [12.9%, 19.8%, 44.6%, 22.8%]      [67.0%, 16.4%, 16.6%]  \n",
       "10          [13.6%, 19.9%, 43.5%, 22.9%]      [66.6%, 16.4%, 16.9%]  \n",
       "11          [13.0%, 20.0%, 44.5%, 22.5%]      [67.6%, 15.7%, 16.7%]  \n",
       "12          [12.9%, 19.8%, 44.6%, 22.8%]      [67.0%, 16.4%, 16.6%]  \n",
       "13          [13.6%, 19.9%, 43.5%, 22.9%]      [66.6%, 16.4%, 16.9%]  "
      ]
     },
     "metadata": {},
     "output_type": "display_data"
    }
   ],
   "source": [
    "Ev.print()\n"
   ]
  },
  {
   "cell_type": "markdown",
   "metadata": {
    "pycharm": {
     "metadata": false
    }
   },
   "source": [
    "**Parameters for plotting.**"
   ]
  },
  {
   "cell_type": "code",
   "execution_count": 15,
   "metadata": {
    "pycharm": {
     "metadata": false,
     "name": "#%%\n"
    }
   },
   "outputs": [],
   "source": [
    "# Plot training set size vs. Macro F1\n",
    "# x coordinate\n",
    "xValue  = \"x['Origin']+x['Noise']\"\n",
    "# also can try other numeric columns, like:\n",
    "# xValue  = \"x['Origin']\"\n",
    "\n",
    "# y coordinate\n",
    "yValue  = \"y['Macro F1']\"\n",
    "# also can try other numeric columns, like:\n",
    "# yValue  = \"y['Weighted F1']\"\n",
    "# yValue  = \"y['Macro Precision']\"\n",
    "\n",
    "# Divide experiments into several groups, each will be plotted as a line\n",
    "lines = { # each item: name, filter\n",
    "    'Original Data':    \"df['Denoised']=='-'\",\n",
    "    'Noisy Data':       \"df['Denoised']=='N'\",\n",
    "    'Denoised Data':    \"df['Denoised']=='Y'\",\n",
    "}\n"
   ]
  },
  {
   "cell_type": "markdown",
   "metadata": {
    "pycharm": {
     "metadata": false
    }
   },
   "source": [
    "**Plot the evaluations.**"
   ]
  },
  {
   "cell_type": "code",
   "execution_count": 16,
   "metadata": {
    "pycharm": {
     "metadata": false,
     "name": "#%%\n"
    }
   },
   "outputs": [
    {
     "data": {
      "image/png": "[encoded data removed]",
      "text/plain": [
       "<Figure size 432x288 with 1 Axes>"
      ]
     },
     "metadata": {
      "needs_background": "light"
     },
     "output_type": "display_data"
    }
   ],
   "source": [
    "Ev.plot(xValue = xValue, yValue = yValue, lines = lines,\n",
    "        title = 'SVM using %s for de-noising' % denoise_name,\n",
    "        subtitle = data_center.distribution2str(\n",
    "            \"noise sources: \", dc.get_noise_source_distribution(), 3))\n"
   ]
  }
 ],
 "metadata": {
  "kernelspec": {
   "display_name": "Python 3",
   "language": "python",
   "name": "python3"
  },
  "language_info": {
   "codemirror_mode": {
    "name": "ipython",
    "version": 3
   },
   "file_extension": ".py",
   "mimetype": "text/x-python",
   "name": "python",
   "nbconvert_exporter": "python",
   "pygments_lexer": "ipython3",
   "version": "3.7.1"
  },
  "stem_cell": {
   "cell_type": "raw",
   "metadata": {
    "pycharm": {
     "metadata": false
    }
   },
   "source": ""
  }
 },
 "nbformat": 4,
 "nbformat_minor": 5
}
