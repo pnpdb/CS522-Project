{
 "cells": [
  {
   "cell_type": "code",
   "execution_count": 1,
   "metadata": {},
   "outputs": [],
   "source": [
    "# coding: utf-8\n",
    "# Our base common modules\n",
    "from Common.UtilFuncs import Evaluator, Lab\n",
    "\n",
    "# Classifiers without denoising\n",
    "import Common.SvmMethod as SvmMethod\n",
    "\n",
    "# Denoising Methodes\n",
    "import Common.IsolationForestMethod as IsolationForestMethod\n",
    "import Common.ConfidentLearningMethod as ConfidentLearningMethod\n",
    "import Common.LocalOutlierFactorMethod as LocalOutlierFactorMethod\n",
    "from Common.BERTModel import do_experiment_BERT, BERTModel"
   ]
  },
  {
   "cell_type": "code",
   "execution_count": 2,
   "metadata": {},
   "outputs": [],
   "source": [
    "# The settings of the noise sources.\n",
    "# Each item: source -> (size, distribution)\n",
    "noisy_set_sizes0 = {\n",
    "    'mislabeled' : (7600, None),                   # max size: 15000\n",
    "    # 'irrelevant' : (8600, [0.25,0.25,0.25,0.25]),  # max size: 34259\n",
    "    # 'translated' : (8600, \"reserve_labels\"),       # max size: 5000\n",
    "}\n",
    "\n",
    "noisy_set_sizes1 = {\n",
    "    # 'mislabeled' : (8600, None),                   # max size: 15000\n",
    "    'irrelevant' : (8600, [0.25,0.25,0.25,0.25]),  # max size: 34259\n",
    "    # 'translated' : (8600, \"reserve_labels\"),       # max size: 5000\n",
    "}\n",
    "\n",
    "noisy_set_sizes2 = {\n",
    "    # 'mislabeled' : (8600, None),                   # max size: 15000\n",
    "    # 'irrelevant' : (8600, [0.25,0.25,0.25,0.25]),  # max size: 34259\n",
    "    'translated' : (8600, 0),       # max size: 5000\n",
    "}\n",
    "\n",
    "noisy_set_sizes3 = {\n",
    "    # 'mislabeled' : (8600, None),                   # max size: 15000\n",
    "    # 'irrelevant' : (8600, [0.25,0.25,0.25,0.25]),  # max size: 34259\n",
    "    'translated' : (8600, 0.50),                   # max size: 5000\n",
    "}\n",
    "\n",
    "noisy_set_sizes4 = {\n",
    "    # 'mislabeled' : (8600, None),                   # max size: 15000\n",
    "    # 'irrelevant' : (8600, [0.25,0.25,0.25,0.25]),  # max size: 34259\n",
    "    'translated' : (8600, 1),                   # max size: 5000\n",
    "}\n",
    "\n",
    "# Choose a experiment without denoising\n",
    "# Each item: name -> (funcion, whether choose) note:only the first active one will be used\n",
    "experiment_without_denoising = {\n",
    "    'SVM' : (SvmMethod.do_experiment, 0),\n",
    "    'BERT' : (do_experiment_BERT, 1),\n",
    "}\n",
    "\n",
    "# Choose a experiment with denoising\n",
    "# Each item: name -> (funcion, whether choose) note:only the first active one will be used\n",
    "# experiment_with_denoising = {\n",
    "#     'Confident Learning' : (do_experiment_denoised_by_ConfidentLearning, 1),\n",
    "#     'Isolation Forest'   : (do_experiment_denoised_by_IsolationForest,   0),\n",
    "# }\n",
    "\n",
    "# The training set of each experiment\n",
    "#origin_train_set_sizes = [2000, 4000, 5000, 8000, 10000, 15000, 20000]\n",
    "origin_train_set_sizes = [2000]\n",
    "# origin_train_set_sizes = [5000, 10000, 15000, 20000]\n",
    "noisy_train_set_sizes  = [ ]#(12000,3000)]\n",
    "# noisy_train_set_sizes  = [(1000, 2000)]"
   ]
  },
  {
   "cell_type": "code",
   "execution_count": 3,
   "metadata": {},
   "outputs": [
    {
     "name": "stdout",
     "output_type": "stream",
     "text": [
      "* 1> Training set size: 2000 samples\n",
      "  Sentiments ('Anti', 'Neutral', 'Pro', 'News'): 9.4%, 18.3%, 50.2%, 22.1%\n",
      "Metal device set to: Apple M1\n",
      "\n",
      "systemMemory: 16.00 GB\n",
      "maxCacheSize: 5.33 GB\n",
      "\n"
     ]
    },
    {
     "name": "stderr",
     "output_type": "stream",
     "text": [
      "2022-04-22 23:53:29.205320: I tensorflow/core/common_runtime/pluggable_device/pluggable_device_factory.cc:305] Could not identify NUMA node of platform GPU ID 0, defaulting to 0. Your kernel may not have been built with NUMA support.\n",
      "2022-04-22 23:53:29.205505: I tensorflow/core/common_runtime/pluggable_device/pluggable_device_factory.cc:271] Created TensorFlow device (/job:localhost/replica:0/task:0/device:GPU:0 with 0 MB memory) -> physical PluggableDevice (device: 0, name: METAL, pci bus id: <undefined>)\n",
      "2022-04-22 23:53:29.225887: W tensorflow/python/util/util.cc:368] Sets are not currently considered sequences, but this may change in the future, so consider avoiding using them.\n",
      "Some layers from the model checkpoint at distilbert-base-uncased were not used when initializing TFDistilBertModel: ['activation_13', 'vocab_transform', 'vocab_layer_norm', 'vocab_projector']\n",
      "- This IS expected if you are initializing TFDistilBertModel from the checkpoint of a model trained on another task or with another architecture (e.g. initializing a BertForSequenceClassification model from a BertForPreTraining model).\n",
      "- This IS NOT expected if you are initializing TFDistilBertModel from the checkpoint of a model that you expect to be exactly identical (initializing a BertForSequenceClassification model from a BertForSequenceClassification model).\n",
      "All the layers of TFDistilBertModel were initialized from the model checkpoint at distilbert-base-uncased.\n",
      "If your task is similar to the task the model of the checkpoint was trained on, you can already use TFDistilBertModel for predictions without further training.\n"
     ]
    },
    {
     "name": "stdout",
     "output_type": "stream",
     "text": [
      "WARNING:tensorflow:The parameters `output_attentions`, `output_hidden_states` and `use_cache` cannot be updated when calling a model.They have to be set to True/False in the config object (i.e.: `config=XConfig.from_pretrained('name', output_attentions=True)`).\n",
      "WARNING:tensorflow:AutoGraph could not transform <bound method Socket.send of <zmq.Socket(zmq.PUSH) at 0x110a36dc0>> and will run it as-is.\n",
      "Please report this to the TensorFlow team. When filing the bug, set the verbosity to 10 (on Linux, `export AUTOGRAPH_VERBOSITY=10`) and attach the full output.\n",
      "Cause: module, class, method, function, traceback, frame, or code object was expected, got cython_function_or_method\n",
      "To silence this warning, decorate the function with @tf.autograph.experimental.do_not_convert\n",
      "WARNING: AutoGraph could not transform <bound method Socket.send of <zmq.Socket(zmq.PUSH) at 0x110a36dc0>> and will run it as-is.\n",
      "Please report this to the TensorFlow team. When filing the bug, set the verbosity to 10 (on Linux, `export AUTOGRAPH_VERBOSITY=10`) and attach the full output.\n",
      "Cause: module, class, method, function, traceback, frame, or code object was expected, got cython_function_or_method\n",
      "To silence this warning, decorate the function with @tf.autograph.experimental.do_not_convert\n",
      "WARNING:tensorflow:The parameter `return_dict` cannot be set in graph mode and will always be set to `True`.\n"
     ]
    },
    {
     "name": "stderr",
     "output_type": "stream",
     "text": [
      "  0%|          | 0/2000 [00:00<?, ?it/s]/Users/guopei/miniforge3/envs/tfgpu/lib/python3.8/site-packages/transformers/tokenization_utils_base.py:2104: FutureWarning: The `pad_to_max_length` argument is deprecated and will be removed in a future version, use `padding=True` or `padding='longest'` to pad to the longest sequence in the batch, or use `padding='max_length'` to pad to a max length. In this case, you can give a specific length with `max_length` (e.g. `max_length=45`) or leave max_length to None to pad to the maximal input size of the model (e.g. 512 for Bert).\n",
      "  warnings.warn(\n",
      "100%|██████████| 2000/2000 [00:00<00:00, 3177.53it/s]\n",
      "100%|██████████| 4000/4000 [00:01<00:00, 3278.82it/s]\n",
      "100%|██████████| 1000/1000 [00:00<00:00, 3395.30it/s]\n"
     ]
    },
    {
     "name": "stdout",
     "output_type": "stream",
     "text": [
      "Epoch 1/50\n",
      "WARNING:tensorflow:The parameters `output_attentions`, `output_hidden_states` and `use_cache` cannot be updated when calling a model.They have to be set to True/False in the config object (i.e.: `config=XConfig.from_pretrained('name', output_attentions=True)`).\n",
      "WARNING:tensorflow:The parameter `return_dict` cannot be set in graph mode and will always be set to `True`.\n"
     ]
    },
    {
     "name": "stderr",
     "output_type": "stream",
     "text": [
      "2022-04-22 23:53:34.544861: W tensorflow/core/platform/profile_utils/cpu_utils.cc:128] Failed to get CPU frequency: 0 Hz\n"
     ]
    },
    {
     "name": "stdout",
     "output_type": "stream",
     "text": [
      "WARNING:tensorflow:The parameters `output_attentions`, `output_hidden_states` and `use_cache` cannot be updated when calling a model.They have to be set to True/False in the config object (i.e.: `config=XConfig.from_pretrained('name', output_attentions=True)`).\n",
      "WARNING:tensorflow:The parameter `return_dict` cannot be set in graph mode and will always be set to `True`.\n"
     ]
    },
    {
     "name": "stderr",
     "output_type": "stream",
     "text": [
      "2022-04-22 23:53:36.712378: I tensorflow/core/grappler/optimizers/custom_graph_optimizer_registry.cc:113] Plugin optimizer for device_type GPU is enabled.\n"
     ]
    },
    {
     "name": "stdout",
     "output_type": "stream",
     "text": [
      "125/125 [==============================] - ETA: 0s - loss: 1.1879 - accuracy: 0.5175WARNING:tensorflow:The parameters `output_attentions`, `output_hidden_states` and `use_cache` cannot be updated when calling a model.They have to be set to True/False in the config object (i.e.: `config=XConfig.from_pretrained('name', output_attentions=True)`).\n",
      "WARNING:tensorflow:The parameter `return_dict` cannot be set in graph mode and will always be set to `True`.\n"
     ]
    },
    {
     "name": "stderr",
     "output_type": "stream",
     "text": [
      "2022-04-22 23:59:19.142756: I tensorflow/core/grappler/optimizers/custom_graph_optimizer_registry.cc:113] Plugin optimizer for device_type GPU is enabled.\n"
     ]
    },
    {
     "name": "stdout",
     "output_type": "stream",
     "text": [
      "125/125 [==============================] - 395s 3s/step - loss: 1.1879 - accuracy: 0.5175 - val_loss: 0.9470 - val_accuracy: 0.6080 - lr: 1.0000e-04\n",
      "Epoch 2/50\n",
      "105/125 [========================>.....] - ETA: 1:01 - loss: 0.9611 - accuracy: 0.5952"
     ]
    },
    {
     "ename": "KeyboardInterrupt",
     "evalue": "",
     "output_type": "error",
     "traceback": [
      "\u001b[0;31m---------------------------------------------------------------------------\u001b[0m",
      "\u001b[0;31mKeyboardInterrupt\u001b[0m                         Traceback (most recent call last)",
      "\u001b[1;32m/Users/guopei/Documents/workspace/CS522-Project/NoiseEffcects.ipynb Cell 3'\u001b[0m in \u001b[0;36m<cell line: 4>\u001b[0;34m()\u001b[0m\n\u001b[1;32m     <a href='vscode-notebook-cell:/Users/guopei/Documents/workspace/CS522-Project/NoiseEffcects.ipynb#ch0000000?line=9'>10</a>\u001b[0m lab\u001b[39m.\u001b[39mset_experiment_no_denoising(experiment_without_denoising)\n\u001b[1;32m     <a href='vscode-notebook-cell:/Users/guopei/Documents/workspace/CS522-Project/NoiseEffcects.ipynb#ch0000000?line=11'>12</a>\u001b[0m \u001b[39m# Run experiment on original data\u001b[39;00m\n\u001b[0;32m---> <a href='vscode-notebook-cell:/Users/guopei/Documents/workspace/CS522-Project/NoiseEffcects.ipynb#ch0000000?line=12'>13</a>\u001b[0m lab\u001b[39m.\u001b[39;49mdo_batch_experiments(origin_train_set_sizes)\n\u001b[1;32m     <a href='vscode-notebook-cell:/Users/guopei/Documents/workspace/CS522-Project/NoiseEffcects.ipynb#ch0000000?line=14'>15</a>\u001b[0m \u001b[39m# Run experiment on noisy data -- mislabed noise\u001b[39;00m\n\u001b[1;32m     <a href='vscode-notebook-cell:/Users/guopei/Documents/workspace/CS522-Project/NoiseEffcects.ipynb#ch0000000?line=15'>16</a>\u001b[0m lab\u001b[39m.\u001b[39mset_noisy_sources(noisy_set_sizes0)\n",
      "File \u001b[0;32m~/Documents/workspace/CS522-Project/Common/UtilFuncs.py:234\u001b[0m, in \u001b[0;36mLab.do_batch_experiments\u001b[0;34m(self, train_set_sizes)\u001b[0m\n\u001b[1;32m    <a href='file:///Users/guopei/Documents/workspace/CS522-Project/Common/UtilFuncs.py?line=231'>232</a>\u001b[0m \u001b[39m# Do an experiment\u001b[39;00m\n\u001b[1;32m    <a href='file:///Users/guopei/Documents/workspace/CS522-Project/Common/UtilFuncs.py?line=232'>233</a>\u001b[0m \u001b[39mif\u001b[39;00m \u001b[39mself\u001b[39m\u001b[39m.\u001b[39mexperiment_params \u001b[39mis\u001b[39;00m \u001b[39mnot\u001b[39;00m \u001b[39mNone\u001b[39;00m:\n\u001b[0;32m--> <a href='file:///Users/guopei/Documents/workspace/CS522-Project/Common/UtilFuncs.py?line=233'>234</a>\u001b[0m     dfResult \u001b[39m=\u001b[39m \u001b[39mself\u001b[39;49m\u001b[39m.\u001b[39;49mexperiment(train_df, test_df, \u001b[39m*\u001b[39;49m\u001b[39mself\u001b[39;49m\u001b[39m.\u001b[39;49mexperiment_params)\n\u001b[1;32m    <a href='file:///Users/guopei/Documents/workspace/CS522-Project/Common/UtilFuncs.py?line=234'>235</a>\u001b[0m \u001b[39melse\u001b[39;00m:\n\u001b[1;32m    <a href='file:///Users/guopei/Documents/workspace/CS522-Project/Common/UtilFuncs.py?line=235'>236</a>\u001b[0m     dfResult \u001b[39m=\u001b[39m \u001b[39mself\u001b[39m\u001b[39m.\u001b[39mexperiment(train_df, test_df)\n",
      "File \u001b[0;32m~/Documents/workspace/CS522-Project/Common/BERTModel.py:164\u001b[0m, in \u001b[0;36mdo_experiment_BERT\u001b[0;34m(train_df, test_df, *args)\u001b[0m\n\u001b[1;32m    <a href='file:///Users/guopei/Documents/workspace/CS522-Project/Common/BERTModel.py?line=158'>159</a>\u001b[0m y_val \u001b[39m=\u001b[39m np\u001b[39m.\u001b[39marray(y_val)\n\u001b[1;32m    <a href='file:///Users/guopei/Documents/workspace/CS522-Project/Common/BERTModel.py?line=159'>160</a>\u001b[0m y_test \u001b[39m=\u001b[39m np\u001b[39m.\u001b[39marray(y_test)\n\u001b[0;32m--> <a href='file:///Users/guopei/Documents/workspace/CS522-Project/Common/BERTModel.py?line=163'>164</a>\u001b[0m bert\u001b[39m.\u001b[39;49mTrain(X_train_token, y_train, X_val_token, y_val)\n\u001b[1;32m    <a href='file:///Users/guopei/Documents/workspace/CS522-Project/Common/BERTModel.py?line=164'>165</a>\u001b[0m y_pred \u001b[39m=\u001b[39m bert\u001b[39m.\u001b[39mPredict(X_test_token)\n\u001b[1;32m    <a href='file:///Users/guopei/Documents/workspace/CS522-Project/Common/BERTModel.py?line=167'>168</a>\u001b[0m \u001b[39m# Print the evaluation\u001b[39;00m\n",
      "File \u001b[0;32m~/Documents/workspace/CS522-Project/Common/BERTModel.py:90\u001b[0m, in \u001b[0;36mBERTModel.Train\u001b[0;34m(self, X_train, y_train, X_val, y_val)\u001b[0m\n\u001b[1;32m     <a href='file:///Users/guopei/Documents/workspace/CS522-Project/Common/BERTModel.py?line=88'>89</a>\u001b[0m \u001b[39mdef\u001b[39;00m \u001b[39mTrain\u001b[39m(\u001b[39mself\u001b[39m, X_train, y_train, X_val, y_val):\n\u001b[0;32m---> <a href='file:///Users/guopei/Documents/workspace/CS522-Project/Common/BERTModel.py?line=89'>90</a>\u001b[0m     history \u001b[39m=\u001b[39m \u001b[39mself\u001b[39;49m\u001b[39m.\u001b[39;49mModel\u001b[39m.\u001b[39;49mfit(X_train,\n\u001b[1;32m     <a href='file:///Users/guopei/Documents/workspace/CS522-Project/Common/BERTModel.py?line=90'>91</a>\u001b[0m                 y_train,\n\u001b[1;32m     <a href='file:///Users/guopei/Documents/workspace/CS522-Project/Common/BERTModel.py?line=91'>92</a>\u001b[0m                 epochs\u001b[39m=\u001b[39;49m\u001b[39m50\u001b[39;49m,\n\u001b[1;32m     <a href='file:///Users/guopei/Documents/workspace/CS522-Project/Common/BERTModel.py?line=92'>93</a>\u001b[0m                 batch_size\u001b[39m=\u001b[39;49m\u001b[39m16\u001b[39;49m,\n\u001b[1;32m     <a href='file:///Users/guopei/Documents/workspace/CS522-Project/Common/BERTModel.py?line=93'>94</a>\u001b[0m                 validation_data\u001b[39m=\u001b[39;49m(X_val, y_val),\n\u001b[1;32m     <a href='file:///Users/guopei/Documents/workspace/CS522-Project/Common/BERTModel.py?line=94'>95</a>\u001b[0m                 callbacks\u001b[39m=\u001b[39;49m[\u001b[39mself\u001b[39;49m\u001b[39m.\u001b[39;49mmodel_checkpoint, \u001b[39mself\u001b[39;49m\u001b[39m.\u001b[39;49mearly_stopping, \u001b[39mself\u001b[39;49m\u001b[39m.\u001b[39;49mreduce_lr])\n\u001b[1;32m     <a href='file:///Users/guopei/Documents/workspace/CS522-Project/Common/BERTModel.py?line=95'>96</a>\u001b[0m     \u001b[39mself\u001b[39m\u001b[39m.\u001b[39mHistory \u001b[39m=\u001b[39m history\n\u001b[1;32m     <a href='file:///Users/guopei/Documents/workspace/CS522-Project/Common/BERTModel.py?line=96'>97</a>\u001b[0m     \u001b[39m# load the best model\u001b[39;00m\n",
      "File \u001b[0;32m~/miniforge3/envs/tfgpu/lib/python3.8/site-packages/keras/utils/traceback_utils.py:64\u001b[0m, in \u001b[0;36mfilter_traceback.<locals>.error_handler\u001b[0;34m(*args, **kwargs)\u001b[0m\n\u001b[1;32m     <a href='file:///Users/guopei/miniforge3/envs/tfgpu/lib/python3.8/site-packages/keras/utils/traceback_utils.py?line=61'>62</a>\u001b[0m filtered_tb \u001b[39m=\u001b[39m \u001b[39mNone\u001b[39;00m\n\u001b[1;32m     <a href='file:///Users/guopei/miniforge3/envs/tfgpu/lib/python3.8/site-packages/keras/utils/traceback_utils.py?line=62'>63</a>\u001b[0m \u001b[39mtry\u001b[39;00m:\n\u001b[0;32m---> <a href='file:///Users/guopei/miniforge3/envs/tfgpu/lib/python3.8/site-packages/keras/utils/traceback_utils.py?line=63'>64</a>\u001b[0m   \u001b[39mreturn\u001b[39;00m fn(\u001b[39m*\u001b[39;49margs, \u001b[39m*\u001b[39;49m\u001b[39m*\u001b[39;49mkwargs)\n\u001b[1;32m     <a href='file:///Users/guopei/miniforge3/envs/tfgpu/lib/python3.8/site-packages/keras/utils/traceback_utils.py?line=64'>65</a>\u001b[0m \u001b[39mexcept\u001b[39;00m \u001b[39mException\u001b[39;00m \u001b[39mas\u001b[39;00m e:  \u001b[39m# pylint: disable=broad-except\u001b[39;00m\n\u001b[1;32m     <a href='file:///Users/guopei/miniforge3/envs/tfgpu/lib/python3.8/site-packages/keras/utils/traceback_utils.py?line=65'>66</a>\u001b[0m   filtered_tb \u001b[39m=\u001b[39m _process_traceback_frames(e\u001b[39m.\u001b[39m__traceback__)\n",
      "File \u001b[0;32m~/miniforge3/envs/tfgpu/lib/python3.8/site-packages/keras/engine/training.py:1384\u001b[0m, in \u001b[0;36mModel.fit\u001b[0;34m(self, x, y, batch_size, epochs, verbose, callbacks, validation_split, validation_data, shuffle, class_weight, sample_weight, initial_epoch, steps_per_epoch, validation_steps, validation_batch_size, validation_freq, max_queue_size, workers, use_multiprocessing)\u001b[0m\n\u001b[1;32m   <a href='file:///Users/guopei/miniforge3/envs/tfgpu/lib/python3.8/site-packages/keras/engine/training.py?line=1376'>1377</a>\u001b[0m \u001b[39mwith\u001b[39;00m tf\u001b[39m.\u001b[39mprofiler\u001b[39m.\u001b[39mexperimental\u001b[39m.\u001b[39mTrace(\n\u001b[1;32m   <a href='file:///Users/guopei/miniforge3/envs/tfgpu/lib/python3.8/site-packages/keras/engine/training.py?line=1377'>1378</a>\u001b[0m     \u001b[39m'\u001b[39m\u001b[39mtrain\u001b[39m\u001b[39m'\u001b[39m,\n\u001b[1;32m   <a href='file:///Users/guopei/miniforge3/envs/tfgpu/lib/python3.8/site-packages/keras/engine/training.py?line=1378'>1379</a>\u001b[0m     epoch_num\u001b[39m=\u001b[39mepoch,\n\u001b[1;32m   <a href='file:///Users/guopei/miniforge3/envs/tfgpu/lib/python3.8/site-packages/keras/engine/training.py?line=1379'>1380</a>\u001b[0m     step_num\u001b[39m=\u001b[39mstep,\n\u001b[1;32m   <a href='file:///Users/guopei/miniforge3/envs/tfgpu/lib/python3.8/site-packages/keras/engine/training.py?line=1380'>1381</a>\u001b[0m     batch_size\u001b[39m=\u001b[39mbatch_size,\n\u001b[1;32m   <a href='file:///Users/guopei/miniforge3/envs/tfgpu/lib/python3.8/site-packages/keras/engine/training.py?line=1381'>1382</a>\u001b[0m     _r\u001b[39m=\u001b[39m\u001b[39m1\u001b[39m):\n\u001b[1;32m   <a href='file:///Users/guopei/miniforge3/envs/tfgpu/lib/python3.8/site-packages/keras/engine/training.py?line=1382'>1383</a>\u001b[0m   callbacks\u001b[39m.\u001b[39mon_train_batch_begin(step)\n\u001b[0;32m-> <a href='file:///Users/guopei/miniforge3/envs/tfgpu/lib/python3.8/site-packages/keras/engine/training.py?line=1383'>1384</a>\u001b[0m   tmp_logs \u001b[39m=\u001b[39m \u001b[39mself\u001b[39;49m\u001b[39m.\u001b[39;49mtrain_function(iterator)\n\u001b[1;32m   <a href='file:///Users/guopei/miniforge3/envs/tfgpu/lib/python3.8/site-packages/keras/engine/training.py?line=1384'>1385</a>\u001b[0m   \u001b[39mif\u001b[39;00m data_handler\u001b[39m.\u001b[39mshould_sync:\n\u001b[1;32m   <a href='file:///Users/guopei/miniforge3/envs/tfgpu/lib/python3.8/site-packages/keras/engine/training.py?line=1385'>1386</a>\u001b[0m     context\u001b[39m.\u001b[39masync_wait()\n",
      "File \u001b[0;32m~/miniforge3/envs/tfgpu/lib/python3.8/site-packages/tensorflow/python/util/traceback_utils.py:150\u001b[0m, in \u001b[0;36mfilter_traceback.<locals>.error_handler\u001b[0;34m(*args, **kwargs)\u001b[0m\n\u001b[1;32m    <a href='file:///Users/guopei/miniforge3/envs/tfgpu/lib/python3.8/site-packages/tensorflow/python/util/traceback_utils.py?line=147'>148</a>\u001b[0m filtered_tb \u001b[39m=\u001b[39m \u001b[39mNone\u001b[39;00m\n\u001b[1;32m    <a href='file:///Users/guopei/miniforge3/envs/tfgpu/lib/python3.8/site-packages/tensorflow/python/util/traceback_utils.py?line=148'>149</a>\u001b[0m \u001b[39mtry\u001b[39;00m:\n\u001b[0;32m--> <a href='file:///Users/guopei/miniforge3/envs/tfgpu/lib/python3.8/site-packages/tensorflow/python/util/traceback_utils.py?line=149'>150</a>\u001b[0m   \u001b[39mreturn\u001b[39;00m fn(\u001b[39m*\u001b[39;49margs, \u001b[39m*\u001b[39;49m\u001b[39m*\u001b[39;49mkwargs)\n\u001b[1;32m    <a href='file:///Users/guopei/miniforge3/envs/tfgpu/lib/python3.8/site-packages/tensorflow/python/util/traceback_utils.py?line=150'>151</a>\u001b[0m \u001b[39mexcept\u001b[39;00m \u001b[39mException\u001b[39;00m \u001b[39mas\u001b[39;00m e:\n\u001b[1;32m    <a href='file:///Users/guopei/miniforge3/envs/tfgpu/lib/python3.8/site-packages/tensorflow/python/util/traceback_utils.py?line=151'>152</a>\u001b[0m   filtered_tb \u001b[39m=\u001b[39m _process_traceback_frames(e\u001b[39m.\u001b[39m__traceback__)\n",
      "File \u001b[0;32m~/miniforge3/envs/tfgpu/lib/python3.8/site-packages/tensorflow/python/eager/def_function.py:915\u001b[0m, in \u001b[0;36mFunction.__call__\u001b[0;34m(self, *args, **kwds)\u001b[0m\n\u001b[1;32m    <a href='file:///Users/guopei/miniforge3/envs/tfgpu/lib/python3.8/site-packages/tensorflow/python/eager/def_function.py?line=911'>912</a>\u001b[0m compiler \u001b[39m=\u001b[39m \u001b[39m\"\u001b[39m\u001b[39mxla\u001b[39m\u001b[39m\"\u001b[39m \u001b[39mif\u001b[39;00m \u001b[39mself\u001b[39m\u001b[39m.\u001b[39m_jit_compile \u001b[39melse\u001b[39;00m \u001b[39m\"\u001b[39m\u001b[39mnonXla\u001b[39m\u001b[39m\"\u001b[39m\n\u001b[1;32m    <a href='file:///Users/guopei/miniforge3/envs/tfgpu/lib/python3.8/site-packages/tensorflow/python/eager/def_function.py?line=913'>914</a>\u001b[0m \u001b[39mwith\u001b[39;00m OptionalXlaContext(\u001b[39mself\u001b[39m\u001b[39m.\u001b[39m_jit_compile):\n\u001b[0;32m--> <a href='file:///Users/guopei/miniforge3/envs/tfgpu/lib/python3.8/site-packages/tensorflow/python/eager/def_function.py?line=914'>915</a>\u001b[0m   result \u001b[39m=\u001b[39m \u001b[39mself\u001b[39;49m\u001b[39m.\u001b[39;49m_call(\u001b[39m*\u001b[39;49margs, \u001b[39m*\u001b[39;49m\u001b[39m*\u001b[39;49mkwds)\n\u001b[1;32m    <a href='file:///Users/guopei/miniforge3/envs/tfgpu/lib/python3.8/site-packages/tensorflow/python/eager/def_function.py?line=916'>917</a>\u001b[0m new_tracing_count \u001b[39m=\u001b[39m \u001b[39mself\u001b[39m\u001b[39m.\u001b[39mexperimental_get_tracing_count()\n\u001b[1;32m    <a href='file:///Users/guopei/miniforge3/envs/tfgpu/lib/python3.8/site-packages/tensorflow/python/eager/def_function.py?line=917'>918</a>\u001b[0m without_tracing \u001b[39m=\u001b[39m (tracing_count \u001b[39m==\u001b[39m new_tracing_count)\n",
      "File \u001b[0;32m~/miniforge3/envs/tfgpu/lib/python3.8/site-packages/tensorflow/python/eager/def_function.py:947\u001b[0m, in \u001b[0;36mFunction._call\u001b[0;34m(self, *args, **kwds)\u001b[0m\n\u001b[1;32m    <a href='file:///Users/guopei/miniforge3/envs/tfgpu/lib/python3.8/site-packages/tensorflow/python/eager/def_function.py?line=943'>944</a>\u001b[0m   \u001b[39mself\u001b[39m\u001b[39m.\u001b[39m_lock\u001b[39m.\u001b[39mrelease()\n\u001b[1;32m    <a href='file:///Users/guopei/miniforge3/envs/tfgpu/lib/python3.8/site-packages/tensorflow/python/eager/def_function.py?line=944'>945</a>\u001b[0m   \u001b[39m# In this case we have created variables on the first call, so we run the\u001b[39;00m\n\u001b[1;32m    <a href='file:///Users/guopei/miniforge3/envs/tfgpu/lib/python3.8/site-packages/tensorflow/python/eager/def_function.py?line=945'>946</a>\u001b[0m   \u001b[39m# defunned version which is guaranteed to never create variables.\u001b[39;00m\n\u001b[0;32m--> <a href='file:///Users/guopei/miniforge3/envs/tfgpu/lib/python3.8/site-packages/tensorflow/python/eager/def_function.py?line=946'>947</a>\u001b[0m   \u001b[39mreturn\u001b[39;00m \u001b[39mself\u001b[39;49m\u001b[39m.\u001b[39;49m_stateless_fn(\u001b[39m*\u001b[39;49margs, \u001b[39m*\u001b[39;49m\u001b[39m*\u001b[39;49mkwds)  \u001b[39m# pylint: disable=not-callable\u001b[39;00m\n\u001b[1;32m    <a href='file:///Users/guopei/miniforge3/envs/tfgpu/lib/python3.8/site-packages/tensorflow/python/eager/def_function.py?line=947'>948</a>\u001b[0m \u001b[39melif\u001b[39;00m \u001b[39mself\u001b[39m\u001b[39m.\u001b[39m_stateful_fn \u001b[39mis\u001b[39;00m \u001b[39mnot\u001b[39;00m \u001b[39mNone\u001b[39;00m:\n\u001b[1;32m    <a href='file:///Users/guopei/miniforge3/envs/tfgpu/lib/python3.8/site-packages/tensorflow/python/eager/def_function.py?line=948'>949</a>\u001b[0m   \u001b[39m# Release the lock early so that multiple threads can perform the call\u001b[39;00m\n\u001b[1;32m    <a href='file:///Users/guopei/miniforge3/envs/tfgpu/lib/python3.8/site-packages/tensorflow/python/eager/def_function.py?line=949'>950</a>\u001b[0m   \u001b[39m# in parallel.\u001b[39;00m\n\u001b[1;32m    <a href='file:///Users/guopei/miniforge3/envs/tfgpu/lib/python3.8/site-packages/tensorflow/python/eager/def_function.py?line=950'>951</a>\u001b[0m   \u001b[39mself\u001b[39m\u001b[39m.\u001b[39m_lock\u001b[39m.\u001b[39mrelease()\n",
      "File \u001b[0;32m~/miniforge3/envs/tfgpu/lib/python3.8/site-packages/tensorflow/python/eager/function.py:2956\u001b[0m, in \u001b[0;36mFunction.__call__\u001b[0;34m(self, *args, **kwargs)\u001b[0m\n\u001b[1;32m   <a href='file:///Users/guopei/miniforge3/envs/tfgpu/lib/python3.8/site-packages/tensorflow/python/eager/function.py?line=2952'>2953</a>\u001b[0m \u001b[39mwith\u001b[39;00m \u001b[39mself\u001b[39m\u001b[39m.\u001b[39m_lock:\n\u001b[1;32m   <a href='file:///Users/guopei/miniforge3/envs/tfgpu/lib/python3.8/site-packages/tensorflow/python/eager/function.py?line=2953'>2954</a>\u001b[0m   (graph_function,\n\u001b[1;32m   <a href='file:///Users/guopei/miniforge3/envs/tfgpu/lib/python3.8/site-packages/tensorflow/python/eager/function.py?line=2954'>2955</a>\u001b[0m    filtered_flat_args) \u001b[39m=\u001b[39m \u001b[39mself\u001b[39m\u001b[39m.\u001b[39m_maybe_define_function(args, kwargs)\n\u001b[0;32m-> <a href='file:///Users/guopei/miniforge3/envs/tfgpu/lib/python3.8/site-packages/tensorflow/python/eager/function.py?line=2955'>2956</a>\u001b[0m \u001b[39mreturn\u001b[39;00m graph_function\u001b[39m.\u001b[39;49m_call_flat(\n\u001b[1;32m   <a href='file:///Users/guopei/miniforge3/envs/tfgpu/lib/python3.8/site-packages/tensorflow/python/eager/function.py?line=2956'>2957</a>\u001b[0m     filtered_flat_args, captured_inputs\u001b[39m=\u001b[39;49mgraph_function\u001b[39m.\u001b[39;49mcaptured_inputs)\n",
      "File \u001b[0;32m~/miniforge3/envs/tfgpu/lib/python3.8/site-packages/tensorflow/python/eager/function.py:1853\u001b[0m, in \u001b[0;36mConcreteFunction._call_flat\u001b[0;34m(self, args, captured_inputs, cancellation_manager)\u001b[0m\n\u001b[1;32m   <a href='file:///Users/guopei/miniforge3/envs/tfgpu/lib/python3.8/site-packages/tensorflow/python/eager/function.py?line=1848'>1849</a>\u001b[0m possible_gradient_type \u001b[39m=\u001b[39m gradients_util\u001b[39m.\u001b[39mPossibleTapeGradientTypes(args)\n\u001b[1;32m   <a href='file:///Users/guopei/miniforge3/envs/tfgpu/lib/python3.8/site-packages/tensorflow/python/eager/function.py?line=1849'>1850</a>\u001b[0m \u001b[39mif\u001b[39;00m (possible_gradient_type \u001b[39m==\u001b[39m gradients_util\u001b[39m.\u001b[39mPOSSIBLE_GRADIENT_TYPES_NONE\n\u001b[1;32m   <a href='file:///Users/guopei/miniforge3/envs/tfgpu/lib/python3.8/site-packages/tensorflow/python/eager/function.py?line=1850'>1851</a>\u001b[0m     \u001b[39mand\u001b[39;00m executing_eagerly):\n\u001b[1;32m   <a href='file:///Users/guopei/miniforge3/envs/tfgpu/lib/python3.8/site-packages/tensorflow/python/eager/function.py?line=1851'>1852</a>\u001b[0m   \u001b[39m# No tape is watching; skip to running the function.\u001b[39;00m\n\u001b[0;32m-> <a href='file:///Users/guopei/miniforge3/envs/tfgpu/lib/python3.8/site-packages/tensorflow/python/eager/function.py?line=1852'>1853</a>\u001b[0m   \u001b[39mreturn\u001b[39;00m \u001b[39mself\u001b[39m\u001b[39m.\u001b[39m_build_call_outputs(\u001b[39mself\u001b[39;49m\u001b[39m.\u001b[39;49m_inference_function\u001b[39m.\u001b[39;49mcall(\n\u001b[1;32m   <a href='file:///Users/guopei/miniforge3/envs/tfgpu/lib/python3.8/site-packages/tensorflow/python/eager/function.py?line=1853'>1854</a>\u001b[0m       ctx, args, cancellation_manager\u001b[39m=\u001b[39;49mcancellation_manager))\n\u001b[1;32m   <a href='file:///Users/guopei/miniforge3/envs/tfgpu/lib/python3.8/site-packages/tensorflow/python/eager/function.py?line=1854'>1855</a>\u001b[0m forward_backward \u001b[39m=\u001b[39m \u001b[39mself\u001b[39m\u001b[39m.\u001b[39m_select_forward_and_backward_functions(\n\u001b[1;32m   <a href='file:///Users/guopei/miniforge3/envs/tfgpu/lib/python3.8/site-packages/tensorflow/python/eager/function.py?line=1855'>1856</a>\u001b[0m     args,\n\u001b[1;32m   <a href='file:///Users/guopei/miniforge3/envs/tfgpu/lib/python3.8/site-packages/tensorflow/python/eager/function.py?line=1856'>1857</a>\u001b[0m     possible_gradient_type,\n\u001b[1;32m   <a href='file:///Users/guopei/miniforge3/envs/tfgpu/lib/python3.8/site-packages/tensorflow/python/eager/function.py?line=1857'>1858</a>\u001b[0m     executing_eagerly)\n\u001b[1;32m   <a href='file:///Users/guopei/miniforge3/envs/tfgpu/lib/python3.8/site-packages/tensorflow/python/eager/function.py?line=1858'>1859</a>\u001b[0m forward_function, args_with_tangents \u001b[39m=\u001b[39m forward_backward\u001b[39m.\u001b[39mforward()\n",
      "File \u001b[0;32m~/miniforge3/envs/tfgpu/lib/python3.8/site-packages/tensorflow/python/eager/function.py:499\u001b[0m, in \u001b[0;36m_EagerDefinedFunction.call\u001b[0;34m(self, ctx, args, cancellation_manager)\u001b[0m\n\u001b[1;32m    <a href='file:///Users/guopei/miniforge3/envs/tfgpu/lib/python3.8/site-packages/tensorflow/python/eager/function.py?line=496'>497</a>\u001b[0m \u001b[39mwith\u001b[39;00m _InterpolateFunctionError(\u001b[39mself\u001b[39m):\n\u001b[1;32m    <a href='file:///Users/guopei/miniforge3/envs/tfgpu/lib/python3.8/site-packages/tensorflow/python/eager/function.py?line=497'>498</a>\u001b[0m   \u001b[39mif\u001b[39;00m cancellation_manager \u001b[39mis\u001b[39;00m \u001b[39mNone\u001b[39;00m:\n\u001b[0;32m--> <a href='file:///Users/guopei/miniforge3/envs/tfgpu/lib/python3.8/site-packages/tensorflow/python/eager/function.py?line=498'>499</a>\u001b[0m     outputs \u001b[39m=\u001b[39m execute\u001b[39m.\u001b[39;49mexecute(\n\u001b[1;32m    <a href='file:///Users/guopei/miniforge3/envs/tfgpu/lib/python3.8/site-packages/tensorflow/python/eager/function.py?line=499'>500</a>\u001b[0m         \u001b[39mstr\u001b[39;49m(\u001b[39mself\u001b[39;49m\u001b[39m.\u001b[39;49msignature\u001b[39m.\u001b[39;49mname),\n\u001b[1;32m    <a href='file:///Users/guopei/miniforge3/envs/tfgpu/lib/python3.8/site-packages/tensorflow/python/eager/function.py?line=500'>501</a>\u001b[0m         num_outputs\u001b[39m=\u001b[39;49m\u001b[39mself\u001b[39;49m\u001b[39m.\u001b[39;49m_num_outputs,\n\u001b[1;32m    <a href='file:///Users/guopei/miniforge3/envs/tfgpu/lib/python3.8/site-packages/tensorflow/python/eager/function.py?line=501'>502</a>\u001b[0m         inputs\u001b[39m=\u001b[39;49margs,\n\u001b[1;32m    <a href='file:///Users/guopei/miniforge3/envs/tfgpu/lib/python3.8/site-packages/tensorflow/python/eager/function.py?line=502'>503</a>\u001b[0m         attrs\u001b[39m=\u001b[39;49mattrs,\n\u001b[1;32m    <a href='file:///Users/guopei/miniforge3/envs/tfgpu/lib/python3.8/site-packages/tensorflow/python/eager/function.py?line=503'>504</a>\u001b[0m         ctx\u001b[39m=\u001b[39;49mctx)\n\u001b[1;32m    <a href='file:///Users/guopei/miniforge3/envs/tfgpu/lib/python3.8/site-packages/tensorflow/python/eager/function.py?line=504'>505</a>\u001b[0m   \u001b[39melse\u001b[39;00m:\n\u001b[1;32m    <a href='file:///Users/guopei/miniforge3/envs/tfgpu/lib/python3.8/site-packages/tensorflow/python/eager/function.py?line=505'>506</a>\u001b[0m     outputs \u001b[39m=\u001b[39m execute\u001b[39m.\u001b[39mexecute_with_cancellation(\n\u001b[1;32m    <a href='file:///Users/guopei/miniforge3/envs/tfgpu/lib/python3.8/site-packages/tensorflow/python/eager/function.py?line=506'>507</a>\u001b[0m         \u001b[39mstr\u001b[39m(\u001b[39mself\u001b[39m\u001b[39m.\u001b[39msignature\u001b[39m.\u001b[39mname),\n\u001b[1;32m    <a href='file:///Users/guopei/miniforge3/envs/tfgpu/lib/python3.8/site-packages/tensorflow/python/eager/function.py?line=507'>508</a>\u001b[0m         num_outputs\u001b[39m=\u001b[39m\u001b[39mself\u001b[39m\u001b[39m.\u001b[39m_num_outputs,\n\u001b[0;32m   (...)\u001b[0m\n\u001b[1;32m    <a href='file:///Users/guopei/miniforge3/envs/tfgpu/lib/python3.8/site-packages/tensorflow/python/eager/function.py?line=510'>511</a>\u001b[0m         ctx\u001b[39m=\u001b[39mctx,\n\u001b[1;32m    <a href='file:///Users/guopei/miniforge3/envs/tfgpu/lib/python3.8/site-packages/tensorflow/python/eager/function.py?line=511'>512</a>\u001b[0m         cancellation_manager\u001b[39m=\u001b[39mcancellation_manager)\n",
      "File \u001b[0;32m~/miniforge3/envs/tfgpu/lib/python3.8/site-packages/tensorflow/python/eager/execute.py:54\u001b[0m, in \u001b[0;36mquick_execute\u001b[0;34m(op_name, num_outputs, inputs, attrs, ctx, name)\u001b[0m\n\u001b[1;32m     <a href='file:///Users/guopei/miniforge3/envs/tfgpu/lib/python3.8/site-packages/tensorflow/python/eager/execute.py?line=51'>52</a>\u001b[0m \u001b[39mtry\u001b[39;00m:\n\u001b[1;32m     <a href='file:///Users/guopei/miniforge3/envs/tfgpu/lib/python3.8/site-packages/tensorflow/python/eager/execute.py?line=52'>53</a>\u001b[0m   ctx\u001b[39m.\u001b[39mensure_initialized()\n\u001b[0;32m---> <a href='file:///Users/guopei/miniforge3/envs/tfgpu/lib/python3.8/site-packages/tensorflow/python/eager/execute.py?line=53'>54</a>\u001b[0m   tensors \u001b[39m=\u001b[39m pywrap_tfe\u001b[39m.\u001b[39;49mTFE_Py_Execute(ctx\u001b[39m.\u001b[39;49m_handle, device_name, op_name,\n\u001b[1;32m     <a href='file:///Users/guopei/miniforge3/envs/tfgpu/lib/python3.8/site-packages/tensorflow/python/eager/execute.py?line=54'>55</a>\u001b[0m                                       inputs, attrs, num_outputs)\n\u001b[1;32m     <a href='file:///Users/guopei/miniforge3/envs/tfgpu/lib/python3.8/site-packages/tensorflow/python/eager/execute.py?line=55'>56</a>\u001b[0m \u001b[39mexcept\u001b[39;00m core\u001b[39m.\u001b[39m_NotOkStatusException \u001b[39mas\u001b[39;00m e:\n\u001b[1;32m     <a href='file:///Users/guopei/miniforge3/envs/tfgpu/lib/python3.8/site-packages/tensorflow/python/eager/execute.py?line=56'>57</a>\u001b[0m   \u001b[39mif\u001b[39;00m name \u001b[39mis\u001b[39;00m \u001b[39mnot\u001b[39;00m \u001b[39mNone\u001b[39;00m:\n",
      "\u001b[0;31mKeyboardInterrupt\u001b[0m: "
     ]
    }
   ],
   "source": [
    "\n",
    "\n",
    "\n",
    "RUN = 1      #1/0:  Run new experiments / Read results made by previous experiments\n",
    "\n",
    "\n",
    "if RUN:\n",
    "    # Run new experiments\n",
    "    # Initialize the lab, which will run a serial of experiments\n",
    "\n",
    "    lab = Lab(\"twitter_sentiment_data_clean.csv\", noisy_sources = noisy_set_sizes0, total_train_size = 20000, total_test_size = 4000, validation_size=2000)\n",
    "    experiment_without_denoising['BERT'] = (do_experiment_BERT, (lab,), 1)\n",
    "    lab.set_experiment_no_denoising(experiment_without_denoising)\n",
    "\n",
    "    # Run experiment on original data\n",
    "    lab.do_batch_experiments(origin_train_set_sizes)\n",
    "\n",
    "    # Run experiment on noisy data -- mislabed noise\n",
    "    lab.set_noisy_sources(noisy_set_sizes0)\n",
    "    lab.do_batch_experiments(noisy_train_set_sizes)\n",
    "\n",
    "    # Run experiment on noisy data -- irrelevant noise\n",
    "    lab.set_noisy_sources(noisy_set_sizes1)\n",
    "    lab.do_batch_experiments(noisy_train_set_sizes)\n",
    "\n",
    "    # Run experiment on noisy data -- translated noise\n",
    "    lab.set_noisy_sources(noisy_set_sizes2)\n",
    "    lab.do_batch_experiments(noisy_train_set_sizes)\n",
    "\n",
    "    # Run experiment on noisy data -- mislabeled translated noise\n",
    "    lab.set_noisy_sources(noisy_set_sizes3)\n",
    "    lab.do_batch_experiments(noisy_train_set_sizes)\n",
    "\n",
    "    # Run experiment on noisy data -- part-mislabeled translated noise\n",
    "    lab.set_noisy_sources(noisy_set_sizes4)\n",
    "    lab.do_batch_experiments(noisy_train_set_sizes)\n",
    "\n",
    "    # Save the results\n",
    "    lab.save(\"saving/noise_effect.pk\")\n",
    "else:\n",
    "    # Read evaluations saved by previous experiments\n",
    "    lab = Lab.load(\"saving/noise_effect.pk\")\n",
    "\n",
    "# Show evaluations in a form\n",
    "lab.print()\n",
    "\n",
    "# Plot the evaluations\n",
    "# lab.plot()\n",
    "\n",
    "for i in range(2):\n",
    "    # Plot training set size vs. Macro F1\n",
    "\n",
    "    # x coordinate\n",
    "    if i == 0:\n",
    "        xValue  = \"x['Origin']+x['Noise']\"\n",
    "        xLabel  = \"Training set total size\\nnoisy sets: %s\" % \\\n",
    "                    str([str(x[0])+'+'+str(x[1]) for x in noisy_train_set_sizes]).replace(\"\\'\",\"\")\n",
    "    else:\n",
    "        xValue  = \"x['Origin']\"\n",
    "        xLabel  = \"Training set origin part size\\nnoisy sets: %s\" % \\\n",
    "                    str([str(x[0])+'+'+str(x[1]) for x in noisy_train_set_sizes]).replace(\"\\'\",\"\")\n",
    "\n",
    "    # y coordinate\n",
    "    yValue  = \"y['Macro F1']\"\n",
    "\n",
    "    # Divide experiments into several groups, each will be plotted as a line\n",
    "    len1 = len(origin_train_set_sizes)\n",
    "    len2 = len(noisy_train_set_sizes)\n",
    "    lines = { # each item: name, filter\n",
    "        'Original Data':       \"int((df['Experiment']-1)/%d)==0\"%len1,\n",
    "        'Mislabeled Noise':    \"int((df['Experiment']-1-%d)/%d)==0 and df['Experiment']-1-%d>=0\"%(len1,len2,len1),\n",
    "        'Irrelevant Noise':    \"int((df['Experiment']-1-%d)/%d)==1\"%(len1,len2),\n",
    "        'Translated Noise(0% mislabeled)':    \"int((df['Experiment']-1-%d)/%d)==2\"%(len1,len2),\n",
    "        'Translated Noise(50% mislabeled)':   \"int((df['Experiment']-1-%d)/%d)==3\"%(len1,len2),\n",
    "        'Translated Noise(100% mislabeled)':  \"int((df['Experiment']-1-%d)/%d)==4\"%(len1,len2),\n",
    "    }\n",
    "\n",
    "    # Do plot\n",
    "    lab.Ev.plot(xValue = xValue, yValue = yValue, lines = lines,\n",
    "                xLabel = xLabel, title = \"SVM effected by various noises\")\n",
    "\n"
   ]
  },
  {
   "cell_type": "code",
   "execution_count": null,
   "metadata": {},
   "outputs": [
    {
     "name": "stdout",
     "output_type": "stream",
     "text": [
      "<Common.BERTModel.BERTModel object at 0x105e36b20>\n"
     ]
    }
   ],
   "source": [
    "BERTModel.sInstance.PrintAccuracy()"
   ]
  },
  {
   "cell_type": "code",
   "execution_count": null,
   "metadata": {},
   "outputs": [],
   "source": [
    "BERTModel.sInstance.PrintLoss()"
   ]
  },
  {
   "cell_type": "code",
   "execution_count": null,
   "metadata": {},
   "outputs": [],
   "source": []
  }
 ],
 "metadata": {
  "interpreter": {
   "hash": "1187a559c85bf4d3d2bbff74eb383dd0c7f3d1ae07dbfe5b6c682b1c8e704080"
  },
  "kernelspec": {
   "display_name": "Python 3.8.13 ('tfgpu')",
   "language": "python",
   "name": "python3"
  },
  "language_info": {
   "codemirror_mode": {
    "name": "ipython",
    "version": 3
   },
   "file_extension": ".py",
   "mimetype": "text/x-python",
   "name": "python",
   "nbconvert_exporter": "python",
   "pygments_lexer": "ipython3",
   "version": "3.8.13"
  },
  "orig_nbformat": 4
 },
 "nbformat": 4,
 "nbformat_minor": 2
}
