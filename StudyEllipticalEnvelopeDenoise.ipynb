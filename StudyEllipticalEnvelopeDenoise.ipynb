{
 "cells": [
  {
   "cell_type": "markdown",
   "id": "2d8b69a9",
   "metadata": {
    "pycharm": {
     "metadata": false
    }
   },
   "source": [
    "# Study Elliptical Envelope\n"
   ]
  },
  {
   "cell_type": "markdown",
   "id": "bf37f738",
   "metadata": {
    "pycharm": {
     "metadata": false
    }
   },
   "source": [
    "### Dataset: \n",
    "https://www.kaggle.com/code/luiskalckstein/climate-sentiment-multiclass-classification"
   ]
  },
  {
   "cell_type": "markdown",
   "id": "02ac19b9",
   "metadata": {
    "pycharm": {
     "metadata": false
    }
   },
   "source": [
    "### Imports"
   ]
  },
  {
   "cell_type": "code",
   "execution_count": 1,
   "id": "ff9e24e3",
   "metadata": {
    "pycharm": {
     "metadata": false,
     "name": "#%%\n"
    }
   },
   "outputs": [
    {
     "name": "stdout",
     "output_type": "stream",
     "text": [
      "time: 99.5 µs (started: 2022-04-17 16:32:02 +08:00)\n"
     ]
    }
   ],
   "source": [
    "from sklearn.feature_extraction.text import TfidfVectorizer\n",
    "from sklearn.preprocessing import MultiLabelBinarizer\n",
    "from sklearn.multiclass import OneVsRestClassifier\n",
    "from sklearn.svm import LinearSVC\n",
    "from Common.DataCenter import data_center\n",
    "from Common.preprocessor import normalize_preprocessing\n",
    "from Common.UtilFuncs import print_evaluation, print_distribution\n",
    "import pandas as pd\n",
    "import numpy as np\n",
    "from sklearn.covariance import EllipticEnvelope\n",
    "from sklearn.preprocessing import Normalizer\n",
    "import matplotlib.pyplot as plt\n",
    "from Common.SVDUtils import SVD\n",
    "\n",
    "%matplotlib inline\n",
    "try:\n",
    "    %load_ext autotime\n",
    "except:\n",
    "    !pip install ipython-autotime\n",
    "    %load_ext autotime"
   ]
  },
  {
   "cell_type": "code",
   "execution_count": 2,
   "id": "4394c469-884b-4401-a951-bc16b9be3cd4",
   "metadata": {},
   "outputs": [
    {
     "data": {
      "image/png": "[encoded data removed]",
      "text/plain": [
       "<Figure size 432x288 with 1 Axes>"
      ]
     },
     "metadata": {
      "needs_background": "light"
     },
     "output_type": "display_data"
    },
    {
     "name": "stdout",
     "output_type": "stream",
     "text": [
      "time: 53.4 ms (started: 2022-04-17 16:32:02 +08:00)\n"
     ]
    }
   ],
   "source": [
    "df = pd.DataFrame(np.array([[0,1], [1,1], [1,2], [2,2], [5,6]]), columns = [\"x\", \"y\"], index = [0,1,2,3,4])\n",
    "# show data in a scatterplot\n",
    "plt.scatter(df[\"x\"], df[\"y\"], color = \"r\")\n",
    "plt.grid()"
   ]
  },
  {
   "cell_type": "code",
   "execution_count": 3,
   "id": "001be003-047b-4280-98af-054109cd6f9d",
   "metadata": {},
   "outputs": [
    {
     "data": {
      "text/plain": [
       "EllipticEnvelope()"
      ]
     },
     "execution_count": 3,
     "metadata": {},
     "output_type": "execute_result"
    },
    {
     "name": "stdout",
     "output_type": "stream",
     "text": [
      "time: 11.8 ms (started: 2022-04-17 16:32:02 +08:00)\n"
     ]
    }
   ],
   "source": [
    "# convert dataframe to arrays\n",
    "data = df[['x', 'y']].values\n",
    "# instantiate model\n",
    "model1 = EllipticEnvelope(contamination = 0.1) \n",
    "# fit model\n",
    "model1.fit(data)\n",
    "\n"
   ]
  },
  {
   "cell_type": "code",
   "execution_count": 4,
   "id": "bd3b5576-ea5f-4367-8d0a-baec46f25335",
   "metadata": {},
   "outputs": [
    {
     "name": "stdout",
     "output_type": "stream",
     "text": [
      "[ 1  1  1  1 -1]\n",
      "time: 528 µs (started: 2022-04-17 16:32:02 +08:00)\n"
     ]
    }
   ],
   "source": [
    "pred1 = model1.predict(data)\n",
    "print(pred1)"
   ]
  },
  {
   "cell_type": "markdown",
   "id": "3c56d669",
   "metadata": {
    "pycharm": {
     "metadata": false
    },
    "tags": []
   },
   "source": [
    "### Text preprocessing"
   ]
  },
  {
   "cell_type": "code",
   "execution_count": 5,
   "id": "bb566c07",
   "metadata": {
    "pycharm": {
     "metadata": false,
     "name": "#%%\n"
    }
   },
   "outputs": [
    {
     "name": "stdout",
     "output_type": "stream",
     "text": [
      "time: 388 µs (started: 2022-04-17 16:32:02 +08:00)\n"
     ]
    }
   ],
   "source": [
    "# parameter: original X of training set and test set\n",
    "# return:  vectorised X of training set and test set\n",
    "def text_preprocessing(X_train, X_test):\n",
    "    \n",
    "    # preprocessing with traditional NLP methodology\n",
    "    X_train_normalized = normalize_preprocessing(X_train)\n",
    "    X_test_normalized  = normalize_preprocessing(X_test)\n",
    "    \n",
    "    # vectorization\n",
    "    # Convert texts to vectors by TFIDF\n",
    "    vectorizer = TfidfVectorizer(ngram_range=(1,2))\n",
    "    X_train_vec  = vectorizer.fit_transform(X_train_normalized)\n",
    "    X_test_vec   = vectorizer.transform(X_test_normalized)\n",
    "      \n",
    "    return X_train_vec, X_test_vec"
   ]
  },
  {
   "cell_type": "markdown",
   "id": "b08bb41b",
   "metadata": {
    "pycharm": {
     "metadata": false
    }
   },
   "source": [
    "### One-hot encoding, convert the labels to vectors (4 x 1) each"
   ]
  },
  {
   "cell_type": "code",
   "execution_count": 6,
   "id": "fae54a70",
   "metadata": {
    "pycharm": {
     "metadata": false,
     "name": "#%%\n"
    }
   },
   "outputs": [
    {
     "name": "stdout",
     "output_type": "stream",
     "text": [
      "time: 283 µs (started: 2022-04-17 16:32:02 +08:00)\n"
     ]
    }
   ],
   "source": [
    "# parameter: original y of training set, original y of test set\n",
    "# return:  encoded y of training set and test set\n",
    "def one_hot_encoding(y_train, y_test):\n",
    "    mlb          = MultiLabelBinarizer()\n",
    "    y_train_vec  = mlb.fit_transform(map(str, y_train))\n",
    "    y_test_vec   = mlb.transform(map(str, y_test))\n",
    "    return y_train_vec, y_test_vec\n"
   ]
  },
  {
   "cell_type": "markdown",
   "id": "46673138",
   "metadata": {
    "pycharm": {
     "metadata": false
    },
    "tags": []
   },
   "source": [
    "### Run SVM"
   ]
  },
  {
   "cell_type": "code",
   "execution_count": 7,
   "id": "7fb5965e",
   "metadata": {
    "pycharm": {
     "metadata": false,
     "name": "#%%\n"
    }
   },
   "outputs": [
    {
     "name": "stdout",
     "output_type": "stream",
     "text": [
      "time: 397 µs (started: 2022-04-17 16:32:02 +08:00)\n"
     ]
    }
   ],
   "source": [
    "# parameter:  vectorised X and encoded y of training set and test set\n",
    "def run_SVM(X_train_vec, y_train_vec, X_test_vec, y_test_vec):\n",
    "    # Run SVM - fit and predict\n",
    "    SVM             = OneVsRestClassifier(LinearSVC(dual=False, class_weight='balanced'), n_jobs=-1)\n",
    "    SVM.fit(X_train_vec, y_train_vec)\n",
    "    y_pred          = SVM.predict(X_test_vec)\n",
    "    return  y_pred\n"
   ]
  },
  {
   "cell_type": "markdown",
   "id": "97ee21ce",
   "metadata": {
    "pycharm": {
     "metadata": false
    }
   },
   "source": [
    "### Do an experiment"
   ]
  },
  {
   "cell_type": "code",
   "execution_count": 8,
   "id": "23ad12b9",
   "metadata": {
    "pycharm": {
     "metadata": false,
     "name": "#%%\n"
    }
   },
   "outputs": [
    {
     "name": "stdout",
     "output_type": "stream",
     "text": [
      "time: 400 µs (started: 2022-04-17 16:32:02 +08:00)\n"
     ]
    }
   ],
   "source": [
    "# Parameter: original X,y of training set and test set\n",
    "def do_experiment(X_train, y_train, X_test, y_test):\n",
    "    # Convert texts to vectors\n",
    "    X_train_vec, X_test_vec = text_preprocessing(X_train, X_test)\n",
    "    y_train_vec, y_test_vec = one_hot_encoding(y_train, y_test)\n",
    "\n",
    "    # Run SVM and evaluate the results\n",
    "    y_pred = run_SVM(X_train_vec, y_train_vec, X_test_vec, y_test_vec)\n",
    "\n",
    "    # Print the evaluation\n",
    "    print_evaluation(y_test_vec, y_pred, labels=[0,1,2,3])\n"
   ]
  },
  {
   "cell_type": "markdown",
   "id": "4e5e4885",
   "metadata": {
    "pycharm": {
     "metadata": false
    }
   },
   "source": [
    "### Main entry\n",
    "**Load the database and split it into training set, test set, noisy set, validation set**"
   ]
  },
  {
   "cell_type": "code",
   "execution_count": null,
   "id": "db7a40f2",
   "metadata": {
    "pycharm": {
     "metadata": false,
     "name": "#%%\n"
    }
   },
   "outputs": [],
   "source": []
  },
  {
   "cell_type": "markdown",
   "id": "09a95718",
   "metadata": {
    "pycharm": {
     "metadata": false
    }
   },
   "source": [
    "# The size of the noise sources"
   ]
  },
  {
   "cell_type": "code",
   "execution_count": 9,
   "id": "2fd1e13d",
   "metadata": {
    "pycharm": {
     "metadata": false,
     "name": "#%%\n"
    }
   },
   "outputs": [
    {
     "name": "stdout",
     "output_type": "stream",
     "text": [
      "####################################################\n",
      "Total data size:  40908\n",
      "Total train data size:  20000\n",
      "Total test data size:  4000\n",
      "time: 109 ms (started: 2022-04-17 16:32:02 +08:00)\n"
     ]
    }
   ],
   "source": [
    "\n",
    "noisy_set_sizes = {\n",
    "    'mislabeled' : 5000,   # max size: 15000\n",
    "    'irrelevant' : 5000,   # max size: 34259\n",
    "    'translated' : 5000,   # max size: 5000\n",
    "}\n",
    "\n",
    "# Load the database and split it into training set, test set, noisy set, validation set\n",
    "dc = data_center(\"twitter_sentiment_data_clean.csv\", train_size = 20000, test_size = 4000, validation_size = 1000,\n",
    "                 noisy_size = noisy_set_sizes['mislabeled'] if 'mislabeled' in noisy_set_sizes.keys() else 0)\n",
    "\n",
    "print(\"####################################################\")\n",
    "print(\"Total data size: \",       dc.get_len())\n",
    "print(\"Total train data size: \", dc.get_train_len())\n",
    "print(\"Total test data size: \",  dc.get_test_len())"
   ]
  },
  {
   "cell_type": "markdown",
   "id": "b034dbef",
   "metadata": {
    "pycharm": {
     "metadata": false
    }
   },
   "source": [
    "**Get the test set for evaluation**"
   ]
  },
  {
   "cell_type": "code",
   "execution_count": 10,
   "id": "1ced5f51",
   "metadata": {
    "pycharm": {
     "metadata": false,
     "name": "#%%\n"
    }
   },
   "outputs": [
    {
     "name": "stdout",
     "output_type": "stream",
     "text": [
      "time: 5.45 ms (started: 2022-04-17 16:32:02 +08:00)\n"
     ]
    }
   ],
   "source": [
    "X_test, y_test = dc.get_test()\n"
   ]
  },
  {
   "cell_type": "markdown",
   "id": "cf572713",
   "metadata": {
    "pycharm": {
     "metadata": false
    }
   },
   "source": [
    "**Set distributions of training set.**"
   ]
  },
  {
   "cell_type": "code",
   "execution_count": 11,
   "id": "cbb09a89",
   "metadata": {
    "pycharm": {
     "metadata": false,
     "name": "#%%\n"
    }
   },
   "outputs": [
    {
     "name": "stdout",
     "output_type": "stream",
     "text": [
      "time: 215 µs (started: 2022-04-17 16:32:02 +08:00)\n"
     ]
    }
   ],
   "source": [
    "# distribution of training set\n",
    "train_distribution = None\n"
   ]
  },
  {
   "cell_type": "markdown",
   "id": "29163adf",
   "metadata": {
    "pycharm": {
     "metadata": false
    }
   },
   "source": [
    "**Prepare the noisy set.**"
   ]
  },
  {
   "cell_type": "code",
   "execution_count": 12,
   "id": "972eda65",
   "metadata": {
    "pycharm": {
     "metadata": false,
     "name": "#%%\n"
    }
   },
   "outputs": [
    {
     "name": "stdout",
     "output_type": "stream",
     "text": [
      "5000 noisy samples of 'mislabeled' added\n",
      "5000 noisy samples of 'irrelevant' added\n",
      "5000 noisy samples of 'translated' added\n",
      "The total size of noisy data is 15000\n",
      "time: 327 ms (started: 2022-04-17 16:32:02 +08:00)\n"
     ]
    }
   ],
   "source": [
    "lstNoisyInfo    = []\n",
    "if 'mislabeled' in noisy_set_sizes.keys() and noisy_set_sizes['mislabeled'] > 0:\n",
    "    lstNoisyInfo.append((\"mislabeled\",dc.get_noisy_len()))\n",
    "    print(\"%d noisy samples of '%s' added\" % (dc.get_noisy_len(), 'mislabeled'))\n",
    "\n",
    "# add the external noisy data (irrelevant texts)\n",
    "if 'irrelevant' in noisy_set_sizes.keys() and noisy_set_sizes['irrelevant'] > 0:\n",
    "    # distribution of irrelevant noisy\n",
    "    irrelevant_noisy_distribution = [0.25, 0.25, 0.25, 0.25]    # None, if use the distribution of original set\n",
    "    added_size = dc.add_noisy(noisy_source=\"irrelevant\", distribution = irrelevant_noisy_distribution,\n",
    "                              size = noisy_set_sizes['irrelevant'])\n",
    "    print(\"%d noisy samples of '%s' added\"  % (added_size, 'irrelevant'))\n",
    "    lstNoisyInfo.append((\"irrelevant\",added_size))\n",
    "\n",
    "# add the external noisy data (translated texts). use the labels of each noisy data\n",
    "if 'translated' in noisy_set_sizes.keys() and noisy_set_sizes['translated'] > 0:\n",
    "    added_size = dc.add_noisy(noisy_source=\"translated\", distribution = \"reserve_labels\",\n",
    "                              size = noisy_set_sizes['translated'])\n",
    "    print(\"%d noisy samples of '%s' added\"  % (added_size, 'translated'))\n",
    "    lstNoisyInfo.append((\"translated\",added_size))\n",
    "\n",
    "print(\"The total size of noisy data is %d\"                % dc.get_noisy_len())\n"
   ]
  },
  {
   "cell_type": "markdown",
   "id": "0dccb7f5",
   "metadata": {
    "pycharm": {
     "metadata": false
    }
   },
   "source": [
    "**Run experiments with different training sets, and use the same test set.**"
   ]
  },
  {
   "cell_type": "code",
   "execution_count": 13,
   "id": "bc9be9ab",
   "metadata": {
    "pycharm": {
     "metadata": false,
     "name": "#%%\n"
    }
   },
   "outputs": [
    {
     "data": {
      "text/plain": [
       "'\\nprint(\"-------------- No noisy training sets ----------\")\\nfor size in [2000, 4000, 5000, 8000, 10000, 15000, 20000]:\\n    # Get a training set without noisy data\\n    X_train, y_train = dc.get_train(size, train_distribution)\\n    print(\"* Training set size: %d samples: \" % (len(X_train)))\\n    print_distribution(\"  Sentiment distribution\", y_train)\\n\\n    # Do an experiment\\n    do_experiment(X_train, y_train, X_test, y_test)\\n\\nprint(\"-------------- Noisy training sets -------------\")\\nprint(\"The proportions of the noise sources %s: \" % [x[0] for x in lstNoisyInfo],\\n      [round(x[1]*100/dc.get_noisy_len(),1) for x in lstNoisyInfo])\\nfor size in [(4000, 1000), (8000, 2000), (15000, 5000)]:\\n    # Get a noisy training set\\n    X_train, y_train = dc.get_train_with_noisy(size[0], size[1], train_distribution)\\n    print(\"* Noisy training set size: %d samples (%d original, %d noisy)\" % (len(y_train), size[0], size[1]))\\n    print_distribution(\"  Sentiment distribution\", y_train)\\n\\n    # Do an experiment\\n    do_experiment(X_train, y_train, X_test, y_test)\\n'"
      ]
     },
     "execution_count": 13,
     "metadata": {},
     "output_type": "execute_result"
    },
    {
     "name": "stdout",
     "output_type": "stream",
     "text": [
      "time: 1.16 ms (started: 2022-04-17 16:32:03 +08:00)\n"
     ]
    }
   ],
   "source": [
    "'''\n",
    "print(\"-------------- No noisy training sets ----------\")\n",
    "for size in [2000, 4000, 5000, 8000, 10000, 15000, 20000]:\n",
    "    # Get a training set without noisy data\n",
    "    X_train, y_train = dc.get_train(size, train_distribution)\n",
    "    print(\"* Training set size: %d samples: \" % (len(X_train)))\n",
    "    print_distribution(\"  Sentiment distribution\", y_train)\n",
    "\n",
    "    # Do an experiment\n",
    "    do_experiment(X_train, y_train, X_test, y_test)\n",
    "\n",
    "print(\"-------------- Noisy training sets -------------\")\n",
    "print(\"The proportions of the noise sources %s: \" % [x[0] for x in lstNoisyInfo],\n",
    "      [round(x[1]*100/dc.get_noisy_len(),1) for x in lstNoisyInfo])\n",
    "for size in [(4000, 1000), (8000, 2000), (15000, 5000)]:\n",
    "    # Get a noisy training set\n",
    "    X_train, y_train = dc.get_train_with_noisy(size[0], size[1], train_distribution)\n",
    "    print(\"* Noisy training set size: %d samples (%d original, %d noisy)\" % (len(y_train), size[0], size[1]))\n",
    "    print_distribution(\"  Sentiment distribution\", y_train)\n",
    "\n",
    "    # Do an experiment\n",
    "    do_experiment(X_train, y_train, X_test, y_test)\n",
    "'''"
   ]
  },
  {
   "cell_type": "code",
   "execution_count": 14,
   "id": "1d798d38",
   "metadata": {
    "pycharm": {
     "metadata": false,
     "name": "#%%\n"
    }
   },
   "outputs": [
    {
     "data": {
      "text/plain": [
       "'\\nfor size in [(4000, 1000), (8000, 2000), (15000, 5000)]:\\n    # Here we have the noisy data set\\n    X_train, y_train = dc.get_train_with_noisy(size[0], size[1], train_distribution)\\n    print(\"* Noisy training set size: %d samples (%d original, %d noisy)\" % (len(y_train), size[0], size[1]))\\n    print_distribution(\"  Sentiment distribution\", y_train)\\n    # Do an experiment\\n    do_experiment(X_train, y_train, X_test, y_test)\\n    \\n    svd = SVD(4000)\\n    # now I try to remove the noise\\n    # instantiate model\\n    model2 = EllipticEnvelope(contamination = 0.1) \\n    # fit model\\n    result = model2.fit_predict(svd.U)\\n'"
      ]
     },
     "execution_count": 14,
     "metadata": {},
     "output_type": "execute_result"
    },
    {
     "name": "stdout",
     "output_type": "stream",
     "text": [
      "time: 889 µs (started: 2022-04-17 16:32:03 +08:00)\n"
     ]
    }
   ],
   "source": [
    "from Common.SVDUtils import SVD\n",
    "'''\n",
    "for size in [(4000, 1000), (8000, 2000), (15000, 5000)]:\n",
    "    # Here we have the noisy data set\n",
    "    X_train, y_train = dc.get_train_with_noisy(size[0], size[1], train_distribution)\n",
    "    print(\"* Noisy training set size: %d samples (%d original, %d noisy)\" % (len(y_train), size[0], size[1]))\n",
    "    print_distribution(\"  Sentiment distribution\", y_train)\n",
    "    # Do an experiment\n",
    "    do_experiment(X_train, y_train, X_test, y_test)\n",
    "    \n",
    "    svd = SVD(4000)\n",
    "    # now I try to remove the noise\n",
    "    # instantiate model\n",
    "    model2 = EllipticEnvelope(contamination = 0.1) \n",
    "    # fit model\n",
    "    result = model2.fit_predict(svd.U)\n",
    "'''"
   ]
  },
  {
   "cell_type": "code",
   "execution_count": 15,
   "id": "68846307-0c0d-4175-814c-51ff313acd9f",
   "metadata": {},
   "outputs": [
    {
     "name": "stdout",
     "output_type": "stream",
     "text": [
      "time: 256 µs (started: 2022-04-17 16:32:03 +08:00)\n"
     ]
    }
   ],
   "source": [
    "# parameter: original X of training set and test set\n",
    "# return:  vectorised X of training set and test set\n",
    "def text_preprocessing_fordata(X_train):\n",
    "    \n",
    "    # preprocessing with traditional NLP methodology\n",
    "    X_train_normalized = normalize_preprocessing(X_train)    \n",
    "    # vectorization\n",
    "    # Convert texts to vectors by TFIDF\n",
    "    vectorizer = TfidfVectorizer(ngram_range=(1,2))\n",
    "    X_train_vec  = vectorizer.fit_transform(X_train_normalized)\n",
    "\n",
    "      \n",
    "    return X_train_vec"
   ]
  },
  {
   "cell_type": "code",
   "execution_count": 16,
   "id": "72dabd72",
   "metadata": {},
   "outputs": [
    {
     "name": "stdout",
     "output_type": "stream",
     "text": [
      "time: 1.48 s (started: 2022-04-17 16:32:03 +08:00)\n"
     ]
    }
   ],
   "source": [
    "trainDF = dc.get_train_with_noisy_df(4000, 1000, train_distribution)\n",
    "trainDF.reset_index(drop=True, inplace=True)\n",
    "X_train_vec = text_preprocessing_fordata(trainDF['message'].values)\n",
    "y_train = trainDF['sentiment'].values"
   ]
  },
  {
   "cell_type": "code",
   "execution_count": 17,
   "id": "4839eaf8-d2db-4944-a289-8ca422c6e0d4",
   "metadata": {},
   "outputs": [
    {
     "name": "stdout",
     "output_type": "stream",
     "text": [
      "time: 2.36 ms (started: 2022-04-17 16:32:04 +08:00)\n"
     ]
    }
   ],
   "source": [
    "y_train = np.array(y_train)\n",
    "# this is sparse matrix\n",
    "\n",
    "pick_train0 = X_train_vec[y_train==0]\n",
    "pick_train1 = X_train_vec[y_train==1]\n",
    "pick_train2 = X_train_vec[y_train==2]\n",
    "pick_train3 = X_train_vec[y_train==3]\n",
    "#pick_trainX_dense = pick_trainX.toarray()"
   ]
  },
  {
   "cell_type": "markdown",
   "id": "f0fbb986-42b4-400c-9ad2-9f9c718fd6b6",
   "metadata": {},
   "source": [
    "pick_trainX is a sparse matrix, so the dimension is 84975 which is too high, so here I use svd to decrease the dimension."
   ]
  },
  {
   "cell_type": "code",
   "execution_count": 18,
   "id": "2f0ed56e-2d4b-4c41-bf35-99a916a0e8a8",
   "metadata": {},
   "outputs": [
    {
     "name": "stderr",
     "output_type": "stream",
     "text": [
      "/Users/guopei/miniforge3/envs/tf2/lib/python3.9/site-packages/sklearn/covariance/_robust_covariance.py:183: RuntimeWarning: Determinant has increased; this should not happen: log(det) > log(previous_det) (-8096.447467028405299 > -8097.317037664231975). You may want to try with a higher value of support_fraction (current value: 0.799).\n",
      "  warnings.warn(\n",
      "/Users/guopei/miniforge3/envs/tf2/lib/python3.9/site-packages/sklearn/covariance/_robust_covariance.py:183: RuntimeWarning: Determinant has increased; this should not happen: log(det) > log(previous_det) (-8084.704693240052620 > -8092.735909558820822). You may want to try with a higher value of support_fraction (current value: 0.799).\n",
      "  warnings.warn(\n",
      "/Users/guopei/miniforge3/envs/tf2/lib/python3.9/site-packages/sklearn/covariance/_robust_covariance.py:183: RuntimeWarning: Determinant has increased; this should not happen: log(det) > log(previous_det) (-8094.610784225416865 > -8099.531297332529903). You may want to try with a higher value of support_fraction (current value: 0.799).\n",
      "  warnings.warn(\n",
      "/Users/guopei/miniforge3/envs/tf2/lib/python3.9/site-packages/sklearn/covariance/_robust_covariance.py:183: RuntimeWarning: Determinant has increased; this should not happen: log(det) > log(previous_det) (-8084.714031008078564 > -8101.219557721031379). You may want to try with a higher value of support_fraction (current value: 0.799).\n",
      "  warnings.warn(\n",
      "/Users/guopei/miniforge3/envs/tf2/lib/python3.9/site-packages/sklearn/covariance/_robust_covariance.py:183: RuntimeWarning: Determinant has increased; this should not happen: log(det) > log(previous_det) (-8078.160149699899193 > -8094.944924972110130). You may want to try with a higher value of support_fraction (current value: 0.799).\n",
      "  warnings.warn(\n",
      "/Users/guopei/miniforge3/envs/tf2/lib/python3.9/site-packages/sklearn/covariance/_robust_covariance.py:183: RuntimeWarning: Determinant has increased; this should not happen: log(det) > log(previous_det) (-8072.361214762932832 > -8086.865645514524658). You may want to try with a higher value of support_fraction (current value: 0.799).\n",
      "  warnings.warn(\n",
      "/Users/guopei/miniforge3/envs/tf2/lib/python3.9/site-packages/sklearn/covariance/_robust_covariance.py:183: RuntimeWarning: Determinant has increased; this should not happen: log(det) > log(previous_det) (-8089.083244641921738 > -8093.402075227449131). You may want to try with a higher value of support_fraction (current value: 0.799).\n",
      "  warnings.warn(\n",
      "/Users/guopei/miniforge3/envs/tf2/lib/python3.9/site-packages/sklearn/covariance/_robust_covariance.py:183: RuntimeWarning: Determinant has increased; this should not happen: log(det) > log(previous_det) (-8078.741964299727442 > -8087.830633951580239). You may want to try with a higher value of support_fraction (current value: 0.799).\n",
      "  warnings.warn(\n",
      "/Users/guopei/miniforge3/envs/tf2/lib/python3.9/site-packages/sklearn/covariance/_robust_covariance.py:183: RuntimeWarning: Determinant has increased; this should not happen: log(det) > log(previous_det) (-8097.509034937584147 > -8105.296109737657389). You may want to try with a higher value of support_fraction (current value: 0.799).\n",
      "  warnings.warn(\n",
      "/Users/guopei/miniforge3/envs/tf2/lib/python3.9/site-packages/sklearn/covariance/_robust_covariance.py:183: RuntimeWarning: Determinant has increased; this should not happen: log(det) > log(previous_det) (-8081.472090042455420 > -8088.197658141566535). You may want to try with a higher value of support_fraction (current value: 0.799).\n",
      "  warnings.warn(\n",
      "/Users/guopei/miniforge3/envs/tf2/lib/python3.9/site-packages/sklearn/covariance/_robust_covariance.py:183: RuntimeWarning: Determinant has increased; this should not happen: log(det) > log(previous_det) (-8082.106362608481504 > -8097.286321322274489). You may want to try with a higher value of support_fraction (current value: 0.799).\n",
      "  warnings.warn(\n",
      "/Users/guopei/miniforge3/envs/tf2/lib/python3.9/site-packages/sklearn/covariance/_robust_covariance.py:183: RuntimeWarning: Determinant has increased; this should not happen: log(det) > log(previous_det) (-8085.787197852287136 > -8092.675973432677893). You may want to try with a higher value of support_fraction (current value: 0.799).\n",
      "  warnings.warn(\n",
      "/Users/guopei/miniforge3/envs/tf2/lib/python3.9/site-packages/sklearn/covariance/_robust_covariance.py:183: RuntimeWarning: Determinant has increased; this should not happen: log(det) > log(previous_det) (-8093.880934279703069 > -8100.319892730442007). You may want to try with a higher value of support_fraction (current value: 0.799).\n",
      "  warnings.warn(\n",
      "/Users/guopei/miniforge3/envs/tf2/lib/python3.9/site-packages/sklearn/covariance/_robust_covariance.py:183: RuntimeWarning: Determinant has increased; this should not happen: log(det) > log(previous_det) (-8089.216374950432510 > -8095.305396565393494). You may want to try with a higher value of support_fraction (current value: 0.799).\n",
      "  warnings.warn(\n",
      "/Users/guopei/miniforge3/envs/tf2/lib/python3.9/site-packages/sklearn/covariance/_robust_covariance.py:183: RuntimeWarning: Determinant has increased; this should not happen: log(det) > log(previous_det) (-8079.607157997839749 > -8086.500154096674123). You may want to try with a higher value of support_fraction (current value: 0.799).\n",
      "  warnings.warn(\n",
      "/Users/guopei/miniforge3/envs/tf2/lib/python3.9/site-packages/sklearn/covariance/_robust_covariance.py:183: RuntimeWarning: Determinant has increased; this should not happen: log(det) > log(previous_det) (-8077.637042517172631 > -8090.275880995727675). You may want to try with a higher value of support_fraction (current value: 0.799).\n",
      "  warnings.warn(\n",
      "/Users/guopei/miniforge3/envs/tf2/lib/python3.9/site-packages/sklearn/covariance/_robust_covariance.py:183: RuntimeWarning: Determinant has increased; this should not happen: log(det) > log(previous_det) (-8084.379598774266924 > -8091.807301969140099). You may want to try with a higher value of support_fraction (current value: 0.799).\n",
      "  warnings.warn(\n",
      "/Users/guopei/miniforge3/envs/tf2/lib/python3.9/site-packages/sklearn/covariance/_robust_covariance.py:183: RuntimeWarning: Determinant has increased; this should not happen: log(det) > log(previous_det) (-8084.890920200177789 > -8107.364910923676689). You may want to try with a higher value of support_fraction (current value: 0.799).\n",
      "  warnings.warn(\n",
      "/Users/guopei/miniforge3/envs/tf2/lib/python3.9/site-packages/sklearn/covariance/_robust_covariance.py:183: RuntimeWarning: Determinant has increased; this should not happen: log(det) > log(previous_det) (-8092.440518774559678 > -8107.317579056074464). You may want to try with a higher value of support_fraction (current value: 0.799).\n",
      "  warnings.warn(\n",
      "/Users/guopei/miniforge3/envs/tf2/lib/python3.9/site-packages/sklearn/covariance/_robust_covariance.py:183: RuntimeWarning: Determinant has increased; this should not happen: log(det) > log(previous_det) (-8083.608264127658003 > -8095.454218139065233). You may want to try with a higher value of support_fraction (current value: 0.799).\n",
      "  warnings.warn(\n",
      "/Users/guopei/miniforge3/envs/tf2/lib/python3.9/site-packages/sklearn/covariance/_robust_covariance.py:183: RuntimeWarning: Determinant has increased; this should not happen: log(det) > log(previous_det) (-8086.719491296970773 > -8095.799189795521670). You may want to try with a higher value of support_fraction (current value: 0.799).\n",
      "  warnings.warn(\n",
      "/Users/guopei/miniforge3/envs/tf2/lib/python3.9/site-packages/sklearn/covariance/_robust_covariance.py:183: RuntimeWarning: Determinant has increased; this should not happen: log(det) > log(previous_det) (-8099.130948460726358 > -8100.206431861209239). You may want to try with a higher value of support_fraction (current value: 0.799).\n",
      "  warnings.warn(\n",
      "/Users/guopei/miniforge3/envs/tf2/lib/python3.9/site-packages/sklearn/covariance/_robust_covariance.py:183: RuntimeWarning: Determinant has increased; this should not happen: log(det) > log(previous_det) (-8073.108113682215844 > -8356.262040235373206). You may want to try with a higher value of support_fraction (current value: 0.799).\n",
      "  warnings.warn(\n",
      "/Users/guopei/miniforge3/envs/tf2/lib/python3.9/site-packages/sklearn/covariance/_robust_covariance.py:183: RuntimeWarning: Determinant has increased; this should not happen: log(det) > log(previous_det) (-8070.266333415307599 > -8071.798401564211417). You may want to try with a higher value of support_fraction (current value: 0.799).\n",
      "  warnings.warn(\n",
      "/Users/guopei/miniforge3/envs/tf2/lib/python3.9/site-packages/sklearn/covariance/_robust_covariance.py:183: RuntimeWarning: Determinant has increased; this should not happen: log(det) > log(previous_det) (-8070.653075518342121 > -8071.889032288439921). You may want to try with a higher value of support_fraction (current value: 0.799).\n",
      "  warnings.warn(\n",
      "/Users/guopei/miniforge3/envs/tf2/lib/python3.9/site-packages/sklearn/covariance/_robust_covariance.py:183: RuntimeWarning: Determinant has increased; this should not happen: log(det) > log(previous_det) (-8071.362384264717548 > -8074.962364777109542). You may want to try with a higher value of support_fraction (current value: 0.799).\n",
      "  warnings.warn(\n",
      "/Users/guopei/miniforge3/envs/tf2/lib/python3.9/site-packages/sklearn/covariance/_robust_covariance.py:183: RuntimeWarning: Determinant has increased; this should not happen: log(det) > log(previous_det) (-8074.577093825915654 > -8078.767703198785966). You may want to try with a higher value of support_fraction (current value: 0.799).\n",
      "  warnings.warn(\n",
      "/Users/guopei/miniforge3/envs/tf2/lib/python3.9/site-packages/sklearn/covariance/_robust_covariance.py:183: RuntimeWarning: Determinant has increased; this should not happen: log(det) > log(previous_det) (-8072.259627000824366 > -8078.150763091237422). You may want to try with a higher value of support_fraction (current value: 0.799).\n",
      "  warnings.warn(\n",
      "/Users/guopei/miniforge3/envs/tf2/lib/python3.9/site-packages/sklearn/covariance/_robust_covariance.py:183: RuntimeWarning: Determinant has increased; this should not happen: log(det) > log(previous_det) (-8069.990556986671436 > -8073.871272485102963). You may want to try with a higher value of support_fraction (current value: 0.799).\n",
      "  warnings.warn(\n",
      "/Users/guopei/miniforge3/envs/tf2/lib/python3.9/site-packages/sklearn/covariance/_robust_covariance.py:183: RuntimeWarning: Determinant has increased; this should not happen: log(det) > log(previous_det) (-8065.750980774102572 > -8068.238412208197587). You may want to try with a higher value of support_fraction (current value: 0.799).\n",
      "  warnings.warn(\n",
      "/Users/guopei/miniforge3/envs/tf2/lib/python3.9/site-packages/sklearn/covariance/_robust_covariance.py:183: RuntimeWarning: Determinant has increased; this should not happen: log(det) > log(previous_det) (-8065.341631412932657 > -8079.591203139058962). You may want to try with a higher value of support_fraction (current value: 0.799).\n",
      "  warnings.warn(\n",
      "/Users/guopei/miniforge3/envs/tf2/lib/python3.9/site-packages/sklearn/covariance/_robust_covariance.py:183: RuntimeWarning: Determinant has increased; this should not happen: log(det) > log(previous_det) (-8072.802292373089585 > -8075.778353955372040). You may want to try with a higher value of support_fraction (current value: 0.799).\n",
      "  warnings.warn(\n",
      "/Users/guopei/miniforge3/envs/tf2/lib/python3.9/site-packages/sklearn/covariance/_robust_covariance.py:183: RuntimeWarning: Determinant has increased; this should not happen: log(det) > log(previous_det) (-8070.041771672103096 > -8116.089880750294469). You may want to try with a higher value of support_fraction (current value: 0.799).\n",
      "  warnings.warn(\n",
      "/Users/guopei/miniforge3/envs/tf2/lib/python3.9/site-packages/sklearn/covariance/_robust_covariance.py:183: RuntimeWarning: Determinant has increased; this should not happen: log(det) > log(previous_det) (-8067.546988032798254 > -8074.245383253511136). You may want to try with a higher value of support_fraction (current value: 0.799).\n",
      "  warnings.warn(\n",
      "/Users/guopei/miniforge3/envs/tf2/lib/python3.9/site-packages/sklearn/covariance/_robust_covariance.py:183: RuntimeWarning: Determinant has increased; this should not happen: log(det) > log(previous_det) (-8072.436493115928897 > -8074.725077201328531). You may want to try with a higher value of support_fraction (current value: 0.799).\n",
      "  warnings.warn(\n",
      "/Users/guopei/miniforge3/envs/tf2/lib/python3.9/site-packages/sklearn/covariance/_robust_covariance.py:183: RuntimeWarning: Determinant has increased; this should not happen: log(det) > log(previous_det) (-8068.842580727667155 > -8070.617369844004315). You may want to try with a higher value of support_fraction (current value: 0.799).\n",
      "  warnings.warn(\n",
      "/Users/guopei/miniforge3/envs/tf2/lib/python3.9/site-packages/sklearn/covariance/_robust_covariance.py:183: RuntimeWarning: Determinant has increased; this should not happen: log(det) > log(previous_det) (-8066.366479576378879 > -8075.772057797310481). You may want to try with a higher value of support_fraction (current value: 0.799).\n",
      "  warnings.warn(\n",
      "/Users/guopei/miniforge3/envs/tf2/lib/python3.9/site-packages/sklearn/covariance/_robust_covariance.py:183: RuntimeWarning: Determinant has increased; this should not happen: log(det) > log(previous_det) (-8070.647646063794127 > -8078.842195015244215). You may want to try with a higher value of support_fraction (current value: 0.799).\n",
      "  warnings.warn(\n",
      "/Users/guopei/miniforge3/envs/tf2/lib/python3.9/site-packages/sklearn/covariance/_robust_covariance.py:183: RuntimeWarning: Determinant has increased; this should not happen: log(det) > log(previous_det) (-8069.335752344305547 > -8075.370693872151605). You may want to try with a higher value of support_fraction (current value: 0.799).\n",
      "  warnings.warn(\n",
      "/Users/guopei/miniforge3/envs/tf2/lib/python3.9/site-packages/sklearn/covariance/_robust_covariance.py:183: RuntimeWarning: Determinant has increased; this should not happen: log(det) > log(previous_det) (-8060.787416486535221 > -8062.994812972985528). You may want to try with a higher value of support_fraction (current value: 0.799).\n",
      "  warnings.warn(\n",
      "/Users/guopei/miniforge3/envs/tf2/lib/python3.9/site-packages/sklearn/covariance/_robust_covariance.py:183: RuntimeWarning: Determinant has increased; this should not happen: log(det) > log(previous_det) (-8061.803679911539803 > -8070.296191216019906). You may want to try with a higher value of support_fraction (current value: 0.799).\n",
      "  warnings.warn(\n",
      "/Users/guopei/miniforge3/envs/tf2/lib/python3.9/site-packages/sklearn/covariance/_robust_covariance.py:183: RuntimeWarning: Determinant has increased; this should not happen: log(det) > log(previous_det) (-8070.527799406893791 > -8075.238086685902090). You may want to try with a higher value of support_fraction (current value: 0.799).\n",
      "  warnings.warn(\n",
      "/Users/guopei/miniforge3/envs/tf2/lib/python3.9/site-packages/sklearn/covariance/_robust_covariance.py:183: RuntimeWarning: Determinant has increased; this should not happen: log(det) > log(previous_det) (-8072.431963740279571 > -8081.068616287275290). You may want to try with a higher value of support_fraction (current value: 0.799).\n",
      "  warnings.warn(\n",
      "/Users/guopei/miniforge3/envs/tf2/lib/python3.9/site-packages/sklearn/covariance/_robust_covariance.py:183: RuntimeWarning: Determinant has increased; this should not happen: log(det) > log(previous_det) (-8075.522043617610507 > -8077.528866552715954). You may want to try with a higher value of support_fraction (current value: 0.799).\n",
      "  warnings.warn(\n",
      "/Users/guopei/miniforge3/envs/tf2/lib/python3.9/site-packages/sklearn/covariance/_robust_covariance.py:183: RuntimeWarning: Determinant has increased; this should not happen: log(det) > log(previous_det) (-8072.225414882286714 > -8073.885784182682983). You may want to try with a higher value of support_fraction (current value: 0.799).\n",
      "  warnings.warn(\n",
      "/Users/guopei/miniforge3/envs/tf2/lib/python3.9/site-packages/sklearn/covariance/_robust_covariance.py:183: RuntimeWarning: Determinant has increased; this should not happen: log(det) > log(previous_det) (-8062.421190386864509 > -8068.093980293844652). You may want to try with a higher value of support_fraction (current value: 0.799).\n",
      "  warnings.warn(\n",
      "/Users/guopei/miniforge3/envs/tf2/lib/python3.9/site-packages/sklearn/covariance/_robust_covariance.py:183: RuntimeWarning: Determinant has increased; this should not happen: log(det) > log(previous_det) (-8065.126172398817289 > -8067.603725840815969). You may want to try with a higher value of support_fraction (current value: 0.799).\n",
      "  warnings.warn(\n",
      "/Users/guopei/miniforge3/envs/tf2/lib/python3.9/site-packages/sklearn/covariance/_robust_covariance.py:183: RuntimeWarning: Determinant has increased; this should not happen: log(det) > log(previous_det) (-8070.524171610781195 > -8075.634927959395100). You may want to try with a higher value of support_fraction (current value: 0.799).\n",
      "  warnings.warn(\n",
      "/Users/guopei/miniforge3/envs/tf2/lib/python3.9/site-packages/sklearn/covariance/_robust_covariance.py:183: RuntimeWarning: Determinant has increased; this should not happen: log(det) > log(previous_det) (-8067.496184150504632 > -8068.476519211126288). You may want to try with a higher value of support_fraction (current value: 0.799).\n",
      "  warnings.warn(\n",
      "/Users/guopei/miniforge3/envs/tf2/lib/python3.9/site-packages/sklearn/covariance/_robust_covariance.py:183: RuntimeWarning: Determinant has increased; this should not happen: log(det) > log(previous_det) (-8069.740956266726243 > -8070.759702824053420). You may want to try with a higher value of support_fraction (current value: 0.799).\n",
      "  warnings.warn(\n",
      "/Users/guopei/miniforge3/envs/tf2/lib/python3.9/site-packages/sklearn/covariance/_robust_covariance.py:183: RuntimeWarning: Determinant has increased; this should not happen: log(det) > log(previous_det) (-8061.753291731601166 > -8067.478338585898200). You may want to try with a higher value of support_fraction (current value: 0.799).\n",
      "  warnings.warn(\n",
      "/Users/guopei/miniforge3/envs/tf2/lib/python3.9/site-packages/sklearn/covariance/_robust_covariance.py:183: RuntimeWarning: Determinant has increased; this should not happen: log(det) > log(previous_det) (-8062.047821467689573 > -8078.304373151577238). You may want to try with a higher value of support_fraction (current value: 0.799).\n",
      "  warnings.warn(\n",
      "/Users/guopei/miniforge3/envs/tf2/lib/python3.9/site-packages/sklearn/covariance/_robust_covariance.py:183: RuntimeWarning: Determinant has increased; this should not happen: log(det) > log(previous_det) (-8061.529712312887568 > -8072.760119004980879). You may want to try with a higher value of support_fraction (current value: 0.799).\n",
      "  warnings.warn(\n",
      "/Users/guopei/miniforge3/envs/tf2/lib/python3.9/site-packages/sklearn/covariance/_robust_covariance.py:183: RuntimeWarning: Determinant has increased; this should not happen: log(det) > log(previous_det) (-8068.728178011889213 > -8072.033044035629246). You may want to try with a higher value of support_fraction (current value: 0.799).\n",
      "  warnings.warn(\n",
      "/Users/guopei/miniforge3/envs/tf2/lib/python3.9/site-packages/sklearn/covariance/_robust_covariance.py:183: RuntimeWarning: Determinant has increased; this should not happen: log(det) > log(previous_det) (-8066.675831985438890 > -8067.216175964761533). You may want to try with a higher value of support_fraction (current value: 0.799).\n",
      "  warnings.warn(\n",
      "/Users/guopei/miniforge3/envs/tf2/lib/python3.9/site-packages/sklearn/covariance/_robust_covariance.py:183: RuntimeWarning: Determinant has increased; this should not happen: log(det) > log(previous_det) (-8072.381031849461579 > -8072.622511050766661). You may want to try with a higher value of support_fraction (current value: 0.799).\n",
      "  warnings.warn(\n",
      "/Users/guopei/miniforge3/envs/tf2/lib/python3.9/site-packages/sklearn/covariance/_robust_covariance.py:183: RuntimeWarning: Determinant has increased; this should not happen: log(det) > log(previous_det) (-8070.283356999128046 > -8070.972833266980160). You may want to try with a higher value of support_fraction (current value: 0.799).\n",
      "  warnings.warn(\n",
      "/Users/guopei/miniforge3/envs/tf2/lib/python3.9/site-packages/sklearn/covariance/_robust_covariance.py:183: RuntimeWarning: Determinant has increased; this should not happen: log(det) > log(previous_det) (-8071.174987885875453 > -8071.481378344457880). You may want to try with a higher value of support_fraction (current value: 0.799).\n",
      "  warnings.warn(\n",
      "/Users/guopei/miniforge3/envs/tf2/lib/python3.9/site-packages/sklearn/covariance/_robust_covariance.py:183: RuntimeWarning: Determinant has increased; this should not happen: log(det) > log(previous_det) (-8067.665159485926779 > -8076.025869293239339). You may want to try with a higher value of support_fraction (current value: 0.799).\n",
      "  warnings.warn(\n",
      "/Users/guopei/miniforge3/envs/tf2/lib/python3.9/site-packages/sklearn/covariance/_robust_covariance.py:183: RuntimeWarning: Determinant has increased; this should not happen: log(det) > log(previous_det) (-8067.121792605629707 > -8077.348670732282699). You may want to try with a higher value of support_fraction (current value: 0.799).\n",
      "  warnings.warn(\n",
      "/Users/guopei/miniforge3/envs/tf2/lib/python3.9/site-packages/sklearn/covariance/_robust_covariance.py:183: RuntimeWarning: Determinant has increased; this should not happen: log(det) > log(previous_det) (-8061.288902703598069 > -8068.371367602209830). You may want to try with a higher value of support_fraction (current value: 0.799).\n",
      "  warnings.warn(\n",
      "/Users/guopei/miniforge3/envs/tf2/lib/python3.9/site-packages/sklearn/covariance/_robust_covariance.py:183: RuntimeWarning: Determinant has increased; this should not happen: log(det) > log(previous_det) (-8066.903861663083262 > -8071.282760491865702). You may want to try with a higher value of support_fraction (current value: 0.799).\n",
      "  warnings.warn(\n",
      "/Users/guopei/miniforge3/envs/tf2/lib/python3.9/site-packages/sklearn/covariance/_robust_covariance.py:183: RuntimeWarning: Determinant has increased; this should not happen: log(det) > log(previous_det) (-8069.172598369512343 > -8075.056477178262867). You may want to try with a higher value of support_fraction (current value: 0.799).\n",
      "  warnings.warn(\n",
      "/Users/guopei/miniforge3/envs/tf2/lib/python3.9/site-packages/sklearn/covariance/_robust_covariance.py:183: RuntimeWarning: Determinant has increased; this should not happen: log(det) > log(previous_det) (-8072.977876597174145 > -8076.503254396594457). You may want to try with a higher value of support_fraction (current value: 0.799).\n",
      "  warnings.warn(\n",
      "/Users/guopei/miniforge3/envs/tf2/lib/python3.9/site-packages/sklearn/covariance/_robust_covariance.py:183: RuntimeWarning: Determinant has increased; this should not happen: log(det) > log(previous_det) (-8071.820937678238806 > -8076.141950179667219). You may want to try with a higher value of support_fraction (current value: 0.799).\n",
      "  warnings.warn(\n",
      "/Users/guopei/miniforge3/envs/tf2/lib/python3.9/site-packages/sklearn/covariance/_robust_covariance.py:183: RuntimeWarning: Determinant has increased; this should not happen: log(det) > log(previous_det) (-8077.590387777434444 > -8078.490941907537490). You may want to try with a higher value of support_fraction (current value: 0.799).\n",
      "  warnings.warn(\n",
      "/Users/guopei/miniforge3/envs/tf2/lib/python3.9/site-packages/sklearn/covariance/_robust_covariance.py:183: RuntimeWarning: Determinant has increased; this should not happen: log(det) > log(previous_det) (-8063.937204227040638 > -8064.369456980562973). You may want to try with a higher value of support_fraction (current value: 0.799).\n",
      "  warnings.warn(\n",
      "/Users/guopei/miniforge3/envs/tf2/lib/python3.9/site-packages/sklearn/covariance/_robust_covariance.py:183: RuntimeWarning: Determinant has increased; this should not happen: log(det) > log(previous_det) (-8067.383430406110165 > -8070.180650644896559). You may want to try with a higher value of support_fraction (current value: 0.799).\n",
      "  warnings.warn(\n",
      "/Users/guopei/miniforge3/envs/tf2/lib/python3.9/site-packages/sklearn/covariance/_robust_covariance.py:183: RuntimeWarning: Determinant has increased; this should not happen: log(det) > log(previous_det) (-8061.099618786500287 > -8073.980137361512789). You may want to try with a higher value of support_fraction (current value: 0.799).\n",
      "  warnings.warn(\n"
     ]
    },
    {
     "name": "stdout",
     "output_type": "stream",
     "text": [
      "time: 17.6 s (started: 2022-04-17 16:32:04 +08:00)\n"
     ]
    }
   ],
   "source": [
    "\n",
    "svd = SVD(400)\n",
    "svd.Process(pick_train0)\n",
    "# now I try to remove the noise\n",
    "# instantiate model\n",
    "model2 = EllipticEnvelope(contamination = 0.1, support_fraction=0.8) \n",
    "# fit model\n",
    "result = model2.fit_predict(svd.U)\n"
   ]
  },
  {
   "cell_type": "code",
   "execution_count": 19,
   "id": "be4a9d37-7978-46da-93ba-a4fded923c72",
   "metadata": {},
   "outputs": [
    {
     "data": {
      "text/plain": [
       "(545,)"
      ]
     },
     "execution_count": 19,
     "metadata": {},
     "output_type": "execute_result"
    },
    {
     "name": "stdout",
     "output_type": "stream",
     "text": [
      "time: 1.48 ms (started: 2022-04-17 16:32:22 +08:00)\n"
     ]
    }
   ],
   "source": [
    "result[result == 1].shape"
   ]
  },
  {
   "cell_type": "code",
   "execution_count": 20,
   "id": "4e47ce37-2a94-452f-8dc1-87732a3d6bb3",
   "metadata": {},
   "outputs": [
    {
     "data": {
      "text/plain": [
       "(606,)"
      ]
     },
     "execution_count": 20,
     "metadata": {},
     "output_type": "execute_result"
    },
    {
     "name": "stdout",
     "output_type": "stream",
     "text": [
      "time: 1.27 ms (started: 2022-04-17 16:32:22 +08:00)\n"
     ]
    }
   ],
   "source": [
    "result.shape"
   ]
  },
  {
   "cell_type": "code",
   "execution_count": 21,
   "id": "57d9f8a4-f2fe-4b96-9a9d-46426eca56a3",
   "metadata": {},
   "outputs": [
    {
     "name": "stdout",
     "output_type": "stream",
     "text": [
      "time: 3.13 ms (started: 2022-04-17 16:32:22 +08:00)\n"
     ]
    }
   ],
   "source": [
    "trainDF2 = trainDF[y_train == 0]\n",
    "resultDF = pd.DataFrame(result, columns=['markasnoise'], index = trainDF2.index)\n"
   ]
  },
  {
   "cell_type": "code",
   "execution_count": 22,
   "id": "f161f248-0630-466b-8c45-4d82b387fbdd",
   "metadata": {},
   "outputs": [
    {
     "data": {
      "text/plain": [
       "(606, 7)"
      ]
     },
     "execution_count": 22,
     "metadata": {},
     "output_type": "execute_result"
    },
    {
     "name": "stdout",
     "output_type": "stream",
     "text": [
      "time: 4.18 ms (started: 2022-04-17 16:32:22 +08:00)\n"
     ]
    }
   ],
   "source": [
    "# the noise is marked 1, otherwise \n",
    "resultDF[resultDF['markasnoise'] == 1] = 0\n",
    "resultDF[resultDF['markasnoise']==-1] = 1\n",
    "trainDF3 = trainDF2.join(resultDF)\n",
    "trainDF3[trainDF3['noise'] == trainDF3['markasnoise']].shape\n",
    "trainDF3.shape"
   ]
  },
  {
   "cell_type": "code",
   "execution_count": 23,
   "id": "60b5f82f-dd79-4498-9daa-abe49ab6ca5f",
   "metadata": {},
   "outputs": [
    {
     "name": "stdout",
     "output_type": "stream",
     "text": [
      "time: 564 µs (started: 2022-04-17 16:32:22 +08:00)\n"
     ]
    }
   ],
   "source": [
    "def DetectNoise( trainDF, trainVec, y_train, sentimentType, dimension):\n",
    "    # I only pick the data with the specific type\n",
    "    pick_trainX = X_train_vec[y_train==sentimentType]    \n",
    "    svd = SVD(dimension)\n",
    "    svd.Process(pick_trainX)\n",
    "    # now I try to remove the noise\n",
    "    # instantiate model\n",
    "    model = EllipticEnvelope(contamination = 0.1, support_fraction=0.8) \n",
    "    # fit model\n",
    "    result = model.fit_predict(svd.U)\n",
    "    pick_trainDF = trainDF[y_train == sentimentType]\n",
    "    # create result data frame\n",
    "    resultDF = pd.DataFrame(result, columns=['markasnoise'], index = pick_trainDF.index)\n",
    "    # change the flag 0: not noise 1: noise\n",
    "    resultDF[resultDF['markasnoise'] == 1] = 0\n",
    "    resultDF[resultDF['markasnoise']==-1] = 1\n",
    "    # append markasnoise column to the train data frame\n",
    "    newTrainDF = pick_trainDF.join(resultDF)\n",
    "    return newTrainDF\n",
    "    "
   ]
  },
  {
   "cell_type": "code",
   "execution_count": 24,
   "id": "304d116b-b31c-43ab-8ffc-ecb82f2ae73a",
   "metadata": {},
   "outputs": [
    {
     "name": "stdout",
     "output_type": "stream",
     "text": [
      "time: 567 µs (started: 2022-04-17 16:32:22 +08:00)\n"
     ]
    }
   ],
   "source": [
    "def CleanDFNoise(trainDF, X_train_vec, y_train, dimension):\n",
    "    trainDFs = []\n",
    "    \n",
    "    for sentiment in [0,1,2,3]:\n",
    "        # detect noise\n",
    "        trainDFForSentiment = DetectNoise(trainDF, X_train_vec, y_train, sentiment, dimension)\n",
    "        trainDFs.append(trainDFForSentiment)\n",
    "    # merge the dataframes\n",
    "    mergedDF = pd.concat(trainDFs)\n",
    "    # finally I drop the rows marked as noise\n",
    "    cleanDF = mergedDF[mergedDF['markasnoise'] == 0]\n",
    "    new_trainVec = X_train_vec[mergedDF['markasnoise'] == 0]\n",
    "    new_ytrain = y_train[mergedDF['markasnoise'] == 0]\n",
    "    return (cleanDF, new_trainVec, new_ytrain)\n"
   ]
  },
  {
   "cell_type": "code",
   "execution_count": 25,
   "id": "ca33822a-107e-42f9-a87e-71fda52fba61",
   "metadata": {},
   "outputs": [
    {
     "name": "stderr",
     "output_type": "stream",
     "text": [
      "/Users/guopei/miniforge3/envs/tf2/lib/python3.9/site-packages/sklearn/covariance/_robust_covariance.py:183: RuntimeWarning: Determinant has increased; this should not happen: log(det) > log(previous_det) (-8067.431648128017514 > -8068.552413011691897). You may want to try with a higher value of support_fraction (current value: 0.799).\n",
      "  warnings.warn(\n",
      "/Users/guopei/miniforge3/envs/tf2/lib/python3.9/site-packages/sklearn/covariance/_robust_covariance.py:183: RuntimeWarning: Determinant has increased; this should not happen: log(det) > log(previous_det) (-8089.751797333129616 > -8105.548979815713210). You may want to try with a higher value of support_fraction (current value: 0.799).\n",
      "  warnings.warn(\n",
      "/Users/guopei/miniforge3/envs/tf2/lib/python3.9/site-packages/sklearn/covariance/_robust_covariance.py:183: RuntimeWarning: Determinant has increased; this should not happen: log(det) > log(previous_det) (-8086.498195834289618 > -8094.947985719127246). You may want to try with a higher value of support_fraction (current value: 0.799).\n",
      "  warnings.warn(\n",
      "/Users/guopei/miniforge3/envs/tf2/lib/python3.9/site-packages/sklearn/covariance/_robust_covariance.py:183: RuntimeWarning: Determinant has increased; this should not happen: log(det) > log(previous_det) (-8080.370148440373669 > -8083.681165893468460). You may want to try with a higher value of support_fraction (current value: 0.799).\n",
      "  warnings.warn(\n",
      "/Users/guopei/miniforge3/envs/tf2/lib/python3.9/site-packages/sklearn/covariance/_robust_covariance.py:183: RuntimeWarning: Determinant has increased; this should not happen: log(det) > log(previous_det) (-8096.768866700865146 > -8102.758486450461533). You may want to try with a higher value of support_fraction (current value: 0.799).\n",
      "  warnings.warn(\n",
      "/Users/guopei/miniforge3/envs/tf2/lib/python3.9/site-packages/sklearn/covariance/_robust_covariance.py:183: RuntimeWarning: Determinant has increased; this should not happen: log(det) > log(previous_det) (-8088.644247171589996 > -8089.617609800017817). You may want to try with a higher value of support_fraction (current value: 0.799).\n",
      "  warnings.warn(\n",
      "/Users/guopei/miniforge3/envs/tf2/lib/python3.9/site-packages/sklearn/covariance/_robust_covariance.py:183: RuntimeWarning: Determinant has increased; this should not happen: log(det) > log(previous_det) (-8072.773243414490935 > -8088.969165321402215). You may want to try with a higher value of support_fraction (current value: 0.799).\n",
      "  warnings.warn(\n",
      "/Users/guopei/miniforge3/envs/tf2/lib/python3.9/site-packages/sklearn/covariance/_robust_covariance.py:183: RuntimeWarning: Determinant has increased; this should not happen: log(det) > log(previous_det) (-8084.727011835357189 > -8098.381792132524424). You may want to try with a higher value of support_fraction (current value: 0.799).\n",
      "  warnings.warn(\n",
      "/Users/guopei/miniforge3/envs/tf2/lib/python3.9/site-packages/sklearn/covariance/_robust_covariance.py:183: RuntimeWarning: Determinant has increased; this should not happen: log(det) > log(previous_det) (-8081.342229660017438 > -8084.382056875927447). You may want to try with a higher value of support_fraction (current value: 0.799).\n",
      "  warnings.warn(\n",
      "/Users/guopei/miniforge3/envs/tf2/lib/python3.9/site-packages/sklearn/covariance/_robust_covariance.py:183: RuntimeWarning: Determinant has increased; this should not happen: log(det) > log(previous_det) (-8066.712634972828710 > -8088.501864471711997). You may want to try with a higher value of support_fraction (current value: 0.799).\n",
      "  warnings.warn(\n",
      "/Users/guopei/miniforge3/envs/tf2/lib/python3.9/site-packages/sklearn/covariance/_robust_covariance.py:183: RuntimeWarning: Determinant has increased; this should not happen: log(det) > log(previous_det) (-8092.842502497364876 > -8094.382986132951373). You may want to try with a higher value of support_fraction (current value: 0.799).\n",
      "  warnings.warn(\n",
      "/Users/guopei/miniforge3/envs/tf2/lib/python3.9/site-packages/sklearn/covariance/_robust_covariance.py:183: RuntimeWarning: Determinant has increased; this should not happen: log(det) > log(previous_det) (-8099.905474630171739 > -8105.715372419351297). You may want to try with a higher value of support_fraction (current value: 0.799).\n",
      "  warnings.warn(\n",
      "/Users/guopei/miniforge3/envs/tf2/lib/python3.9/site-packages/sklearn/covariance/_robust_covariance.py:183: RuntimeWarning: Determinant has increased; this should not happen: log(det) > log(previous_det) (-8073.700821072346116 > -8080.207837079067758). You may want to try with a higher value of support_fraction (current value: 0.799).\n",
      "  warnings.warn(\n",
      "/Users/guopei/miniforge3/envs/tf2/lib/python3.9/site-packages/sklearn/covariance/_robust_covariance.py:183: RuntimeWarning: Determinant has increased; this should not happen: log(det) > log(previous_det) (-8091.728079096398687 > -8094.487231547877855). You may want to try with a higher value of support_fraction (current value: 0.799).\n",
      "  warnings.warn(\n",
      "/Users/guopei/miniforge3/envs/tf2/lib/python3.9/site-packages/sklearn/covariance/_robust_covariance.py:183: RuntimeWarning: Determinant has increased; this should not happen: log(det) > log(previous_det) (-8078.981734312578737 > -8090.833659882908250). You may want to try with a higher value of support_fraction (current value: 0.799).\n",
      "  warnings.warn(\n",
      "/Users/guopei/miniforge3/envs/tf2/lib/python3.9/site-packages/sklearn/covariance/_robust_covariance.py:183: RuntimeWarning: Determinant has increased; this should not happen: log(det) > log(previous_det) (-8098.352085143298609 > -8099.812723077169721). You may want to try with a higher value of support_fraction (current value: 0.799).\n",
      "  warnings.warn(\n",
      "/Users/guopei/miniforge3/envs/tf2/lib/python3.9/site-packages/sklearn/covariance/_robust_covariance.py:183: RuntimeWarning: Determinant has increased; this should not happen: log(det) > log(previous_det) (-8093.413835955928334 > -8094.193395740609958). You may want to try with a higher value of support_fraction (current value: 0.799).\n",
      "  warnings.warn(\n",
      "/Users/guopei/miniforge3/envs/tf2/lib/python3.9/site-packages/sklearn/covariance/_robust_covariance.py:183: RuntimeWarning: Determinant has increased; this should not happen: log(det) > log(previous_det) (-8081.367657281783067 > -8085.811931936696965). You may want to try with a higher value of support_fraction (current value: 0.799).\n",
      "  warnings.warn(\n",
      "/Users/guopei/miniforge3/envs/tf2/lib/python3.9/site-packages/sklearn/covariance/_robust_covariance.py:183: RuntimeWarning: Determinant has increased; this should not happen: log(det) > log(previous_det) (-8078.579657784446681 > -8087.058535732162454). You may want to try with a higher value of support_fraction (current value: 0.799).\n",
      "  warnings.warn(\n",
      "/Users/guopei/miniforge3/envs/tf2/lib/python3.9/site-packages/sklearn/covariance/_robust_covariance.py:183: RuntimeWarning: Determinant has increased; this should not happen: log(det) > log(previous_det) (-8085.622768150108641 > -8096.408620148716182). You may want to try with a higher value of support_fraction (current value: 0.799).\n",
      "  warnings.warn(\n",
      "/Users/guopei/miniforge3/envs/tf2/lib/python3.9/site-packages/sklearn/covariance/_robust_covariance.py:183: RuntimeWarning: Determinant has increased; this should not happen: log(det) > log(previous_det) (-8084.326470246792269 > -8098.924742017789868). You may want to try with a higher value of support_fraction (current value: 0.799).\n",
      "  warnings.warn(\n",
      "/Users/guopei/miniforge3/envs/tf2/lib/python3.9/site-packages/sklearn/covariance/_robust_covariance.py:183: RuntimeWarning: Determinant has increased; this should not happen: log(det) > log(previous_det) (-8093.513945994835012 > -8094.936639653546081). You may want to try with a higher value of support_fraction (current value: 0.799).\n",
      "  warnings.warn(\n",
      "/Users/guopei/miniforge3/envs/tf2/lib/python3.9/site-packages/sklearn/covariance/_robust_covariance.py:183: RuntimeWarning: Determinant has increased; this should not happen: log(det) > log(previous_det) (-8091.725476831988999 > -8094.681343783594457). You may want to try with a higher value of support_fraction (current value: 0.799).\n",
      "  warnings.warn(\n",
      "/Users/guopei/miniforge3/envs/tf2/lib/python3.9/site-packages/sklearn/covariance/_robust_covariance.py:183: RuntimeWarning: Determinant has increased; this should not happen: log(det) > log(previous_det) (-8077.123276114113651 > -8090.798310795262296). You may want to try with a higher value of support_fraction (current value: 0.799).\n",
      "  warnings.warn(\n",
      "/Users/guopei/miniforge3/envs/tf2/lib/python3.9/site-packages/sklearn/covariance/_robust_covariance.py:183: RuntimeWarning: Determinant has increased; this should not happen: log(det) > log(previous_det) (-8091.618044954588186 > -8095.116933014700408). You may want to try with a higher value of support_fraction (current value: 0.799).\n",
      "  warnings.warn(\n",
      "/Users/guopei/miniforge3/envs/tf2/lib/python3.9/site-packages/sklearn/covariance/_robust_covariance.py:183: RuntimeWarning: Determinant has increased; this should not happen: log(det) > log(previous_det) (-8080.358389069033365 > -8081.233747098177446). You may want to try with a higher value of support_fraction (current value: 0.799).\n",
      "  warnings.warn(\n",
      "/Users/guopei/miniforge3/envs/tf2/lib/python3.9/site-packages/sklearn/covariance/_robust_covariance.py:183: RuntimeWarning: Determinant has increased; this should not happen: log(det) > log(previous_det) (-8073.784561716647659 > -8081.647648522747659). You may want to try with a higher value of support_fraction (current value: 0.799).\n",
      "  warnings.warn(\n",
      "/Users/guopei/miniforge3/envs/tf2/lib/python3.9/site-packages/sklearn/covariance/_robust_covariance.py:183: RuntimeWarning: Determinant has increased; this should not happen: log(det) > log(previous_det) (-8079.963437400737348 > -8085.369457501397846). You may want to try with a higher value of support_fraction (current value: 0.799).\n",
      "  warnings.warn(\n",
      "/Users/guopei/miniforge3/envs/tf2/lib/python3.9/site-packages/sklearn/covariance/_robust_covariance.py:183: RuntimeWarning: Determinant has increased; this should not happen: log(det) > log(previous_det) (-8086.933839625636210 > -8089.552727932587004). You may want to try with a higher value of support_fraction (current value: 0.799).\n",
      "  warnings.warn(\n",
      "/Users/guopei/miniforge3/envs/tf2/lib/python3.9/site-packages/sklearn/covariance/_robust_covariance.py:183: RuntimeWarning: Determinant has increased; this should not happen: log(det) > log(previous_det) (-8073.024644693865412 > -8087.004040466665174). You may want to try with a higher value of support_fraction (current value: 0.799).\n",
      "  warnings.warn(\n",
      "/Users/guopei/miniforge3/envs/tf2/lib/python3.9/site-packages/sklearn/covariance/_robust_covariance.py:183: RuntimeWarning: Determinant has increased; this should not happen: log(det) > log(previous_det) (-8088.103913188616389 > -8088.231934190706852). You may want to try with a higher value of support_fraction (current value: 0.799).\n",
      "  warnings.warn(\n",
      "/Users/guopei/miniforge3/envs/tf2/lib/python3.9/site-packages/sklearn/covariance/_robust_covariance.py:183: RuntimeWarning: Determinant has increased; this should not happen: log(det) > log(previous_det) (-8075.338387898574183 > -8090.053726756149445). You may want to try with a higher value of support_fraction (current value: 0.799).\n",
      "  warnings.warn(\n",
      "/Users/guopei/miniforge3/envs/tf2/lib/python3.9/site-packages/sklearn/covariance/_robust_covariance.py:183: RuntimeWarning: Determinant has increased; this should not happen: log(det) > log(previous_det) (-8095.605114435358701 > -8096.760704487967814). You may want to try with a higher value of support_fraction (current value: 0.799).\n",
      "  warnings.warn(\n",
      "/Users/guopei/miniforge3/envs/tf2/lib/python3.9/site-packages/sklearn/covariance/_robust_covariance.py:183: RuntimeWarning: Determinant has increased; this should not happen: log(det) > log(previous_det) (-8070.568833926268780 > -8085.812690774015209). You may want to try with a higher value of support_fraction (current value: 0.799).\n",
      "  warnings.warn(\n",
      "/Users/guopei/miniforge3/envs/tf2/lib/python3.9/site-packages/sklearn/covariance/_robust_covariance.py:183: RuntimeWarning: Determinant has increased; this should not happen: log(det) > log(previous_det) (-8080.574602308095564 > -8094.705816482146474). You may want to try with a higher value of support_fraction (current value: 0.799).\n",
      "  warnings.warn(\n",
      "/Users/guopei/miniforge3/envs/tf2/lib/python3.9/site-packages/sklearn/covariance/_robust_covariance.py:183: RuntimeWarning: Determinant has increased; this should not happen: log(det) > log(previous_det) (-8081.901103812485417 > -8083.493966655891199). You may want to try with a higher value of support_fraction (current value: 0.799).\n",
      "  warnings.warn(\n",
      "/Users/guopei/miniforge3/envs/tf2/lib/python3.9/site-packages/sklearn/covariance/_robust_covariance.py:183: RuntimeWarning: Determinant has increased; this should not happen: log(det) > log(previous_det) (-8095.152210556740101 > -8098.038275105825051). You may want to try with a higher value of support_fraction (current value: 0.799).\n",
      "  warnings.warn(\n",
      "/Users/guopei/miniforge3/envs/tf2/lib/python3.9/site-packages/sklearn/covariance/_robust_covariance.py:183: RuntimeWarning: Determinant has increased; this should not happen: log(det) > log(previous_det) (-8091.196962407370847 > -8096.992532234143255). You may want to try with a higher value of support_fraction (current value: 0.799).\n",
      "  warnings.warn(\n",
      "/Users/guopei/miniforge3/envs/tf2/lib/python3.9/site-packages/sklearn/covariance/_robust_covariance.py:183: RuntimeWarning: Determinant has increased; this should not happen: log(det) > log(previous_det) (-8088.086739436144853 > -8098.876637707524424). You may want to try with a higher value of support_fraction (current value: 0.799).\n",
      "  warnings.warn(\n",
      "/Users/guopei/miniforge3/envs/tf2/lib/python3.9/site-packages/sklearn/covariance/_robust_covariance.py:183: RuntimeWarning: Determinant has increased; this should not happen: log(det) > log(previous_det) (-8083.888106510199577 > -8085.379275759096345). You may want to try with a higher value of support_fraction (current value: 0.799).\n",
      "  warnings.warn(\n",
      "/Users/guopei/miniforge3/envs/tf2/lib/python3.9/site-packages/sklearn/covariance/_robust_covariance.py:183: RuntimeWarning: Determinant has increased; this should not happen: log(det) > log(previous_det) (-8068.690105101407426 > -8081.637110800632399). You may want to try with a higher value of support_fraction (current value: 0.799).\n",
      "  warnings.warn(\n",
      "/Users/guopei/miniforge3/envs/tf2/lib/python3.9/site-packages/sklearn/covariance/_robust_covariance.py:183: RuntimeWarning: Determinant has increased; this should not happen: log(det) > log(previous_det) (-8082.791862598901389 > -8084.127491866222954). You may want to try with a higher value of support_fraction (current value: 0.799).\n",
      "  warnings.warn(\n",
      "/Users/guopei/miniforge3/envs/tf2/lib/python3.9/site-packages/sklearn/covariance/_robust_covariance.py:183: RuntimeWarning: Determinant has increased; this should not happen: log(det) > log(previous_det) (-8067.247237859542111 > -8079.918883122056286). You may want to try with a higher value of support_fraction (current value: 0.799).\n",
      "  warnings.warn(\n",
      "/Users/guopei/miniforge3/envs/tf2/lib/python3.9/site-packages/sklearn/covariance/_robust_covariance.py:183: RuntimeWarning: Determinant has increased; this should not happen: log(det) > log(previous_det) (-8067.208896813906904 > -8071.192788553566970). You may want to try with a higher value of support_fraction (current value: 0.799).\n",
      "  warnings.warn(\n",
      "/Users/guopei/miniforge3/envs/tf2/lib/python3.9/site-packages/sklearn/covariance/_robust_covariance.py:183: RuntimeWarning: Determinant has increased; this should not happen: log(det) > log(previous_det) (-8080.004435668187398 > -8083.003579125294891). You may want to try with a higher value of support_fraction (current value: 0.799).\n",
      "  warnings.warn(\n",
      "/Users/guopei/miniforge3/envs/tf2/lib/python3.9/site-packages/sklearn/covariance/_robust_covariance.py:183: RuntimeWarning: Determinant has increased; this should not happen: log(det) > log(previous_det) (-8079.002201163721111 > -8083.667865990815699). You may want to try with a higher value of support_fraction (current value: 0.799).\n",
      "  warnings.warn(\n",
      "/Users/guopei/miniforge3/envs/tf2/lib/python3.9/site-packages/sklearn/covariance/_robust_covariance.py:183: RuntimeWarning: Determinant has increased; this should not happen: log(det) > log(previous_det) (-8069.490419347916031 > -8083.337165633197401). You may want to try with a higher value of support_fraction (current value: 0.799).\n",
      "  warnings.warn(\n",
      "/Users/guopei/miniforge3/envs/tf2/lib/python3.9/site-packages/sklearn/covariance/_robust_covariance.py:183: RuntimeWarning: Determinant has increased; this should not happen: log(det) > log(previous_det) (-8075.044965142807087 > -8090.618003327436782). You may want to try with a higher value of support_fraction (current value: 0.799).\n",
      "  warnings.warn(\n",
      "/Users/guopei/miniforge3/envs/tf2/lib/python3.9/site-packages/sklearn/covariance/_robust_covariance.py:183: RuntimeWarning: Determinant has increased; this should not happen: log(det) > log(previous_det) (-8088.162639510365807 > -8088.361980279640193). You may want to try with a higher value of support_fraction (current value: 0.799).\n",
      "  warnings.warn(\n",
      "/Users/guopei/miniforge3/envs/tf2/lib/python3.9/site-packages/sklearn/covariance/_robust_covariance.py:183: RuntimeWarning: Determinant has increased; this should not happen: log(det) > log(previous_det) (-8069.464282466858094 > -8080.226816219606008). You may want to try with a higher value of support_fraction (current value: 0.799).\n",
      "  warnings.warn(\n",
      "/Users/guopei/miniforge3/envs/tf2/lib/python3.9/site-packages/sklearn/covariance/_robust_covariance.py:183: RuntimeWarning: Determinant has increased; this should not happen: log(det) > log(previous_det) (-8067.829024768725503 > -8081.944679071913015). You may want to try with a higher value of support_fraction (current value: 0.799).\n",
      "  warnings.warn(\n",
      "/Users/guopei/miniforge3/envs/tf2/lib/python3.9/site-packages/sklearn/covariance/_robust_covariance.py:183: RuntimeWarning: Determinant has increased; this should not happen: log(det) > log(previous_det) (-8074.304784791847851 > -8077.869921817775321). You may want to try with a higher value of support_fraction (current value: 0.799).\n",
      "  warnings.warn(\n",
      "/Users/guopei/miniforge3/envs/tf2/lib/python3.9/site-packages/sklearn/covariance/_robust_covariance.py:183: RuntimeWarning: Determinant has increased; this should not happen: log(det) > log(previous_det) (-8075.740897604558086 > -8078.314399119080917). You may want to try with a higher value of support_fraction (current value: 0.799).\n",
      "  warnings.warn(\n",
      "/Users/guopei/miniforge3/envs/tf2/lib/python3.9/site-packages/sklearn/covariance/_robust_covariance.py:183: RuntimeWarning: Determinant has increased; this should not happen: log(det) > log(previous_det) (-8068.742825509440991 > -8076.805285626794102). You may want to try with a higher value of support_fraction (current value: 0.799).\n",
      "  warnings.warn(\n",
      "/Users/guopei/miniforge3/envs/tf2/lib/python3.9/site-packages/sklearn/covariance/_robust_covariance.py:183: RuntimeWarning: Determinant has increased; this should not happen: log(det) > log(previous_det) (-8073.591237196000293 > -8366.141662666099364). You may want to try with a higher value of support_fraction (current value: 0.799).\n",
      "  warnings.warn(\n",
      "/Users/guopei/miniforge3/envs/tf2/lib/python3.9/site-packages/sklearn/covariance/_robust_covariance.py:183: RuntimeWarning: Determinant has increased; this should not happen: log(det) > log(previous_det) (-8071.172085954467548 > -8076.098322016680868). You may want to try with a higher value of support_fraction (current value: 0.799).\n",
      "  warnings.warn(\n",
      "/Users/guopei/miniforge3/envs/tf2/lib/python3.9/site-packages/sklearn/covariance/_robust_covariance.py:183: RuntimeWarning: Determinant has increased; this should not happen: log(det) > log(previous_det) (-8073.664788636749108 > -8078.155129701818623). You may want to try with a higher value of support_fraction (current value: 0.799).\n",
      "  warnings.warn(\n",
      "/Users/guopei/miniforge3/envs/tf2/lib/python3.9/site-packages/sklearn/covariance/_robust_covariance.py:183: RuntimeWarning: Determinant has increased; this should not happen: log(det) > log(previous_det) (-8080.545614342709086 > -8081.835361944604301). You may want to try with a higher value of support_fraction (current value: 0.799).\n",
      "  warnings.warn(\n",
      "/Users/guopei/miniforge3/envs/tf2/lib/python3.9/site-packages/sklearn/covariance/_robust_covariance.py:183: RuntimeWarning: Determinant has increased; this should not happen: log(det) > log(previous_det) (-8073.221886966501188 > -8076.438964193738684). You may want to try with a higher value of support_fraction (current value: 0.799).\n",
      "  warnings.warn(\n",
      "/Users/guopei/miniforge3/envs/tf2/lib/python3.9/site-packages/sklearn/covariance/_robust_covariance.py:183: RuntimeWarning: Determinant has increased; this should not happen: log(det) > log(previous_det) (-8080.454506513623528 > -8082.719429328868500). You may want to try with a higher value of support_fraction (current value: 0.799).\n",
      "  warnings.warn(\n",
      "/Users/guopei/miniforge3/envs/tf2/lib/python3.9/site-packages/sklearn/covariance/_robust_covariance.py:183: RuntimeWarning: Determinant has increased; this should not happen: log(det) > log(previous_det) (-8077.979625146931539 > -8081.076635337060907). You may want to try with a higher value of support_fraction (current value: 0.799).\n",
      "  warnings.warn(\n",
      "/Users/guopei/miniforge3/envs/tf2/lib/python3.9/site-packages/sklearn/covariance/_robust_covariance.py:183: RuntimeWarning: Determinant has increased; this should not happen: log(det) > log(previous_det) (-8076.084243405910456 > -8095.910893275465241). You may want to try with a higher value of support_fraction (current value: 0.799).\n",
      "  warnings.warn(\n",
      "/Users/guopei/miniforge3/envs/tf2/lib/python3.9/site-packages/sklearn/covariance/_robust_covariance.py:183: RuntimeWarning: Determinant has increased; this should not happen: log(det) > log(previous_det) (-8076.430681889963125 > -8086.599974934033526). You may want to try with a higher value of support_fraction (current value: 0.799).\n",
      "  warnings.warn(\n",
      "/Users/guopei/miniforge3/envs/tf2/lib/python3.9/site-packages/sklearn/covariance/_robust_covariance.py:183: RuntimeWarning: Determinant has increased; this should not happen: log(det) > log(previous_det) (-7681.402162051907908 > -7696.682797500728157). You may want to try with a higher value of support_fraction (current value: 0.801).\n",
      "  warnings.warn(\n",
      "/Users/guopei/miniforge3/envs/tf2/lib/python3.9/site-packages/sklearn/covariance/_robust_covariance.py:183: RuntimeWarning: Determinant has increased; this should not happen: log(det) > log(previous_det) (-7686.389715394025188 > -8225.002424934718874). You may want to try with a higher value of support_fraction (current value: 0.801).\n",
      "  warnings.warn(\n",
      "/Users/guopei/miniforge3/envs/tf2/lib/python3.9/site-packages/sklearn/covariance/_robust_covariance.py:183: RuntimeWarning: Determinant has increased; this should not happen: log(det) > log(previous_det) (-7678.895508205809165 > -7682.169875702051286). You may want to try with a higher value of support_fraction (current value: 0.801).\n",
      "  warnings.warn(\n",
      "/Users/guopei/miniforge3/envs/tf2/lib/python3.9/site-packages/sklearn/covariance/_robust_covariance.py:183: RuntimeWarning: Determinant has increased; this should not happen: log(det) > log(previous_det) (-7678.043096821569634 > -7683.752068984506877). You may want to try with a higher value of support_fraction (current value: 0.801).\n",
      "  warnings.warn(\n",
      "/Users/guopei/miniforge3/envs/tf2/lib/python3.9/site-packages/sklearn/covariance/_robust_covariance.py:183: RuntimeWarning: Determinant has increased; this should not happen: log(det) > log(previous_det) (-7680.800451429744498 > -7692.089559164001912). You may want to try with a higher value of support_fraction (current value: 0.801).\n",
      "  warnings.warn(\n",
      "/Users/guopei/miniforge3/envs/tf2/lib/python3.9/site-packages/sklearn/covariance/_robust_covariance.py:183: RuntimeWarning: Determinant has increased; this should not happen: log(det) > log(previous_det) (-7673.510160350661863 > -7681.108335032012292). You may want to try with a higher value of support_fraction (current value: 0.801).\n",
      "  warnings.warn(\n",
      "/Users/guopei/miniforge3/envs/tf2/lib/python3.9/site-packages/sklearn/covariance/_robust_covariance.py:183: RuntimeWarning: Determinant has increased; this should not happen: log(det) > log(previous_det) (-7678.669394354667020 > -7683.605952017132950). You may want to try with a higher value of support_fraction (current value: 0.801).\n",
      "  warnings.warn(\n",
      "/Users/guopei/miniforge3/envs/tf2/lib/python3.9/site-packages/sklearn/covariance/_robust_covariance.py:183: RuntimeWarning: Determinant has increased; this should not happen: log(det) > log(previous_det) (-7680.240778175920241 > -7681.186982391727724). You may want to try with a higher value of support_fraction (current value: 0.801).\n",
      "  warnings.warn(\n",
      "/Users/guopei/miniforge3/envs/tf2/lib/python3.9/site-packages/sklearn/covariance/_robust_covariance.py:183: RuntimeWarning: Determinant has increased; this should not happen: log(det) > log(previous_det) (-7687.565381073121898 > -7691.548246400675453). You may want to try with a higher value of support_fraction (current value: 0.801).\n",
      "  warnings.warn(\n",
      "/Users/guopei/miniforge3/envs/tf2/lib/python3.9/site-packages/sklearn/covariance/_robust_covariance.py:183: RuntimeWarning: Determinant has increased; this should not happen: log(det) > log(previous_det) (-7681.592536609366107 > -7684.161055972135728). You may want to try with a higher value of support_fraction (current value: 0.801).\n",
      "  warnings.warn(\n",
      "/Users/guopei/miniforge3/envs/tf2/lib/python3.9/site-packages/sklearn/covariance/_robust_covariance.py:183: RuntimeWarning: Determinant has increased; this should not happen: log(det) > log(previous_det) (-7678.644995750006274 > -7681.836311043113710). You may want to try with a higher value of support_fraction (current value: 0.801).\n",
      "  warnings.warn(\n",
      "/Users/guopei/miniforge3/envs/tf2/lib/python3.9/site-packages/sklearn/covariance/_robust_covariance.py:183: RuntimeWarning: Determinant has increased; this should not happen: log(det) > log(previous_det) (-7691.966839014347897 > -7705.283486897054900). You may want to try with a higher value of support_fraction (current value: 0.801).\n",
      "  warnings.warn(\n",
      "/Users/guopei/miniforge3/envs/tf2/lib/python3.9/site-packages/sklearn/covariance/_robust_covariance.py:183: RuntimeWarning: Determinant has increased; this should not happen: log(det) > log(previous_det) (-7665.622209767568165 > -7675.363790725287799). You may want to try with a higher value of support_fraction (current value: 0.801).\n",
      "  warnings.warn(\n",
      "/Users/guopei/miniforge3/envs/tf2/lib/python3.9/site-packages/sklearn/covariance/_robust_covariance.py:183: RuntimeWarning: Determinant has increased; this should not happen: log(det) > log(previous_det) (-7681.922815304460528 > -7693.865927609638675). You may want to try with a higher value of support_fraction (current value: 0.801).\n",
      "  warnings.warn(\n",
      "/Users/guopei/miniforge3/envs/tf2/lib/python3.9/site-packages/sklearn/covariance/_robust_covariance.py:183: RuntimeWarning: Determinant has increased; this should not happen: log(det) > log(previous_det) (-7687.797385730568749 > -7705.239089299985608). You may want to try with a higher value of support_fraction (current value: 0.801).\n",
      "  warnings.warn(\n",
      "/Users/guopei/miniforge3/envs/tf2/lib/python3.9/site-packages/sklearn/covariance/_robust_covariance.py:183: RuntimeWarning: Determinant has increased; this should not happen: log(det) > log(previous_det) (-7687.642435197807572 > -7688.093549725303092). You may want to try with a higher value of support_fraction (current value: 0.801).\n",
      "  warnings.warn(\n",
      "/Users/guopei/miniforge3/envs/tf2/lib/python3.9/site-packages/sklearn/covariance/_robust_covariance.py:183: RuntimeWarning: Determinant has increased; this should not happen: log(det) > log(previous_det) (-7672.666042200884476 > -7678.394505670669787). You may want to try with a higher value of support_fraction (current value: 0.801).\n",
      "  warnings.warn(\n",
      "/Users/guopei/miniforge3/envs/tf2/lib/python3.9/site-packages/sklearn/covariance/_robust_covariance.py:183: RuntimeWarning: Determinant has increased; this should not happen: log(det) > log(previous_det) (-7677.892266346657379 > -7705.819252078501449). You may want to try with a higher value of support_fraction (current value: 0.801).\n",
      "  warnings.warn(\n",
      "/Users/guopei/miniforge3/envs/tf2/lib/python3.9/site-packages/sklearn/covariance/_robust_covariance.py:183: RuntimeWarning: Determinant has increased; this should not happen: log(det) > log(previous_det) (-7679.561709117328064 > -7684.563707207183143). You may want to try with a higher value of support_fraction (current value: 0.801).\n",
      "  warnings.warn(\n",
      "/Users/guopei/miniforge3/envs/tf2/lib/python3.9/site-packages/sklearn/covariance/_robust_covariance.py:183: RuntimeWarning: Determinant has increased; this should not happen: log(det) > log(previous_det) (-7679.635945042095045 > -7681.862175324424243). You may want to try with a higher value of support_fraction (current value: 0.801).\n",
      "  warnings.warn(\n",
      "/Users/guopei/miniforge3/envs/tf2/lib/python3.9/site-packages/sklearn/covariance/_robust_covariance.py:183: RuntimeWarning: Determinant has increased; this should not happen: log(det) > log(previous_det) (-7686.297471877568569 > -7705.784723556554127). You may want to try with a higher value of support_fraction (current value: 0.801).\n",
      "  warnings.warn(\n",
      "/Users/guopei/miniforge3/envs/tf2/lib/python3.9/site-packages/sklearn/covariance/_robust_covariance.py:183: RuntimeWarning: Determinant has increased; this should not happen: log(det) > log(previous_det) (-7678.595431629473751 > -7692.396698071123865). You may want to try with a higher value of support_fraction (current value: 0.801).\n",
      "  warnings.warn(\n",
      "/Users/guopei/miniforge3/envs/tf2/lib/python3.9/site-packages/sklearn/covariance/_robust_covariance.py:183: RuntimeWarning: Determinant has increased; this should not happen: log(det) > log(previous_det) (-7683.488486698616725 > -7683.984908210788490). You may want to try with a higher value of support_fraction (current value: 0.801).\n",
      "  warnings.warn(\n",
      "/Users/guopei/miniforge3/envs/tf2/lib/python3.9/site-packages/sklearn/covariance/_robust_covariance.py:183: RuntimeWarning: Determinant has increased; this should not happen: log(det) > log(previous_det) (-7688.880120295360939 > -7699.069441614342395). You may want to try with a higher value of support_fraction (current value: 0.801).\n",
      "  warnings.warn(\n",
      "/Users/guopei/miniforge3/envs/tf2/lib/python3.9/site-packages/sklearn/covariance/_robust_covariance.py:183: RuntimeWarning: Determinant has increased; this should not happen: log(det) > log(previous_det) (-7679.681376951598395 > -7706.761678960423524). You may want to try with a higher value of support_fraction (current value: 0.801).\n",
      "  warnings.warn(\n",
      "/Users/guopei/miniforge3/envs/tf2/lib/python3.9/site-packages/sklearn/covariance/_robust_covariance.py:183: RuntimeWarning: Determinant has increased; this should not happen: log(det) > log(previous_det) (-7672.604802910243052 > -7682.420502922049309). You may want to try with a higher value of support_fraction (current value: 0.801).\n",
      "  warnings.warn(\n",
      "/Users/guopei/miniforge3/envs/tf2/lib/python3.9/site-packages/sklearn/covariance/_robust_covariance.py:183: RuntimeWarning: Determinant has increased; this should not happen: log(det) > log(previous_det) (-7664.991346562083891 > -7669.325638098154741). You may want to try with a higher value of support_fraction (current value: 0.801).\n",
      "  warnings.warn(\n",
      "/Users/guopei/miniforge3/envs/tf2/lib/python3.9/site-packages/sklearn/covariance/_robust_covariance.py:183: RuntimeWarning: Determinant has increased; this should not happen: log(det) > log(previous_det) (-7675.404248192434352 > -7685.807571116454710). You may want to try with a higher value of support_fraction (current value: 0.801).\n",
      "  warnings.warn(\n",
      "/Users/guopei/miniforge3/envs/tf2/lib/python3.9/site-packages/sklearn/covariance/_robust_covariance.py:183: RuntimeWarning: Determinant has increased; this should not happen: log(det) > log(previous_det) (-7664.579069384613831 > -7669.094554476908343). You may want to try with a higher value of support_fraction (current value: 0.801).\n",
      "  warnings.warn(\n",
      "/Users/guopei/miniforge3/envs/tf2/lib/python3.9/site-packages/sklearn/covariance/_robust_covariance.py:183: RuntimeWarning: Determinant has increased; this should not happen: log(det) > log(previous_det) (-7636.907627336010592 > -7643.175860385210399). You may want to try with a higher value of support_fraction (current value: 0.801).\n",
      "  warnings.warn(\n",
      "/Users/guopei/miniforge3/envs/tf2/lib/python3.9/site-packages/sklearn/covariance/_robust_covariance.py:183: RuntimeWarning: Determinant has increased; this should not happen: log(det) > log(previous_det) (-7667.348069079191191 > -7668.486489617006555). You may want to try with a higher value of support_fraction (current value: 0.801).\n",
      "  warnings.warn(\n",
      "/Users/guopei/miniforge3/envs/tf2/lib/python3.9/site-packages/sklearn/covariance/_robust_covariance.py:183: RuntimeWarning: Determinant has increased; this should not happen: log(det) > log(previous_det) (-7669.290559464064245 > -7671.438869327836073). You may want to try with a higher value of support_fraction (current value: 0.801).\n",
      "  warnings.warn(\n",
      "/Users/guopei/miniforge3/envs/tf2/lib/python3.9/site-packages/sklearn/covariance/_robust_covariance.py:183: RuntimeWarning: Determinant has increased; this should not happen: log(det) > log(previous_det) (-7665.874692223114835 > -7679.464151438103727). You may want to try with a higher value of support_fraction (current value: 0.801).\n",
      "  warnings.warn(\n",
      "/Users/guopei/miniforge3/envs/tf2/lib/python3.9/site-packages/sklearn/covariance/_robust_covariance.py:183: RuntimeWarning: Determinant has increased; this should not happen: log(det) > log(previous_det) (-7664.825862031593715 > -7667.115555718238284). You may want to try with a higher value of support_fraction (current value: 0.801).\n",
      "  warnings.warn(\n",
      "/Users/guopei/miniforge3/envs/tf2/lib/python3.9/site-packages/sklearn/covariance/_robust_covariance.py:183: RuntimeWarning: Determinant has increased; this should not happen: log(det) > log(previous_det) (-7662.690003898492250 > -7677.800248504102456). You may want to try with a higher value of support_fraction (current value: 0.801).\n",
      "  warnings.warn(\n",
      "/Users/guopei/miniforge3/envs/tf2/lib/python3.9/site-packages/sklearn/covariance/_robust_covariance.py:183: RuntimeWarning: Determinant has increased; this should not happen: log(det) > log(previous_det) (-7665.277907431695894 > -7673.049813458769677). You may want to try with a higher value of support_fraction (current value: 0.801).\n",
      "  warnings.warn(\n",
      "/Users/guopei/miniforge3/envs/tf2/lib/python3.9/site-packages/sklearn/covariance/_robust_covariance.py:183: RuntimeWarning: Determinant has increased; this should not happen: log(det) > log(previous_det) (-7656.323553167860155 > -7659.436324933682045). You may want to try with a higher value of support_fraction (current value: 0.801).\n",
      "  warnings.warn(\n",
      "/Users/guopei/miniforge3/envs/tf2/lib/python3.9/site-packages/sklearn/covariance/_robust_covariance.py:183: RuntimeWarning: Determinant has increased; this should not happen: log(det) > log(previous_det) (-7664.193671569342769 > -7665.375960498633503). You may want to try with a higher value of support_fraction (current value: 0.801).\n",
      "  warnings.warn(\n",
      "/Users/guopei/miniforge3/envs/tf2/lib/python3.9/site-packages/sklearn/covariance/_robust_covariance.py:183: RuntimeWarning: Determinant has increased; this should not happen: log(det) > log(previous_det) (-7664.383365842301828 > -7678.061824530096601). You may want to try with a higher value of support_fraction (current value: 0.801).\n",
      "  warnings.warn(\n",
      "/Users/guopei/miniforge3/envs/tf2/lib/python3.9/site-packages/sklearn/covariance/_robust_covariance.py:183: RuntimeWarning: Determinant has increased; this should not happen: log(det) > log(previous_det) (-7661.029020752131146 > -7665.430329553115371). You may want to try with a higher value of support_fraction (current value: 0.801).\n",
      "  warnings.warn(\n",
      "/Users/guopei/miniforge3/envs/tf2/lib/python3.9/site-packages/sklearn/covariance/_robust_covariance.py:183: RuntimeWarning: Determinant has increased; this should not happen: log(det) > log(previous_det) (-7667.214638690347783 > -7670.023268557718438). You may want to try with a higher value of support_fraction (current value: 0.801).\n",
      "  warnings.warn(\n",
      "/Users/guopei/miniforge3/envs/tf2/lib/python3.9/site-packages/sklearn/covariance/_robust_covariance.py:183: RuntimeWarning: Determinant has increased; this should not happen: log(det) > log(previous_det) (-7665.506842088324447 > -7682.468784866128772). You may want to try with a higher value of support_fraction (current value: 0.801).\n",
      "  warnings.warn(\n",
      "/Users/guopei/miniforge3/envs/tf2/lib/python3.9/site-packages/sklearn/covariance/_robust_covariance.py:183: RuntimeWarning: Determinant has increased; this should not happen: log(det) > log(previous_det) (-7669.682174205048796 > -7670.251697427993349). You may want to try with a higher value of support_fraction (current value: 0.801).\n",
      "  warnings.warn(\n",
      "/Users/guopei/miniforge3/envs/tf2/lib/python3.9/site-packages/sklearn/covariance/_robust_covariance.py:183: RuntimeWarning: Determinant has increased; this should not happen: log(det) > log(previous_det) (-7660.505873519510715 > -7663.089738105718425). You may want to try with a higher value of support_fraction (current value: 0.801).\n",
      "  warnings.warn(\n",
      "/Users/guopei/miniforge3/envs/tf2/lib/python3.9/site-packages/sklearn/covariance/_robust_covariance.py:183: RuntimeWarning: Determinant has increased; this should not happen: log(det) > log(previous_det) (-7660.903239641566870 > -7683.562410309097686). You may want to try with a higher value of support_fraction (current value: 0.801).\n",
      "  warnings.warn(\n",
      "/Users/guopei/miniforge3/envs/tf2/lib/python3.9/site-packages/sklearn/covariance/_robust_covariance.py:183: RuntimeWarning: Determinant has increased; this should not happen: log(det) > log(previous_det) (-7668.139522240578117 > -7675.334069340127826). You may want to try with a higher value of support_fraction (current value: 0.801).\n",
      "  warnings.warn(\n",
      "/Users/guopei/miniforge3/envs/tf2/lib/python3.9/site-packages/sklearn/covariance/_robust_covariance.py:183: RuntimeWarning: Determinant has increased; this should not happen: log(det) > log(previous_det) (-7665.986959689101241 > -7675.807237967871515). You may want to try with a higher value of support_fraction (current value: 0.801).\n",
      "  warnings.warn(\n",
      "/Users/guopei/miniforge3/envs/tf2/lib/python3.9/site-packages/sklearn/covariance/_robust_covariance.py:183: RuntimeWarning: Determinant has increased; this should not happen: log(det) > log(previous_det) (-7667.265475100412004 > -7670.058136489181379). You may want to try with a higher value of support_fraction (current value: 0.801).\n",
      "  warnings.warn(\n",
      "/Users/guopei/miniforge3/envs/tf2/lib/python3.9/site-packages/sklearn/covariance/_robust_covariance.py:183: RuntimeWarning: Determinant has increased; this should not happen: log(det) > log(previous_det) (-7643.811255392546627 > -7644.890055447446684). You may want to try with a higher value of support_fraction (current value: 0.801).\n",
      "  warnings.warn(\n",
      "/Users/guopei/miniforge3/envs/tf2/lib/python3.9/site-packages/sklearn/covariance/_robust_covariance.py:183: RuntimeWarning: Determinant has increased; this should not happen: log(det) > log(previous_det) (-7648.929672466055308 > -8160.842562709675803). You may want to try with a higher value of support_fraction (current value: 0.801).\n",
      "  warnings.warn(\n",
      "/Users/guopei/miniforge3/envs/tf2/lib/python3.9/site-packages/sklearn/covariance/_robust_covariance.py:183: RuntimeWarning: Determinant has increased; this should not happen: log(det) > log(previous_det) (-7645.358925750550952 > -7650.332074464058678). You may want to try with a higher value of support_fraction (current value: 0.801).\n",
      "  warnings.warn(\n",
      "/Users/guopei/miniforge3/envs/tf2/lib/python3.9/site-packages/sklearn/covariance/_robust_covariance.py:183: RuntimeWarning: Determinant has increased; this should not happen: log(det) > log(previous_det) (-7649.502596805676149 > -7649.708580930195239). You may want to try with a higher value of support_fraction (current value: 0.801).\n",
      "  warnings.warn(\n",
      "/Users/guopei/miniforge3/envs/tf2/lib/python3.9/site-packages/sklearn/covariance/_robust_covariance.py:183: RuntimeWarning: Determinant has increased; this should not happen: log(det) > log(previous_det) (-7653.867418074317357 > -8167.504062461388457). You may want to try with a higher value of support_fraction (current value: 0.801).\n",
      "  warnings.warn(\n",
      "/Users/guopei/miniforge3/envs/tf2/lib/python3.9/site-packages/sklearn/covariance/_robust_covariance.py:183: RuntimeWarning: Determinant has increased; this should not happen: log(det) > log(previous_det) (-7660.667186643749119 > -8159.709211728569244). You may want to try with a higher value of support_fraction (current value: 0.801).\n",
      "  warnings.warn(\n",
      "/Users/guopei/miniforge3/envs/tf2/lib/python3.9/site-packages/sklearn/covariance/_robust_covariance.py:183: RuntimeWarning: Determinant has increased; this should not happen: log(det) > log(previous_det) (-7653.160955785706392 > -8163.633790520159891). You may want to try with a higher value of support_fraction (current value: 0.801).\n",
      "  warnings.warn(\n",
      "/Users/guopei/miniforge3/envs/tf2/lib/python3.9/site-packages/sklearn/covariance/_robust_covariance.py:183: RuntimeWarning: Determinant has increased; this should not happen: log(det) > log(previous_det) (-7619.707159842218971 > -7625.967655751182974). You may want to try with a higher value of support_fraction (current value: 0.801).\n",
      "  warnings.warn(\n",
      "/Users/guopei/miniforge3/envs/tf2/lib/python3.9/site-packages/sklearn/covariance/_robust_covariance.py:183: RuntimeWarning: Determinant has increased; this should not happen: log(det) > log(previous_det) (-7650.177445233400249 > -7653.549363174441169). You may want to try with a higher value of support_fraction (current value: 0.801).\n",
      "  warnings.warn(\n",
      "/Users/guopei/miniforge3/envs/tf2/lib/python3.9/site-packages/sklearn/covariance/_robust_covariance.py:183: RuntimeWarning: Determinant has increased; this should not happen: log(det) > log(previous_det) (-7617.430797103183068 > -7620.672116555225330). You may want to try with a higher value of support_fraction (current value: 0.801).\n",
      "  warnings.warn(\n",
      "/Users/guopei/miniforge3/envs/tf2/lib/python3.9/site-packages/sklearn/covariance/_robust_covariance.py:183: RuntimeWarning: Determinant has increased; this should not happen: log(det) > log(previous_det) (-7647.420991561371011 > -8159.120469885109742). You may want to try with a higher value of support_fraction (current value: 0.801).\n",
      "  warnings.warn(\n",
      "/Users/guopei/miniforge3/envs/tf2/lib/python3.9/site-packages/sklearn/covariance/_robust_covariance.py:183: RuntimeWarning: Determinant has increased; this should not happen: log(det) > log(previous_det) (-7654.957022224468346 > -7703.856830243136756). You may want to try with a higher value of support_fraction (current value: 0.801).\n",
      "  warnings.warn(\n",
      "/Users/guopei/miniforge3/envs/tf2/lib/python3.9/site-packages/sklearn/covariance/_robust_covariance.py:183: RuntimeWarning: Determinant has increased; this should not happen: log(det) > log(previous_det) (-7646.335594895657778 > -7648.432073918492279). You may want to try with a higher value of support_fraction (current value: 0.801).\n",
      "  warnings.warn(\n",
      "/Users/guopei/miniforge3/envs/tf2/lib/python3.9/site-packages/sklearn/covariance/_robust_covariance.py:183: RuntimeWarning: Determinant has increased; this should not happen: log(det) > log(previous_det) (-7648.736092212777294 > -7650.220105000648800). You may want to try with a higher value of support_fraction (current value: 0.801).\n",
      "  warnings.warn(\n",
      "/Users/guopei/miniforge3/envs/tf2/lib/python3.9/site-packages/sklearn/covariance/_robust_covariance.py:183: RuntimeWarning: Determinant has increased; this should not happen: log(det) > log(previous_det) (-7659.318737888574105 > -7702.433564011951603). You may want to try with a higher value of support_fraction (current value: 0.801).\n",
      "  warnings.warn(\n",
      "/Users/guopei/miniforge3/envs/tf2/lib/python3.9/site-packages/sklearn/covariance/_robust_covariance.py:183: RuntimeWarning: Determinant has increased; this should not happen: log(det) > log(previous_det) (-7656.897151495477374 > -8161.229348645222672). You may want to try with a higher value of support_fraction (current value: 0.801).\n",
      "  warnings.warn(\n",
      "/Users/guopei/miniforge3/envs/tf2/lib/python3.9/site-packages/sklearn/covariance/_robust_covariance.py:183: RuntimeWarning: Determinant has increased; this should not happen: log(det) > log(previous_det) (-7653.332145339019917 > -7661.883560945616409). You may want to try with a higher value of support_fraction (current value: 0.801).\n",
      "  warnings.warn(\n",
      "/Users/guopei/miniforge3/envs/tf2/lib/python3.9/site-packages/sklearn/covariance/_robust_covariance.py:183: RuntimeWarning: Determinant has increased; this should not happen: log(det) > log(previous_det) (-7640.502447657449920 > -7650.346747259118274). You may want to try with a higher value of support_fraction (current value: 0.801).\n",
      "  warnings.warn(\n",
      "/Users/guopei/miniforge3/envs/tf2/lib/python3.9/site-packages/sklearn/covariance/_robust_covariance.py:183: RuntimeWarning: Determinant has increased; this should not happen: log(det) > log(previous_det) (-7665.893321748479138 > -7666.529240871753245). You may want to try with a higher value of support_fraction (current value: 0.801).\n",
      "  warnings.warn(\n",
      "/Users/guopei/miniforge3/envs/tf2/lib/python3.9/site-packages/sklearn/covariance/_robust_covariance.py:183: RuntimeWarning: Determinant has increased; this should not happen: log(det) > log(previous_det) (-2680.585368401501455 > -3229.752695329247217). You may want to try with a higher value of support_fraction (current value: 0.800).\n",
      "  warnings.warn(\n",
      "/Users/guopei/miniforge3/envs/tf2/lib/python3.9/site-packages/sklearn/covariance/_robust_covariance.py:183: RuntimeWarning: Determinant has increased; this should not happen: log(det) > log(previous_det) (-2703.494692992432647 > -3248.618995903164432). You may want to try with a higher value of support_fraction (current value: 0.800).\n",
      "  warnings.warn(\n",
      "/Users/guopei/miniforge3/envs/tf2/lib/python3.9/site-packages/sklearn/covariance/_robust_covariance.py:183: RuntimeWarning: Determinant has increased; this should not happen: log(det) > log(previous_det) (-2683.640868290162871 > -3231.799571449122141). You may want to try with a higher value of support_fraction (current value: 0.800).\n",
      "  warnings.warn(\n",
      "/Users/guopei/miniforge3/envs/tf2/lib/python3.9/site-packages/sklearn/covariance/_robust_covariance.py:183: RuntimeWarning: Determinant has increased; this should not happen: log(det) > log(previous_det) (-2677.107853656891166 > -3223.783268788758051). You may want to try with a higher value of support_fraction (current value: 0.800).\n",
      "  warnings.warn(\n",
      "/Users/guopei/miniforge3/envs/tf2/lib/python3.9/site-packages/sklearn/covariance/_robust_covariance.py:183: RuntimeWarning: Determinant has increased; this should not happen: log(det) > log(previous_det) (-2683.107189652906982 > -3227.222429765016386). You may want to try with a higher value of support_fraction (current value: 0.800).\n",
      "  warnings.warn(\n",
      "/Users/guopei/miniforge3/envs/tf2/lib/python3.9/site-packages/sklearn/covariance/_robust_covariance.py:183: RuntimeWarning: Determinant has increased; this should not happen: log(det) > log(previous_det) (-2673.869501796273653 > -3213.664456179763874). You may want to try with a higher value of support_fraction (current value: 0.800).\n",
      "  warnings.warn(\n",
      "/Users/guopei/miniforge3/envs/tf2/lib/python3.9/site-packages/sklearn/covariance/_robust_covariance.py:183: RuntimeWarning: Determinant has increased; this should not happen: log(det) > log(previous_det) (-2712.807642440092422 > -3251.669869565995214). You may want to try with a higher value of support_fraction (current value: 0.800).\n",
      "  warnings.warn(\n",
      "/Users/guopei/miniforge3/envs/tf2/lib/python3.9/site-packages/sklearn/covariance/_robust_covariance.py:183: RuntimeWarning: Determinant has increased; this should not happen: log(det) > log(previous_det) (-2682.674565912265280 > -3229.771435188773921). You may want to try with a higher value of support_fraction (current value: 0.800).\n",
      "  warnings.warn(\n",
      "/Users/guopei/miniforge3/envs/tf2/lib/python3.9/site-packages/sklearn/covariance/_robust_covariance.py:183: RuntimeWarning: Determinant has increased; this should not happen: log(det) > log(previous_det) (-2705.962035485964407 > -3235.328391907205514). You may want to try with a higher value of support_fraction (current value: 0.800).\n",
      "  warnings.warn(\n",
      "/Users/guopei/miniforge3/envs/tf2/lib/python3.9/site-packages/sklearn/covariance/_robust_covariance.py:183: RuntimeWarning: Determinant has increased; this should not happen: log(det) > log(previous_det) (-2681.329152588754823 > -3228.713799114613266). You may want to try with a higher value of support_fraction (current value: 0.800).\n",
      "  warnings.warn(\n",
      "/Users/guopei/miniforge3/envs/tf2/lib/python3.9/site-packages/sklearn/covariance/_robust_covariance.py:183: RuntimeWarning: Determinant has increased; this should not happen: log(det) > log(previous_det) (-2686.344514503884511 > -3232.505356156652851). You may want to try with a higher value of support_fraction (current value: 0.800).\n",
      "  warnings.warn(\n",
      "/Users/guopei/miniforge3/envs/tf2/lib/python3.9/site-packages/sklearn/covariance/_robust_covariance.py:183: RuntimeWarning: Determinant has increased; this should not happen: log(det) > log(previous_det) (-2673.096411467517100 > -3222.178404548331855). You may want to try with a higher value of support_fraction (current value: 0.800).\n",
      "  warnings.warn(\n",
      "/Users/guopei/miniforge3/envs/tf2/lib/python3.9/site-packages/sklearn/covariance/_robust_covariance.py:183: RuntimeWarning: Determinant has increased; this should not happen: log(det) > log(previous_det) (-2685.157912128381668 > -3230.570074037840186). You may want to try with a higher value of support_fraction (current value: 0.800).\n",
      "  warnings.warn(\n",
      "/Users/guopei/miniforge3/envs/tf2/lib/python3.9/site-packages/sklearn/covariance/_robust_covariance.py:183: RuntimeWarning: Determinant has increased; this should not happen: log(det) > log(previous_det) (-2686.264609276880492 > -3234.969337421032378). You may want to try with a higher value of support_fraction (current value: 0.800).\n",
      "  warnings.warn(\n",
      "/Users/guopei/miniforge3/envs/tf2/lib/python3.9/site-packages/sklearn/covariance/_robust_covariance.py:183: RuntimeWarning: Determinant has increased; this should not happen: log(det) > log(previous_det) (-2674.436190304243155 > -3225.647623214761552). You may want to try with a higher value of support_fraction (current value: 0.800).\n",
      "  warnings.warn(\n",
      "/Users/guopei/miniforge3/envs/tf2/lib/python3.9/site-packages/sklearn/covariance/_robust_covariance.py:183: RuntimeWarning: Determinant has increased; this should not happen: log(det) > log(previous_det) (-2686.441014673066547 > -3236.375234959467889). You may want to try with a higher value of support_fraction (current value: 0.800).\n",
      "  warnings.warn(\n",
      "/Users/guopei/miniforge3/envs/tf2/lib/python3.9/site-packages/sklearn/covariance/_robust_covariance.py:183: RuntimeWarning: Determinant has increased; this should not happen: log(det) > log(previous_det) (-2684.006369205659666 > -3228.233830544772900). You may want to try with a higher value of support_fraction (current value: 0.800).\n",
      "  warnings.warn(\n",
      "/Users/guopei/miniforge3/envs/tf2/lib/python3.9/site-packages/sklearn/covariance/_robust_covariance.py:183: RuntimeWarning: Determinant has increased; this should not happen: log(det) > log(previous_det) (-2684.515795184354374 > -3220.898742301346829). You may want to try with a higher value of support_fraction (current value: 0.800).\n",
      "  warnings.warn(\n",
      "/Users/guopei/miniforge3/envs/tf2/lib/python3.9/site-packages/sklearn/covariance/_robust_covariance.py:183: RuntimeWarning: Determinant has increased; this should not happen: log(det) > log(previous_det) (-2673.625664850963858 > -3214.198104181655253). You may want to try with a higher value of support_fraction (current value: 0.800).\n",
      "  warnings.warn(\n",
      "/Users/guopei/miniforge3/envs/tf2/lib/python3.9/site-packages/sklearn/covariance/_robust_covariance.py:183: RuntimeWarning: Determinant has increased; this should not happen: log(det) > log(previous_det) (-2679.094301386002371 > -3227.422251690030407). You may want to try with a higher value of support_fraction (current value: 0.800).\n",
      "  warnings.warn(\n",
      "/Users/guopei/miniforge3/envs/tf2/lib/python3.9/site-packages/sklearn/covariance/_robust_covariance.py:183: RuntimeWarning: Determinant has increased; this should not happen: log(det) > log(previous_det) (-2672.086354359575125 > -3214.060917127687844). You may want to try with a higher value of support_fraction (current value: 0.800).\n",
      "  warnings.warn(\n",
      "/Users/guopei/miniforge3/envs/tf2/lib/python3.9/site-packages/sklearn/covariance/_robust_covariance.py:183: RuntimeWarning: Determinant has increased; this should not happen: log(det) > log(previous_det) (-2674.037283547823336 > -3214.471066414580037). You may want to try with a higher value of support_fraction (current value: 0.800).\n",
      "  warnings.warn(\n",
      "/Users/guopei/miniforge3/envs/tf2/lib/python3.9/site-packages/sklearn/covariance/_robust_covariance.py:183: RuntimeWarning: Determinant has increased; this should not happen: log(det) > log(previous_det) (-2674.382172261653068 > -3214.519696814111740). You may want to try with a higher value of support_fraction (current value: 0.800).\n",
      "  warnings.warn(\n",
      "/Users/guopei/miniforge3/envs/tf2/lib/python3.9/site-packages/sklearn/covariance/_robust_covariance.py:183: RuntimeWarning: Determinant has increased; this should not happen: log(det) > log(previous_det) (-2681.585916432632985 > -3230.424086165811786). You may want to try with a higher value of support_fraction (current value: 0.800).\n",
      "  warnings.warn(\n",
      "/Users/guopei/miniforge3/envs/tf2/lib/python3.9/site-packages/sklearn/covariance/_robust_covariance.py:183: RuntimeWarning: Determinant has increased; this should not happen: log(det) > log(previous_det) (-2676.809867347491945 > -3223.956541114663196). You may want to try with a higher value of support_fraction (current value: 0.800).\n",
      "  warnings.warn(\n",
      "/Users/guopei/miniforge3/envs/tf2/lib/python3.9/site-packages/sklearn/covariance/_robust_covariance.py:183: RuntimeWarning: Determinant has increased; this should not happen: log(det) > log(previous_det) (-2681.525416675949600 > -3231.704569742662443). You may want to try with a higher value of support_fraction (current value: 0.800).\n",
      "  warnings.warn(\n",
      "/Users/guopei/miniforge3/envs/tf2/lib/python3.9/site-packages/sklearn/covariance/_robust_covariance.py:183: RuntimeWarning: Determinant has increased; this should not happen: log(det) > log(previous_det) (-2681.667788277862201 > -3231.528490359688476). You may want to try with a higher value of support_fraction (current value: 0.800).\n",
      "  warnings.warn(\n",
      "/Users/guopei/miniforge3/envs/tf2/lib/python3.9/site-packages/sklearn/covariance/_robust_covariance.py:183: RuntimeWarning: Determinant has increased; this should not happen: log(det) > log(previous_det) (-2679.903100985956371 > -3220.558657012099502). You may want to try with a higher value of support_fraction (current value: 0.800).\n",
      "  warnings.warn(\n",
      "/Users/guopei/miniforge3/envs/tf2/lib/python3.9/site-packages/sklearn/covariance/_robust_covariance.py:183: RuntimeWarning: Determinant has increased; this should not happen: log(det) > log(previous_det) (-2679.385807246849254 > -3228.787217548577246). You may want to try with a higher value of support_fraction (current value: 0.800).\n",
      "  warnings.warn(\n",
      "/Users/guopei/miniforge3/envs/tf2/lib/python3.9/site-packages/sklearn/covariance/_robust_covariance.py:183: RuntimeWarning: Determinant has increased; this should not happen: log(det) > log(previous_det) (-2685.370003939813159 > -3232.611252548597804). You may want to try with a higher value of support_fraction (current value: 0.800).\n",
      "  warnings.warn(\n",
      "/Users/guopei/miniforge3/envs/tf2/lib/python3.9/site-packages/sklearn/covariance/_robust_covariance.py:183: RuntimeWarning: Determinant has increased; this should not happen: log(det) > log(previous_det) (-7422.107010491308756 > -7425.370412314018722). You may want to try with a higher value of support_fraction (current value: 0.802).\n",
      "  warnings.warn(\n",
      "/Users/guopei/miniforge3/envs/tf2/lib/python3.9/site-packages/sklearn/covariance/_robust_covariance.py:183: RuntimeWarning: Determinant has increased; this should not happen: log(det) > log(previous_det) (-7428.211515468353355 > -7430.908268423604568). You may want to try with a higher value of support_fraction (current value: 0.802).\n",
      "  warnings.warn(\n",
      "/Users/guopei/miniforge3/envs/tf2/lib/python3.9/site-packages/sklearn/covariance/_robust_covariance.py:183: RuntimeWarning: Determinant has increased; this should not happen: log(det) > log(previous_det) (-7431.669538690617628 > -7433.777352673890164). You may want to try with a higher value of support_fraction (current value: 0.802).\n",
      "  warnings.warn(\n",
      "/Users/guopei/miniforge3/envs/tf2/lib/python3.9/site-packages/sklearn/covariance/_robust_covariance.py:183: RuntimeWarning: Determinant has increased; this should not happen: log(det) > log(previous_det) (-7422.156586063382747 > -7428.237525756956529). You may want to try with a higher value of support_fraction (current value: 0.802).\n",
      "  warnings.warn(\n",
      "/Users/guopei/miniforge3/envs/tf2/lib/python3.9/site-packages/sklearn/covariance/_robust_covariance.py:183: RuntimeWarning: Determinant has increased; this should not happen: log(det) > log(previous_det) (-7427.095401042500271 > -7431.710925788169334). You may want to try with a higher value of support_fraction (current value: 0.802).\n",
      "  warnings.warn(\n",
      "/Users/guopei/miniforge3/envs/tf2/lib/python3.9/site-packages/sklearn/covariance/_robust_covariance.py:183: RuntimeWarning: Determinant has increased; this should not happen: log(det) > log(previous_det) (-7433.628386144860087 > -7434.277428760621660). You may want to try with a higher value of support_fraction (current value: 0.802).\n",
      "  warnings.warn(\n",
      "/Users/guopei/miniforge3/envs/tf2/lib/python3.9/site-packages/sklearn/covariance/_robust_covariance.py:183: RuntimeWarning: Determinant has increased; this should not happen: log(det) > log(previous_det) (-7464.311465728104849 > -7613.823558396707085). You may want to try with a higher value of support_fraction (current value: 0.802).\n",
      "  warnings.warn(\n",
      "/Users/guopei/miniforge3/envs/tf2/lib/python3.9/site-packages/sklearn/covariance/_robust_covariance.py:183: RuntimeWarning: Determinant has increased; this should not happen: log(det) > log(previous_det) (-7460.936569391130433 > -7612.035775059979642). You may want to try with a higher value of support_fraction (current value: 0.802).\n",
      "  warnings.warn(\n",
      "/Users/guopei/miniforge3/envs/tf2/lib/python3.9/site-packages/sklearn/covariance/_robust_covariance.py:183: RuntimeWarning: Determinant has increased; this should not happen: log(det) > log(previous_det) (-7437.104625041538384 > -7439.207611527340305). You may want to try with a higher value of support_fraction (current value: 0.802).\n",
      "  warnings.warn(\n",
      "/Users/guopei/miniforge3/envs/tf2/lib/python3.9/site-packages/sklearn/covariance/_robust_covariance.py:183: RuntimeWarning: Determinant has increased; this should not happen: log(det) > log(previous_det) (-7423.809235950850962 > -7436.835634155776461). You may want to try with a higher value of support_fraction (current value: 0.802).\n",
      "  warnings.warn(\n",
      "/Users/guopei/miniforge3/envs/tf2/lib/python3.9/site-packages/sklearn/covariance/_robust_covariance.py:183: RuntimeWarning: Determinant has increased; this should not happen: log(det) > log(previous_det) (-7428.133042646728427 > -7429.205238090254170). You may want to try with a higher value of support_fraction (current value: 0.802).\n",
      "  warnings.warn(\n",
      "/Users/guopei/miniforge3/envs/tf2/lib/python3.9/site-packages/sklearn/covariance/_robust_covariance.py:183: RuntimeWarning: Determinant has increased; this should not happen: log(det) > log(previous_det) (-7426.165298722005900 > -7437.102573574537928). You may want to try with a higher value of support_fraction (current value: 0.802).\n",
      "  warnings.warn(\n",
      "/Users/guopei/miniforge3/envs/tf2/lib/python3.9/site-packages/sklearn/covariance/_robust_covariance.py:183: RuntimeWarning: Determinant has increased; this should not happen: log(det) > log(previous_det) (-7427.521990137207467 > -7429.318391757066820). You may want to try with a higher value of support_fraction (current value: 0.802).\n",
      "  warnings.warn(\n",
      "/Users/guopei/miniforge3/envs/tf2/lib/python3.9/site-packages/sklearn/covariance/_robust_covariance.py:183: RuntimeWarning: Determinant has increased; this should not happen: log(det) > log(previous_det) (-7425.074654346622083 > -7431.724751852296322). You may want to try with a higher value of support_fraction (current value: 0.802).\n",
      "  warnings.warn(\n",
      "/Users/guopei/miniforge3/envs/tf2/lib/python3.9/site-packages/sklearn/covariance/_robust_covariance.py:183: RuntimeWarning: Determinant has increased; this should not happen: log(det) > log(previous_det) (-7434.371379753422843 > -7437.503302484135929). You may want to try with a higher value of support_fraction (current value: 0.802).\n",
      "  warnings.warn(\n",
      "/Users/guopei/miniforge3/envs/tf2/lib/python3.9/site-packages/sklearn/covariance/_robust_covariance.py:183: RuntimeWarning: Determinant has increased; this should not happen: log(det) > log(previous_det) (-7425.289997549013606 > -7436.112495254279565). You may want to try with a higher value of support_fraction (current value: 0.802).\n",
      "  warnings.warn(\n",
      "/Users/guopei/miniforge3/envs/tf2/lib/python3.9/site-packages/sklearn/covariance/_robust_covariance.py:183: RuntimeWarning: Determinant has increased; this should not happen: log(det) > log(previous_det) (-7423.514052123884539 > -7441.812680861255103). You may want to try with a higher value of support_fraction (current value: 0.802).\n",
      "  warnings.warn(\n",
      "/Users/guopei/miniforge3/envs/tf2/lib/python3.9/site-packages/sklearn/covariance/_robust_covariance.py:183: RuntimeWarning: Determinant has increased; this should not happen: log(det) > log(previous_det) (-7428.124572757852548 > -7430.721281817329327). You may want to try with a higher value of support_fraction (current value: 0.802).\n",
      "  warnings.warn(\n",
      "/Users/guopei/miniforge3/envs/tf2/lib/python3.9/site-packages/sklearn/covariance/_robust_covariance.py:183: RuntimeWarning: Determinant has increased; this should not happen: log(det) > log(previous_det) (-7419.992272299210526 > -7425.903961840725970). You may want to try with a higher value of support_fraction (current value: 0.802).\n",
      "  warnings.warn(\n",
      "/Users/guopei/miniforge3/envs/tf2/lib/python3.9/site-packages/sklearn/covariance/_robust_covariance.py:183: RuntimeWarning: Determinant has increased; this should not happen: log(det) > log(previous_det) (-7422.851741365168891 > -7426.336625325925525). You may want to try with a higher value of support_fraction (current value: 0.802).\n",
      "  warnings.warn(\n",
      "/Users/guopei/miniforge3/envs/tf2/lib/python3.9/site-packages/sklearn/covariance/_robust_covariance.py:183: RuntimeWarning: Determinant has increased; this should not happen: log(det) > log(previous_det) (-7430.902103701600936 > -7431.559389187326815). You may want to try with a higher value of support_fraction (current value: 0.802).\n",
      "  warnings.warn(\n",
      "/Users/guopei/miniforge3/envs/tf2/lib/python3.9/site-packages/sklearn/covariance/_robust_covariance.py:183: RuntimeWarning: Determinant has increased; this should not happen: log(det) > log(previous_det) (-7421.018092212104420 > -7421.749688864021664). You may want to try with a higher value of support_fraction (current value: 0.802).\n",
      "  warnings.warn(\n",
      "/Users/guopei/miniforge3/envs/tf2/lib/python3.9/site-packages/sklearn/covariance/_robust_covariance.py:183: RuntimeWarning: Determinant has increased; this should not happen: log(det) > log(previous_det) (-7430.154733228962868 > -7441.356885022050847). You may want to try with a higher value of support_fraction (current value: 0.802).\n",
      "  warnings.warn(\n",
      "/Users/guopei/miniforge3/envs/tf2/lib/python3.9/site-packages/sklearn/covariance/_robust_covariance.py:183: RuntimeWarning: Determinant has increased; this should not happen: log(det) > log(previous_det) (-7411.541760361033084 > -7413.440463762488434). You may want to try with a higher value of support_fraction (current value: 0.802).\n",
      "  warnings.warn(\n",
      "/Users/guopei/miniforge3/envs/tf2/lib/python3.9/site-packages/sklearn/covariance/_robust_covariance.py:183: RuntimeWarning: Determinant has increased; this should not happen: log(det) > log(previous_det) (-7410.632157936596741 > -7413.072240468578457). You may want to try with a higher value of support_fraction (current value: 0.802).\n",
      "  warnings.warn(\n",
      "/Users/guopei/miniforge3/envs/tf2/lib/python3.9/site-packages/sklearn/covariance/_robust_covariance.py:183: RuntimeWarning: Determinant has increased; this should not happen: log(det) > log(previous_det) (-7414.115444131127333 > -7414.381174680648655). You may want to try with a higher value of support_fraction (current value: 0.802).\n",
      "  warnings.warn(\n",
      "/Users/guopei/miniforge3/envs/tf2/lib/python3.9/site-packages/sklearn/covariance/_robust_covariance.py:183: RuntimeWarning: Determinant has increased; this should not happen: log(det) > log(previous_det) (-7412.711256629462696 > -7417.097886422497140). You may want to try with a higher value of support_fraction (current value: 0.802).\n",
      "  warnings.warn(\n",
      "/Users/guopei/miniforge3/envs/tf2/lib/python3.9/site-packages/sklearn/covariance/_robust_covariance.py:183: RuntimeWarning: Determinant has increased; this should not happen: log(det) > log(previous_det) (-7414.657825674874402 > -7417.128829203320493). You may want to try with a higher value of support_fraction (current value: 0.802).\n",
      "  warnings.warn(\n",
      "/Users/guopei/miniforge3/envs/tf2/lib/python3.9/site-packages/sklearn/covariance/_robust_covariance.py:183: RuntimeWarning: Determinant has increased; this should not happen: log(det) > log(previous_det) (-7410.404040496367998 > -7415.011490164572024). You may want to try with a higher value of support_fraction (current value: 0.802).\n",
      "  warnings.warn(\n",
      "/Users/guopei/miniforge3/envs/tf2/lib/python3.9/site-packages/sklearn/covariance/_robust_covariance.py:183: RuntimeWarning: Determinant has increased; this should not happen: log(det) > log(previous_det) (-7408.494458598156598 > -7412.939367495631814). You may want to try with a higher value of support_fraction (current value: 0.802).\n",
      "  warnings.warn(\n",
      "/Users/guopei/miniforge3/envs/tf2/lib/python3.9/site-packages/sklearn/covariance/_robust_covariance.py:183: RuntimeWarning: Determinant has increased; this should not happen: log(det) > log(previous_det) (-7410.116762558477603 > -7412.923799949779095). You may want to try with a higher value of support_fraction (current value: 0.802).\n",
      "  warnings.warn(\n",
      "/Users/guopei/miniforge3/envs/tf2/lib/python3.9/site-packages/sklearn/covariance/_robust_covariance.py:183: RuntimeWarning: Determinant has increased; this should not happen: log(det) > log(previous_det) (-7409.697427239390890 > -7410.431666179987587). You may want to try with a higher value of support_fraction (current value: 0.802).\n",
      "  warnings.warn(\n",
      "/Users/guopei/miniforge3/envs/tf2/lib/python3.9/site-packages/sklearn/covariance/_robust_covariance.py:183: RuntimeWarning: Determinant has increased; this should not happen: log(det) > log(previous_det) (-7415.796513735609551 > -7417.198891572895263). You may want to try with a higher value of support_fraction (current value: 0.802).\n",
      "  warnings.warn(\n",
      "/Users/guopei/miniforge3/envs/tf2/lib/python3.9/site-packages/sklearn/covariance/_robust_covariance.py:183: RuntimeWarning: Determinant has increased; this should not happen: log(det) > log(previous_det) (-7412.955985785286430 > -7414.049745725250432). You may want to try with a higher value of support_fraction (current value: 0.802).\n",
      "  warnings.warn(\n",
      "/Users/guopei/miniforge3/envs/tf2/lib/python3.9/site-packages/sklearn/covariance/_robust_covariance.py:183: RuntimeWarning: Determinant has increased; this should not happen: log(det) > log(previous_det) (-7428.526150693740419 > -7430.566424152101717). You may want to try with a higher value of support_fraction (current value: 0.802).\n",
      "  warnings.warn(\n",
      "/Users/guopei/miniforge3/envs/tf2/lib/python3.9/site-packages/sklearn/covariance/_robust_covariance.py:183: RuntimeWarning: Determinant has increased; this should not happen: log(det) > log(previous_det) (-2536.772030750940758 > -2717.493156104613263). You may want to try with a higher value of support_fraction (current value: 0.800).\n",
      "  warnings.warn(\n",
      "/Users/guopei/miniforge3/envs/tf2/lib/python3.9/site-packages/sklearn/covariance/_robust_covariance.py:183: RuntimeWarning: Determinant has increased; this should not happen: log(det) > log(previous_det) (-2537.782946857555999 > -2721.264523214627843). You may want to try with a higher value of support_fraction (current value: 0.800).\n",
      "  warnings.warn(\n",
      "/Users/guopei/miniforge3/envs/tf2/lib/python3.9/site-packages/sklearn/covariance/_robust_covariance.py:183: RuntimeWarning: Determinant has increased; this should not happen: log(det) > log(previous_det) (-2540.235654938069274 > -2724.816702257116503). You may want to try with a higher value of support_fraction (current value: 0.800).\n",
      "  warnings.warn(\n",
      "/Users/guopei/miniforge3/envs/tf2/lib/python3.9/site-packages/sklearn/covariance/_robust_covariance.py:183: RuntimeWarning: Determinant has increased; this should not happen: log(det) > log(previous_det) (-2549.575919954836991 > -2731.964484930034359). You may want to try with a higher value of support_fraction (current value: 0.800).\n",
      "  warnings.warn(\n",
      "/Users/guopei/miniforge3/envs/tf2/lib/python3.9/site-packages/sklearn/covariance/_robust_covariance.py:183: RuntimeWarning: Determinant has increased; this should not happen: log(det) > log(previous_det) (-6296.023128101353905 > -6300.812631738353048). You may want to try with a higher value of support_fraction (current value: 0.801).\n",
      "  warnings.warn(\n",
      "/Users/guopei/miniforge3/envs/tf2/lib/python3.9/site-packages/sklearn/covariance/_robust_covariance.py:183: RuntimeWarning: Determinant has increased; this should not happen: log(det) > log(previous_det) (-6279.704194196753633 > -6285.249809443274899). You may want to try with a higher value of support_fraction (current value: 0.801).\n",
      "  warnings.warn(\n",
      "/Users/guopei/miniforge3/envs/tf2/lib/python3.9/site-packages/sklearn/covariance/_robust_covariance.py:183: RuntimeWarning: Determinant has increased; this should not happen: log(det) > log(previous_det) (-6117.096384968515849 > -6126.341210689024592). You may want to try with a higher value of support_fraction (current value: 0.801).\n",
      "  warnings.warn(\n",
      "/Users/guopei/miniforge3/envs/tf2/lib/python3.9/site-packages/sklearn/covariance/_robust_covariance.py:183: RuntimeWarning: Determinant has increased; this should not happen: log(det) > log(previous_det) (-6121.469058387030600 > -6225.697747744364278). You may want to try with a higher value of support_fraction (current value: 0.801).\n",
      "  warnings.warn(\n",
      "/Users/guopei/miniforge3/envs/tf2/lib/python3.9/site-packages/sklearn/covariance/_robust_covariance.py:183: RuntimeWarning: Determinant has increased; this should not happen: log(det) > log(previous_det) (-6127.444356081106889 > -6235.395693255513834). You may want to try with a higher value of support_fraction (current value: 0.801).\n",
      "  warnings.warn(\n",
      "/Users/guopei/miniforge3/envs/tf2/lib/python3.9/site-packages/sklearn/covariance/_robust_covariance.py:183: RuntimeWarning: Determinant has increased; this should not happen: log(det) > log(previous_det) (-6136.001351374838123 > -6244.286119115016845). You may want to try with a higher value of support_fraction (current value: 0.801).\n",
      "  warnings.warn(\n",
      "/Users/guopei/miniforge3/envs/tf2/lib/python3.9/site-packages/sklearn/covariance/_robust_covariance.py:183: RuntimeWarning: Determinant has increased; this should not happen: log(det) > log(previous_det) (-6188.267882486135022 > -6242.706677153460078). You may want to try with a higher value of support_fraction (current value: 0.801).\n",
      "  warnings.warn(\n",
      "/Users/guopei/miniforge3/envs/tf2/lib/python3.9/site-packages/sklearn/covariance/_robust_covariance.py:183: RuntimeWarning: Determinant has increased; this should not happen: log(det) > log(previous_det) (-6115.430401759025699 > -6117.779962844319016). You may want to try with a higher value of support_fraction (current value: 0.801).\n",
      "  warnings.warn(\n",
      "/Users/guopei/miniforge3/envs/tf2/lib/python3.9/site-packages/sklearn/covariance/_robust_covariance.py:183: RuntimeWarning: Determinant has increased; this should not happen: log(det) > log(previous_det) (-6187.203899913533860 > -6293.032563175363975). You may want to try with a higher value of support_fraction (current value: 0.801).\n",
      "  warnings.warn(\n",
      "/Users/guopei/miniforge3/envs/tf2/lib/python3.9/site-packages/sklearn/covariance/_robust_covariance.py:183: RuntimeWarning: Determinant has increased; this should not happen: log(det) > log(previous_det) (-6120.976542371281539 > -6230.497481837711348). You may want to try with a higher value of support_fraction (current value: 0.801).\n",
      "  warnings.warn(\n",
      "/Users/guopei/miniforge3/envs/tf2/lib/python3.9/site-packages/sklearn/covariance/_robust_covariance.py:183: RuntimeWarning: Determinant has increased; this should not happen: log(det) > log(previous_det) (-6122.277400505076912 > -6124.842990863698105). You may want to try with a higher value of support_fraction (current value: 0.801).\n",
      "  warnings.warn(\n",
      "/Users/guopei/miniforge3/envs/tf2/lib/python3.9/site-packages/sklearn/covariance/_robust_covariance.py:183: RuntimeWarning: Determinant has increased; this should not happen: log(det) > log(previous_det) (-6114.799352130808984 > -6116.052046558656002). You may want to try with a higher value of support_fraction (current value: 0.801).\n",
      "  warnings.warn(\n",
      "/Users/guopei/miniforge3/envs/tf2/lib/python3.9/site-packages/sklearn/covariance/_robust_covariance.py:183: RuntimeWarning: Determinant has increased; this should not happen: log(det) > log(previous_det) (-6118.573938753045695 > -6127.524046128989539). You may want to try with a higher value of support_fraction (current value: 0.801).\n",
      "  warnings.warn(\n",
      "/Users/guopei/miniforge3/envs/tf2/lib/python3.9/site-packages/sklearn/covariance/_robust_covariance.py:183: RuntimeWarning: Determinant has increased; this should not happen: log(det) > log(previous_det) (-6121.096866690977549 > -6124.114391655533836). You may want to try with a higher value of support_fraction (current value: 0.801).\n",
      "  warnings.warn(\n",
      "/Users/guopei/miniforge3/envs/tf2/lib/python3.9/site-packages/sklearn/covariance/_robust_covariance.py:183: RuntimeWarning: Determinant has increased; this should not happen: log(det) > log(previous_det) (-6317.893702881933677 > -6353.009428385939827). You may want to try with a higher value of support_fraction (current value: 0.801).\n",
      "  warnings.warn(\n",
      "/Users/guopei/miniforge3/envs/tf2/lib/python3.9/site-packages/sklearn/covariance/_robust_covariance.py:183: RuntimeWarning: Determinant has increased; this should not happen: log(det) > log(previous_det) (-6320.184320342212231 > -6388.577524438271212). You may want to try with a higher value of support_fraction (current value: 0.801).\n",
      "  warnings.warn(\n",
      "/Users/guopei/miniforge3/envs/tf2/lib/python3.9/site-packages/sklearn/covariance/_robust_covariance.py:183: RuntimeWarning: Determinant has increased; this should not happen: log(det) > log(previous_det) (-6310.966056942489558 > -6384.197577132106744). You may want to try with a higher value of support_fraction (current value: 0.801).\n",
      "  warnings.warn(\n",
      "/Users/guopei/miniforge3/envs/tf2/lib/python3.9/site-packages/sklearn/covariance/_robust_covariance.py:183: RuntimeWarning: Determinant has increased; this should not happen: log(det) > log(previous_det) (-6313.160011126792597 > -6378.567523458554206). You may want to try with a higher value of support_fraction (current value: 0.801).\n",
      "  warnings.warn(\n",
      "/Users/guopei/miniforge3/envs/tf2/lib/python3.9/site-packages/sklearn/covariance/_robust_covariance.py:183: RuntimeWarning: Determinant has increased; this should not happen: log(det) > log(previous_det) (-6309.491373138114795 > -6312.896888293278607). You may want to try with a higher value of support_fraction (current value: 0.801).\n",
      "  warnings.warn(\n",
      "/Users/guopei/miniforge3/envs/tf2/lib/python3.9/site-packages/sklearn/covariance/_robust_covariance.py:183: RuntimeWarning: Determinant has increased; this should not happen: log(det) > log(previous_det) (-6303.464014477126511 > -6305.468591035146346). You may want to try with a higher value of support_fraction (current value: 0.801).\n",
      "  warnings.warn(\n",
      "/Users/guopei/miniforge3/envs/tf2/lib/python3.9/site-packages/sklearn/covariance/_robust_covariance.py:183: RuntimeWarning: Determinant has increased; this should not happen: log(det) > log(previous_det) (-2562.774082670008283 > -2678.207776440466660). You may want to try with a higher value of support_fraction (current value: 0.800).\n",
      "  warnings.warn(\n",
      "/Users/guopei/miniforge3/envs/tf2/lib/python3.9/site-packages/sklearn/covariance/_robust_covariance.py:183: RuntimeWarning: Determinant has increased; this should not happen: log(det) > log(previous_det) (-2570.590009285620454 > -2688.101483227081189). You may want to try with a higher value of support_fraction (current value: 0.800).\n",
      "  warnings.warn(\n",
      "/Users/guopei/miniforge3/envs/tf2/lib/python3.9/site-packages/sklearn/covariance/_robust_covariance.py:183: RuntimeWarning: Determinant has increased; this should not happen: log(det) > log(previous_det) (-2573.346107634111831 > -2689.256265958862059). You may want to try with a higher value of support_fraction (current value: 0.800).\n",
      "  warnings.warn(\n",
      "/Users/guopei/miniforge3/envs/tf2/lib/python3.9/site-packages/sklearn/covariance/_robust_covariance.py:183: RuntimeWarning: Determinant has increased; this should not happen: log(det) > log(previous_det) (-2564.687402171919075 > -2681.733272333980949). You may want to try with a higher value of support_fraction (current value: 0.800).\n",
      "  warnings.warn(\n",
      "/Users/guopei/miniforge3/envs/tf2/lib/python3.9/site-packages/sklearn/covariance/_robust_covariance.py:183: RuntimeWarning: Determinant has increased; this should not happen: log(det) > log(previous_det) (-2567.516967881443179 > -2684.976073732538680). You may want to try with a higher value of support_fraction (current value: 0.800).\n",
      "  warnings.warn(\n",
      "/Users/guopei/miniforge3/envs/tf2/lib/python3.9/site-packages/sklearn/covariance/_robust_covariance.py:183: RuntimeWarning: Determinant has increased; this should not happen: log(det) > log(previous_det) (-2566.777424680747572 > -2685.636783855226895). You may want to try with a higher value of support_fraction (current value: 0.800).\n",
      "  warnings.warn(\n",
      "/Users/guopei/miniforge3/envs/tf2/lib/python3.9/site-packages/sklearn/covariance/_robust_covariance.py:183: RuntimeWarning: Determinant has increased; this should not happen: log(det) > log(previous_det) (-2563.344523998707245 > -2681.066378640768562). You may want to try with a higher value of support_fraction (current value: 0.800).\n",
      "  warnings.warn(\n",
      "/Users/guopei/miniforge3/envs/tf2/lib/python3.9/site-packages/sklearn/covariance/_robust_covariance.py:183: RuntimeWarning: Determinant has increased; this should not happen: log(det) > log(previous_det) (-2563.108966482415781 > -2680.889353777542055). You may want to try with a higher value of support_fraction (current value: 0.800).\n",
      "  warnings.warn(\n",
      "/Users/guopei/miniforge3/envs/tf2/lib/python3.9/site-packages/sklearn/covariance/_robust_covariance.py:183: RuntimeWarning: Determinant has increased; this should not happen: log(det) > log(previous_det) (-2574.489228979822201 > -2693.561673993428940). You may want to try with a higher value of support_fraction (current value: 0.800).\n",
      "  warnings.warn(\n",
      "/Users/guopei/miniforge3/envs/tf2/lib/python3.9/site-packages/sklearn/covariance/_robust_covariance.py:183: RuntimeWarning: Determinant has increased; this should not happen: log(det) > log(previous_det) (-2569.977062186497278 > -2687.228787468113751). You may want to try with a higher value of support_fraction (current value: 0.800).\n",
      "  warnings.warn(\n",
      "/Users/guopei/miniforge3/envs/tf2/lib/python3.9/site-packages/sklearn/covariance/_robust_covariance.py:183: RuntimeWarning: Determinant has increased; this should not happen: log(det) > log(previous_det) (-2565.743697962384886 > -2684.766463394702896). You may want to try with a higher value of support_fraction (current value: 0.800).\n",
      "  warnings.warn(\n",
      "/Users/guopei/miniforge3/envs/tf2/lib/python3.9/site-packages/sklearn/covariance/_robust_covariance.py:183: RuntimeWarning: Determinant has increased; this should not happen: log(det) > log(previous_det) (-2564.753110927797479 > -2684.319434848621768). You may want to try with a higher value of support_fraction (current value: 0.800).\n",
      "  warnings.warn(\n",
      "/Users/guopei/miniforge3/envs/tf2/lib/python3.9/site-packages/sklearn/covariance/_robust_covariance.py:183: RuntimeWarning: Determinant has increased; this should not happen: log(det) > log(previous_det) (-2566.888195969718254 > -2686.034186503270575). You may want to try with a higher value of support_fraction (current value: 0.800).\n",
      "  warnings.warn(\n",
      "/Users/guopei/miniforge3/envs/tf2/lib/python3.9/site-packages/sklearn/covariance/_robust_covariance.py:183: RuntimeWarning: Determinant has increased; this should not happen: log(det) > log(previous_det) (-2560.996264034947671 > -2679.996233569551350). You may want to try with a higher value of support_fraction (current value: 0.800).\n",
      "  warnings.warn(\n",
      "/Users/guopei/miniforge3/envs/tf2/lib/python3.9/site-packages/sklearn/covariance/_robust_covariance.py:183: RuntimeWarning: Determinant has increased; this should not happen: log(det) > log(previous_det) (-2565.952786519668734 > -2686.263975530368953). You may want to try with a higher value of support_fraction (current value: 0.800).\n",
      "  warnings.warn(\n",
      "/Users/guopei/miniforge3/envs/tf2/lib/python3.9/site-packages/sklearn/covariance/_robust_covariance.py:183: RuntimeWarning: Determinant has increased; this should not happen: log(det) > log(previous_det) (-2571.128647991728030 > -2690.646618462785227). You may want to try with a higher value of support_fraction (current value: 0.800).\n",
      "  warnings.warn(\n",
      "/Users/guopei/miniforge3/envs/tf2/lib/python3.9/site-packages/sklearn/covariance/_robust_covariance.py:183: RuntimeWarning: Determinant has increased; this should not happen: log(det) > log(previous_det) (-2567.619217257971286 > -2684.820592493040749). You may want to try with a higher value of support_fraction (current value: 0.800).\n",
      "  warnings.warn(\n",
      "/Users/guopei/miniforge3/envs/tf2/lib/python3.9/site-packages/sklearn/covariance/_robust_covariance.py:183: RuntimeWarning: Determinant has increased; this should not happen: log(det) > log(previous_det) (-2568.257804578525338 > -2687.760702043527544). You may want to try with a higher value of support_fraction (current value: 0.800).\n",
      "  warnings.warn(\n",
      "/Users/guopei/miniforge3/envs/tf2/lib/python3.9/site-packages/sklearn/covariance/_robust_covariance.py:183: RuntimeWarning: Determinant has increased; this should not happen: log(det) > log(previous_det) (-2570.543869595020624 > -2689.465350328327531). You may want to try with a higher value of support_fraction (current value: 0.800).\n",
      "  warnings.warn(\n",
      "/Users/guopei/miniforge3/envs/tf2/lib/python3.9/site-packages/sklearn/covariance/_robust_covariance.py:183: RuntimeWarning: Determinant has increased; this should not happen: log(det) > log(previous_det) (-2567.665149110775474 > -2685.337267815239102). You may want to try with a higher value of support_fraction (current value: 0.800).\n",
      "  warnings.warn(\n",
      "/Users/guopei/miniforge3/envs/tf2/lib/python3.9/site-packages/sklearn/covariance/_robust_covariance.py:183: RuntimeWarning: Determinant has increased; this should not happen: log(det) > log(previous_det) (-2564.150931968029454 > -2681.926057777191090). You may want to try with a higher value of support_fraction (current value: 0.800).\n",
      "  warnings.warn(\n",
      "/Users/guopei/miniforge3/envs/tf2/lib/python3.9/site-packages/sklearn/covariance/_robust_covariance.py:183: RuntimeWarning: Determinant has increased; this should not happen: log(det) > log(previous_det) (-2567.738381139160538 > -2687.730332382726374). You may want to try with a higher value of support_fraction (current value: 0.800).\n",
      "  warnings.warn(\n",
      "/Users/guopei/miniforge3/envs/tf2/lib/python3.9/site-packages/sklearn/covariance/_robust_covariance.py:183: RuntimeWarning: Determinant has increased; this should not happen: log(det) > log(previous_det) (-2571.408539824960371 > -2689.217301532949477). You may want to try with a higher value of support_fraction (current value: 0.800).\n",
      "  warnings.warn(\n",
      "/Users/guopei/miniforge3/envs/tf2/lib/python3.9/site-packages/sklearn/covariance/_robust_covariance.py:183: RuntimeWarning: Determinant has increased; this should not happen: log(det) > log(previous_det) (-2562.756835444928583 > -2680.091714929770660). You may want to try with a higher value of support_fraction (current value: 0.800).\n",
      "  warnings.warn(\n",
      "/Users/guopei/miniforge3/envs/tf2/lib/python3.9/site-packages/sklearn/covariance/_robust_covariance.py:183: RuntimeWarning: Determinant has increased; this should not happen: log(det) > log(previous_det) (-2562.411270798075748 > -2679.754648304970033). You may want to try with a higher value of support_fraction (current value: 0.800).\n",
      "  warnings.warn(\n",
      "/Users/guopei/miniforge3/envs/tf2/lib/python3.9/site-packages/sklearn/covariance/_robust_covariance.py:183: RuntimeWarning: Determinant has increased; this should not happen: log(det) > log(previous_det) (-2557.193166146623298 > -2674.053414853344748). You may want to try with a higher value of support_fraction (current value: 0.800).\n",
      "  warnings.warn(\n",
      "/Users/guopei/miniforge3/envs/tf2/lib/python3.9/site-packages/sklearn/covariance/_robust_covariance.py:183: RuntimeWarning: Determinant has increased; this should not happen: log(det) > log(previous_det) (-2568.038167280881680 > -2685.245896832339895). You may want to try with a higher value of support_fraction (current value: 0.800).\n",
      "  warnings.warn(\n",
      "/Users/guopei/miniforge3/envs/tf2/lib/python3.9/site-packages/sklearn/covariance/_robust_covariance.py:183: RuntimeWarning: Determinant has increased; this should not happen: log(det) > log(previous_det) (-2567.478193766835830 > -2685.679489608357471). You may want to try with a higher value of support_fraction (current value: 0.800).\n",
      "  warnings.warn(\n",
      "/Users/guopei/miniforge3/envs/tf2/lib/python3.9/site-packages/sklearn/covariance/_robust_covariance.py:183: RuntimeWarning: Determinant has increased; this should not happen: log(det) > log(previous_det) (-2570.068086423273144 > -2686.305137629286037). You may want to try with a higher value of support_fraction (current value: 0.800).\n",
      "  warnings.warn(\n",
      "/Users/guopei/miniforge3/envs/tf2/lib/python3.9/site-packages/sklearn/covariance/_robust_covariance.py:183: RuntimeWarning: Determinant has increased; this should not happen: log(det) > log(previous_det) (-2561.284034363157389 > -2675.999380683625077). You may want to try with a higher value of support_fraction (current value: 0.800).\n",
      "  warnings.warn(\n"
     ]
    },
    {
     "name": "stdout",
     "output_type": "stream",
     "text": [
      "time: 1min 45s (started: 2022-04-17 16:32:22 +08:00)\n"
     ]
    }
   ],
   "source": [
    "dimension = 400\n",
    "cleanDF, newTrainVec, newYTrain = CleanDFNoise(trainDF, X_train_vec, y_train, dimension )"
   ]
  },
  {
   "cell_type": "code",
   "execution_count": null,
   "id": "aab78a05-28af-417b-a02a-2c92ad460b5c",
   "metadata": {},
   "outputs": [],
   "source": []
  }
 ],
 "metadata": {
  "kernelspec": {
   "display_name": "tensorflow_gpu",
   "language": "python",
   "name": "tfgpu"
  },
  "language_info": {
   "codemirror_mode": {
    "name": "ipython",
    "version": 3
   },
   "file_extension": ".py",
   "mimetype": "text/x-python",
   "name": "python",
   "nbconvert_exporter": "python",
   "pygments_lexer": "ipython3",
   "version": "3.8.13"
  },
  "stem_cell": {
   "cell_type": "raw",
   "metadata": {
    "pycharm": {
     "metadata": false
    }
   },
   "source": ""
  }
 },
 "nbformat": 4,
 "nbformat_minor": 5
}
