{
 "cells": [
  {
   "cell_type": "markdown",
   "id": "ac875a5d",
   "metadata": {
    "pycharm": {
     "metadata": false
    }
   },
   "source": [
    "# SVM - Climate Sentiment Multiclass Classification\n",
    "## CS522 Project"
   ]
  },
  {
   "cell_type": "markdown",
   "id": "15c04439",
   "metadata": {
    "pycharm": {
     "metadata": false
    }
   },
   "source": [
    "### Dataset: \n",
    "https://www.kaggle.com/code/luiskalckstein/climate-sentiment-multiclass-classification"
   ]
  },
  {
   "cell_type": "markdown",
   "id": "98c9502e",
   "metadata": {
    "pycharm": {
     "metadata": false
    }
   },
   "source": [
    "### Imports"
   ]
  },
  {
   "cell_type": "code",
   "execution_count": 1,
   "id": "a471b8ce",
   "metadata": {
    "pycharm": {
     "metadata": false,
     "name": "#%%\n"
    }
   },
   "outputs": [
    {
     "name": "stdout",
     "output_type": "stream",
     "text": [
      "time: 161 µs (started: 2022-04-09 16:37:49 +08:00)\n"
     ]
    }
   ],
   "source": [
    "from sklearn.feature_extraction.text import TfidfVectorizer\n",
    "from sklearn.preprocessing import MultiLabelBinarizer\n",
    "from sklearn.multiclass import OneVsRestClassifier\n",
    "from sklearn.metrics import precision_score, recall_score, f1_score, confusion_matrix\n",
    "from sklearn.svm import LinearSVC,SVC\n",
    "from sklearn.feature_extraction.text import CountVectorizer\n",
    "from sklearn.decomposition import TruncatedSVD\n",
    "from Common.DataCenter import data_center\n",
    "from Common.LSI import SKLearnLSA\n",
    "from Common.UtilFuncs import DataSize\n",
    "from Common.UtilFuncs import print_evaluation\n",
    "%matplotlib inline\n",
    "try:\n",
    "    %load_ext autotime\n",
    "except:\n",
    "    !pip install ipython-autotime\n",
    "    %load_ext autotime\n",
    "    \n",
    "TrainSizeBaseLine = DataSize.GetTrainSizeBaseline()\n",
    "TrainSizeWithNoisyData = DataSize.GetTrainSizeWithNoisyData()\n",
    "TestDataSize = DataSize.GetTestDataSize()\n",
    "NoiseDataSize = DataSize.GetNoiseDataSize()\n",
    "ValidationDataSize = DataSize.GetValidationDataSize()"
   ]
  },
  {
   "cell_type": "markdown",
   "id": "c65bb9a6",
   "metadata": {
    "pycharm": {
     "metadata": false
    }
   },
   "source": [
    "### Text preprocessing"
   ]
  },
  {
   "cell_type": "code",
   "execution_count": 2,
   "id": "5b97cc85",
   "metadata": {
    "pycharm": {
     "metadata": false,
     "name": "#%%\n"
    }
   },
   "outputs": [
    {
     "name": "stdout",
     "output_type": "stream",
     "text": [
      "time: 247 µs (started: 2022-04-09 16:37:49 +08:00)\n"
     ]
    }
   ],
   "source": [
    "# parameter: original X of training set and test set\n",
    "# return:  vectorised X of training set and test set\n",
    "def text_preprocessing(X_train, X_test):\n",
    "    # Convert texts to vectors\n",
    "    lsa = SKLearnLSA()\n",
    "    lsa.BuildModel(X_train + X_test, 800)\n",
    "    X_train_vec = lsa.Query2LatentSpace(X_train)\n",
    "    X_test_vec = lsa.Query2LatentSpace(X_test)\n",
    "    return X_train_vec, X_test_vec\n"
   ]
  },
  {
   "cell_type": "markdown",
   "id": "ff9a754f",
   "metadata": {
    "pycharm": {
     "metadata": false
    }
   },
   "source": [
    "### One-hot encoding, convert the labels to vectors (4 x 1) each"
   ]
  },
  {
   "cell_type": "code",
   "execution_count": 3,
   "id": "167ffdc7",
   "metadata": {
    "pycharm": {
     "metadata": false,
     "name": "#%%\n"
    }
   },
   "outputs": [
    {
     "name": "stdout",
     "output_type": "stream",
     "text": [
      "time: 223 µs (started: 2022-04-09 16:37:49 +08:00)\n"
     ]
    }
   ],
   "source": [
    "# parameter: original y of training set, original y of test set\n",
    "# return:  encoded y of training set and test set\n",
    "def one_hot_encoding(y_train, y_test):\n",
    "    mlb          = MultiLabelBinarizer()\n",
    "    y_train_vec  = mlb.fit_transform(map(str, y_train))\n",
    "    y_test_vec   = mlb.transform(map(str, y_test))\n",
    "    return y_train_vec, y_test_vec\n"
   ]
  },
  {
   "cell_type": "markdown",
   "id": "a16eefc7",
   "metadata": {
    "pycharm": {
     "metadata": false
    }
   },
   "source": [
    "### Run SVM and evaluate the results"
   ]
  },
  {
   "cell_type": "code",
   "execution_count": 4,
   "id": "fc133f80",
   "metadata": {
    "pycharm": {
     "metadata": false,
     "name": "#%%\n"
    }
   },
   "outputs": [
    {
     "name": "stdout",
     "output_type": "stream",
     "text": [
      "time: 415 µs (started: 2022-04-09 16:37:49 +08:00)\n"
     ]
    }
   ],
   "source": [
    "# parameter:  vectorised X and encoded y of training set and test set\n",
    "def evaluate_SVM(X_train_vec, y_train_vec, X_test_vec, y_test_vec):\n",
    "    # Run SVM - fit and predict\n",
    "    #SVM             = OneVsRestClassifier(LinearSVC(dual=False, class_weight=\"balanced\"), n_jobs=-1)\n",
    "    SVM = OneVsRestClassifier(SVC(gamma='auto', class_weight=\"balanced\"), n_jobs=-1)\n",
    "    SVM.fit(X_train_vec, y_train_vec)\n",
    "    prediction      = SVM.predict(X_test_vec)\n",
    "    print_evaluation(y_test_vec, prediction)\n",
    "    # Evaluate the results\n",
    "    macro_f1        = f1_score(y_test_vec, prediction, average='macro')\n",
    "    weighted_f1     = f1_score(y_test_vec, prediction, average='weighted')\n",
    "    macro_precision = precision_score(y_test_vec, prediction, average='macro')\n",
    "    macro_recall    = recall_score(y_test_vec, prediction, average='macro')\n",
    "\n",
    "    return macro_f1, weighted_f1, macro_precision, macro_recall\n"
   ]
  },
  {
   "cell_type": "markdown",
   "id": "348e3459",
   "metadata": {
    "pycharm": {
     "metadata": false
    }
   },
   "source": [
    "### Do an experiment"
   ]
  },
  {
   "cell_type": "code",
   "execution_count": 5,
   "id": "52dbb13f",
   "metadata": {
    "pycharm": {
     "metadata": false,
     "name": "#%%\n"
    },
    "tags": []
   },
   "outputs": [
    {
     "name": "stdout",
     "output_type": "stream",
     "text": [
      "time: 324 µs (started: 2022-04-09 16:37:49 +08:00)\n"
     ]
    }
   ],
   "source": [
    "# Parameter: original X,y of training set and test set\n",
    "def do_experiment(X_train, y_train, X_test, y_test):\n",
    "    # Convert texts to vectors\n",
    "    X_train_vec, X_test_vec = text_preprocessing(X_train, X_test)\n",
    "    y_train_vec, y_test_vec = one_hot_encoding(y_train, y_test)\n",
    "\n",
    "    # Run SVM and evaluate the results\n",
    "    macro_f1, weighted_f1, macro_precision, macro_recall = \\\n",
    "        evaluate_SVM(X_train_vec, y_train_vec, X_test_vec, y_test_vec)\n",
    "\n",
    "    # Show the indicators\n",
    "    #print(\" macro_f1: %.4f , weighted_f1: %.4f, macro_precision: %.4f, macro_recall: %.4f\" %\n",
    "    #      (macro_f1, weighted_f1, macro_precision, macro_recall))\n",
    "    return X_train_vec\n"
   ]
  },
  {
   "cell_type": "markdown",
   "id": "a81a7cfb",
   "metadata": {
    "pycharm": {
     "metadata": false
    }
   },
   "source": [
    "### Main entry"
   ]
  },
  {
   "cell_type": "code",
   "execution_count": 6,
   "id": "358c10bb-6714-4a46-b044-77bd41026edf",
   "metadata": {
    "pycharm": {
     "metadata": false,
     "name": "#%%\n"
    }
   },
   "outputs": [
    {
     "name": "stdout",
     "output_type": "stream",
     "text": [
      "####################################################\n",
      "Total data size:  40908\n",
      "Total train data size:  30908\n",
      "Total test data size:  4000\n",
      "time: 98.1 ms (started: 2022-04-09 16:37:49 +08:00)\n"
     ]
    }
   ],
   "source": [
    "\n",
    "noisy_set_sizes = {\n",
    "    'mislabeled' : 5000,   # max size: 15000\n",
    "    'irrelevant' : 5000,   # max size: 34259\n",
    "    'translated' : 5000,   # max size: 5000\n",
    "}\n",
    "\n",
    "# Load the database and split it into training set, test set, noisy set, validation set\n",
    "dc = data_center(\"twitter_sentiment_data_clean.csv\", test_size = 4000, validation_size = 1000,\n",
    "                 noisy_size = noisy_set_sizes['mislabeled'])\n",
    "\n",
    "print(\"####################################################\")\n",
    "print(\"Total data size: \",       dc.get_len())\n",
    "print(\"Total train data size: \", dc.get_train_len())\n",
    "print(\"Total test data size: \",  dc.get_test_len())"
   ]
  },
  {
   "cell_type": "markdown",
   "id": "4b5a6683-66ba-4222-891a-b102a0e98bba",
   "metadata": {
    "pycharm": {
     "metadata": false
    }
   },
   "source": [
    "**Get the test set for evaluation**"
   ]
  },
  {
   "cell_type": "code",
   "execution_count": 7,
   "id": "1892e956-46ef-4fe9-a8b0-fe9350bb5711",
   "metadata": {
    "pycharm": {
     "metadata": false,
     "name": "#%%\n"
    }
   },
   "outputs": [
    {
     "name": "stdout",
     "output_type": "stream",
     "text": [
      "time: 2.99 ms (started: 2022-04-09 16:37:49 +08:00)\n"
     ]
    }
   ],
   "source": [
    "X_test, y_test = dc.get_test()\n"
   ]
  },
  {
   "cell_type": "markdown",
   "id": "9513f812-db00-4b43-bfd9-a8517cfc0815",
   "metadata": {
    "pycharm": {
     "metadata": false
    }
   },
   "source": [
    "**Set distributions of training set.**"
   ]
  },
  {
   "cell_type": "code",
   "execution_count": 8,
   "id": "c0c70b33-1999-465b-8839-e0d1835ebf1e",
   "metadata": {
    "pycharm": {
     "metadata": false,
     "name": "#%%\n"
    }
   },
   "outputs": [
    {
     "name": "stdout",
     "output_type": "stream",
     "text": [
      "time: 204 µs (started: 2022-04-09 16:37:49 +08:00)\n"
     ]
    }
   ],
   "source": [
    "# distribution of training set\n",
    "train_distribution = None\n"
   ]
  },
  {
   "cell_type": "markdown",
   "id": "23d832d1-c036-4cf7-9d33-691d04681f08",
   "metadata": {
    "pycharm": {
     "metadata": false
    }
   },
   "source": [
    "**Prepare the noisy set.**"
   ]
  },
  {
   "cell_type": "code",
   "execution_count": 9,
   "id": "1d661285-4571-4d92-a0e0-80ccc4145896",
   "metadata": {
    "pycharm": {
     "metadata": false,
     "name": "#%%\n"
    }
   },
   "outputs": [
    {
     "name": "stdout",
     "output_type": "stream",
     "text": [
      "Noisy set size is 5000\n",
      "5000 noisy samples added\n",
      "5000 noisy samples added\n",
      "Noisy set new size is 15000\n",
      "time: 267 ms (started: 2022-04-09 16:37:49 +08:00)\n"
     ]
    }
   ],
   "source": [
    "lstNoisyInfo = [(\"mislabeled\",dc.get_noisy_len())]\n",
    "print(\"Noisy set size is %d\"                % dc.get_noisy_len())\n",
    "\n",
    "# add the external noisy data (irrelevant texts)\n",
    "# distribution of irrelevant noisy\n",
    "irrelevant_noisy_distribution = [0.25, 0.25, 0.25, 0.25]    # None, if use the distribution of original set\n",
    "added_size = dc.add_noisy(noisy_source=\"irrelevant\", distribution = irrelevant_noisy_distribution,\n",
    "                          size = noisy_set_sizes['irrelevant'])\n",
    "print(\"%d noisy samples added\" % added_size)\n",
    "lstNoisyInfo.append((\"irrelevant\",added_size))\n",
    "\n",
    "# add the external noisy data (translated texts). use the labels of each noisy data\n",
    "added_size = dc.add_noisy(noisy_source=\"translated\", distribution = \"reserve_labels\", \n",
    "                          size = noisy_set_sizes['translated'])\n",
    "print(\"%d noisy samples added\" % added_size)\n",
    "lstNoisyInfo.append((\"translated\",added_size))\n",
    "\n",
    "print(\"Noisy set new size is %d\"                % dc.get_noisy_len())\n",
    "\n"
   ]
  },
  {
   "cell_type": "markdown",
   "id": "381feb39",
   "metadata": {
    "pycharm": {
     "metadata": false
    }
   },
   "source": [
    "**Load the database and split it into training set, test set, noisy set, validation set**"
   ]
  },
  {
   "cell_type": "markdown",
   "id": "63246fd4",
   "metadata": {
    "pycharm": {
     "metadata": false
    }
   },
   "source": [
    "**Get the test set for evaluation**"
   ]
  },
  {
   "cell_type": "markdown",
   "id": "79dab526",
   "metadata": {
    "pycharm": {
     "metadata": false
    }
   },
   "source": [
    "**Run experiments with different training sets, and use the same test set.**"
   ]
  },
  {
   "cell_type": "code",
   "execution_count": 10,
   "id": "58b800dd",
   "metadata": {
    "pycharm": {
     "metadata": false,
     "name": "#%%\n"
    }
   },
   "outputs": [
    {
     "name": "stdout",
     "output_type": "stream",
     "text": [
      "-----------------------------------------------\n",
      "Training set size: 2000 samples (6.5%): \n",
      "  f1 of classes: [0.239, 0.418, 0.583, 0.547]\n",
      "  micro_f1: 0.500 , macro_f1: 0.447 , weighted_f1: 0.512, macro_precision: 0.408, macro_recall: 0.531\n",
      "Training set size: 4000 samples (12.9%): \n",
      "  f1 of classes: [0.24, 0.436, 0.633, 0.577]\n",
      "  micro_f1: 0.536 , macro_f1: 0.472 , weighted_f1: 0.548, macro_precision: 0.424, macro_recall: 0.554\n",
      "Training set size: 5000 samples (16.2%): \n",
      "  f1 of classes: [0.255, 0.455, 0.653, 0.587]\n",
      "  micro_f1: 0.553 , macro_f1: 0.488 , weighted_f1: 0.565, macro_precision: 0.434, macro_recall: 0.575\n",
      "Training set size: 8000 samples (25.9%): \n",
      "  f1 of classes: [0.277, 0.471, 0.67, 0.591]\n",
      "  micro_f1: 0.571 , macro_f1: 0.502 , weighted_f1: 0.579, macro_precision: 0.455, macro_recall: 0.572\n",
      "Training set size: 10000 samples (32.4%): \n",
      "  f1 of classes: [0.256, 0.475, 0.675, 0.598]\n",
      "  micro_f1: 0.574 , macro_f1: 0.501 , weighted_f1: 0.582, macro_precision: 0.453, macro_recall: 0.570\n",
      "Training set size: 15000 samples (48.5%): \n",
      "  f1 of classes: [0.274, 0.483, 0.688, 0.623]\n",
      "  micro_f1: 0.593 , macro_f1: 0.517 , weighted_f1: 0.597, macro_precision: 0.481, macro_recall: 0.563\n",
      "Training set size: 20000 samples (64.7%): \n",
      "  f1 of classes: [0.278, 0.492, 0.696, 0.625]\n",
      "  micro_f1: 0.603 , macro_f1: 0.523 , weighted_f1: 0.604, macro_precision: 0.495, macro_recall: 0.557\n",
      "-----------------------------------------------\n",
      "Noisy training set size: 5000 samples (4000 original, 1000 noisy)\n",
      "  f1 of classes: [0.234, 0.422, 0.639, 0.576]\n",
      "  micro_f1: 0.541 , macro_f1: 0.468 , weighted_f1: 0.548, macro_precision: 0.430, macro_recall: 0.525\n",
      "Noisy training set size: 10000 samples (8000 original, 2000 noisy)\n",
      "  f1 of classes: [0.239, 0.463, 0.664, 0.585]\n",
      "  micro_f1: 0.569 , macro_f1: 0.488 , weighted_f1: 0.570, macro_precision: 0.463, macro_recall: 0.521\n",
      "Noisy training set size: 20000 samples (15000 original, 5000 noisy)\n",
      "  f1 of classes: [0.191, 0.462, 0.664, 0.575]\n",
      "  micro_f1: 0.567 , macro_f1: 0.473 , weighted_f1: 0.563, macro_precision: 0.480, macro_recall: 0.469\n",
      "time: 51min 6s (started: 2022-04-09 16:37:49 +08:00)\n"
     ]
    }
   ],
   "source": [
    "print(\"-----------------------------------------------\")\n",
    "for size in TrainSizeBaseLine:\n",
    "    # Get a training set without noisy data\n",
    "    X_train, y_train = dc.get_train(size, train_distribution)\n",
    "    print(\"Training set size: %d samples (%.1f%%): \" % (len(X_train), len(y_train)/dc.get_train_len()*100))\n",
    "\n",
    "    # Do an experiment\n",
    "    do_experiment(X_train, y_train, X_test, y_test)\n",
    "\n",
    "print(\"-----------------------------------------------\")\n",
    "xtrainvec = None\n",
    "for size in TrainSizeWithNoisyData:\n",
    "    # Get a noisy training set\n",
    "    X_train, y_train = dc.get_train_with_noisy(size[0], size[1], train_distribution)\n",
    "    print(\"Noisy training set size: %d samples (%d original, %d noisy)\" % (len(y_train), size[0], size[1]))\n",
    "\n",
    "    # Do an experiment\n",
    "    xtrainvec = do_experiment(X_train, y_train, X_test, y_test)"
   ]
  },
  {
   "cell_type": "code",
   "execution_count": 11,
   "id": "b12b5bb1",
   "metadata": {
    "pycharm": {
     "metadata": false,
     "name": "#%%\n"
    }
   },
   "outputs": [
    {
     "name": "stdout",
     "output_type": "stream",
     "text": [
      "  f1 of classes: [0.239, 0.418, 0.583, 0.547]\n",
      "  micro_f1: 0.500 , macro_f1: 0.447 , weighted_f1: 0.512, macro_precision: 0.408, macro_recall: 0.531\n",
      " macro_f1: 0.4466 , weighted_f1: 0.5123, macro_precision: 0.4082, macro_recall: 0.5306\n",
      "time: 33.5 s (started: 2022-04-09 17:28:55 +08:00)\n"
     ]
    }
   ],
   "source": [
    "X_train, y_train = dc.get_train(2000)\n",
    "# Convert texts to vectors\n",
    "X_train_vec, X_test_vec = text_preprocessing(X_train, X_test)\n",
    "y_train_vec, y_test_vec = one_hot_encoding(y_train, y_test)\n",
    "\n",
    "# Run SVM and evaluate the results\n",
    "macro_f1, weighted_f1, macro_precision, macro_recall = \\\n",
    "    evaluate_SVM(X_train_vec, y_train_vec, X_test_vec, y_test_vec)\n",
    "\n",
    "# Show the indicators\n",
    "print(\" macro_f1: %.4f , weighted_f1: %.4f, macro_precision: %.4f, macro_recall: %.4f\" %\n",
    "        (macro_f1, weighted_f1, macro_precision, macro_recall))"
   ]
  },
  {
   "cell_type": "code",
   "execution_count": null,
   "id": "a02c9560-6aba-4740-b4aa-158f724fa89b",
   "metadata": {},
   "outputs": [],
   "source": []
  }
 ],
 "metadata": {
  "kernelspec": {
   "display_name": "tensorflow_gpu",
   "language": "python",
   "name": "tensorflow_gpu"
  },
  "language_info": {
   "codemirror_mode": {
    "name": "ipython",
    "version": 3
   },
   "file_extension": ".py",
   "mimetype": "text/x-python",
   "name": "python",
   "nbconvert_exporter": "python",
   "pygments_lexer": "ipython3",
   "version": "3.9.12"
  },
  "stem_cell": {
   "cell_type": "raw",
   "metadata": {
    "pycharm": {
     "metadata": false
    }
   },
   "source": ""
  }
 },
 "nbformat": 4,
 "nbformat_minor": 5
}
